{
 "cells": [
  {
   "cell_type": "code",
   "execution_count": 4,
   "id": "f59bc943",
   "metadata": {},
   "outputs": [
    {
     "name": "stdout",
     "output_type": "stream",
     "text": [
      "숫자를 입력 : 78\n",
      "짝수\n"
     ]
    }
   ],
   "source": [
    "# 1.\n",
    "\n",
    "num = int(input(\"숫자를 입력 : \"))\n",
    "\n",
    "def is_odd(num):\n",
    "    if num % 2 == 0:\n",
    "        print(\"짝수\")\n",
    "    else:\n",
    "        print(\"홀수\")\n",
    "\n",
    "is_odd(num)"
   ]
  },
  {
   "cell_type": "code",
   "execution_count": 6,
   "id": "850acb77",
   "metadata": {},
   "outputs": [
    {
     "name": "stdout",
     "output_type": "stream",
     "text": [
      "Life is too short\n"
     ]
    }
   ],
   "source": [
    "# 2.\n",
    "\n",
    "with open(\"test.txt\", \"w\") as f:\n",
    "    f.write(\"Life is too short\")\n",
    "\n",
    "with open(\"test.txt\", \"r\") as f:\n",
    "    s = f.readline()\n",
    "    print(s)"
   ]
  },
  {
   "cell_type": "code",
   "execution_count": 203,
   "id": "ac58a921",
   "metadata": {},
   "outputs": [
    {
     "name": "stdout",
     "output_type": "stream",
     "text": [
      "Life is too short\n",
      "you need Python"
     ]
    }
   ],
   "source": [
    "# 3.\n",
    "\n",
    "with open(\"test.txt\", \"w\") as f:\n",
    "    f.write(\"Life is too short\\nyou need Java\")\n",
    "\n",
    "with open(\"test.txt\", \"r\") as f:\n",
    "    s = f.readlines()\n",
    "    for i in s:\n",
    "        i =  i.replace(\"Java\",\"Python\")\n",
    "        print(i,end=\"\")"
   ]
  },
  {
   "cell_type": "code",
   "execution_count": 47,
   "id": "84ce2fd4",
   "metadata": {},
   "outputs": [
    {
     "name": "stdout",
     "output_type": "stream",
     "text": [
      "비트코인 "
     ]
    }
   ],
   "source": [
    "# 4-5.\n",
    "\n",
    "def print_coin():\n",
    "    print(\"비트코인\", end=\" \")\n",
    "\n",
    "print_coin()"
   ]
  },
  {
   "cell_type": "code",
   "execution_count": 48,
   "id": "d123c887",
   "metadata": {},
   "outputs": [
    {
     "name": "stdout",
     "output_type": "stream",
     "text": [
      "비트코인 비트코인 비트코인 비트코인 비트코인 비트코인 비트코인 비트코인 비트코인 비트코인 비트코인 비트코인 비트코인 비트코인 비트코인 비트코인 비트코인 비트코인 비트코인 비트코인 비트코인 비트코인 비트코인 비트코인 비트코인 비트코인 비트코인 비트코인 비트코인 비트코인 비트코인 비트코인 비트코인 비트코인 비트코인 비트코인 비트코인 비트코인 비트코인 비트코인 비트코인 비트코인 비트코인 비트코인 비트코인 비트코인 비트코인 비트코인 비트코인 비트코인 비트코인 비트코인 비트코인 비트코인 비트코인 비트코인 비트코인 비트코인 비트코인 비트코인 비트코인 비트코인 비트코인 비트코인 비트코인 비트코인 비트코인 비트코인 비트코인 비트코인 비트코인 비트코인 비트코인 비트코인 비트코인 비트코인 비트코인 비트코인 비트코인 비트코인 비트코인 비트코인 비트코인 비트코인 비트코인 비트코인 비트코인 비트코인 비트코인 비트코인 비트코인 비트코인 비트코인 비트코인 비트코인 비트코인 비트코인 비트코인 비트코인 비트코인 "
     ]
    }
   ],
   "source": [
    "# 6.\n",
    "\n",
    "for i in range(100):\n",
    "    print_coin()"
   ]
  },
  {
   "cell_type": "code",
   "execution_count": 50,
   "id": "e06df0a6",
   "metadata": {},
   "outputs": [
    {
     "name": "stdout",
     "output_type": "stream",
     "text": [
      "비트코인 비트코인 비트코인 비트코인 비트코인 비트코인 비트코인 비트코인 비트코인 비트코인 비트코인 비트코인 비트코인 비트코인 비트코인 비트코인 비트코인 비트코인 비트코인 비트코인 비트코인 비트코인 비트코인 비트코인 비트코인 비트코인 비트코인 비트코인 비트코인 비트코인 비트코인 비트코인 비트코인 비트코인 비트코인 비트코인 비트코인 비트코인 비트코인 비트코인 비트코인 비트코인 비트코인 비트코인 비트코인 비트코인 비트코인 비트코인 비트코인 비트코인 비트코인 비트코인 비트코인 비트코인 비트코인 비트코인 비트코인 비트코인 비트코인 비트코인 비트코인 비트코인 비트코인 비트코인 비트코인 비트코인 비트코인 비트코인 비트코인 비트코인 비트코인 비트코인 비트코인 비트코인 비트코인 비트코인 비트코인 비트코인 비트코인 비트코인 비트코인 비트코인 비트코인 비트코인 비트코인 비트코인 비트코인 비트코인 비트코인 비트코인 비트코인 비트코인 비트코인 비트코인 비트코인 비트코인 비트코인 비트코인 비트코인 비트코인 "
     ]
    }
   ],
   "source": [
    "# 7.\n",
    "\n",
    "def print_coins():\n",
    "    for i in range(100):\n",
    "        print_coin()\n",
    "        \n",
    "print_coins()"
   ]
  },
  {
   "cell_type": "code",
   "execution_count": 51,
   "id": "0bc9e77b",
   "metadata": {},
   "outputs": [
    {
     "name": "stdout",
     "output_type": "stream",
     "text": [
      "문자를 입력하세요 : 안녕\n",
      "안녕:D\n"
     ]
    }
   ],
   "source": [
    "# 8.\n",
    "\n",
    "sentence = input(\"문자를 입력하세요 : \")\n",
    "\n",
    "def print_with_smile(s):\n",
    "    print(s + \":D\")\n",
    "\n",
    "print_with_smile(sentence)"
   ]
  },
  {
   "cell_type": "code",
   "execution_count": 77,
   "id": "5890af6c",
   "metadata": {},
   "outputs": [
    {
     "data": {
      "text/plain": [
       "(100, 90)"
      ]
     },
     "execution_count": 77,
     "metadata": {},
     "output_type": "execute_result"
    }
   ],
   "source": [
    "# 9.\n",
    "\n",
    "def print_upper_price(a):\n",
    "    a.sort()\n",
    "    \n",
    "    first_price = a[-1]\n",
    "    second_price = a[-2]\n",
    "    \n",
    "    return first_price, second_price\n",
    "\n",
    "priceList=[90,100,10,20,30,40,50,60,70,80]\n",
    "\n",
    "print_upper_price(priceList)"
   ]
  },
  {
   "cell_type": "code",
   "execution_count": 99,
   "id": "8ca7bdf5",
   "metadata": {},
   "outputs": [
    {
     "name": "stdout",
     "output_type": "stream",
     "text": [
      "숫자를 ','를 포함하여 입력하세요 : 1,2,3,4,5,6\n",
      "[2, 4, 6]\n"
     ]
    }
   ],
   "source": [
    "# 10.\n",
    "\n",
    "def print_even(a):\n",
    "    a_even = []\n",
    "    for i in range(len(a)):\n",
    "        if a[i] % 2 !=0:\n",
    "            pass\n",
    "        else:\n",
    "            a_even.append(a[i])\n",
    "    print(a_even)\n",
    "\n",
    "\n",
    "num = []\n",
    "inputNum = input(\"숫자를 ','를 포함하여 입력하세요 : \")\n",
    "inputNum = inputNum.split(\",\")\n",
    "inputNum = list(map(int, inputNum))\n",
    "\n",
    "\n",
    "print_even(inputNum)"
   ]
  },
  {
   "cell_type": "code",
   "execution_count": 111,
   "id": "b5669421",
   "metadata": {},
   "outputs": [
    {
     "name": "stdout",
     "output_type": "stream",
     "text": [
      "['name', 'age', 'addr', 'bt']\n"
     ]
    }
   ],
   "source": [
    "# 11.\n",
    "\n",
    "dic = {'name':'kim', 'age':30, 'addr':'seoul', 'bt':'AB'}\n",
    "\n",
    "def print_keys(dict):\n",
    "    dict_keys_list = list(dict.keys())\n",
    "    print(dict_keys_list)\n",
    "    \n",
    "print_keys(dic)"
   ]
  },
  {
   "cell_type": "code",
   "execution_count": 166,
   "id": "efebfad2",
   "metadata": {},
   "outputs": [
    {
     "name": "stdout",
     "output_type": "stream",
     "text": [
      "문자열을 입력해주세요 : hello\n"
     ]
    }
   ],
   "source": [
    "# 12.\n",
    "\n",
    "input_sentence = input(\"문자열을 입력해주세요 : \")\n",
    "\n",
    "def print_mxn(s,n):\n",
    "    for i in range(len(s)-n+1):\n",
    "        print(s[n*i:n*i+n])"
   ]
  },
  {
   "cell_type": "code",
   "execution_count": 167,
   "id": "94f91a2f",
   "metadata": {},
   "outputs": [
    {
     "name": "stdout",
     "output_type": "stream",
     "text": [
      "he\n",
      "ll\n",
      "o\n",
      "\n"
     ]
    }
   ],
   "source": [
    "print_mxn(input_sentence,2)"
   ]
  },
  {
   "cell_type": "code",
   "execution_count": 177,
   "id": "52caa235",
   "metadata": {},
   "outputs": [
    {
     "name": "stdout",
     "output_type": "stream",
     "text": [
      "연봉 입력 : 3400\n"
     ]
    },
    {
     "data": {
      "text/plain": [
       "283"
      ]
     },
     "execution_count": 177,
     "metadata": {},
     "output_type": "execute_result"
    }
   ],
   "source": [
    "# 13.\n",
    "\n",
    "one_year_salary = int(input(\"연봉 입력 : \"))\n",
    "\n",
    "def calc_monthly_salary(annual_salary):\n",
    "    monthly_salary = annual_salary//12\n",
    "    \n",
    "    return monthly_salary\n",
    "\n",
    "calc_monthly_salary(one_year_salary)"
   ]
  },
  {
   "cell_type": "code",
   "execution_count": 178,
   "id": "29babf26",
   "metadata": {},
   "outputs": [
    {
     "name": "stdout",
     "output_type": "stream",
     "text": [
      "주소를 입력하세요 : naver\n",
      "www.naver.com\n"
     ]
    }
   ],
   "source": [
    "# 14.\n",
    "\n",
    "url = input(\"주소를 입력하세요 : \")\n",
    "\n",
    "def make_url(s):\n",
    "    print(\"www.\"+s+\".com\")\n",
    "    \n",
    "make_url(url)"
   ]
  },
  {
   "cell_type": "code",
   "execution_count": 181,
   "id": "bdb35d33",
   "metadata": {},
   "outputs": [
    {
     "name": "stdout",
     "output_type": "stream",
     "text": [
      "문자를 입력하세요 : abcd\n",
      "['a', 'b', 'c', 'd']\n"
     ]
    }
   ],
   "source": [
    "# 15.\n",
    "\n",
    "string = input(\"문자를 입력하세요 : \")\n",
    "\n",
    "def make_list(s):\n",
    "    print(list(s))\n",
    "\n",
    "make_list(string)"
   ]
  },
  {
   "cell_type": "code",
   "execution_count": 253,
   "id": "61a1a2a6",
   "metadata": {},
   "outputs": [],
   "source": [
    "# 16.\n",
    "\n",
    "# 제너레이터 함수 생성\n",
    "def generate(num):\n",
    "    num_str = str(num)\n",
    "    generate_num = 0\n",
    "    for i in range(len(num_str)):\n",
    "        generate_num += int(num_str[i])\n",
    "    return generate_num + num\n",
    "\n",
    "\n",
    "# 셀프넘버가 아닌 값 저장\n",
    "not_self_number = []\n",
    "\n",
    "for i in range(1,5000):\n",
    "    not_self_number.append(generate(i))\n",
    "\n",
    "# 셀프 넘버 구하기\n",
    "not_self_number = set(not_self_number)\n",
    "full_number = set(range(1,5000))\n",
    "\n",
    "self_number = full_number - not_self_number\n",
    "\n",
    "# 총 합 구하기\n",
    "total_self_number = 0\n",
    "\n",
    "for i in self_number:\n",
    "    total_self_number += i"
   ]
  },
  {
   "cell_type": "code",
   "execution_count": 254,
   "id": "f91d9c06",
   "metadata": {},
   "outputs": [
    {
     "data": {
      "text/plain": [
       "1227365"
      ]
     },
     "execution_count": 254,
     "metadata": {},
     "output_type": "execute_result"
    }
   ],
   "source": [
    "total_self_number"
   ]
  }
 ],
 "metadata": {
  "kernelspec": {
   "display_name": "Python 3",
   "language": "python",
   "name": "python3"
  },
  "language_info": {
   "codemirror_mode": {
    "name": "ipython",
    "version": 3
   },
   "file_extension": ".py",
   "mimetype": "text/x-python",
   "name": "python",
   "nbconvert_exporter": "python",
   "pygments_lexer": "ipython3",
   "version": "3.8.8"
  }
 },
 "nbformat": 4,
 "nbformat_minor": 5
}
