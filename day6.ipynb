{
 "cells": [
  {
   "cell_type": "code",
   "execution_count": 1,
   "id": "0ba9f656",
   "metadata": {},
   "outputs": [],
   "source": [
    "# 파이썬 파일 읽기 / 쓰기\n",
    "\n",
    "# 파일 열기(open) - > 읽기(read) / 쓰기(wirte) -> 파일 닫기(close)"
   ]
  },
  {
   "cell_type": "code",
   "execution_count": 3,
   "id": "d7a55019",
   "metadata": {},
   "outputs": [],
   "source": [
    "f = open(\"test.txt\", \"w\") # 파일을 쓰기위해 열겠다.\n",
    "f.write(\"hello\") # 파일에 문자열 저장\n",
    "f.close() # 파일 닫기"
   ]
  },
  {
   "cell_type": "code",
   "execution_count": 5,
   "id": "d2352323",
   "metadata": {},
   "outputs": [
    {
     "name": "stdout",
     "output_type": "stream",
     "text": [
      "hello\n"
     ]
    }
   ],
   "source": [
    "f = open(\"test.txt\", \"r\") # 파일을 읽기위해 열겠다.\n",
    "s = f.read() # 파일에 문자열 읽기\n",
    "print(s)\n",
    "f.close() # 파일 닫기"
   ]
  },
  {
   "cell_type": "code",
   "execution_count": 7,
   "id": "aab130e8",
   "metadata": {},
   "outputs": [
    {
     "name": "stdout",
     "output_type": "stream",
     "text": [
      "hello\n"
     ]
    }
   ],
   "source": [
    "# f = open(\"test.txt\", \"r\") # 파일을 읽기위해 열겠다.\n",
    "# s = f.read() # 파일에 문자열 읽기\n",
    "# print(s)\n",
    "# f.close() # 파일 닫기\n",
    "\n",
    "# 두 구문은 동일함\n",
    "\n",
    "with open(\"test.txt\", \"r\") as f:\n",
    "    s = f.read()\n",
    "    print(s) # close를 하지 않아도 파일을 닫아줌"
   ]
  },
  {
   "cell_type": "code",
   "execution_count": 20,
   "id": "1ef26bb9",
   "metadata": {},
   "outputs": [],
   "source": [
    "# 여러 줄 저장\n",
    "\n",
    "with open(\"test.txt\", \"w\") as f:\n",
    "    for i in range(3):\n",
    "#         f.write(\"hello{1} world{0}\".format(i+1, 999) + \"\\n\") # {0} -> i+1 로 치환\n",
    "        f. write(\"hello world%s\"%(i+1) +\"\\n\")"
   ]
  },
  {
   "cell_type": "code",
   "execution_count": null,
   "id": "f1b4fb68",
   "metadata": {},
   "outputs": [],
   "source": []
  },
  {
   "cell_type": "code",
   "execution_count": 25,
   "id": "98168237",
   "metadata": {},
   "outputs": [],
   "source": [
    "lines = [\"hello world1\"+ \"\\n\", \"hello world2\"+ \"\\n\", \"hello world3\"+ \"\\n\"]"
   ]
  },
  {
   "cell_type": "code",
   "execution_count": 26,
   "id": "bcb5ba0d",
   "metadata": {},
   "outputs": [],
   "source": [
    "# with open(\"test2.txt\", \"w\") as f:\n",
    "#     for i in range(len(lines)):\n",
    "#         f.write(lines[i] + \"\\n\")\n",
    "\n",
    "with open(\"test2.txt\", \"w\") as f:\n",
    "    f.writelines(lines)"
   ]
  },
  {
   "cell_type": "code",
   "execution_count": 30,
   "id": "fb427795",
   "metadata": {},
   "outputs": [
    {
     "name": "stdout",
     "output_type": "stream",
     "text": [
      "['hello world1\\n', 'hello world2\\n', 'hello world3\\n']\n",
      "<class 'list'>\n"
     ]
    }
   ],
   "source": [
    "with open(\"test2.txt\", \"r\") as f:\n",
    "    s = f.readlines() # 한 번에 모든 줄을 읽어들임\n",
    "    print(s)\n",
    "    print(type(s))\n",
    "    \n",
    "# f.read : 파일을 읽어서 문자열로 가져옴\n",
    "# f.readlines : 파일을 읽어서 리스트 형태로 가져옴"
   ]
  },
  {
   "cell_type": "code",
   "execution_count": 31,
   "id": "2a52eaa8",
   "metadata": {},
   "outputs": [
    {
     "name": "stdout",
     "output_type": "stream",
     "text": [
      "hello world1\n",
      "\n",
      "<class 'str'>\n"
     ]
    }
   ],
   "source": [
    "with open(\"test2.txt\", \"r\") as f:\n",
    "    s = f.readline() # 한 번에 한 줄을 읽어들임\n",
    "    print(s)\n",
    "    print(type(s))"
   ]
  },
  {
   "cell_type": "code",
   "execution_count": 36,
   "id": "a15ff1cd",
   "metadata": {},
   "outputs": [
    {
     "name": "stdout",
     "output_type": "stream",
     "text": [
      "hello world1\n",
      "hello world2\n",
      "hello world3\n"
     ]
    }
   ],
   "source": [
    "with open(\"test2.txt\", \"r\") as f:\n",
    "    while True:\n",
    "        s = f.readline()\n",
    "        if s != \"\":\n",
    "            print(s.strip(\"\\n\")) # \"\\n\"을 제외하고 출력\n",
    "        else:\n",
    "            break"
   ]
  },
  {
   "cell_type": "code",
   "execution_count": 38,
   "id": "8ddde866",
   "metadata": {},
   "outputs": [
    {
     "name": "stdout",
     "output_type": "stream",
     "text": [
      "hello world1\n",
      "hello world2\n",
      "hello world3\n",
      "\n"
     ]
    }
   ],
   "source": [
    "with open(\"test2.txt\", \"r\") as f:\n",
    "    line = None\n",
    "    while line != \"\":\n",
    "        line = f.readline()\n",
    "        print(line.strip(\"\\n\"))"
   ]
  },
  {
   "cell_type": "code",
   "execution_count": 39,
   "id": "87b06d39",
   "metadata": {},
   "outputs": [],
   "source": [
    "# 피클(pickle)모듈 : 객체를 파일로 저장"
   ]
  },
  {
   "cell_type": "code",
   "execution_count": null,
   "id": "42a077eb",
   "metadata": {},
   "outputs": [],
   "source": [
    "객체란? 클래스(붕어빵 기계)로부터 파생된 실체(인스턴스, 붕어빵)"
   ]
  },
  {
   "cell_type": "code",
   "execution_count": 45,
   "id": "6842ae67",
   "metadata": {},
   "outputs": [],
   "source": [
    "import pickle"
   ]
  },
  {
   "cell_type": "code",
   "execution_count": 46,
   "id": "18cba311",
   "metadata": {},
   "outputs": [],
   "source": [
    "# 게임 시작 및 진행"
   ]
  },
  {
   "cell_type": "code",
   "execution_count": 47,
   "id": "7178d2c3",
   "metadata": {},
   "outputs": [],
   "source": [
    "# 게임을 모두 마치고 취침하려고 할 때 서버에서 일어나는 일\n",
    "my_id = \"kim\"\n",
    "lv = 50\n",
    "ch = \"human\"\n",
    "items = {\"sword\":1, \"re\" : 10}"
   ]
  },
  {
   "cell_type": "code",
   "execution_count": 50,
   "id": "eb789908",
   "metadata": {},
   "outputs": [],
   "source": [
    "# 객체가 저장됨\n",
    "with open(\"user1.p\", \"wb\")as f: # write binary (2 진수로 저장)\n",
    "    pickle.dump(my_id, f)\n",
    "    pickle.dump(lv, f)\n",
    "    pickle.dump(ch, f)\n",
    "    pickle.dump(items, f)"
   ]
  },
  {
   "cell_type": "code",
   "execution_count": 51,
   "id": "fecc33f7",
   "metadata": {},
   "outputs": [],
   "source": [
    "# 기상하자마자 게임 접속"
   ]
  },
  {
   "cell_type": "code",
   "execution_count": 56,
   "id": "fd3f49bb",
   "metadata": {},
   "outputs": [],
   "source": [
    "with open(\"user1.p\", \"rb\")as f:\n",
    "    my_id = pickle.load(f)\n",
    "    lv = pickle.load(f)\n",
    "    ch = pickle.load(f)\n",
    "    items = pickle.load(f)"
   ]
  },
  {
   "cell_type": "code",
   "execution_count": 58,
   "id": "eaa5394a",
   "metadata": {},
   "outputs": [
    {
     "name": "stdout",
     "output_type": "stream",
     "text": [
      "kim 50 human {'sword': 1, 're': 10}\n"
     ]
    }
   ],
   "source": [
    "print(my_id, lv, ch, items)"
   ]
  },
  {
   "cell_type": "code",
   "execution_count": 63,
   "id": "41131da9",
   "metadata": {},
   "outputs": [
    {
     "name": "stdout",
     "output_type": "stream",
     "text": [
      "입력 : abcdcba\n",
      "True\n"
     ]
    }
   ],
   "source": [
    "# 회문 작성법\n",
    "\n",
    "w = input(\"입력 : \")\n",
    "print(w==w[::-1])"
   ]
  },
  {
   "cell_type": "code",
   "execution_count": 64,
   "id": "b8017c14",
   "metadata": {},
   "outputs": [
    {
     "data": {
      "text/plain": [
       "True"
      ]
     },
     "execution_count": 64,
     "metadata": {},
     "output_type": "execute_result"
    }
   ],
   "source": [
    "w = \"abcba\"\n",
    "\n",
    "list(w)==list(reversed(w))"
   ]
  },
  {
   "cell_type": "code",
   "execution_count": 66,
   "id": "d4984702",
   "metadata": {},
   "outputs": [
    {
     "data": {
      "text/plain": [
       "False"
      ]
     },
     "execution_count": 66,
     "metadata": {},
     "output_type": "execute_result"
    }
   ],
   "source": [
    "w == \"\".join(reversed(w))"
   ]
  },
  {
   "cell_type": "code",
   "execution_count": null,
   "id": "8bdbd82c",
   "metadata": {},
   "outputs": [],
   "source": [
    "n 그램 : 문자열에서 n개의 연속된 문자를 추출하는 것\n",
    "n = 2, 2-gram\n",
    "n = 3, 3-gram\n",
    "...\n",
    "ex)\n",
    "삼성동에 코로나가 퍼지고 있습니다\n",
    "\n",
    "n=2, 2-gram\n",
    "문장 -> 단어 단위(2-gram)으로 추출\n",
    "공백 단위로 구분했다면 => [삼성동에, 코로나가, 퍼지고, 있습니다]\n",
    "단어 단위(2-gram)으로 추출 후 => [삼성동에, 코로나가], [코로나가, 퍼지고], [퍼지고, 있습니다]\n",
    "\n",
    "문장 -> 글자 단위(2-gram)으로 추출\n",
    "삼성동에 코로나가 퍼지고 있습니다\n",
    "글자 단위(2-gram)으로 추출 후 =>[\"삼성\", \"성동\", \"동에\", \"에 \", \" 코\",,,]\n",
    "\n",
    "ex)\n",
    "hello -> 2-gram => he, el, ll, lo"
   ]
  },
  {
   "cell_type": "code",
   "execution_count": 4,
   "id": "100de493",
   "metadata": {},
   "outputs": [],
   "source": [
    "# 2-gram 단위로 문자 추출\n",
    "\n",
    "Zzz = \"hello\"\n",
    "# 2-gram => he, el, ll, lo"
   ]
  },
  {
   "cell_type": "code",
   "execution_count": 11,
   "id": "8d70a7dd",
   "metadata": {},
   "outputs": [
    {
     "name": "stdout",
     "output_type": "stream",
     "text": [
      "he el ll lo "
     ]
    }
   ],
   "source": [
    "for i in range(len(Zzz)-1):\n",
    "    print(Zzz[i]+Zzz[i+1],end = \" \")"
   ]
  },
  {
   "cell_type": "code",
   "execution_count": 6,
   "id": "dd0b66a4",
   "metadata": {},
   "outputs": [],
   "source": [
    "# 2-gram 단위로 단어 추출\n",
    "\n",
    "Zzz2 = \"this is python program\""
   ]
  },
  {
   "cell_type": "code",
   "execution_count": 7,
   "id": "2f76abbb",
   "metadata": {},
   "outputs": [
    {
     "name": "stdout",
     "output_type": "stream",
     "text": [
      "['this', 'is']\n",
      "['is', 'python']\n",
      "['python', 'program']\n"
     ]
    }
   ],
   "source": [
    "lst = Zzz2.split(\" \")\n",
    "for i in range(len(lst)-1):\n",
    "    print(lst[i:i+2])"
   ]
  },
  {
   "cell_type": "code",
   "execution_count": 9,
   "id": "4222d117",
   "metadata": {},
   "outputs": [
    {
     "name": "stdout",
     "output_type": "stream",
     "text": [
      "this is\n",
      "is python\n",
      "python program\n"
     ]
    }
   ],
   "source": [
    "lst = Zzz2.split(\" \")\n",
    "for i in range(len(lst)-1):\n",
    "    print(lst[i],lst[i+1])"
   ]
  },
  {
   "cell_type": "code",
   "execution_count": null,
   "id": "865dff1a",
   "metadata": {},
   "outputs": [],
   "source": [
    "# 언어 모델 : 단어(문자)의 순서에 확률을 적용한 모델\n",
    "\n",
    "나는 아침에 줌에 접속하여 ( QR ) 인증을 하였다\n",
    "\n",
    "# 언어 모델을 만드는 유형 : 통계적 방법, 신경망 방법\n",
    "\n",
    "N-gram은 통계적 방법 중의 하나"
   ]
  },
  {
   "cell_type": "code",
   "execution_count": null,
   "id": "1c5a79d9",
   "metadata": {},
   "outputs": [],
   "source": [
    "# P(갔다 | 나는, 오늘, 학교에) # 확률\n",
    "# P(안 갔다 | 나는, 오늘, 학교에)"
   ]
  },
  {
   "cell_type": "code",
   "execution_count": null,
   "id": "8f96c9c7",
   "metadata": {},
   "outputs": [],
   "source": [
    "전체 문장에서\n",
    "\n",
    "    count(나는 오늘 학교에 갔다) = 100번\n",
    "---------------------------------     = 3% = P(갔다 | 나는, 오늘, 학교에)\n",
    "    count(나는 오늘 학교에) = 10000번\n",
    "    \n",
    "    count(나는 오늘 학교에 왔다) = 100번\n",
    "---------------------------------     = 1% = P(왔다 | 나는, 오늘, 학교에)\n",
    "    count(나는 오늘 학교에) = 10000번\n",
    "    \n",
    "    ....\n",
    "    \n",
    "    이런식으로 가지고 있는 텍스트 데이터들을 계산해서 확률이 제일 높은 것을 구하는 것이 통계적 방법"
   ]
  },
  {
   "cell_type": "code",
   "execution_count": 92,
   "id": "2deaf842",
   "metadata": {},
   "outputs": [],
   "source": [
    "# n-gram 활용 (문장 유사도 조사)\n",
    "\n",
    "# 카피킬러(copy killer) : 논문 표절 등 조사"
   ]
  },
  {
   "cell_type": "code",
   "execution_count": 94,
   "id": "bc18a7c3",
   "metadata": {},
   "outputs": [],
   "source": [
    "x = \"머신러닝은 인공지능의 한 분류입니다\"\n",
    "y = \"런닝머신은 운동 기구중의 하나입니다\""
   ]
  },
  {
   "cell_type": "code",
   "execution_count": 98,
   "id": "b3d70839",
   "metadata": {},
   "outputs": [
    {
     "data": {
      "text/plain": [
       "'머신러닝은인공지능의한분류입니다'"
      ]
     },
     "execution_count": 98,
     "metadata": {},
     "output_type": "execute_result"
    }
   ],
   "source": [
    "# 2-gram(bi-gram) 단위로 글자 분리\n",
    "\n",
    "x => [\"머신\", \"신러\", ... \"니다\"] # 내가 작성한 숙제\n",
    "y => [\"런닝\", \"닝머\", ... \"니다\"] # 다른 사람이 작성한 숙제\n",
    "\n",
    "# 내가 작성한 숙제의 표절율?"
   ]
  },
  {
   "cell_type": "code",
   "execution_count": null,
   "id": "c598b530",
   "metadata": {},
   "outputs": [],
   "source": [
    "유사도 = 중복되는 단어 개수 / x를 2글자씩 분리한 리스트의 전체 길이"
   ]
  },
  {
   "cell_type": "code",
   "execution_count": 102,
   "id": "46317d7a",
   "metadata": {},
   "outputs": [
    {
     "name": "stdout",
     "output_type": "stream",
     "text": [
      "머신\n",
      "신러\n",
      "러닝\n",
      "닝은\n",
      "은인\n",
      "인공\n",
      "공지\n",
      "지능\n",
      "능의\n",
      "의한\n",
      "한분\n",
      "분류\n",
      "류입\n",
      "입니\n",
      "니다\n"
     ]
    }
   ],
   "source": [
    "x = \"머신러닝은 인공지능의 한 분류입니다\"\n",
    "y = \"런닝머신은 운동 기구중의 하나입니다\"\n",
    "\n",
    "x_s = x.replace(\" \",\"\")\n",
    "for i in range(len(x_s)-1):\n",
    "    print(x_s[i],x_s[i+1], sep=\"\")"
   ]
  },
  {
   "cell_type": "code",
   "execution_count": null,
   "id": "a7bedd42",
   "metadata": {},
   "outputs": [],
   "source": []
  },
  {
   "cell_type": "code",
   "execution_count": null,
   "id": "ba815664",
   "metadata": {},
   "outputs": [],
   "source": []
  }
 ],
 "metadata": {
  "kernelspec": {
   "display_name": "Python 3",
   "language": "python",
   "name": "python3"
  },
  "language_info": {
   "codemirror_mode": {
    "name": "ipython",
    "version": 3
   },
   "file_extension": ".py",
   "mimetype": "text/x-python",
   "name": "python",
   "nbconvert_exporter": "python",
   "pygments_lexer": "ipython3",
   "version": "3.8.8"
  }
 },
 "nbformat": 4,
 "nbformat_minor": 5
}
