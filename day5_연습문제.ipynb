{
 "cells": [
  {
   "cell_type": "code",
   "execution_count": 17,
   "id": "533ad7ea",
   "metadata": {},
   "outputs": [
    {
     "data": {
      "text/plain": [
       "['Tokyo', 'Jakarta', 'Guangzhou', 'Beijing', 'Karachi', 'Delhi']"
      ]
     },
     "execution_count": 17,
     "metadata": {},
     "output_type": "execute_result"
    }
   ],
   "source": [
    "# 1.\n",
    "\n",
    "cities = [\"Tokyo\", \"Shanghai\", \"Jakarta\", \"Seoul\", \"Guangzhou\", \"Beijing\", \"Karachi\", \"Shenzhen\", \"Delhi\" ]\n",
    "\n",
    "[x for x in cities if x[0] != \"S\"]"
   ]
  },
  {
   "cell_type": "code",
   "execution_count": 8,
   "id": "3f6ef0c5",
   "metadata": {},
   "outputs": [
    {
     "name": "stdout",
     "output_type": "stream",
     "text": [
      "최대 낙차 : 7\n"
     ]
    }
   ],
   "source": [
    "# 2.\n",
    "\n",
    "gravity = [7, 4, 2, 0, 0, 6, 0, 7, 0]\n",
    "cnt = 0\n",
    "\n",
    "for i in gravity:\n",
    "    if i == 0:\n",
    "        cnt += 1\n",
    "\n",
    "while 0 in gravity:\n",
    "    gravity.remove(0)\n",
    "\n",
    "maxbox = gravity[0]\n",
    "for j in range(1, len(gravity)):\n",
    "    if maxbox > gravity[j]:\n",
    "        cnt += 1\n",
    "    else:\n",
    "        maxbox = gravity[j]\n",
    "\n",
    "print(\"최대 낙차 : %s\" % cnt)"
   ]
  },
  {
   "cell_type": "code",
   "execution_count": 9,
   "id": "9c7334e6",
   "metadata": {},
   "outputs": [
    {
     "name": "stdout",
     "output_type": "stream",
     "text": [
      "4000\n"
     ]
    }
   ],
   "source": [
    "# 3.\n",
    "\n",
    "num = []\n",
    "sum = 0\n",
    "\n",
    "for i in range(1, 10001):\n",
    "    num = list(str(i))\n",
    "    cnt = num.count(\"8\")\n",
    "    sum += cnt\n",
    "print(sum)"
   ]
  },
  {
   "cell_type": "code",
   "execution_count": 139,
   "id": "548d01ab",
   "metadata": {},
   "outputs": [
    {
     "name": "stdout",
     "output_type": "stream",
     "text": [
      "    *\n",
      "   **\n",
      "  ***\n",
      " ****\n",
      "*****\n"
     ]
    }
   ],
   "source": [
    "# 4-1\n",
    "\n",
    "spcae = \" \"\n",
    "star = \"*\"\n",
    "i=0\n",
    "\n",
    "while i <5:\n",
    "    i +=1\n",
    "    print(space*(5-i)+star*i)"
   ]
  },
  {
   "cell_type": "code",
   "execution_count": 140,
   "id": "08b397d1",
   "metadata": {},
   "outputs": [
    {
     "name": "stdout",
     "output_type": "stream",
     "text": [
      "    *    \n",
      "   ***   \n",
      "  *****  \n",
      " ******* \n",
      "*********\n"
     ]
    }
   ],
   "source": [
    "# 4-2\n",
    "\n",
    "spcae = \" \"\n",
    "star = \"*\"\n",
    "i=0\n",
    "\n",
    "while i < 5:\n",
    "    i += 1\n",
    "    print(space*(5-i)+star*(2*i-1)+space*(5-i))"
   ]
  },
  {
   "cell_type": "code",
   "execution_count": 7,
   "id": "6e91afeb",
   "metadata": {},
   "outputs": [
    {
     "name": "stdout",
     "output_type": "stream",
     "text": [
      "2 3 5 7 11 13 17 19 23 29 31 37 41 43 47 53 59 61 67 71 73 79 83 89 97 "
     ]
    }
   ],
   "source": [
    "# 5.\n",
    "\n",
    "for i in range(2, 101):\n",
    "    for j in range(2, i + 1):\n",
    "        if i % j == 0:\n",
    "            break\n",
    "    if i == j:\n",
    "        print(i, end=\" \")"
   ]
  }
 ],
 "metadata": {
  "kernelspec": {
   "display_name": "Python 3",
   "language": "python",
   "name": "python3"
  },
  "language_info": {
   "codemirror_mode": {
    "name": "ipython",
    "version": 3
   },
   "file_extension": ".py",
   "mimetype": "text/x-python",
   "name": "python",
   "nbconvert_exporter": "python",
   "pygments_lexer": "ipython3",
   "version": "3.8.8"
  }
 },
 "nbformat": 4,
 "nbformat_minor": 5
}
