{
 "cells": [
  {
   "cell_type": "markdown",
   "id": "c3c35e55-f039-4cf9-9bdb-3fa4a8d46909",
   "metadata": {},
   "source": [
    "## 그리드"
   ]
  },
  {
   "cell_type": "markdown",
   "id": "b214f687-6144-4f5b-8551-4e3463f64664",
   "metadata": {},
   "source": [
    "### 문제 1>"
   ]
  },
  {
   "cell_type": "code",
   "execution_count": 1,
   "id": "f6708120-4421-4b13-8167-23f395bfa079",
   "metadata": {},
   "outputs": [],
   "source": [
    "# 1. N에서 1을 뺀다.\n",
    "# 2. N을 K로 나눈다.\n",
    "\n",
    "# 목표: N을 1로 만들기"
   ]
  },
  {
   "cell_type": "code",
   "execution_count": 27,
   "id": "268a90d4-2953-4b4c-b3c3-32f3500d8009",
   "metadata": {},
   "outputs": [],
   "source": [
    "a = \"25 5\""
   ]
  },
  {
   "cell_type": "code",
   "execution_count": 28,
   "id": "534c4c8d-4962-428c-a79f-f34812d78e48",
   "metadata": {},
   "outputs": [
    {
     "data": {
      "text/plain": [
       "['25', '5']"
      ]
     },
     "execution_count": 28,
     "metadata": {},
     "output_type": "execute_result"
    }
   ],
   "source": []
  },
  {
   "cell_type": "code",
   "execution_count": 70,
   "id": "2122e468-cb61-4d95-9284-5b51364999bf",
   "metadata": {},
   "outputs": [
    {
     "name": "stdin",
     "output_type": "stream",
     "text": [
      " 314213124151 7\n"
     ]
    }
   ],
   "source": [
    "N,K= map(int,(input().split()))"
   ]
  },
  {
   "cell_type": "markdown",
   "id": "5d854804-ba6b-43f7-93e6-424e36c6e4ef",
   "metadata": {},
   "source": [
    "#### 내가 생각한 답"
   ]
  },
  {
   "cell_type": "code",
   "execution_count": 87,
   "id": "2ea146aa-9f64-4da7-81f3-39a271605155",
   "metadata": {},
   "outputs": [
    {
     "name": "stdin",
     "output_type": "stream",
     "text": [
      " 17 4\n"
     ]
    },
    {
     "name": "stdout",
     "output_type": "stream",
     "text": [
      "3\n",
      "Wall time: 0 ns\n"
     ]
    }
   ],
   "source": [
    "N,K= map(int,(input().split()))\n",
    "cnt = 0\n",
    "while True:\n",
    "    if N%K ==0:\n",
    "        N /=K\n",
    "    else:\n",
    "        N -=1\n",
    "    cnt +=1\n",
    "    \n",
    "    if N==1:\n",
    "        break\n",
    "print(cnt)\n",
    "%time"
   ]
  },
  {
   "cell_type": "markdown",
   "id": "8959510d-4f14-497d-b0cb-f906b3c38602",
   "metadata": {},
   "source": [
    "#### 좋은 답"
   ]
  },
  {
   "cell_type": "code",
   "execution_count": 98,
   "id": "630d7768-e340-4b08-a869-132d92e31186",
   "metadata": {},
   "outputs": [
    {
     "name": "stdin",
     "output_type": "stream",
     "text": [
      " 25 3\n"
     ]
    },
    {
     "name": "stdout",
     "output_type": "stream",
     "text": [
      "6\n"
     ]
    }
   ],
   "source": [
    "n, k = map(int, input().split())\n",
    "\n",
    "result = 0\n",
    "\n",
    "while True:\n",
    "    target = (n//k) * k\n",
    "    result += (n - target)\n",
    "    n = target\n",
    "    \n",
    "    if n < k:\n",
    "        break\n",
    "    result +=1\n",
    "    n //= k\n",
    "result += (n-1)\n",
    "print(result)"
   ]
  },
  {
   "cell_type": "code",
   "execution_count": null,
   "id": "49025cf9-69c1-495f-b99b-19e852f8f786",
   "metadata": {},
   "outputs": [],
   "source": [
    "25 -1\n",
    "24 / 3\n",
    "8-1\n",
    "7-1\n",
    "6/3\n",
    "2-1"
   ]
  },
  {
   "cell_type": "code",
   "execution_count": null,
   "id": "65e8d236-8051-4f37-9f6d-50101a7c8855",
   "metadata": {},
   "outputs": [],
   "source": [
    "# 1.\n",
    "n=17, k=4, result=0\n",
    "target=16\n",
    "result=1 # 1을 빼주는 횟수\n",
    "=========\n",
    "n=4\n",
    "result=2 \n",
    "==========================\n",
    "\n",
    "# 2.\n",
    "target=4\n",
    "n=1\n",
    "result =3\n",
    "\n",
    "================\n",
    "\n",
    "# 3.\n",
    "target = 0\n",
    "reult = 4\n",
    "n=1\n",
    "\n",
    "==============\n",
    "result += -1 # 마지막 차수에서 result가 의미없이 늘었기 때문에 다시 뺴줌\n"
   ]
  },
  {
   "cell_type": "markdown",
   "id": "fe58ea78-2f03-4d97-a830-aeca39bde785",
   "metadata": {},
   "source": [
    "내가 생각한 알고리즘으로 풀면 시간복잡도가 높음\n",
    "\n",
    "좋은 답은 시간복잡도가 log로 나옴\n",
    "\n",
    "좋은 답은 미리 1을 빼주는 계산을 해줘서 시간 복잡도가 줄어들게 된다."
   ]
  },
  {
   "cell_type": "code",
   "execution_count": null,
   "id": "e1823355-331a-46dc-84fb-313525cecb92",
   "metadata": {},
   "outputs": [],
   "source": []
  },
  {
   "cell_type": "markdown",
   "id": "c541a133-7a0c-41c6-aeb2-321a1aa970c6",
   "metadata": {},
   "source": [
    "### 문제 2>"
   ]
  },
  {
   "cell_type": "code",
   "execution_count": 171,
   "id": "5c4ba628-81e1-4d3b-8a31-3c10c48618d3",
   "metadata": {},
   "outputs": [],
   "source": [
    "# 각 자리가 숫자(0~9)로만 이루어진 문자열 S가 주어졌을 때, 왼쪽부터 오른쪽으로 모든 숫자를 확인하며\n",
    "# 숫자 사이에 \"x\" 혹은 \"+\" 연산자를 넣어 결과적으로 만들어 질 수 있는 가장 큰 수를 구하는 프로그램을 작성\n",
    "# 단 + 보다 X를 먼저 계산하는 일반적인 방식과는 달리, 모든 연산은 왼쪽에서부터 진행"
   ]
  },
  {
   "cell_type": "markdown",
   "id": "099067a5-fc6e-4bd2-be2a-8dc71e4419a6",
   "metadata": {},
   "source": [
    "#### 내가 생각한 답"
   ]
  },
  {
   "cell_type": "code",
   "execution_count": 170,
   "id": "a0712ae1-cd13-4843-9625-2d2d51d63102",
   "metadata": {},
   "outputs": [
    {
     "name": "stdin",
     "output_type": "stream",
     "text": [
      " 11111\n"
     ]
    },
    {
     "name": "stdout",
     "output_type": "stream",
     "text": [
      "1\n"
     ]
    }
   ],
   "source": [
    "s = list(map(int, input()))\n",
    "\n",
    "result = 1\n",
    "for i in range(1,len(s)):\n",
    "    if s[i]==0:\n",
    "        pass\n",
    "    else:\n",
    "        result *= s[i]\n",
    "print(result)"
   ]
  },
  {
   "cell_type": "markdown",
   "id": "b6248240-7dab-4a96-a78e-6465806d4f26",
   "metadata": {},
   "source": [
    "#### 좋은 답"
   ]
  },
  {
   "cell_type": "code",
   "execution_count": 168,
   "id": "5947a1f8-ec54-4b6f-93d5-6642bc73f574",
   "metadata": {},
   "outputs": [
    {
     "name": "stdin",
     "output_type": "stream",
     "text": [
      " 11111\n"
     ]
    },
    {
     "name": "stdout",
     "output_type": "stream",
     "text": [
      "5\n"
     ]
    }
   ],
   "source": [
    "data = input()\n",
    "\n",
    "result = int(data[0])\n",
    "\n",
    "for i in range(1, len(data)):\n",
    "    num = int(data[i])\n",
    "    if num <=1 or result <=1:\n",
    "        result += num\n",
    "    else:\n",
    "        result *= num\n",
    "        \n",
    "print(result)"
   ]
  },
  {
   "cell_type": "markdown",
   "id": "efff10fd-c87d-40d5-aced-0259c25f8fbd",
   "metadata": {},
   "source": [
    "#### 다시 풀이"
   ]
  },
  {
   "cell_type": "code",
   "execution_count": 169,
   "id": "f4302353-a714-45fe-b154-90aa1b244e67",
   "metadata": {},
   "outputs": [
    {
     "name": "stdin",
     "output_type": "stream",
     "text": [
      " 11111\n"
     ]
    },
    {
     "name": "stdout",
     "output_type": "stream",
     "text": [
      "5\n"
     ]
    }
   ],
   "source": [
    "s = list(map(int, input()))\n",
    "\n",
    "result = s[0]\n",
    "for i in range(1,len(s)):\n",
    "    if s[i]<=1 or result<=1:\n",
    "        result += s[i]\n",
    "    else:\n",
    "        result *= s[i]\n",
    "print(result)"
   ]
  },
  {
   "cell_type": "code",
   "execution_count": null,
   "id": "1a159aa5-8b76-489d-94a9-afa1a13c59aa",
   "metadata": {},
   "outputs": [],
   "source": []
  },
  {
   "cell_type": "markdown",
   "id": "e0db6b10-42fd-404a-904a-8ff0c50ebcb1",
   "metadata": {},
   "source": [
    "### 문제 3>"
   ]
  },
  {
   "cell_type": "code",
   "execution_count": 172,
   "id": "c520eba5-76f7-437e-a653-7a4843a9ae94",
   "metadata": {},
   "outputs": [],
   "source": [
    "# 마을에 모험가가 N명 있을 때 모험가 길드에서 N명의 모험가를 대상으로 \"공포도\"를 측정했는데,\n",
    "# \"공포도\"가 높은 모험가는 위험 상황에서 대처 능력이 떨어진다.\n",
    "# 모험가 길드장이 그룹을 구성하고자 공포도가 X인 모험가는 반드시 X명 이상으로 구성한 모험가 그룹에\n",
    "# 참여해야 여행을 떠날 수 있도록 규정했다.\n",
    "# 동빈이는 최대 몇 개의 모험가 그룹을 만들 수 있을까? N명에 대한 여행을 떠날 수 있는 그룹 수의 최대값을 구해라"
   ]
  },
  {
   "cell_type": "code",
   "execution_count": null,
   "id": "59395c6a-889e-430b-9d28-91df13d837e5",
   "metadata": {},
   "outputs": [],
   "source": [
    "# 공포도가 X이면 그룹에는 X명이 있어야 한다."
   ]
  },
  {
   "cell_type": "code",
   "execution_count": 175,
   "id": "76a9a545-845d-46c3-9e08-20a75683d7c1",
   "metadata": {},
   "outputs": [
    {
     "name": "stdin",
     "output_type": "stream",
     "text": [
      " 5\n",
      " 2 3 1 2 2\n"
     ]
    }
   ],
   "source": [
    "n = int(input())\n",
    "group = list(map(int, input().split()))"
   ]
  },
  {
   "cell_type": "code",
   "execution_count": 203,
   "id": "488ff7af-2f9d-4ea8-a422-1e6be4b61e4b",
   "metadata": {},
   "outputs": [],
   "source": [
    "n = 5\n",
    "group = [2,3,1,2,2]"
   ]
  },
  {
   "cell_type": "markdown",
   "id": "f6c53101-0087-4687-a9c5-9811a7010e88",
   "metadata": {},
   "source": [
    "#### 내가 생각한 답"
   ]
  },
  {
   "cell_type": "code",
   "execution_count": 200,
   "id": "9717348c-5b5d-487e-adf2-f32961b5e743",
   "metadata": {},
   "outputs": [
    {
     "name": "stdout",
     "output_type": "stream",
     "text": [
      "2\n"
     ]
    }
   ],
   "source": [
    "cnt = 0\n",
    "for i in range(len(list_n)):\n",
    "    if len(list_n) <1:\n",
    "        break\n",
    "    in_group_num = max(list_n)\n",
    "    list_n.sort()\n",
    "    for i in range(in_group_num):\n",
    "        list_n.pop()\n",
    "    cnt +=1\n",
    "print(cnt)"
   ]
  },
  {
   "cell_type": "code",
   "execution_count": 207,
   "id": "310d27ce-f6d8-4916-bd42-63e185a9af61",
   "metadata": {},
   "outputs": [
    {
     "name": "stdout",
     "output_type": "stream",
     "text": [
      "2\n"
     ]
    }
   ],
   "source": [
    "n = 5\n",
    "group = [2,3,1,2,2]\n",
    "group.sort()\n",
    "\n",
    "result = 0\n",
    "cnt = 0\n",
    "\n",
    "for i in group:\n",
    "    cnt +=1\n",
    "    if cnt>=i:\n",
    "        result +=1\n",
    "        cnt = 0\n",
    "print(result)"
   ]
  },
  {
   "cell_type": "code",
   "execution_count": null,
   "id": "6f5954af-bfa5-4330-ba02-92c170e0d22a",
   "metadata": {},
   "outputs": [],
   "source": []
  },
  {
   "cell_type": "code",
   "execution_count": null,
   "id": "50ef0b35-7049-4520-a832-8ffb1e1a77ee",
   "metadata": {},
   "outputs": [],
   "source": []
  },
  {
   "cell_type": "code",
   "execution_count": null,
   "id": "d6f8a4ab-8445-4972-922b-d4444ec54fb3",
   "metadata": {},
   "outputs": [],
   "source": []
  },
  {
   "cell_type": "markdown",
   "id": "c6fe9d68-a187-4a2a-b8a3-815734f51417",
   "metadata": {},
   "source": [
    "#### 좋은 답"
   ]
  },
  {
   "cell_type": "markdown",
   "id": "fd0baf13-5532-4c5a-a945-cebe8e2096d6",
   "metadata": {},
   "source": [
    "solution\n",
    "- 현재 그룹에 포함된 모험가의 수가 현재 확인하고 있는 공포도보다 크거나 같다면 이를 그룹으로 설정하면 된다.\n",
    "\n",
    "  그룹을 오름차순으로 정렬한다면 항상 최소한의 모험가의 수만 포함하여 그룹을 결성하게 된다."
   ]
  },
  {
   "cell_type": "code",
   "execution_count": 208,
   "id": "7af10496-9c55-4a74-b059-f34e1f3086dc",
   "metadata": {},
   "outputs": [
    {
     "name": "stdin",
     "output_type": "stream",
     "text": [
      " 5\n",
      " 2 3 1 2 2\n"
     ]
    },
    {
     "name": "stdout",
     "output_type": "stream",
     "text": [
      "2\n"
     ]
    }
   ],
   "source": [
    "n = int(input())\n",
    "data = list(map(int, input().split()))\n",
    "data.sort()\n",
    "\n",
    "result = 0 # 총 그룹의 수\n",
    "count = 0 # 현재 그룹에 포함된 모험가의 수\n",
    "\n",
    "for i in data:\n",
    "    count +=1 \n",
    "    if count >= i:\n",
    "        result +=1\n",
    "        count =0\n",
    "print(result)"
   ]
  },
  {
   "cell_type": "code",
   "execution_count": null,
   "id": "256f9ecb-0b78-4a00-b222-c388c8f5f488",
   "metadata": {},
   "outputs": [],
   "source": []
  }
 ],
 "metadata": {
  "kernelspec": {
   "display_name": "Python 3",
   "language": "python",
   "name": "python3"
  },
  "language_info": {
   "codemirror_mode": {
    "name": "ipython",
    "version": 3
   },
   "file_extension": ".py",
   "mimetype": "text/x-python",
   "name": "python",
   "nbconvert_exporter": "python",
   "pygments_lexer": "ipython3",
   "version": "3.8.8"
  }
 },
 "nbformat": 4,
 "nbformat_minor": 5
}
