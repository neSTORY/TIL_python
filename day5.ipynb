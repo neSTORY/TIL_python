{
 "cells": [
  {
   "cell_type": "code",
   "execution_count": 4,
   "id": "1a3aec59",
   "metadata": {},
   "outputs": [
    {
     "name": "stdout",
     "output_type": "stream",
     "text": [
      "0\n",
      "2\n",
      "4\n",
      "6\n",
      "8\n"
     ]
    }
   ],
   "source": [
    "for i in range(10):\n",
    "    if i % 2 !=0:\n",
    "        continue\n",
    "    print(i)"
   ]
  },
  {
   "cell_type": "code",
   "execution_count": 16,
   "id": "7969d860",
   "metadata": {},
   "outputs": [
    {
     "name": "stdout",
     "output_type": "stream",
     "text": [
      "***\n",
      "***\n",
      "***\n",
      "***\n"
     ]
    }
   ],
   "source": [
    "for i in range(4):\n",
    "    for l in range(3):\n",
    "        print(\"*\",end =\"\")\n",
    "    print(\"\")"
   ]
  },
  {
   "cell_type": "code",
   "execution_count": 33,
   "id": "a3aba13a",
   "metadata": {},
   "outputs": [
    {
     "data": {
      "text/plain": [
       "[10]"
      ]
     },
     "execution_count": 33,
     "metadata": {},
     "output_type": "execute_result"
    }
   ],
   "source": [
    "a = []\n",
    "a.append(10)\n",
    "a"
   ]
  },
  {
   "cell_type": "code",
   "execution_count": 34,
   "id": "252fa221",
   "metadata": {},
   "outputs": [
    {
     "data": {
      "text/plain": [
       "[10, 20, 30]"
      ]
     },
     "execution_count": 34,
     "metadata": {},
     "output_type": "execute_result"
    }
   ],
   "source": [
    "a.extend([20,30])\n",
    "a"
   ]
  },
  {
   "cell_type": "code",
   "execution_count": 35,
   "id": "cd2ff594",
   "metadata": {},
   "outputs": [],
   "source": [
    "a.insert(1, 15)"
   ]
  },
  {
   "cell_type": "code",
   "execution_count": 36,
   "id": "464bdf27",
   "metadata": {},
   "outputs": [
    {
     "data": {
      "text/plain": [
       "[10, 15, 20, 30]"
      ]
     },
     "execution_count": 36,
     "metadata": {},
     "output_type": "execute_result"
    }
   ],
   "source": [
    "a"
   ]
  },
  {
   "cell_type": "code",
   "execution_count": 37,
   "id": "2aed7eca",
   "metadata": {},
   "outputs": [],
   "source": [
    "a.insert(len(a),40)"
   ]
  },
  {
   "cell_type": "code",
   "execution_count": 38,
   "id": "85256697",
   "metadata": {},
   "outputs": [
    {
     "data": {
      "text/plain": [
       "[10, 15, 20, 30, 40]"
      ]
     },
     "execution_count": 38,
     "metadata": {},
     "output_type": "execute_result"
    }
   ],
   "source": [
    "a"
   ]
  },
  {
   "cell_type": "code",
   "execution_count": 48,
   "id": "9564a627",
   "metadata": {},
   "outputs": [
    {
     "data": {
      "text/plain": [
       "[10, 15, 20, 25, 27, 30, 40]"
      ]
     },
     "execution_count": 48,
     "metadata": {},
     "output_type": "execute_result"
    }
   ],
   "source": [
    "# 20과 30 사이에 한 번에 25, 27을 추가\n",
    "\n",
    "a = [10,15,20,30,40]\n",
    "\n",
    "a[:3]+[25,27]+a[3:] # == a[3:3] = [25, 27]"
   ]
  },
  {
   "cell_type": "code",
   "execution_count": 51,
   "id": "5e6fff1c",
   "metadata": {},
   "outputs": [
    {
     "data": {
      "text/plain": [
       "[10, 15, 20, 25, 27, 30, 40]"
      ]
     },
     "execution_count": 51,
     "metadata": {},
     "output_type": "execute_result"
    }
   ],
   "source": [
    "a = [10,15,20,30,40]\n",
    "\n",
    "a[3:3] = [25,27]\n",
    "a"
   ]
  },
  {
   "cell_type": "code",
   "execution_count": 57,
   "id": "f917029e",
   "metadata": {},
   "outputs": [
    {
     "data": {
      "text/plain": [
       "[4, 6]"
      ]
     },
     "execution_count": 57,
     "metadata": {},
     "output_type": "execute_result"
    }
   ],
   "source": [
    "# pop: 마지막 요소, 특정 번호의 데이터 삭제\n",
    "# remove : 데이터 값을 찾아서 삭제\n",
    "\n",
    "a = [4,5,6]\n",
    "\n",
    "# a.pop()\n",
    "# a.pop(1)\n",
    "\n",
    "# 또는 del 함수로 제거 가능\n",
    "del a[1]\n",
    "a"
   ]
  },
  {
   "cell_type": "code",
   "execution_count": 59,
   "id": "870a0ce6",
   "metadata": {},
   "outputs": [
    {
     "data": {
      "text/plain": [
       "[5, 6]"
      ]
     },
     "execution_count": 59,
     "metadata": {},
     "output_type": "execute_result"
    }
   ],
   "source": [
    "a = [4,5,6]\n",
    "\n",
    "a.remove(4)\n",
    "a"
   ]
  },
  {
   "cell_type": "code",
   "execution_count": 63,
   "id": "22297572",
   "metadata": {},
   "outputs": [
    {
     "data": {
      "text/plain": [
       "1"
      ]
     },
     "execution_count": 63,
     "metadata": {},
     "output_type": "execute_result"
    }
   ],
   "source": [
    "# index, count 함수\n",
    "\n",
    "a = [4,5,6,4]\n",
    "a.count(4) # a 리스트에서 4의 갯수를 알려줌\n",
    "a.index(5) # a 리스트에서 5의 위치를 알려줌"
   ]
  },
  {
   "cell_type": "code",
   "execution_count": 64,
   "id": "3952a647",
   "metadata": {},
   "outputs": [
    {
     "data": {
      "text/plain": [
       "[4, 4, 5, 6]"
      ]
     },
     "execution_count": 64,
     "metadata": {},
     "output_type": "execute_result"
    }
   ],
   "source": [
    "a = [4,5,6,4]\n",
    "a.sort() # a에는 정렬된 결과가 저장됨\n",
    "a"
   ]
  },
  {
   "cell_type": "code",
   "execution_count": 66,
   "id": "433ede51",
   "metadata": {},
   "outputs": [
    {
     "data": {
      "text/plain": [
       "[4, 4, 5, 6]"
      ]
     },
     "execution_count": 66,
     "metadata": {},
     "output_type": "execute_result"
    }
   ],
   "source": [
    "a = [4,5,6,4]\n",
    "sorted(a)"
   ]
  },
  {
   "cell_type": "code",
   "execution_count": 70,
   "id": "0656228b",
   "metadata": {},
   "outputs": [
    {
     "data": {
      "text/plain": [
       "[]"
      ]
     },
     "execution_count": 70,
     "metadata": {},
     "output_type": "execute_result"
    }
   ],
   "source": [
    "a = [4,5,6,4]\n",
    "\n",
    "# a.clear()\n",
    "del a[:]\n",
    "a"
   ]
  },
  {
   "cell_type": "code",
   "execution_count": 78,
   "id": "293f05a7",
   "metadata": {},
   "outputs": [
    {
     "name": "stdout",
     "output_type": "stream",
     "text": [
      "[100, 200, 300, 400]\n",
      "[100, 200, 300, 400]\n"
     ]
    }
   ],
   "source": [
    "a = [100,200]\n",
    "\n",
    "a.extend([300,400])\n",
    "print(a)\n",
    "\n",
    "a = [100,200]\n",
    "# a.extend([300,400]) 과 같은 방법\n",
    "\n",
    "a[len(a):]=[300,400]\n",
    "print(a)"
   ]
  },
  {
   "cell_type": "code",
   "execution_count": 89,
   "id": "b3502609",
   "metadata": {},
   "outputs": [
    {
     "name": "stdout",
     "output_type": "stream",
     "text": [
      "[100, 200]\n",
      "비어있지 않음\n"
     ]
    }
   ],
   "source": [
    "a = [100,200]\n",
    "print(a)\n",
    "\n",
    "if a:\n",
    "    print(\"비어있지 않음\")\n",
    "else:\n",
    "    print(\"비어있음\")"
   ]
  },
  {
   "cell_type": "code",
   "execution_count": 91,
   "id": "62b9cdec",
   "metadata": {},
   "outputs": [
    {
     "name": "stdout",
     "output_type": "stream",
     "text": [
      "0 3\n",
      "1 1\n",
      "2 2\n",
      "3 4\n",
      "4 5\n"
     ]
    }
   ],
   "source": [
    "a = [3,1,2,4,5]\n",
    "\n",
    "for idx, v in enumerate(a):\n",
    "    print(idx, v) # idx는 index v는 저장값"
   ]
  },
  {
   "cell_type": "code",
   "execution_count": 97,
   "id": "5e91163a",
   "metadata": {},
   "outputs": [
    {
     "name": "stdout",
     "output_type": "stream",
     "text": [
      "3\n",
      "5\n",
      "1\n"
     ]
    }
   ],
   "source": [
    "a = [3,-2,5,1,-6]\n",
    "\n",
    "for idx, v in enumerate(a):\n",
    "    if v > 0:\n",
    "        print(v)"
   ]
  },
  {
   "cell_type": "code",
   "execution_count": 3,
   "id": "96ed086f",
   "metadata": {},
   "outputs": [],
   "source": [
    "a = [3,7,1,5,2]"
   ]
  },
  {
   "cell_type": "code",
   "execution_count": 4,
   "id": "4fa0d9c5",
   "metadata": {},
   "outputs": [
    {
     "name": "stdout",
     "output_type": "stream",
     "text": [
      "7\n"
     ]
    }
   ],
   "source": [
    "# a 리스트에서 최소값 추출\n",
    "\n",
    "small = a[0]\n",
    "\n",
    "for i in a:\n",
    "    if i > small:\n",
    "        small = i\n",
    "print(small)"
   ]
  },
  {
   "cell_type": "code",
   "execution_count": 103,
   "id": "1c8a7685",
   "metadata": {},
   "outputs": [
    {
     "name": "stdout",
     "output_type": "stream",
     "text": [
      "1\n",
      "1\n"
     ]
    }
   ],
   "source": [
    "# 정렬 후 최소 값 추출\n",
    "\n",
    "a.sort()\n",
    "print(a[0])\n",
    "\n",
    "a.reverse()\n",
    "print(a[-1])"
   ]
  },
  {
   "cell_type": "code",
   "execution_count": 107,
   "id": "0bcc2c6f",
   "metadata": {},
   "outputs": [
    {
     "name": "stdout",
     "output_type": "stream",
     "text": [
      "1\n",
      "7\n",
      "18\n"
     ]
    }
   ],
   "source": [
    "# min, max 함수 사용\n",
    "\n",
    "print(min(a))\n",
    "print(max(a))\n",
    "\n",
    "# 리스트 내 총합\n",
    "print(sum(a))"
   ]
  },
  {
   "cell_type": "code",
   "execution_count": 126,
   "id": "82a49abb",
   "metadata": {},
   "outputs": [
    {
     "name": "stdout",
     "output_type": "stream",
     "text": [
      "[0, 1, 2, 3, 4, 5, 6, 7, 8, 9]\n"
     ]
    }
   ],
   "source": [
    "# list comprehension(리스트 내포) : 리스트 내부에 for, if 문 등을 사용 => 리스트 생성\n",
    "# -> 리스트 생성\n",
    "\n",
    "# 리스트 표현식 작성법\n",
    "# [식 for 변수 in 리스트(반복가능한 객체: range 등)]\n",
    "\n",
    "x = [x for x in range(10)]\n",
    "print(x)"
   ]
  },
  {
   "cell_type": "code",
   "execution_count": 121,
   "id": "5110ab0d",
   "metadata": {},
   "outputs": [
    {
     "name": "stdout",
     "output_type": "stream",
     "text": [
      "[0, 1, 2, 3, 4, 5, 6, 7, 8, 9]\n"
     ]
    }
   ],
   "source": [
    "li = []\n",
    "for i in range(10):  \n",
    "    li.append(i)\n",
    "    \n",
    "print(li)"
   ]
  },
  {
   "cell_type": "code",
   "execution_count": 127,
   "id": "ca3c04e5",
   "metadata": {},
   "outputs": [
    {
     "data": {
      "text/plain": [
       "[0, 1, 2, 3, 4, 5, 6, 7, 8, 9]"
      ]
     },
     "execution_count": 127,
     "metadata": {},
     "output_type": "execute_result"
    }
   ],
   "source": [
    "x = (x for x in range(10)) # <generator object <genexpr> at 0x000001B487EE66D0>\n",
    "x = list((x for x in range(10))) # 제너레이터로 생성도 가능\n",
    "x"
   ]
  },
  {
   "cell_type": "code",
   "execution_count": 130,
   "id": "15e8fadc",
   "metadata": {},
   "outputs": [
    {
     "name": "stdout",
     "output_type": "stream",
     "text": [
      "[10, 11, 12, 13, 14, 15, 16, 17, 18, 19, 20]\n"
     ]
    }
   ],
   "source": [
    "# 리스트 내포를 이용하여 10 ~ 20까지 값을 갖는 리스트를 생성\n",
    "\n",
    "lis_comp = [x for x in range(10,21)]\n",
    "print(lis_comp)"
   ]
  },
  {
   "cell_type": "code",
   "execution_count": 140,
   "id": "5b1f1b84",
   "metadata": {},
   "outputs": [],
   "source": [
    "x = [x for x in range(10,21)] # 밖에 있는 x 는 안에 있는 x랑 다름\n",
    "\n",
    "# 변수 x = [ 리스트 ]"
   ]
  },
  {
   "cell_type": "code",
   "execution_count": 150,
   "id": "1a6ba2c9",
   "metadata": {},
   "outputs": [
    {
     "name": "stdout",
     "output_type": "stream",
     "text": [
      "[0, 5, 10, 15, 20, 25]\n"
     ]
    }
   ],
   "source": [
    "ls = [x*5 for x in range(0,6)]\n",
    "print(ls)"
   ]
  },
  {
   "cell_type": "code",
   "execution_count": 152,
   "id": "58f451f7",
   "metadata": {},
   "outputs": [
    {
     "data": {
      "text/plain": [
       "'\\n1) range(10)   -> 0,1,2,,,9\\n2) if i%2 == 0 -> 0,2,4,6,8\\n3) 뽑아낸 짝수가 i에 전달되어 리스트가 생성 됨\\n'"
      ]
     },
     "execution_count": 152,
     "metadata": {},
     "output_type": "execute_result"
    }
   ],
   "source": [
    "# [식 for 변수 리스트 if 조건식]\n",
    "\n",
    "[i for i in range(10) if i%2 == 0]\n",
    "\n",
    "\n",
    "\"\"\"\n",
    "1) range(10)   -> 0,1,2,,,9\n",
    "2) if i%2 == 0 -> 0,2,4,6,8\n",
    "3) 뽑아낸 짝수가 i에 전달되어 리스트가 생성 됨\n",
    "\"\"\"\n"
   ]
  },
  {
   "cell_type": "code",
   "execution_count": 157,
   "id": "bf8c11ee",
   "metadata": {},
   "outputs": [
    {
     "name": "stdout",
     "output_type": "stream",
     "text": [
      "[3, 9, 15, 21, 27]\n"
     ]
    }
   ],
   "source": [
    "# 0~9까지 숫자 중에서 홀수에 3을 곱한 리스트 생성\n",
    "\n",
    "odd_list = [i*3 for i in range(10) if i%2 !=0] # !=0 안써도 됨 why? i%2 !=0 이면 참이기 때문에!\n",
    "print(odd_list)"
   ]
  },
  {
   "cell_type": "code",
   "execution_count": 169,
   "id": "221bc346",
   "metadata": {},
   "outputs": [
    {
     "name": "stdout",
     "output_type": "stream",
     "text": [
      "['aA', 'aB', 'aC', 'aD', 'aE', 'bA', 'bB', 'bC', 'bD', 'bE', 'cA', 'cB', 'cC', 'cD', 'cE', 'dA', 'dB', 'dC', 'dD', 'dE', 'eA', 'eB', 'eC', 'eD', 'eE']\n"
     ]
    }
   ],
   "source": [
    "a = [\"a\", \"b\", \"c\", \"d\", \"e\"]\n",
    "b = [\"A\", \"B\", \"C\", \"D\", \"E\"]\n",
    "\n",
    "# [i+j for i in a for j in b]\n",
    "# 이건 밑에 코드랑 같은 의미임\n",
    "\n",
    "mylist = []\n",
    "\n",
    "for i in a: # 1) i에 a의 첫번째 요소가 들어감\n",
    "    for j in b: # 2) j에 b의 첫번째 요소가 들어감\n",
    "        mylist.append(i+j) # 3) i+j가 mylist에 들어감\n",
    "print(mylist)"
   ]
  },
  {
   "cell_type": "code",
   "execution_count": 172,
   "id": "a369cd38",
   "metadata": {},
   "outputs": [
    {
     "data": {
      "text/plain": [
       "[2,\n",
       " 4,\n",
       " 6,\n",
       " 8,\n",
       " 10,\n",
       " 12,\n",
       " 14,\n",
       " 16,\n",
       " 18,\n",
       " 3,\n",
       " 6,\n",
       " 9,\n",
       " 12,\n",
       " 15,\n",
       " 18,\n",
       " 21,\n",
       " 24,\n",
       " 27,\n",
       " 4,\n",
       " 8,\n",
       " 12,\n",
       " 16,\n",
       " 20,\n",
       " 24,\n",
       " 28,\n",
       " 32,\n",
       " 36,\n",
       " 5,\n",
       " 10,\n",
       " 15,\n",
       " 20,\n",
       " 25,\n",
       " 30,\n",
       " 35,\n",
       " 40,\n",
       " 45,\n",
       " 6,\n",
       " 12,\n",
       " 18,\n",
       " 24,\n",
       " 30,\n",
       " 36,\n",
       " 42,\n",
       " 48,\n",
       " 54,\n",
       " 7,\n",
       " 14,\n",
       " 21,\n",
       " 28,\n",
       " 35,\n",
       " 42,\n",
       " 49,\n",
       " 56,\n",
       " 63,\n",
       " 8,\n",
       " 16,\n",
       " 24,\n",
       " 32,\n",
       " 40,\n",
       " 48,\n",
       " 56,\n",
       " 64,\n",
       " 72,\n",
       " 9,\n",
       " 18,\n",
       " 27,\n",
       " 36,\n",
       " 45,\n",
       " 54,\n",
       " 63,\n",
       " 72,\n",
       " 81]"
      ]
     },
     "execution_count": 172,
     "metadata": {},
     "output_type": "execute_result"
    }
   ],
   "source": [
    "[i*j for i in range(2,10) for j in range(1,10)]"
   ]
  },
  {
   "cell_type": "code",
   "execution_count": 190,
   "id": "35a43425",
   "metadata": {},
   "outputs": [
    {
     "name": "stdout",
     "output_type": "stream",
     "text": [
      "[2단]\n",
      "[2, 4, 6, 8, 10, 12, 14, 16, 18]\n",
      "[3단]\n",
      "[2, 4, 6, 8, 10, 12, 14, 16, 18, 3, 6, 9, 12, 15, 18, 21, 24, 27]\n",
      "[4단]\n",
      "[2, 4, 6, 8, 10, 12, 14, 16, 18, 3, 6, 9, 12, 15, 18, 21, 24, 27, 4, 8, 12, 16, 20, 24, 28, 32, 36]\n",
      "[5단]\n",
      "[2, 4, 6, 8, 10, 12, 14, 16, 18, 3, 6, 9, 12, 15, 18, 21, 24, 27, 4, 8, 12, 16, 20, 24, 28, 32, 36, 5, 10, 15, 20, 25, 30, 35, 40, 45]\n",
      "[6단]\n",
      "[2, 4, 6, 8, 10, 12, 14, 16, 18, 3, 6, 9, 12, 15, 18, 21, 24, 27, 4, 8, 12, 16, 20, 24, 28, 32, 36, 5, 10, 15, 20, 25, 30, 35, 40, 45, 6, 12, 18, 24, 30, 36, 42, 48, 54]\n",
      "[7단]\n",
      "[2, 4, 6, 8, 10, 12, 14, 16, 18, 3, 6, 9, 12, 15, 18, 21, 24, 27, 4, 8, 12, 16, 20, 24, 28, 32, 36, 5, 10, 15, 20, 25, 30, 35, 40, 45, 6, 12, 18, 24, 30, 36, 42, 48, 54, 7, 14, 21, 28, 35, 42, 49, 56, 63]\n",
      "[8단]\n",
      "[2, 4, 6, 8, 10, 12, 14, 16, 18, 3, 6, 9, 12, 15, 18, 21, 24, 27, 4, 8, 12, 16, 20, 24, 28, 32, 36, 5, 10, 15, 20, 25, 30, 35, 40, 45, 6, 12, 18, 24, 30, 36, 42, 48, 54, 7, 14, 21, 28, 35, 42, 49, 56, 63, 8, 16, 24, 32, 40, 48, 56, 64, 72]\n",
      "[9단]\n",
      "[2, 4, 6, 8, 10, 12, 14, 16, 18, 3, 6, 9, 12, 15, 18, 21, 24, 27, 4, 8, 12, 16, 20, 24, 28, 32, 36, 5, 10, 15, 20, 25, 30, 35, 40, 45, 6, 12, 18, 24, 30, 36, 42, 48, 54, 7, 14, 21, 28, 35, 42, 49, 56, 63, 8, 16, 24, 32, 40, 48, 56, 64, 72, 9, 18, 27, 36, 45, 54, 63, 72, 81]\n"
     ]
    }
   ],
   "source": [
    "gugudan = []\n",
    "\n",
    "for i in range(2,10):\n",
    "    for j in range(1,10):\n",
    "        gugudan.append(i*j)\n",
    "    print(\"[%s단]\"%i)\n",
    "    print(gugudan)"
   ]
  },
  {
   "cell_type": "code",
   "execution_count": 193,
   "id": "1958e24c",
   "metadata": {},
   "outputs": [
    {
     "data": {
      "text/plain": [
       "[0, 2, 4, 6, 8, 10, 12, 14, 16, 18, 20, 22, 24, 26, 28]"
      ]
     },
     "execution_count": 193,
     "metadata": {},
     "output_type": "execute_result"
    }
   ],
   "source": [
    "[i for i in range(30) if i%2 ==0]"
   ]
  },
  {
   "cell_type": "code",
   "execution_count": 195,
   "id": "61f8514c",
   "metadata": {},
   "outputs": [
    {
     "data": {
      "text/plain": [
       "[0, 6, 12, 18, 24]"
      ]
     },
     "execution_count": 195,
     "metadata": {},
     "output_type": "execute_result"
    }
   ],
   "source": [
    "[i for i in range(30) if i%2 ==0 and i%3 == 0]"
   ]
  },
  {
   "cell_type": "code",
   "execution_count": 205,
   "id": "9275f752",
   "metadata": {},
   "outputs": [
    {
     "data": {
      "text/plain": [
       "['zero', 'odd', 'even', 'odd', 'even', 'odd', 'even', 'odd', 'even', 'odd']"
      ]
     },
     "execution_count": 205,
     "metadata": {},
     "output_type": "execute_result"
    }
   ],
   "source": [
    "# 리스트 내포에서 else도 사용 가능, 단 elif는 불가\n",
    "\n",
    "# 0 ~ 9 까지 수를 리스트에 저장하고자 하는데,\n",
    "# 짝수는 even, 홀수는 odd 저장\n",
    "\n",
    "[\"even\" if i%2==0 else \"odd\" for i in range(10)]\n",
    "\n",
    "# [\"zero\", \"odd\", \"even\",,,,] elif 없이 3가지 조건 저장하기\n",
    "\n",
    "[\"zero\" if i==0 else \"even\" if i%2==0 else \"odd\" for i in range(10)]"
   ]
  }
 ],
 "metadata": {
  "kernelspec": {
   "display_name": "Python 3",
   "language": "python",
   "name": "python3"
  },
  "language_info": {
   "codemirror_mode": {
    "name": "ipython",
    "version": 3
   },
   "file_extension": ".py",
   "mimetype": "text/x-python",
   "name": "python",
   "nbconvert_exporter": "python",
   "pygments_lexer": "ipython3",
   "version": "3.8.8"
  }
 },
 "nbformat": 4,
 "nbformat_minor": 5
}
