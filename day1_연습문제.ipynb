{
 "cells": [
  {
   "cell_type": "code",
   "execution_count": 2,
   "id": "36ce496a",
   "metadata": {},
   "outputs": [
    {
     "name": "stdout",
     "output_type": "stream",
     "text": [
      "p t\n"
     ]
    }
   ],
   "source": [
    "# 1\n",
    "\n",
    "letters = \"python\"\n",
    "print(letters[0], letters[2])"
   ]
  },
  {
   "cell_type": "code",
   "execution_count": 4,
   "id": "d5da4541",
   "metadata": {},
   "outputs": [
    {
     "name": "stdout",
     "output_type": "stream",
     "text": [
      "2210\n"
     ]
    }
   ],
   "source": [
    "# 2\n",
    "\n",
    "cn = \"24가 2210\"\n",
    "print(cn[-4:])"
   ]
  },
  {
   "cell_type": "code",
   "execution_count": 6,
   "id": "073652a5",
   "metadata": {},
   "outputs": [
    {
     "name": "stdout",
     "output_type": "stream",
     "text": [
      "파 파 파\n"
     ]
    }
   ],
   "source": [
    "# 3\n",
    "\n",
    "s = \"파이썬파이썬파이썬\"\n",
    "print(s[0],s[3],s[6])"
   ]
  },
  {
   "cell_type": "code",
   "execution_count": 8,
   "id": "718c2d88",
   "metadata": {},
   "outputs": [
    {
     "name": "stdout",
     "output_type": "stream",
     "text": [
      "720\n"
     ]
    }
   ],
   "source": [
    "# 4\n",
    "\n",
    "num_str = \"720\"\n",
    "\n",
    "print(int(num_str))"
   ]
  },
  {
   "cell_type": "code",
   "execution_count": 9,
   "id": "f18b2c33",
   "metadata": {},
   "outputs": [
    {
     "name": "stdout",
     "output_type": "stream",
     "text": [
      "15.79\n"
     ]
    }
   ],
   "source": [
    "# 5\n",
    "\n",
    "data = \"15.79\"\n",
    "print(float(data))"
   ]
  },
  {
   "cell_type": "code",
   "execution_count": 35,
   "id": "54ad11dd",
   "metadata": {},
   "outputs": [
    {
     "name": "stdout",
     "output_type": "stream",
     "text": [
      "에어컨의 총 금액은 1,749,024원 입니다\n"
     ]
    }
   ],
   "source": [
    "# 6\n",
    "\n",
    "aircon = 48584\n",
    "mon = 36\n",
    "total = aircon * mon\n",
    "to = \"{:,}\".format(total)\n",
    "print(\"에어컨의 총 금액은 \" + to + \"원 입니다\")"
   ]
  },
  {
   "cell_type": "code",
   "execution_count": 25,
   "id": "006aa85b",
   "metadata": {},
   "outputs": [
    {
     "name": "stdout",
     "output_type": "stream",
     "text": [
      "생년원일은 850701 입니다.\n",
      "성별은 남자입니다.\n",
      "태어난 월은 7월 입니다.\n"
     ]
    }
   ],
   "source": [
    "# 7\n",
    "\n",
    "jumin = \"850701-1234567\"\n",
    "\n",
    "print(\"생년원일은 \" + jumin[0:6] + \" 입니다.\")\n",
    "\n",
    "if jumin[7] == \"1\":\n",
    "    print(\"성별은 남자입니다.\")\n",
    "print(\"태어난 월은 \" + jumin[3] + \"월 입니다.\")"
   ]
  },
  {
   "cell_type": "code",
   "execution_count": 32,
   "id": "d93330f5",
   "metadata": {},
   "outputs": [
    {
     "name": "stdout",
     "output_type": "stream",
     "text": [
      "1,749,024\n"
     ]
    }
   ],
   "source": [
    "aircon = 48584\n",
    "mon = 36\n",
    "total = aircon * mon\n",
    "\n",
    "to = \"{:,}\".format(total)\n",
    "print(to)"
   ]
  },
  {
   "cell_type": "code",
   "execution_count": 29,
   "id": "f2f82bf8",
   "metadata": {},
   "outputs": [
    {
     "name": "stdout",
     "output_type": "stream",
     "text": [
      "1,000,000\n"
     ]
    }
   ],
   "source": [
    "number_with_commas = \"{:,}\".format(1000000)\n",
    "\n",
    "print(number_with_commas)"
   ]
  }
 ],
 "metadata": {
  "kernelspec": {
   "display_name": "Python 3",
   "language": "python",
   "name": "python3"
  },
  "language_info": {
   "codemirror_mode": {
    "name": "ipython",
    "version": 3
   },
   "file_extension": ".py",
   "mimetype": "text/x-python",
   "name": "python",
   "nbconvert_exporter": "python",
   "pygments_lexer": "ipython3",
   "version": "3.8.8"
  }
 },
 "nbformat": 4,
 "nbformat_minor": 5
}
