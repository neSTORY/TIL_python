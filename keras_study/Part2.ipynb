{
 "cells": [
  {
   "cell_type": "code",
   "execution_count": 38,
   "id": "d73b53fa-e883-4d4d-b27d-03793d336067",
   "metadata": {},
   "outputs": [],
   "source": [
    "import numpy as np\n",
    "\n",
    "import tensorflow.keras\n",
    "from tensorflow.keras.layers import Dense"
   ]
  },
  {
   "cell_type": "markdown",
   "id": "654d930a-6b33-4a08-a920-f3da9656fd03",
   "metadata": {},
   "source": [
    "## 2장 시작하기전에"
   ]
  },
  {
   "cell_type": "markdown",
   "id": "707c5e8e-6841-4874-866d-8c81ae682e91",
   "metadata": {},
   "source": [
    "**케라스의 층에서 일어나는 일**"
   ]
  },
  {
   "cell_type": "code",
   "execution_count": 40,
   "id": "ccbb5817-e40a-4c52-9dc7-74ba50a11c76",
   "metadata": {},
   "outputs": [],
   "source": [
    "keras.layers.Dense(512, activation = \"relu\")"
   ]
  },
  {
   "cell_type": "markdown",
   "id": "554d383d-31dd-4adf-82c4-31868feff734",
   "metadata": {},
   "source": [
    "이 함수를 구체적으로 살펴보면 다음과 같다"
   ]
  },
  {
   "cell_type": "code",
   "execution_count": null,
   "id": "0e809cd5-082f-4d81-832c-baa15504c58b",
   "metadata": {},
   "outputs": [],
   "source": [
    "output = relu(dot(W, input)+b)"
   ]
  },
  {
   "cell_type": "markdown",
   "id": "a5adb1ba-89ca-40de-af37-7d136250b2cc",
   "metadata": {},
   "source": [
    "여기서는 3개의 텐서 연산이 있다. 입력텐서와 텐서 W사이의 점곱(dot), 점곱의 결과인 2D텐서와 벡터 b 사이의 덧셈(+), 마지막으로 relu 연산이 있다."
   ]
  },
  {
   "cell_type": "markdown",
   "id": "419dc787-4530-4ba4-ae52-6a4aa1117929",
   "metadata": {},
   "source": [
    "### relu\n",
    "\n",
    "relu 연산은 0보다 크면 해당 값을 리턴해주고 0보다 작으면 0을 리턴해주는 함수이다."
   ]
  },
  {
   "cell_type": "code",
   "execution_count": 18,
   "id": "199612d1-36d2-4a98-9036-6e467ac563fd",
   "metadata": {},
   "outputs": [],
   "source": [
    "def naive_relu(x):\n",
    "    assert len(x.shape)==2\n",
    "    \n",
    "    x = x.copy() # 입력 텐서 자체를 바꾸지 않도록 복사\n",
    "    \n",
    "    for i in range(x.shape[0]):\n",
    "        for j in range(x.shape[1]):\n",
    "            x[i,j] = max(x[i, j], 0)\n",
    "    \n",
    "    return x"
   ]
  },
  {
   "cell_type": "markdown",
   "id": "4dfadeaa-aea2-4330-9f30-6353df36aae3",
   "metadata": {},
   "source": [
    "assert : 실행하기 전 조건을 체크하는 가정 설정문"
   ]
  },
  {
   "cell_type": "code",
   "execution_count": 22,
   "id": "15780e22-4daa-42fe-a945-710c111d0e0f",
   "metadata": {},
   "outputs": [],
   "source": [
    "sample = np.random.randn(100)\n",
    "sample = sample.reshape(5,-1)"
   ]
  },
  {
   "cell_type": "code",
   "execution_count": 33,
   "id": "1ed4b47e-0558-4b9a-85cb-f6ccb0cf4006",
   "metadata": {},
   "outputs": [
    {
     "data": {
      "text/plain": [
       "array([[0.58521872, 2.25782806, 0.74308367, 0.        , 0.2580674 ,\n",
       "        1.56777564, 0.        , 0.        , 1.22076248, 0.        ,\n",
       "        1.08383981, 0.30334784, 0.        , 3.40345259, 1.06624647,\n",
       "        0.4440177 , 0.39372728, 0.        , 0.        , 0.        ],\n",
       "       [0.        , 0.        , 0.        , 0.        , 0.        ,\n",
       "        1.28542368, 0.        , 0.        , 0.29372707, 2.42939952,\n",
       "        0.        , 0.        , 0.        , 0.        , 1.10708034,\n",
       "        1.13572845, 0.73980583, 0.9085446 , 0.        , 0.59096656],\n",
       "       [0.        , 0.07568914, 0.        , 0.        , 1.59959272,\n",
       "        0.        , 0.14606314, 0.41908409, 1.35499087, 0.7314253 ,\n",
       "        0.1832957 , 1.62558245, 0.42297293, 0.        , 0.        ,\n",
       "        0.56138018, 0.31812999, 0.6975283 , 0.        , 0.        ],\n",
       "       [0.49817498, 0.        , 0.        , 0.        , 0.79880903,\n",
       "        1.07835002, 0.        , 0.        , 0.17772686, 0.        ,\n",
       "        0.47236855, 0.11623342, 1.17924344, 0.21934008, 0.45620126,\n",
       "        0.        , 0.17659915, 1.39349864, 0.10787099, 1.32981758],\n",
       "       [0.        , 0.        , 0.        , 1.00925103, 0.63381079,\n",
       "        0.40281464, 1.45131112, 0.49167045, 0.        , 0.5285907 ,\n",
       "        0.        , 1.43215026, 0.32257822, 0.        , 0.070694  ,\n",
       "        0.32210652, 0.        , 0.69648554, 1.14165436, 0.        ]])"
      ]
     },
     "execution_count": 33,
     "metadata": {},
     "output_type": "execute_result"
    }
   ],
   "source": [
    "naive_relu(sample)"
   ]
  },
  {
   "cell_type": "markdown",
   "id": "f263af48-f335-41d9-800d-7e0e442e2f76",
   "metadata": {},
   "source": [
    "relu 함수 실행결과를 보면 0보다 작은 값은 없는 것을 확인할 수 있다."
   ]
  },
  {
   "cell_type": "markdown",
   "id": "fa81907c-a5cd-4285-abf5-14da95384826",
   "metadata": {},
   "source": [
    "### 덧셈"
   ]
  },
  {
   "cell_type": "code",
   "execution_count": 42,
   "id": "11dea96b-8328-456c-9fd5-7d593adb4017",
   "metadata": {},
   "outputs": [],
   "source": [
    "def naive_add(x,y):\n",
    "    assert len(x.shape)==2 # 2D 텐서가 아니면 실행x\n",
    "    assert x.shape == y.shape\n",
    "    \n",
    "    x = x.copy()\n",
    "    for i in range(x.shape[0]):\n",
    "        for j in range(x.shape[1]):\n",
    "            x[i, j] += y[i, j]\n",
    "    return x"
   ]
  },
  {
   "cell_type": "code",
   "execution_count": 43,
   "id": "c5dbcf15-2d60-40bd-aa68-42edbd3291e3",
   "metadata": {},
   "outputs": [],
   "source": [
    "sample2 = np.random.randn(100).reshape(5,-1)"
   ]
  },
  {
   "cell_type": "code",
   "execution_count": 49,
   "id": "4599e14b-48ca-4280-aa39-89da7c664097",
   "metadata": {},
   "outputs": [
    {
     "data": {
      "text/plain": [
       "(array([ 0.58521872,  2.25782806,  0.74308367, -2.23047349,  0.2580674 ,\n",
       "         1.56777564, -0.10597576, -0.13588714,  1.22076248, -0.25468999,\n",
       "         1.08383981,  0.30334784, -1.95331606,  3.40345259,  1.06624647,\n",
       "         0.4440177 ,  0.39372728, -0.99133837, -1.6769636 , -0.32846341]),\n",
       " array([-0.78966345,  0.53178311,  1.36346126,  0.29140191,  1.02674698,\n",
       "         1.27306082, -0.61392197, -0.46649167,  1.7412095 , -1.39410855,\n",
       "        -0.13982356,  0.90762863, -0.95906655, -0.39049353, -0.62998502,\n",
       "        -0.61360755, -1.03660082,  1.06040888, -0.61081174, -0.22305455]))"
      ]
     },
     "execution_count": 49,
     "metadata": {},
     "output_type": "execute_result"
    }
   ],
   "source": [
    "sample[0], sample2[0]"
   ]
  },
  {
   "cell_type": "code",
   "execution_count": 46,
   "id": "259afbed-6b68-4d38-afd7-b572104d8838",
   "metadata": {},
   "outputs": [
    {
     "data": {
      "text/plain": [
       "array([[-0.20444473,  2.78961117,  2.10654493, -1.93907158,  1.28481438,\n",
       "         2.84083646, -0.71989773, -0.60237881,  2.96197198, -1.64879854,\n",
       "         0.94401625,  1.21097646, -2.91238261,  3.01295906,  0.43626145,\n",
       "        -0.16958985, -0.64287354,  0.06907051, -2.28777534, -0.55151796],\n",
       "       [ 1.26130443, -0.94886311, -1.67972058, -3.88010185,  0.17618523,\n",
       "         3.45033145,  2.02924995, -0.5592356 , -0.50592866,  2.22505017,\n",
       "         0.58420986,  0.97327954, -0.3050229 , -1.24564739, -0.14983954,\n",
       "         1.76911332,  0.50609146,  1.11862943, -1.38486452,  2.05310262],\n",
       "       [-2.12859953,  0.27627377, -1.3823682 , -0.74205121,  1.56895723,\n",
       "        -1.38438028,  1.02528033,  2.62491206,  1.85452236,  0.31184377,\n",
       "         1.64526966,  0.91708661,  1.28205645,  0.61195712,  0.57696113,\n",
       "         1.24587252, -0.62587205,  0.9004573 , -0.22502829, -0.40046108],\n",
       "       [ 0.89702743,  0.05590668, -0.86602396, -0.71189963,  0.24668496,\n",
       "        -0.15460237, -1.6185873 , -1.23434118, -0.05125853, -1.09631494,\n",
       "        -0.40112187, -0.72134788,  1.38233318, -1.26611443, -0.4102204 ,\n",
       "        -3.29460337,  0.285396  ,  1.61887046, -0.56190757,  2.69655585],\n",
       "       [-2.00045209,  0.52583906, -2.51588038,  2.00315015,  1.32577401,\n",
       "         1.32038459,  1.08833544, -0.58549666, -1.5139248 ,  1.58900088,\n",
       "         0.5739121 ,  0.8259419 , -0.56032546, -0.65618563,  1.10996583,\n",
       "        -0.14523904, -0.89904514,  0.14741473,  1.60608541,  0.35417072]])"
      ]
     },
     "execution_count": 46,
     "metadata": {},
     "output_type": "execute_result"
    }
   ],
   "source": [
    "naive_add(sample, sample2)"
   ]
  },
  {
   "cell_type": "markdown",
   "id": "d1b0bcc4-efa5-4173-9580-6cf5b4ed602b",
   "metadata": {},
   "source": [
    "sample과 sample2의 원소가 합쳐진 것을 확인할 수 있다."
   ]
  },
  {
   "cell_type": "markdown",
   "id": "60b18eb8-2e11-4a00-ac1b-39749fc33d49",
   "metadata": {},
   "source": [
    "#### 넘파이의 특징\n",
    "\n",
    "- 넘파이는 배열을 다룰 떄는 최적화된 넘파이 내장 함수로 이런 연산들을 처리할 수 있다.\n",
    "\n",
    "  넘파이는 시스템내에 설치된 BLAS(Basic Linear Algebra Subprogram) 구현에 복잡한 일들을 위임한다.\n",
    "\n",
    "  BLAS는 고도로 병렬화되고 효율적인 저수준의 텐서 조작 루틴이며, 포트란이나 C언어로 구현되어 있다.\n",
    "\n",
    "  그래서 넘파이는 원소별 연산을 엄청난 속도로 처리한다."
   ]
  },
  {
   "cell_type": "code",
   "execution_count": 50,
   "id": "5091cfd9-e00c-4fd1-872f-4a3f1faea60f",
   "metadata": {},
   "outputs": [],
   "source": [
    "# example\n",
    "\n",
    "z = sample + sample2 # 원소별 덧셈\n",
    "z = np.maximum(z,0.) # relu 함수"
   ]
  },
  {
   "cell_type": "code",
   "execution_count": null,
   "id": "2fde728e-5b67-4b58-b58f-8d626afefc82",
   "metadata": {},
   "outputs": [],
   "source": []
  },
  {
   "cell_type": "markdown",
   "id": "309085f3-e145-40b2-83b1-2884cab0540c",
   "metadata": {},
   "source": [
    "### Broad Casting"
   ]
  },
  {
   "cell_type": "markdown",
   "id": "18eb7821-a3ad-4550-a460-cac9074f5cad",
   "metadata": {},
   "source": [
    "2D 텐서와 벡터간의 연산은 어떻게 진행될까?\n",
    "\n",
    "1. 큰 텐서의 ndim에 맞도록 작은 텐서에 (브로드캐스팅 축이라고 부르는)축이 추가된다.\n",
    "2. 작은 텐서가 새 축을 따라서 큰 텐서의 크기에 맞도록 반복된다."
   ]
  },
  {
   "cell_type": "code",
   "execution_count": 53,
   "id": "7bb9175a-5a8c-4363-8ad2-6d2ca3b1193c",
   "metadata": {},
   "outputs": [],
   "source": [
    "# example\n",
    "x = np.random.randn(320).reshape(32,10) # 2D 텐서\n",
    "y = np.random.randn(10) # 벡터"
   ]
  },
  {
   "cell_type": "code",
   "execution_count": 59,
   "id": "6c11a2c5-fbb6-4184-8b54-6708644ba84e",
   "metadata": {},
   "outputs": [],
   "source": [
    "def naive_add_matrix_and_vector(x, y):\n",
    "    assert len(x.shape) == 2 # x는 2D 넘파이 배열\n",
    "    assert len(y.shape) == 1 # y는 넘파이 벡터\n",
    "    assert x.shape[1] == y.shape[0]\n",
    "    \n",
    "    x = x.copy()\n",
    "    for i in range(x.shape[0]):\n",
    "        for j in range(x.shape[1]):\n",
    "            x[i, j] += y[j]\n",
    "            \n",
    "    return x"
   ]
  },
  {
   "cell_type": "markdown",
   "id": "714410a9-b724-4ef7-a5a6-8082da1358dc",
   "metadata": {},
   "source": [
    "x의 각 행에 y가 추가 되며 이 과정을 32번을 반복하게 된다."
   ]
  },
  {
   "cell_type": "code",
   "execution_count": null,
   "id": "815e23a9-98ea-4e72-95f9-c48382c20e28",
   "metadata": {},
   "outputs": [],
   "source": []
  },
  {
   "cell_type": "markdown",
   "id": "08b807cc-d060-4d2a-a62c-6873ad8c7d1c",
   "metadata": {},
   "source": [
    "크기가 다른 두 테서에 브로드캐스팅으로 원소별 maximum 연산을 적용하는 예"
   ]
  },
  {
   "cell_type": "code",
   "execution_count": 61,
   "id": "1bdae7a3-add2-4855-8093-32655a5a7e2d",
   "metadata": {},
   "outputs": [],
   "source": [
    "x = np.random.random((64,3,32,10)) # x는 (64,3,32,10) 크기의 랜덤 텐서\n",
    "y = np.random.random((32,10)) # y는 (32,10) 크기의 랜덤 텐서\n",
    "\n",
    "z = np.maximum(x, y)"
   ]
  },
  {
   "cell_type": "code",
   "execution_count": 66,
   "id": "b1f36ad5-e23b-4c2e-b820-d1f1c2282d95",
   "metadata": {},
   "outputs": [
    {
     "data": {
      "text/plain": [
       "array([0.69289568, 0.14360401, 0.23753031, 0.78157018, 0.4341446 ,\n",
       "       0.64237859, 0.0792176 , 0.0971101 , 0.70420593, 0.04048192])"
      ]
     },
     "execution_count": 66,
     "metadata": {},
     "output_type": "execute_result"
    }
   ],
   "source": [
    "x[0][0][0]"
   ]
  },
  {
   "cell_type": "code",
   "execution_count": 69,
   "id": "88b49c9f-326b-4464-a428-2d93dfdf046c",
   "metadata": {},
   "outputs": [
    {
     "data": {
      "text/plain": [
       "array([0.82302012, 0.18630778, 0.00421223, 0.59571485, 0.85371041,\n",
       "       0.87898359, 0.65536461, 0.69715674, 0.96066126, 0.19431836])"
      ]
     },
     "execution_count": 69,
     "metadata": {},
     "output_type": "execute_result"
    }
   ],
   "source": [
    "y[0]"
   ]
  },
  {
   "cell_type": "code",
   "execution_count": 72,
   "id": "cee6ccca-2ae5-4d8a-b5c3-47872a1f8375",
   "metadata": {},
   "outputs": [
    {
     "data": {
      "text/plain": [
       "array([0.82302012, 0.18630778, 0.23753031, 0.78157018, 0.85371041,\n",
       "       0.87898359, 0.65536461, 0.69715674, 0.96066126, 0.19431836])"
      ]
     },
     "execution_count": 72,
     "metadata": {},
     "output_type": "execute_result"
    }
   ],
   "source": [
    "z[0][0][0]"
   ]
  },
  {
   "cell_type": "code",
   "execution_count": null,
   "id": "d273aeb0-0a5c-4864-82e7-9cf3769bcfbe",
   "metadata": {},
   "outputs": [],
   "source": []
  },
  {
   "cell_type": "markdown",
   "id": "55de34b1-e1b1-4657-899b-6a76807f61f3",
   "metadata": {},
   "source": [
    "### 텐서 점곱"
   ]
  },
  {
   "cell_type": "code",
   "execution_count": 74,
   "id": "996f6bec-3a07-4edb-a4d6-e7047ea0e556",
   "metadata": {},
   "outputs": [],
   "source": [
    "def naive_vector_dot(x,y):\n",
    "    assert len(x.shape)==1\n",
    "    assert len(y.shape)==1\n",
    "    assert x.shape[0]==y.shape[0]\n",
    "    \n",
    "    z = 0.\n",
    "    for i in range(x.shape[0]):\n",
    "        z += x[i] * y[i]\n",
    "    return z"
   ]
  },
  {
   "cell_type": "code",
   "execution_count": 75,
   "id": "24ef1944-08fd-4b46-8f93-f24a50cdc1dc",
   "metadata": {},
   "outputs": [],
   "source": [
    "x = np.random.randn(4)\n",
    "y = np.random.randn(4)"
   ]
  },
  {
   "cell_type": "code",
   "execution_count": 76,
   "id": "592aa504-7a7d-4216-ac27-d867ad8bd7c8",
   "metadata": {},
   "outputs": [
    {
     "data": {
      "text/plain": [
       "(array([-0.70463715, -0.0328315 ,  0.2170684 ,  0.08401227]),\n",
       " array([-0.89455023,  0.46318722, -0.11781573,  0.75780719]))"
      ]
     },
     "execution_count": 76,
     "metadata": {},
     "output_type": "execute_result"
    }
   ],
   "source": [
    "x, y"
   ]
  },
  {
   "cell_type": "code",
   "execution_count": 77,
   "id": "11f90e56-5dc7-4e8e-8b49-e35c5f6209a5",
   "metadata": {},
   "outputs": [
    {
     "data": {
      "text/plain": [
       "0.6532172187638776"
      ]
     },
     "execution_count": 77,
     "metadata": {},
     "output_type": "execute_result"
    }
   ],
   "source": [
    "naive_vector_dot(x,y) # 결과가 스칼라가 됨"
   ]
  },
  {
   "cell_type": "markdown",
   "id": "3420722f-7c0d-470f-8ad0-ca6382038ce5",
   "metadata": {},
   "source": [
    "두 벡터의 점곱은 스칼라가 되므로 원소 개수가 같은 벡터끼리 점곱이 가능하다."
   ]
  },
  {
   "cell_type": "code",
   "execution_count": null,
   "id": "0101038f-eec1-4352-96d1-1e65426f7532",
   "metadata": {},
   "outputs": [],
   "source": []
  },
  {
   "cell_type": "markdown",
   "id": "891cc3ed-fae5-4f5d-ae60-379198488a4a",
   "metadata": {},
   "source": [
    "행렬과 벡터 사이에서도 점곱이 가능하다.\n",
    "\n",
    "y와 x의 행 사이에서 점곱이 일어나므로 벡터가 반환된다."
   ]
  },
  {
   "cell_type": "code",
   "execution_count": 79,
   "id": "f826994c-85e9-42a5-bf17-ee70947ee8fb",
   "metadata": {},
   "outputs": [],
   "source": [
    "def naive_matrix_vector_dot(x,y):\n",
    "    assert len(x.shape)==2\n",
    "    assert len(y.shape)==1\n",
    "    assert x.shape[1] == y.shape[0]\n",
    "    \n",
    "    z = np.zeros(x.shape[0]) # x의 행과 같은 크기의 0이 채워진 벡터를 만듬\n",
    "    \n",
    "    for i in range(x.shape[0]):\n",
    "        for j in range(x.shape[1]):\n",
    "            z[i] += x[i, j] * y[j]\n",
    "\n",
    "    return z"
   ]
  },
  {
   "cell_type": "code",
   "execution_count": 80,
   "id": "720abbe7-4c85-4ae4-b38e-884e3286df1c",
   "metadata": {},
   "outputs": [],
   "source": [
    "x = np.random.random((3,4))\n",
    "y = np.random.randn(4)"
   ]
  },
  {
   "cell_type": "code",
   "execution_count": 81,
   "id": "0b628833-c339-4f60-862c-f5e51f98d450",
   "metadata": {},
   "outputs": [
    {
     "data": {
      "text/plain": [
       "(array([[0.15027946, 0.02822771, 0.01123323, 0.66133556],\n",
       "        [0.66514075, 0.00733225, 0.87835893, 0.41049886],\n",
       "        [0.37592826, 0.15672708, 0.23799372, 0.94949961]]),\n",
       " array([-1.338573  , -0.13545497, -0.86139207,  0.11669829]))"
      ]
     },
     "execution_count": 81,
     "metadata": {},
     "output_type": "execute_result"
    }
   ],
   "source": [
    "x, y"
   ]
  },
  {
   "cell_type": "code",
   "execution_count": 82,
   "id": "149f8c81-9517-4b85-afc5-c69a47e35337",
   "metadata": {},
   "outputs": [
    {
     "data": {
      "text/plain": [
       "array([-0.1374831 , -1.60003954, -0.61863781])"
      ]
     },
     "execution_count": 82,
     "metadata": {},
     "output_type": "execute_result"
    }
   ],
   "source": [
    "naive_matrix_vector_dot(x,y)"
   ]
  },
  {
   "cell_type": "markdown",
   "id": "1bcaec0e-134e-4853-83f7-fbf89861a054",
   "metadata": {},
   "source": [
    "(3 * 4) x (4 * 1 ) 행렬 곱이라 생각하면 된다."
   ]
  },
  {
   "cell_type": "code",
   "execution_count": null,
   "id": "cbb0fb14-b5cf-4d2e-9ca0-6ed1a82f981c",
   "metadata": {},
   "outputs": [],
   "source": []
  },
  {
   "cell_type": "markdown",
   "id": "7c4954a6-765a-49a8-8f5d-30043255478e",
   "metadata": {},
   "source": [
    "벡터-벡터의 점곱은 교환 법칙이 성립하지만 **행렬-벡터 점곱은 교환 법칙이 성립하지 않는다!**"
   ]
  },
  {
   "cell_type": "code",
   "execution_count": null,
   "id": "8faa5878-d5ea-48e2-bf92-6b0222819dd1",
   "metadata": {},
   "outputs": [],
   "source": []
  },
  {
   "cell_type": "markdown",
   "id": "695e8bbe-dfac-4b94-ae6e-fdce09f3c7c2",
   "metadata": {},
   "source": [
    "#### 행렬-행렬의 점곱"
   ]
  },
  {
   "cell_type": "code",
   "execution_count": 92,
   "id": "981e777f-9f6f-4966-b0d1-dce645eea762",
   "metadata": {},
   "outputs": [],
   "source": [
    "x = np.random.random((3,2))\n",
    "y = np.random.random((2,3))"
   ]
  },
  {
   "cell_type": "code",
   "execution_count": 95,
   "id": "2088695c-26e8-49e0-9aca-640d245e30d8",
   "metadata": {},
   "outputs": [],
   "source": [
    "def naive_matrix_dot(x,y):\n",
    "    assert len(x.shape)==2\n",
    "    assert len(y.shape)==2\n",
    "    assert x.shape[1]==y.shape[0]\n",
    "    \n",
    "    z = np.zeros((x.shape[0],y.shape[1]))\n",
    "    for i in range(x.shape[0]):\n",
    "        for j in range(y.shape[1]):\n",
    "            row_x = x[i, :]\n",
    "            column_y = y[:, j]\n",
    "            z[i, j] = naive_vector_dot(row_x,column_y)\n",
    "    return z"
   ]
  },
  {
   "cell_type": "code",
   "execution_count": 98,
   "id": "b91bc5d0-04ec-41a0-8edb-5775f5856bdc",
   "metadata": {},
   "outputs": [
    {
     "data": {
      "text/plain": [
       "(3, 3)"
      ]
     },
     "execution_count": 98,
     "metadata": {},
     "output_type": "execute_result"
    }
   ],
   "source": [
    "naive_matrix_dot(x,y).shape"
   ]
  }
 ],
 "metadata": {
  "kernelspec": {
   "display_name": "Python 3",
   "language": "python",
   "name": "python3"
  },
  "language_info": {
   "codemirror_mode": {
    "name": "ipython",
    "version": 3
   },
   "file_extension": ".py",
   "mimetype": "text/x-python",
   "name": "python",
   "nbconvert_exporter": "python",
   "pygments_lexer": "ipython3",
   "version": "3.8.8"
  }
 },
 "nbformat": 4,
 "nbformat_minor": 5
}
