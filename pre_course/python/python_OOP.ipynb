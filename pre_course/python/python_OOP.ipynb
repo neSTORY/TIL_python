{
 "cells": [
  {
   "cell_type": "markdown",
   "id": "8a1d2295-0f27-41b6-a0b8-eb87c21442e3",
   "metadata": {},
   "source": [
    "## 객체지향 프로그래밍\n",
    "\n",
    "- Object-Oriented Programming, OOP\n",
    "- 객체: 실생활에서 일종의 물건. 속성(Attribute)와 행동(Action)을 가짐\n",
    "- OOP는 이러한 객체 개념을 프로그램으로 표현\n",
    "  속성은 변수(variable), 행동은 함수(method)로 표현됨"
   ]
  },
  {
   "cell_type": "markdown",
   "id": "c90b1017-67d8-4e8d-8c78-3a532b2d13a3",
   "metadata": {},
   "source": [
    "### python naming rule\n",
    "\n",
    "변수와 class명 함수명은 짓는 방식이 존재\n",
    "\n",
    "- snake_case : 띄어쓰기 부분에 \"_\"를 추가. 뱀처럼 늘여쓰기, 파이썬 함수/변수명에 사용\n",
    "\n",
    "  ex) professor_name\n",
    "\n",
    "- CamelCase : 띄어쓰기 부분에 대문자를 사용. 낙타의 등 모양, 파이썬 Class명에 사용\n",
    "\n",
    "  ex) ProfessorName"
   ]
  },
  {
   "cell_type": "markdown",
   "id": "90c5946b-a3fb-49ae-84fa-f7d983890de8",
   "metadata": {},
   "source": [
    "### Attribute 추가하기\n",
    "\n",
    "Attribute 추가는 init, self와 함께! init은 객체 초기화 예약 함수\n",
    "\n",
    "- _는 특수한 예약함수나 변수 그리고 함수명(맨글링)으로 사용"
   ]
  },
  {
   "cell_type": "code",
   "execution_count": null,
   "id": "fdeeef72-a3f7-497e-ad37-ed7b93782063",
   "metadata": {},
   "outputs": [],
   "source": [
    "# ex) __main__, __add__, __str__, __eq__"
   ]
  },
  {
   "cell_type": "code",
   "execution_count": 22,
   "id": "dae73b52-131a-4d2f-8182-2f927bb52133",
   "metadata": {},
   "outputs": [],
   "source": [
    "class SoccerPlayer(object):\n",
    "    def __init__(self, name:str, position:str, back_number:int):\n",
    "        self.name = name\n",
    "        self.position = position\n",
    "        self.back_number = back_number\n",
    "        \n",
    "    def change_back_number(self, new_number): # 파라미터로 self 추가\n",
    "        print(\"선수의 등번호를 변경합니다. : From %d to %d\"%\\\n",
    "             (self.back_number, new_number))\n",
    "        self.back_number = new_number\n",
    "        \n",
    "    # 매직 매소드    \n",
    "    def __str__(self): # print할 시 작동됨\n",
    "        return \"Hello, My name is %s. My back number is %d\" %\\\n",
    "                (self.name, self.back_number)\n",
    "    \n",
    "    def __add__(self, other):\n",
    "        return self.name + other.name"
   ]
  },
  {
   "cell_type": "code",
   "execution_count": 12,
   "id": "8740ce1e-2d47-442c-9ec8-ba9c1d379261",
   "metadata": {},
   "outputs": [],
   "source": [
    "abc = SoccerPlayer(\"son\",\"FW\",7)\n",
    "park = SoccerPlayer(\"park\",\"WF\",13)"
   ]
  },
  {
   "cell_type": "code",
   "execution_count": 13,
   "id": "6755b490-8501-448a-b2a8-439854b84bc9",
   "metadata": {},
   "outputs": [
    {
     "data": {
      "text/plain": [
       "False"
      ]
     },
     "execution_count": 13,
     "metadata": {},
     "output_type": "execute_result"
    }
   ],
   "source": [
    "abc is park"
   ]
  },
  {
   "cell_type": "code",
   "execution_count": 17,
   "id": "b9fd02cd-d42b-4edd-8759-20f1fe67aea8",
   "metadata": {},
   "outputs": [
    {
     "data": {
      "text/plain": [
       "<__main__.SoccerPlayer at 0x16dd205f790>"
      ]
     },
     "execution_count": 17,
     "metadata": {},
     "output_type": "execute_result"
    }
   ],
   "source": [
    "abc"
   ]
  },
  {
   "cell_type": "code",
   "execution_count": 16,
   "id": "9eeac311-48d7-41cc-a5fd-b7c4979782f4",
   "metadata": {},
   "outputs": [
    {
     "name": "stdout",
     "output_type": "stream",
     "text": [
      "Hello, My name is son. My back number is 7\n"
     ]
    }
   ],
   "source": [
    "print(abc)"
   ]
  },
  {
   "cell_type": "code",
   "execution_count": 15,
   "id": "3d78b730-8d89-4a4d-b5c1-7693ebf03244",
   "metadata": {},
   "outputs": [
    {
     "data": {
      "text/plain": [
       "'sonpark'"
      ]
     },
     "execution_count": 15,
     "metadata": {},
     "output_type": "execute_result"
    }
   ],
   "source": [
    "abc+park"
   ]
  },
  {
   "cell_type": "markdown",
   "id": "e15624d3-3794-42ba-8115-4559a0c29465",
   "metadata": {},
   "source": [
    "### method 구현하기\n",
    "- method(Action)추가는 기존 함수와 같으나, 반드시 self를 추가해야만 class함수로 인정됨"
   ]
  },
  {
   "cell_type": "code",
   "execution_count": 18,
   "id": "f4f44671-59bf-4a1c-b2c7-7eb3c04fa989",
   "metadata": {},
   "outputs": [],
   "source": [
    "class SoccerPlayer(object):\n",
    "    def change_back_number(self, new_number): # 파라미터로 self 추가\n",
    "        print(\"선수의 등번호를 변경합니다. : From %d to %d\"%\\\n",
    "             (self.back_number, new_number))\n",
    "        self.back_number = new_number"
   ]
  },
  {
   "cell_type": "code",
   "execution_count": 21,
   "id": "8a0813fa-fd53-46c8-a80f-c0927f2d9fcd",
   "metadata": {},
   "outputs": [
    {
     "name": "stdout",
     "output_type": "stream",
     "text": [
      "Hello, My name is Jinhyun. My back number is 10\n"
     ]
    }
   ],
   "source": [
    "jinhyun = SoccerPlayer(\"Jinhyun\", \"MF\", 10)\n",
    "print(jinhyun)"
   ]
  },
  {
   "cell_type": "code",
   "execution_count": 23,
   "id": "2b36bdf1-557a-4e6e-8545-bb17460aecb5",
   "metadata": {},
   "outputs": [
    {
     "name": "stdout",
     "output_type": "stream",
     "text": [
      "현재 선수의 등번호는 : 10\n",
      "선수의 등번호를 변경합니다. : From 10 to 5\n",
      "현재 선수의 등번호는 : 5\n"
     ]
    }
   ],
   "source": [
    "jinhyun = SoccerPlayer(\"Jinhyun\", \"MF\", 10)\n",
    "print(\"현재 선수의 등번호는 :\", jinhyun.back_number)\n",
    "jinhyun.change_back_number(5)\n",
    "print(\"현재 선수의 등번호는 :\", jinhyun.back_number)"
   ]
  },
  {
   "cell_type": "code",
   "execution_count": null,
   "id": "18eff2c1-abf2-41f8-b9f8-246b60552eef",
   "metadata": {},
   "outputs": [],
   "source": []
  },
  {
   "cell_type": "markdown",
   "id": "2dbcd401-dd4e-44dd-8f3f-a625314bc77e",
   "metadata": {},
   "source": [
    "클래스 밖에서도 속성 값을 바꿀 수 있다. but 권장x"
   ]
  },
  {
   "cell_type": "code",
   "execution_count": 24,
   "id": "f56b08d6-6fb0-45d5-8cd8-424fb27d3807",
   "metadata": {},
   "outputs": [
    {
     "name": "stdout",
     "output_type": "stream",
     "text": [
      "Hello, My name is Jinhyun. My back number is 20\n"
     ]
    }
   ],
   "source": [
    "jinhyun.back_number=20\n",
    "print(jinhyun)"
   ]
  },
  {
   "cell_type": "markdown",
   "id": "45cce714-fb2e-4a9e-bd5f-0a241e85a7f9",
   "metadata": {},
   "source": [
    "### 구현 가능한 OOP 예제\n",
    "- Note를 정리하는 프로그램\n",
    "- 사용자는 Note에 뭔가를 적을 수 있다.\n",
    "- Note에는 Content가 있고, 내용을 제거할 수 있다.\n",
    "- 두 개의 노트북을 합쳐 하나로 만들 수 있다.\n",
    "- Note는 Notebook에 삽입된다.\n",
    "- Notebook은 Note가 삽일 될 때 페이지를 생성하며,최고 300페이지까지 저장 가능하다\n",
    "- 300 페이지가 넘으면 더 이상 노트를 삽입하지 못한다."
   ]
  },
  {
   "cell_type": "code",
   "execution_count": 25,
   "id": "b93c384d-0512-47db-bf64-b90e6dca598d",
   "metadata": {},
   "outputs": [],
   "source": [
    "class Note(object):\n",
    "    def __init__(self, content = None):\n",
    "        self.content = content\n",
    "    def write_content(self, content):\n",
    "        self.content = content\n",
    "    def remove_all(self):\n",
    "        self.content = \"\"\n",
    "    def __add__(self, other):\n",
    "        return self.content + other.content\n",
    "    def __str__(self):\n",
    "        return self.content"
   ]
  },
  {
   "cell_type": "code",
   "execution_count": 27,
   "id": "361e46fb-4e03-47b7-93bd-f11247033eb0",
   "metadata": {},
   "outputs": [],
   "source": [
    "class NoteBook(object):\n",
    "    def __init__(self, title):\n",
    "        self.title = title\n",
    "        self.page_number = 1\n",
    "        self.notes = {}\n",
    "    def add_note(self, note, page = 0):\n",
    "        if self.page_number < 300:\n",
    "            if page == 0:\n",
    "                self.notes[self.page_number] = note\n",
    "                self.page_number += 1\n",
    "            else:\n",
    "                self.notes = {page : note}\n",
    "                self.page_number += 1\n",
    "        else:\n",
    "            print(\"Page가 모두 채워졌습니다.\")\n",
    "    def remove_note(self, page_number):\n",
    "        if page_number in self.notes.keys():\n",
    "            return self.notes.pop(page_number)\n",
    "        else:\n",
    "            print(\"해당 페이지는 존재하지 않습니다\")\n",
    "def get_number_of_pages(self):\n",
    "    return len(self.notes.keys())"
   ]
  },
  {
   "cell_type": "markdown",
   "id": "cab074c0-6bd2-4f62-8650-93cb97899c7d",
   "metadata": {},
   "source": [
    "### 상속\n",
    "부모클래스로 부터 속성과 Method를 물려받은 자식 클래스를 생성 하는 것"
   ]
  },
  {
   "cell_type": "code",
   "execution_count": 28,
   "id": "d021781d-2476-4658-b734-6a225efa9d24",
   "metadata": {},
   "outputs": [
    {
     "name": "stdout",
     "output_type": "stream",
     "text": [
      "Sungchul\n"
     ]
    }
   ],
   "source": [
    "class Person(object):\n",
    "    def __init__(self, name, age):\n",
    "        self.name = name\n",
    "        self.age = age\n",
    "        \n",
    "class Korean(Person):\n",
    "    pass\n",
    "\n",
    "first_korean = Korean(\"Sungchul\", 35)\n",
    "print(first_korean.name)"
   ]
  },
  {
   "cell_type": "code",
   "execution_count": 30,
   "id": "3b149787-5ac5-4786-9f22-2bc408f9c310",
   "metadata": {},
   "outputs": [],
   "source": [
    "class Person(object): # 부모 클래스 Person 선언\n",
    "    def __init__(self, name, age, gender):\n",
    "        self.name = name\n",
    "        self.age = age\n",
    "        self.gender = gender\n",
    "    def about_me(self): # Method 선언\n",
    "        print(\"저의 이름은 \", self.name, \"이구요, 제 나이는 \", str(self.age), \"살입니다.\")"
   ]
  },
  {
   "cell_type": "code",
   "execution_count": 35,
   "id": "e322cf30-9ae2-4848-b558-8892259160a3",
   "metadata": {},
   "outputs": [],
   "source": [
    "class Employee(Person): # 부모 클래스 Person으로 부터 상속\n",
    "    def __init__(self, name, age, gender, salary, hire_date):\n",
    "        super().__init__(name, age, gender) # 부모객체 사용\n",
    "        self.salary = salary\n",
    "        self.hire_date = hire_date # 속성값 추가\n",
    "    def do_work(self): # 새로운 메서드 추가\n",
    "        print(\"열심히 일을 합니다.\")\n",
    "    def about_me(self): # 부모 클래스 함수 재정의\n",
    "        super().about_me() # 부모 클래스 함수 사용\n",
    "        print(\"제 급여는 \", self.salary, \"원 이구요, 제 입사일은 \", self.hire_date, \" 입니다.\")"
   ]
  },
  {
   "cell_type": "code",
   "execution_count": 36,
   "id": "d13ff2f5-4e7a-454e-8a9b-3c862351708d",
   "metadata": {},
   "outputs": [
    {
     "name": "stdout",
     "output_type": "stream",
     "text": [
      "저의 이름은  Daeho 이구요, 제 나이는  34 살입니다.\n",
      "제 급여는  3000000 원 이구요, 제 입사일은  2012/03/01  입니다.\n"
     ]
    }
   ],
   "source": [
    "myPerson = Person(\"John\", 34, \"Male\")\n",
    "myEmployee = Employee(\"Daeho\", 34, \"Male\", \"3000000\", \"2012/03/01\")\n",
    "\n",
    "myEmployee.about_me()"
   ]
  },
  {
   "cell_type": "code",
   "execution_count": null,
   "id": "328f6e9b-0aaa-4c1a-883a-72c6a475eb8d",
   "metadata": {},
   "outputs": [],
   "source": []
  },
  {
   "cell_type": "markdown",
   "id": "00db35f9-6161-4687-a9a5-b740978a30a2",
   "metadata": {},
   "source": [
    "### Polymorphism(다형성)\n",
    "- 같은 이름 메소드의 내부 로직을 다르게 작성\n",
    "- Dynamic Typing 특성으로 인해 파이썬에서는 같은 부모클래스의 상속에서 주로 발생함\n",
    "- 중요한 OOP의 개념 그러나 너무 깊이 알 필요X"
   ]
  },
  {
   "cell_type": "code",
   "execution_count": 38,
   "id": "6db58e33-3117-4f6d-b193-bc0eea35eac5",
   "metadata": {},
   "outputs": [
    {
     "name": "stdout",
     "output_type": "stream",
     "text": [
      "Missy: Meow!\n",
      "Mr. Mistoffelees: Meow!\n",
      "Lassie: Woof! Woof!\n"
     ]
    }
   ],
   "source": [
    "class Animal:\n",
    "    def __init__(self, name): # Constructor of the class\n",
    "        self.name = name\n",
    "    def talk(self): # Abstract method, defined by convention only\n",
    "        raise NotImplementedError(\"Subclass must implement abstract method\")\n",
    "        \n",
    "class Cat(Animal):\n",
    "    def talk(self):\n",
    "        return 'Meow!'\n",
    "\n",
    "class Dog(Animal):\n",
    "    def talk(self):\n",
    "        return 'Woof! Woof!'\n",
    "\n",
    "animals = [Cat('Missy'),\n",
    "           Cat('Mr. Mistoffelees'),\n",
    "           Dog('Lassie')]\n",
    "\n",
    "for animal in animals:\n",
    "    print(animal.name + ': ' + animal.talk())"
   ]
  },
  {
   "cell_type": "code",
   "execution_count": null,
   "id": "af790b56-c3bb-4193-b8d3-96feb0e821b0",
   "metadata": {},
   "outputs": [],
   "source": []
  },
  {
   "cell_type": "markdown",
   "id": "b89f6ac6-dd9d-42a2-be1c-c5092cd9b0de",
   "metadata": {},
   "source": [
    "### Visibility(가시성)\n",
    "- 객체의 정보를 볼 수 있는 레벨을 조절하는 것\n",
    "- 누구나 객체 안에 모든 변수를 볼 필요가 없음\n",
    "    1) 객체를 사용하는 사용자가 임의로 정보 수정\n",
    "    2) 필요 없는 정보에는 접근 할 필요가 없음\n",
    "    3) 만약 제품으로 판매한다면? 소스의 보호\n",
    "    \n",
    "### Encapsulation(가시성의 다른 말)\n",
    "- 캡슐화 또는 정보 은닉 (Information Hiding)\n",
    "- Class를 설계할 때, 클래스 간 간섭/정보공유의 최소화\n",
    "- 심판 클래스가 축구선수 클래스 가족 정보를 알아야 하나?\n",
    "- 캡슐을 던지듯, 인터페이스만 알아서 써야함"
   ]
  },
  {
   "cell_type": "markdown",
   "id": "fe2564b4-80ab-4c91-8bc1-3905abe52bfd",
   "metadata": {},
   "source": [
    "#### visibility Example\n",
    "- Product 객체를 Inventory 객체에 추가\n",
    "- Inventory에는 오직 Product 객체만 들어감\n",
    "- Inventory에 Product가 몇 개인지 확인이 필요\n",
    "- Inventory에 Product items는 직접 접근이 불가"
   ]
  },
  {
   "attachments": {
    "653f2bde-317d-4749-aeae-f815083c1b3d.png": {
     "image/png": "[encoded data removed]"
    }
   },
   "cell_type": "markdown",
   "id": "2807b94a-eaf3-49c9-a4c1-85f74bc8bce7",
   "metadata": {},
   "source": [
    "![image.png](attachment:653f2bde-317d-4749-aeae-f815083c1b3d.png)"
   ]
  },
  {
   "cell_type": "code",
   "execution_count": 48,
   "id": "adbaeb9a-af34-4488-ad86-6b31c26a81d0",
   "metadata": {},
   "outputs": [],
   "source": [
    "class Product(object):\n",
    "    pass"
   ]
  },
  {
   "cell_type": "code",
   "execution_count": 75,
   "id": "bc02a941-d631-493e-8c91-063cee904e5e",
   "metadata": {},
   "outputs": [],
   "source": [
    "class Inventory(object):\n",
    "    def __init__(self):\n",
    "        self.__items = []\n",
    "    def add_new_item(self, product):\n",
    "        if type(product) == Product:\n",
    "            self.__items.append(product)\n",
    "            print(\"new item added\")\n",
    "        else:\n",
    "            raise ValueError(\"Invalid Item\")\n",
    "    def get_number_of_items(self):\n",
    "        return len(self.__items)"
   ]
  },
  {
   "cell_type": "code",
   "execution_count": 64,
   "id": "799b803f-5f4c-4ae7-a2f6-4398621bdc62",
   "metadata": {},
   "outputs": [
    {
     "name": "stdout",
     "output_type": "stream",
     "text": [
      "new item added\n",
      "new item added\n",
      "2\n"
     ]
    }
   ],
   "source": [
    "my_inventory = Inventory()\n",
    "my_inventory.add_new_item(Product())\n",
    "my_inventory.add_new_item(Product())\n",
    "print(my_inventory.get_number_of_items())"
   ]
  },
  {
   "cell_type": "code",
   "execution_count": 65,
   "id": "26d5fb6b-0187-4f23-a09c-e4ea677d0cd9",
   "metadata": {},
   "outputs": [
    {
     "ename": "AttributeError",
     "evalue": "'Inventory' object has no attribute '__items'",
     "output_type": "error",
     "traceback": [
      "\u001b[1;31m---------------------------------------------------------------------------\u001b[0m",
      "\u001b[1;31mAttributeError\u001b[0m                            Traceback (most recent call last)",
      "\u001b[1;32m<ipython-input-65-35fd2fe5d268>\u001b[0m in \u001b[0;36m<module>\u001b[1;34m\u001b[0m\n\u001b[1;32m----> 1\u001b[1;33m \u001b[0mprint\u001b[0m\u001b[1;33m(\u001b[0m\u001b[0mmy_inventory\u001b[0m\u001b[1;33m.\u001b[0m\u001b[0m__items\u001b[0m\u001b[1;33m)\u001b[0m\u001b[1;33m\u001b[0m\u001b[1;33m\u001b[0m\u001b[0m\n\u001b[0m\u001b[0;32m      2\u001b[0m \u001b[0mmy_inventory\u001b[0m\u001b[1;33m.\u001b[0m\u001b[0madd_new_item\u001b[0m\u001b[1;33m(\u001b[0m\u001b[0mobject\u001b[0m\u001b[1;33m)\u001b[0m\u001b[1;33m\u001b[0m\u001b[1;33m\u001b[0m\u001b[0m\n",
      "\u001b[1;31mAttributeError\u001b[0m: 'Inventory' object has no attribute '__items'"
     ]
    }
   ],
   "source": [
    "print(my_inventory.__items)\n",
    "my_inventory.add_new_item(object)"
   ]
  },
  {
   "cell_type": "code",
   "execution_count": null,
   "id": "b135b3e3-9e22-434a-bf79-52640a3897c2",
   "metadata": {},
   "outputs": [],
   "source": [
    "# __item을 통해 item에 대한 접근을 불가능하게 함(private 변수로 선언. 타객체가 접근 x)"
   ]
  },
  {
   "cell_type": "markdown",
   "id": "d2954621-4977-4cde-b42c-6a33c54bbf79",
   "metadata": {},
   "source": [
    "decorator를 사용하여 item에 대한 접근을 가능하게 할 수 있음"
   ]
  },
  {
   "cell_type": "code",
   "execution_count": 85,
   "id": "8ed2d5af-cd44-4cad-a6d7-79084490681f",
   "metadata": {},
   "outputs": [],
   "source": [
    "class Inventory(object):\n",
    "    def __init__(self):\n",
    "        self.__items = []\n",
    "        \n",
    "    @property\n",
    "    def items(self):\n",
    "        return self.__items    \n",
    "    \n",
    "    def add_new_item(self, product):\n",
    "        if type(product) == Product:\n",
    "            self.__items.append(product)\n",
    "            print(\"new item added\")\n",
    "        else:\n",
    "            raise ValueError(\"Invalid Item\")\n",
    "            \n",
    "    def get_number_of_items(self):\n",
    "        return len(self.__items)"
   ]
  },
  {
   "cell_type": "code",
   "execution_count": 93,
   "id": "a7372b97-db6c-45d3-b508-c568d0cd6d71",
   "metadata": {},
   "outputs": [
    {
     "name": "stdout",
     "output_type": "stream",
     "text": [
      "new item added\n",
      "new item added\n",
      "2\n"
     ]
    }
   ],
   "source": [
    "my_inventory = Inventory()\n",
    "my_inventory.add_new_item(Product())\n",
    "my_inventory.add_new_item(Product())\n",
    "print(my_inventory.get_number_of_items())"
   ]
  },
  {
   "cell_type": "code",
   "execution_count": 94,
   "id": "c9e37c66-3ed4-4fe1-9fde-3dff71930432",
   "metadata": {},
   "outputs": [
    {
     "data": {
      "text/plain": [
       "[<__main__.Product at 0x16dd24e9820>, <__main__.Product at 0x16dd24e95b0>]"
      ]
     },
     "execution_count": 94,
     "metadata": {},
     "output_type": "execute_result"
    }
   ],
   "source": [
    "my_inventory.items"
   ]
  },
  {
   "cell_type": "code",
   "execution_count": 95,
   "id": "59e18e2a-9f13-44bb-84f4-1fc9d46d8519",
   "metadata": {},
   "outputs": [
    {
     "data": {
      "text/plain": [
       "[<__main__.Product at 0x16dd24e9820>, <__main__.Product at 0x16dd24e95b0>, 'a']"
      ]
     },
     "execution_count": 95,
     "metadata": {},
     "output_type": "execute_result"
    }
   ],
   "source": [
    "# Product 객체 말고 다른 객체들도 넣어줄 수 있게 됨\n",
    "my_inventory.items.append(\"a\")\n",
    "my_inventory.items\n",
    "\n",
    "# 그런데 이런 방식말고 카피를 해준다음 넣어주는게 일반적!"
   ]
  },
  {
   "cell_type": "code",
   "execution_count": null,
   "id": "34887898-de94-42a5-8202-8b2b76a5d746",
   "metadata": {},
   "outputs": [],
   "source": []
  },
  {
   "cell_type": "markdown",
   "id": "0c6c21c3-be50-47fe-97f4-d0e330c4012e",
   "metadata": {},
   "source": [
    "### Decorator"
   ]
  },
  {
   "cell_type": "markdown",
   "id": "18ba8df8-b0ef-4bb5-bdbf-8b9a091fe076",
   "metadata": {},
   "source": [
    "#### First-class objects\n",
    "- 일등함수 또는 일급 객체\n",
    "- 변수나 데이터 구조에 할당이 가능한 객체\n",
    "- 파라메터로 전달이 가능 + 리턴 값으로 사용\n",
    "\n",
    "__파이썬의 함수는 일급함수 !!__\n",
    "\n",
    "ex) map함수에서 파라미터로 함수가 사용되는 것"
   ]
  },
  {
   "cell_type": "code",
   "execution_count": 96,
   "id": "2e4309a4-c877-48f7-8d85-ebea1a4150aa",
   "metadata": {},
   "outputs": [
    {
     "data": {
      "text/plain": [
       "25"
      ]
     },
     "execution_count": 96,
     "metadata": {},
     "output_type": "execute_result"
    }
   ],
   "source": [
    "# 함수를 변수로 사용\n",
    "def square(x):\n",
    "    return x * x\n",
    "\n",
    "f = square\n",
    "f(5)"
   ]
  },
  {
   "cell_type": "code",
   "execution_count": 97,
   "id": "8f9b9e94-9cfe-4ac0-9f36-b7fb9dcddf71",
   "metadata": {},
   "outputs": [],
   "source": [
    "# 함수를 파라미터로 사용\n",
    "def square(x):\n",
    "    return x * x\n",
    "def cube(x):\n",
    "    return x*x*x\n",
    "def formula(method, argument_list):\n",
    "    return [method(value) for value in argument_list]"
   ]
  },
  {
   "cell_type": "code",
   "execution_count": 99,
   "id": "65bc4067-ca78-47fb-8517-8c7daea1b3c0",
   "metadata": {},
   "outputs": [
    {
     "name": "stdout",
     "output_type": "stream",
     "text": [
      "[1, 4, 9, 16, 25]\n",
      "[1, 8, 27, 64, 125]\n"
     ]
    }
   ],
   "source": [
    "print(formula(square,[1,2,3,4,5]))\n",
    "print(formula(cube, [1,2,3,4,5]))"
   ]
  },
  {
   "cell_type": "markdown",
   "id": "6125e93d-3508-440b-91bb-42203d7a1d6c",
   "metadata": {},
   "source": [
    "- 함수 내에 또 다른 함수가 존재(많이 쓰임)"
   ]
  },
  {
   "cell_type": "code",
   "execution_count": 100,
   "id": "868f2ff8-59d8-46c5-ad48-b2e3e6517d61",
   "metadata": {},
   "outputs": [],
   "source": [
    "def print_msg(msg):\n",
    "    def printer():\n",
    "        print(msg)\n",
    "    printer()"
   ]
  },
  {
   "cell_type": "code",
   "execution_count": 101,
   "id": "228ef58e-d338-49a0-9bf2-6fb85eeadb22",
   "metadata": {},
   "outputs": [
    {
     "name": "stdout",
     "output_type": "stream",
     "text": [
      "Hello, Python\n"
     ]
    }
   ],
   "source": [
    "print_msg(\"Hello, Python\")"
   ]
  },
  {
   "cell_type": "markdown",
   "id": "bf6d61ea-0e67-4d7c-8daa-e9c14a7c5305",
   "metadata": {},
   "source": [
    "- closures : inner function을 return 값으로 변환"
   ]
  },
  {
   "cell_type": "code",
   "execution_count": 107,
   "id": "15159a66-20eb-44ca-ab4f-85e7efe62a2c",
   "metadata": {},
   "outputs": [],
   "source": [
    "def print_msg(msg):\n",
    "    def printer():\n",
    "        print(msg)\n",
    "    return printer"
   ]
  },
  {
   "cell_type": "code",
   "execution_count": 108,
   "id": "2c0c1790-59ca-4466-a5cb-16f9cf726219",
   "metadata": {},
   "outputs": [
    {
     "name": "stdout",
     "output_type": "stream",
     "text": [
      "Hello, Python\n"
     ]
    }
   ],
   "source": [
    "another = print_msg(\"Hello, Python\")\n",
    "another()"
   ]
  },
  {
   "cell_type": "code",
   "execution_count": 110,
   "id": "e1a084ac-41f5-456a-98e7-6db11a287a8c",
   "metadata": {},
   "outputs": [
    {
     "name": "stdout",
     "output_type": "stream",
     "text": [
      "Hello, Python\n"
     ]
    }
   ],
   "source": [
    "another() # printer 함수를 리턴받기 때문에 계속 메세지를 출력가능"
   ]
  },
  {
   "cell_type": "code",
   "execution_count": 111,
   "id": "11401aa2-876a-408d-a652-dd5008898be5",
   "metadata": {},
   "outputs": [],
   "source": [
    "def tag_func(tag, text):\n",
    "    text = text\n",
    "    tag = tag \n",
    "    \n",
    "    def inner_func():\n",
    "        return '<{0}>{1}<{0}>'.format(tag, text) \n",
    "    \n",
    "    return inner_func"
   ]
  },
  {
   "cell_type": "code",
   "execution_count": 112,
   "id": "5320fad2-869e-4dff-b5c4-b13e06ac35ba",
   "metadata": {},
   "outputs": [],
   "source": [
    "h1_func = tag_func('title', \"This is Python Class\") \n",
    "p_func = tag_func('p', \"Data Academy\") "
   ]
  },
  {
   "cell_type": "code",
   "execution_count": 115,
   "id": "bb579fe9-663d-498c-b2e3-67ad6089a8a5",
   "metadata": {},
   "outputs": [
    {
     "data": {
      "text/plain": [
       "'<title>This is Python Class<title>'"
      ]
     },
     "execution_count": 115,
     "metadata": {},
     "output_type": "execute_result"
    }
   ],
   "source": [
    "h1_func()"
   ]
  },
  {
   "cell_type": "code",
   "execution_count": 116,
   "id": "ead74100-cafa-4179-8350-c2f2e4c16350",
   "metadata": {},
   "outputs": [
    {
     "data": {
      "text/plain": [
       "'<p>Data Academy<p>'"
      ]
     },
     "execution_count": 116,
     "metadata": {},
     "output_type": "execute_result"
    }
   ],
   "source": [
    "p_func()"
   ]
  },
  {
   "cell_type": "markdown",
   "id": "ff0ffab6-841c-4f5b-a783-e6dcff020c39",
   "metadata": {},
   "source": [
    "### decorator"
   ]
  },
  {
   "cell_type": "code",
   "execution_count": 118,
   "id": "bb6e22d0-f162-4d5d-a270-2602bb392ce4",
   "metadata": {},
   "outputs": [
    {
     "name": "stdout",
     "output_type": "stream",
     "text": [
      "******************************\n",
      "Hello\n",
      "******************************\n"
     ]
    }
   ],
   "source": [
    "def star(func):\n",
    "    def inner(*args, **kwargs):\n",
    "        print(\"*\" * 30)\n",
    "        func(*args, **kwargs)\n",
    "        print(\"*\" * 30)\n",
    "    return inner\n",
    "\n",
    "@star\n",
    "def printer(msg):\n",
    "    print(msg)\n",
    "printer(\"Hello\")"
   ]
  },
  {
   "cell_type": "code",
   "execution_count": null,
   "id": "15135ed9-9f2e-4e25-ba84-137fa0dfcdc1",
   "metadata": {},
   "outputs": [],
   "source": []
  },
  {
   "cell_type": "code",
   "execution_count": null,
   "id": "0f8a2fb9-afb0-4a49-af8e-1f78135ba39e",
   "metadata": {},
   "outputs": [],
   "source": []
  },
  {
   "cell_type": "code",
   "execution_count": null,
   "id": "d4b635f2-09bb-4098-ab32-a47149f19f5d",
   "metadata": {},
   "outputs": [],
   "source": []
  }
 ],
 "metadata": {
  "kernelspec": {
   "display_name": "Python 3",
   "language": "python",
   "name": "python3"
  },
  "language_info": {
   "codemirror_mode": {
    "name": "ipython",
    "version": 3
   },
   "file_extension": ".py",
   "mimetype": "text/x-python",
   "name": "python",
   "nbconvert_exporter": "python",
   "pygments_lexer": "ipython3",
   "version": "3.8.8"
  }
 },
 "nbformat": 4,
 "nbformat_minor": 5
}
