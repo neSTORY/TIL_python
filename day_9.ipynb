{
 "cells": [
  {
   "cell_type": "code",
   "execution_count": 1,
   "id": "762d401d",
   "metadata": {},
   "outputs": [],
   "source": [
    "# 클래스로부터 객체는 생성됨\n",
    "# ex) 게임 캐릭터\n",
    "# 인간 클래스 -> 캐릭터 생성(아이디 : 홍길동, 객체)\n",
    "# 속성(특성) : 체력, 마나, 공격력, 방어력...\n",
    "# 메서드(동작, 함수) : 먹는다, 달린다, 걷는다...\n",
    "#                      스킬 사용(게임 캐릭터)\n",
    "        \n",
    "#  절차적 프로그래밍(꼰대 프로그래밍): 유지보수가 힘듦\n",
    "        \n",
    "# 객체지향 프로그래밍 : 해결하려는 문제를 잘게 나누어서 객체를생성,\n",
    "#     객체 간의 통신을 통해 주어진 문제를 해결\n",
    "    \n",
    "# ex) 게임 -> 잘게 나누면 -> 캐릭터, npc, 몬스터, 아이템... (객체)"
   ]
  },
  {
   "cell_type": "code",
   "execution_count": 2,
   "id": "dd79f668",
   "metadata": {},
   "outputs": [],
   "source": [
    "# class 클래스이름:\n",
    "#     def 메서드(함수)이름(self):\n",
    "#         메서드가 수행할 작업의 코드(동작)"
   ]
  },
  {
   "cell_type": "code",
   "execution_count": 42,
   "id": "f8d6d881",
   "metadata": {},
   "outputs": [],
   "source": [
    "# 게이머 클래스 정의\n",
    "# self : 클래스로부터 생성된 객체 자기 자신, this와 같음\n",
    "class User:\n",
    "    def move(self):\n",
    "        print(\"이동합니다\")\n",
    "    def hunt(self):\n",
    "        print(self.msg)\n",
    "        self.move()\n",
    "        print(\"사냥합니다\")\n",
    "    def __init__(self): # 이니셜라이즈. 객체 생성했을때 자동으로 호출되는 초기화 메서드\n",
    "        print(\"init 함수가 호출됐습니다\")\n",
    "        self.hp=100 # 게임캐릭터의 초기 체력이 100\n",
    "        self.mp=50 # 게임캐릭터의 초기 마력은 50\n",
    "        # self.속성명 = 속성값\n",
    "        self.msg = \"캐릭터를 생성하였습니다\""
   ]
  },
  {
   "cell_type": "code",
   "execution_count": 43,
   "id": "7a4a2896",
   "metadata": {},
   "outputs": [
    {
     "name": "stdout",
     "output_type": "stream",
     "text": [
      "init 함수가 호출됐습니다\n"
     ]
    }
   ],
   "source": [
    "# 게이머 객체 생성\n",
    "\n",
    "hong = User()"
   ]
  },
  {
   "cell_type": "code",
   "execution_count": 41,
   "id": "8fa1c375",
   "metadata": {},
   "outputs": [
    {
     "name": "stdout",
     "output_type": "stream",
     "text": [
      "캐릭터를 생성하였습니다\n",
      "이동합니다\n",
      "사냥합니다\n",
      "True\n",
      "False\n"
     ]
    }
   ],
   "source": [
    "# 메서드 수행\n",
    "# 객체명.메서드명()\n",
    "\n",
    "hong.hunt()\n",
    "\n",
    "print(isinstance(hong, User))\n",
    "# hong은 User 클래스의 인스턴스(객체)입니까?\n",
    "print(isinstance(hong, User2))"
   ]
  },
  {
   "cell_type": "code",
   "execution_count": 37,
   "id": "ae98e041",
   "metadata": {},
   "outputs": [],
   "source": [
    "class User2:\n",
    "    pass"
   ]
  },
  {
   "cell_type": "code",
   "execution_count": null,
   "id": "022393bd",
   "metadata": {},
   "outputs": [],
   "source": []
  },
  {
   "cell_type": "code",
   "execution_count": 44,
   "id": "ad88a678",
   "metadata": {},
   "outputs": [],
   "source": [
    "# 정규표현식(정규식, 바디 랭귀지랑 비슷함) : regex\n",
    "\n",
    "# 수집 문자 데이터 -> 문자열 전처리(preprocessing, ... , 정규식 작업)"
   ]
  },
  {
   "cell_type": "code",
   "execution_count": 52,
   "id": "32085266",
   "metadata": {},
   "outputs": [
    {
     "data": {
      "text/plain": [
       "True"
      ]
     },
     "execution_count": 52,
     "metadata": {},
     "output_type": "execute_result"
    }
   ],
   "source": [
    "# data = \"850101-1234567\"\n",
    "# =>\n",
    "# 850101-*******\"\n",
    "\n",
    "data = \"850101-1234567\"\n",
    "\n",
    "data_list = data.split(\"-\")\n",
    "\n",
    "data_list[1].isdigit()\n",
    "# 문자열.isdigit() => 문자열안에 숫자만 있는지 판별해주는 함수\n",
    "\n",
    "# data에 저장된 주민번호가 정상적인지 여부를 확인하는 코드 완성\n",
    "# 길이 = 14, \"-\" 기호로 분리된 각각의 데이터는 모두 숫자로만 구성"
   ]
  },
  {
   "cell_type": "code",
   "execution_count": 83,
   "id": "37476b88",
   "metadata": {},
   "outputs": [
    {
     "name": "stdout",
     "output_type": "stream",
     "text": [
      "['850101', '1234567']\n",
      "정상\n",
      "['850101', '123456가']\n",
      "문자가 있습니다.\n",
      "['850101', '12345679']\n",
      "14자리를 입력해 주세요.\n"
     ]
    }
   ],
   "source": [
    "data = \"850101-1234567\"\n",
    "data2 = \"850101-123456가\"\n",
    "data3 = \"850101-12345679\"\n",
    "\n",
    "def checkPin(d):\n",
    "    check =0\n",
    "    if len(d) == 14:\n",
    "        d_list = d.split(\"-\")\n",
    "        print(d_list)\n",
    "        for j in d_list:\n",
    "            if j.isdigit():\n",
    "                check = 1\n",
    "            else:\n",
    "                check = 0\n",
    "                \n",
    "        if check:\n",
    "            print(\"정상\")\n",
    "            \n",
    "        else:\n",
    "            print(\"문자가 있습니다.\")\n",
    "    else:\n",
    "        print(d.split(\"-\"))\n",
    "        print(\"14자리를 입력해 주세요.\")\n",
    "checkPin(data)\n",
    "checkPin(data2)\n",
    "checkPin(data3)"
   ]
  },
  {
   "cell_type": "code",
   "execution_count": 87,
   "id": "af457180",
   "metadata": {},
   "outputs": [
    {
     "data": {
      "text/plain": [
       "'850101-*******'"
      ]
     },
     "execution_count": 87,
     "metadata": {},
     "output_type": "execute_result"
    }
   ],
   "source": [
    "data = \"850101-1234567\"\n",
    "data[7:]\n",
    "data[:6]+\"-\"+\"*******\""
   ]
  },
  {
   "cell_type": "code",
   "execution_count": 88,
   "id": "ab65b089",
   "metadata": {},
   "outputs": [],
   "source": [
    "# 정규표현식은 문자열의 패턴에 대한 표현식을 작성"
   ]
  },
  {
   "cell_type": "code",
   "execution_count": 93,
   "id": "26f05ae9",
   "metadata": {},
   "outputs": [
    {
     "data": {
      "text/plain": [
       "'850101-*******'"
      ]
     },
     "execution_count": 93,
     "metadata": {},
     "output_type": "execute_result"
    }
   ],
   "source": [
    "import re\n",
    "data = \"850101-1234567\"\n",
    "pat = re.compile(\"(\\d{6})-\\d{7}\")\n",
    "pat.sub(\"\\g<1>-*******\",data)\n",
    "\n"
   ]
  },
  {
   "cell_type": "code",
   "execution_count": 98,
   "id": "8f649307",
   "metadata": {},
   "outputs": [],
   "source": [
    "# re.match(\"패턴\" , \"문자열\") # 문자열에 패턴이 있는지 확인\n",
    "\n",
    "re.match(\"hi\", \"hi hello world\") # \"hi hello world\"에 \"hi\"가 있는지 판단\n",
    "# 패턴이 문자열에 있는 경우에는 매치된 패턴과 위치가 출력\n",
    "\n",
    "# match 함수는 문자열의 최 좌측부터 시작하여 패턴이 있는지 확인.\n",
    "# 처음부터 패턴이 문자열에 없다면 종료\n",
    "re.match(\"hello\", \"hi hello world\") # \"hi hello world\" 에 \"hello\"가 있는지 판단"
   ]
  },
  {
   "cell_type": "code",
   "execution_count": 100,
   "id": "2fa222c2",
   "metadata": {},
   "outputs": [
    {
     "data": {
      "text/plain": [
       "<re.Match object; span=(0, 5), match='hello'>"
      ]
     },
     "execution_count": 100,
     "metadata": {},
     "output_type": "execute_result"
    }
   ],
   "source": [
    "# 패턴이 문자열에 없다면 곧바로 종료\n",
    "# 패턴이 문자열에 있다면 매치된 문자열이 출력\n",
    "re.match(\"hello\", \"hello world\")"
   ]
  },
  {
   "cell_type": "code",
   "execution_count": 101,
   "id": "7112f775",
   "metadata": {},
   "outputs": [],
   "source": [
    "# <re.Match object; span=(0, 5), match='hello'>\n",
    "# Match 객체; span(위치) = (0,5) 5는 포함안됨, match =\"hello\" :\"hello\"가 매치됨"
   ]
  },
  {
   "cell_type": "code",
   "execution_count": 104,
   "id": "bdc9d6f6",
   "metadata": {},
   "outputs": [
    {
     "data": {
      "text/plain": [
       "<re.Match object; span=(0, 5), match='hello'>"
      ]
     },
     "execution_count": 104,
     "metadata": {},
     "output_type": "execute_result"
    }
   ],
   "source": [
    "re.match(\"hello\", \"hellohello world\") # 처음에 매치되는 곳의 범위(span)만 출력되고 뒤에 매치된건 출력 안함!"
   ]
  },
  {
   "cell_type": "code",
   "execution_count": 107,
   "id": "9d9588a8",
   "metadata": {},
   "outputs": [
    {
     "name": "stdout",
     "output_type": "stream",
     "text": [
      "None\n",
      "None\n",
      "<re.Match object; span=(0, 5), match='hello'>\n",
      "None\n"
     ]
    }
   ],
   "source": [
    "print(re.match(\"hello\", \"hehello world\"))\n",
    "print(re.match(\"hello\", \"1hellohello world\"))\n",
    "print(re.match(\"hello\", \"hellohello world\"))\n",
    "print(re.match(\"hello!\", \"hello world\"))"
   ]
  },
  {
   "cell_type": "code",
   "execution_count": 108,
   "id": "a82ed026",
   "metadata": {},
   "outputs": [],
   "source": [
    "# 정규표현식 메타문자()\n",
    "\n",
    "메타 데이터 : 데이터를 (설명)하는 데이터\n",
    "\n",
    "메타 문자 : 기호가 갖는 고유의 의미가 아닌, 정규표현식에서 식을 정의하는데\n",
    "    사용되는 특별한 의미의 문자(기호)\n",
    "\n",
    "메타 문자 종류: () [] {} \\ | ? + * ^ $... "
   ]
  },
  {
   "cell_type": "code",
   "execution_count": 109,
   "id": "4ec66831",
   "metadata": {},
   "outputs": [
    {
     "data": {
      "text/plain": [
       "'\\n# 1. [] : 모든 문자가 대괄호 안에 올 수 있음\\nex) [abcde] : a,b,c,d,e 중에서 한개의 문자와 매치\\n\\n\\n\\n\\n\\n'"
      ]
     },
     "execution_count": 109,
     "metadata": {},
     "output_type": "execute_result"
    }
   ],
   "source": [
    "'''\n",
    "# 1. [] : 모든 문자가 대괄호 안에 올 수 있음\n",
    "ex) [abcde] : a,b,c,d,e 중에서 한개의 문자와 매치\n",
    "\n",
    "\n",
    "\n",
    "\n",
    "\n",
    "'''\n"
   ]
  },
  {
   "cell_type": "code",
   "execution_count": 2,
   "id": "ca79b466",
   "metadata": {},
   "outputs": [
    {
     "data": {
      "text/plain": [
       "<re.Match object; span=(0, 1), match=' '>"
      ]
     },
     "execution_count": 2,
     "metadata": {},
     "output_type": "execute_result"
    }
   ],
   "source": [
    "import re\n",
    "re.match(\"[ ]\",\" a\")"
   ]
  },
  {
   "cell_type": "code",
   "execution_count": 122,
   "id": "cc14a962",
   "metadata": {},
   "outputs": [
    {
     "name": "stdout",
     "output_type": "stream",
     "text": [
      "<re.Match object; span=(0, 1), match='a'>\n",
      "<re.Match object; span=(0, 1), match='e'>\n",
      "<re.Match object; span=(0, 1), match='a'>\n",
      "<re.Match object; span=(0, 1), match='a'>\n",
      "<re.Match object; span=(0, 4), match='abcd'>\n",
      "None\n",
      "<re.Match object; span=(0, 2), match='ab'>\n"
     ]
    }
   ],
   "source": [
    "print(re.match(\"[abcde]\",\"a\"))\n",
    "print(re.match(\"[abcde]\",\"e\"))\n",
    "print(re.match(\"[abcde]\",\"ab\")) # ab중 a만 보고 바로 매치 결과를 리턴해줌\n",
    "print(re.match(\"[bacde]\",\"abcd\")) # 대괄호가 있으면 문자안의 순서는 상관없음\n",
    "# 아까 hello는 대괄호가 없어서 순서를 신경썻음\n",
    "\n",
    "print(re.match(\"[abcde]+\",\"abcd\")) # +는 한 문자 이상과 매치되는지 검사\n",
    "print(re.match(\"[abcde]+\",\"xabcd\"))\n",
    "print(re.match(\"[abcde]+\",\"abfcd\"))"
   ]
  },
  {
   "cell_type": "code",
   "execution_count": 129,
   "id": "68c50816",
   "metadata": {},
   "outputs": [
    {
     "name": "stdout",
     "output_type": "stream",
     "text": [
      "<re.Match object; span=(0, 3), match='all'>\n",
      "<re.Match object; span=(0, 4), match='1203'>\n",
      "<re.Match object; span=(0, 6), match='120348'>\n",
      "<re.Match object; span=(0, 5), match='HELLO'>\n",
      "<re.Match object; span=(0, 11), match='Hello World'>\n"
     ]
    }
   ],
   "source": [
    "print(re.match(\"[a-z]+\",\"all\")) # '-' 하이픈 기호로 범위를 지정해줄 수 있음\n",
    "print(re.match(\"[10832]+\",\"120348\"))\n",
    "print(re.match(\"[0-9]+\",\"120348\"))\n",
    "print(re.match(\"[A-Z]+\",\"HELLO WORLD\")) # 공백문자도 넣어주면 모두 표기됨\n",
    "print(re.match(\"[A-Za-z ]+\",\"Hello World\"))"
   ]
  },
  {
   "cell_type": "code",
   "execution_count": 140,
   "id": "9e0a38f4",
   "metadata": {},
   "outputs": [
    {
     "name": "stdout",
     "output_type": "stream",
     "text": [
      "<re.Match object; span=(0, 1), match='가'>\n",
      "<re.Match object; span=(0, 5), match='가다나가다'>\n",
      "<re.Match object; span=(0, 12), match='ㅎㅎㅎㅋㅋ가다나가다라다'>\n"
     ]
    }
   ],
   "source": [
    "print(re.match(\"[가나다]\",\"가다나가다라다\"))\n",
    "print(re.match(\"[가나다]+\",\"가다나가다라다\"))\n",
    "print(re.match(\"[가-힣ㄱ-ㅎ]+\",\"ㅎㅎㅎㅋㅋ가다나가다라다\")) # 한글 전체 문자 나타내기 # ㄱ-힣 으로 표기해도 가능"
   ]
  },
  {
   "cell_type": "code",
   "execution_count": 141,
   "id": "60e66df1",
   "metadata": {},
   "outputs": [
    {
     "name": "stdout",
     "output_type": "stream",
     "text": [
      "<re.Match object; span=(0, 13), match='&^%%@^&#&abcd'>\n",
      "<re.Match object; span=(0, 9), match='&^%%@^&#&'>\n"
     ]
    }
   ],
   "source": [
    "print(re.match(\"[^0-9]+\",\"&^%%@^&#&abcd1234\")) # ^는 그걸 제외한 나머지의 범위\n",
    "\n",
    "# 특수문자만 뽑고싶다면\n",
    "print(re.match(\"[^0-9a-zA-Zㄱ-힣]+\",\"&^%%@^&#&ab가나다ABcd1234\"))"
   ]
  },
  {
   "cell_type": "code",
   "execution_count": null,
   "id": "f088be86",
   "metadata": {},
   "outputs": [],
   "source": [
    "[a-z]\n",
    "[A-Z]\n",
    "[a-zA-Z]\n",
    "[0-9] ==\\d\n",
    "[^0-9] == \\D 숫자를 제외한 모든 문자\n",
    "[0-9A-Za-z] == \\w\n",
    "[^0-9A-Za-z] == \\W\n",
    "[ \\t\\n\\r] == \\s\n",
    "[^ \\t\\n\\r] ==\\S"
   ]
  },
  {
   "cell_type": "code",
   "execution_count": null,
   "id": "fa7749b8",
   "metadata": {},
   "outputs": [],
   "source": []
  },
  {
   "cell_type": "code",
   "execution_count": 147,
   "id": "a791315d",
   "metadata": {},
   "outputs": [
    {
     "name": "stdout",
     "output_type": "stream",
     "text": [
      "<re.Match object; span=(0, 5), match='hello'>\n",
      "None\n"
     ]
    }
   ],
   "source": [
    "print(re.match(\"hello\", \"hello world\"))\n",
    "print(re.match(\"hello\",\"world hello world\"))"
   ]
  },
  {
   "cell_type": "code",
   "execution_count": 149,
   "id": "e3b46e4a",
   "metadata": {},
   "outputs": [
    {
     "name": "stdout",
     "output_type": "stream",
     "text": [
      "<re.Match object; span=(0, 5), match='hello'>\n",
      "<re.Match object; span=(6, 11), match='hello'>\n",
      "<re.Match object; span=(1, 2), match='o'>\n"
     ]
    }
   ],
   "source": [
    "print(re.search(\"hello\", \"hello world\"))\n",
    "print(re.search(\"hello\",\"world hello world hello\"))\n",
    "print(re.search(\"[helo]+\",\"world hello world\")) # search는 match와 다르게 첫글자에 없어도 뒤로 넘어가서 찾아줌"
   ]
  },
  {
   "cell_type": "code",
   "execution_count": 153,
   "id": "21a38dfc",
   "metadata": {},
   "outputs": [
    {
     "name": "stdout",
     "output_type": "stream",
     "text": [
      "None\n",
      "<re.Match object; span=(7, 9), match='hi'>\n",
      "<re.Match object; span=(0, 5), match='hello'>\n"
     ]
    }
   ],
   "source": [
    "print(re.search(\"^hi\", \"hello, hi\")) \n",
    "print(re.search(\"hi$\", \"hello, hi\"))\n",
    "print(re.search(\"^hello\", \"hello, hi\")) \n",
    "# ^ : ~시작하는지 판단, ^hi 로 시작하는 문자열 # []에서 ^역활이랑 다름\n",
    "# $ : ~로 끝나는지 판단, hi$ : hi로 끝나는 문자열"
   ]
  },
  {
   "cell_type": "code",
   "execution_count": 152,
   "id": "128a0c12",
   "metadata": {},
   "outputs": [
    {
     "name": "stdout",
     "output_type": "stream",
     "text": [
      "<re.Match object; span=(7, 9), match='hi'>\n"
     ]
    }
   ],
   "source": [
    "print(re.search(\"hi$\", \"hello, hi\"))"
   ]
  },
  {
   "cell_type": "code",
   "execution_count": 154,
   "id": "efac82ed",
   "metadata": {},
   "outputs": [
    {
     "name": "stdout",
     "output_type": "stream",
     "text": [
      "<re.Match object; span=(0, 2), match='he'>\n"
     ]
    }
   ],
   "source": [
    "print(re.search(\"hi|he\", \"hello, hi\")) # | : or"
   ]
  },
  {
   "cell_type": "code",
   "execution_count": 157,
   "id": "e72209c5",
   "metadata": {},
   "outputs": [
    {
     "name": "stdout",
     "output_type": "stream",
     "text": [
      "<re.Match object; span=(0, 2), match='he'>\n"
     ]
    }
   ],
   "source": [
    "print(re.search(\"hi|he|good|world\", \"hello,hi\"))"
   ]
  },
  {
   "cell_type": "code",
   "execution_count": 158,
   "id": "50349a29",
   "metadata": {},
   "outputs": [],
   "source": [
    "# * : 0개 이상 있는지 판단\n",
    "# + : 1개 이상 있는지 판단"
   ]
  },
  {
   "cell_type": "code",
   "execution_count": 161,
   "id": "ef5727fb",
   "metadata": {},
   "outputs": [
    {
     "name": "stdout",
     "output_type": "stream",
     "text": [
      "<re.Match object; span=(0, 1), match='1'>\n",
      "<re.Match object; span=(0, 2), match='12'>\n",
      "None\n"
     ]
    }
   ],
   "source": [
    "print(re.match(\"[0-9]\",\"12a3b\"))\n",
    "print(re.match(\"[0-9]+\",\"12a3b\"))\n",
    "print(re.match(\"[0-9]+\",\"x12a3b\"))"
   ]
  },
  {
   "cell_type": "code",
   "execution_count": 163,
   "id": "0fa51b44",
   "metadata": {},
   "outputs": [
    {
     "name": "stdout",
     "output_type": "stream",
     "text": [
      "매치되지 않았습니다\n"
     ]
    }
   ],
   "source": [
    "# None 값은 False와 같이 활용할 수 있음\n",
    "\n",
    "res = re.match(\"[0-9]\",\"x12a3b\")\n",
    "\n",
    "if res:\n",
    "    print(\"문자열이 패턴식에 매치가 됐습니다.\")\n",
    "else:\n",
    "    print(\"매치되지 않았습니다\")"
   ]
  },
  {
   "cell_type": "code",
   "execution_count": 164,
   "id": "1ab31844",
   "metadata": {},
   "outputs": [
    {
     "name": "stdout",
     "output_type": "stream",
     "text": [
      "None\n"
     ]
    }
   ],
   "source": [
    "print(re.match(\"[0-9]+\",\"a12a3b\")) # None ? : 매치가 되지 않았다."
   ]
  },
  {
   "cell_type": "code",
   "execution_count": 166,
   "id": "bdc8d88c",
   "metadata": {},
   "outputs": [
    {
     "name": "stdout",
     "output_type": "stream",
     "text": [
      "<re.Match object; span=(0, 2), match='12'>\n",
      "<re.Match object; span=(0, 0), match=''>\n"
     ]
    }
   ],
   "source": [
    "# * : 0개 이상이 매치되는지 확인\n",
    "print(re.match(\"[0-9]*\",\"12a3b\")) # 0~9 까지의 숫자가 0개 이상 매치되는지 확인\n",
    "print(re.match(\"[0-9]*\",\"a12a3b\")) # 0개가 매치됐으므로 객체가 출력 -> None이 안나옴"
   ]
  },
  {
   "cell_type": "code",
   "execution_count": 167,
   "id": "a451f9f2",
   "metadata": {},
   "outputs": [
    {
     "name": "stdout",
     "output_type": "stream",
     "text": [
      "<re.Match object; span=(0, 1), match='a'>\n",
      "<re.Match object; span=(0, 0), match=''>\n",
      "None\n"
     ]
    }
   ],
   "source": [
    "print(re.match(\"[a-z]*\",\"a12a3b\"))\n",
    "print(re.match(\"[a-z]*\",\"12a3b\"))\n",
    "print(re.match(\"[a-z]+\",\"12a3b\"))"
   ]
  },
  {
   "cell_type": "code",
   "execution_count": 175,
   "id": "16a0146e",
   "metadata": {},
   "outputs": [
    {
     "name": "stdout",
     "output_type": "stream",
     "text": [
      "100\n"
     ]
    },
    {
     "data": {
      "text/plain": [
       "['100', '200']"
      ]
     },
     "execution_count": 175,
     "metadata": {},
     "output_type": "execute_result"
    }
   ],
   "source": [
    "s = \"가나다 100 라마바 200\"\n",
    "# s에서 숫자를 추출\n",
    "res = re.search(\"\\d+\",s) # \\d == [0-9]\n",
    "print(res.group())\n",
    "\n",
    "re.findall(\"\\d+\",s)"
   ]
  },
  {
   "cell_type": "code",
   "execution_count": 190,
   "id": "9d50f402",
   "metadata": {},
   "outputs": [
    {
     "data": {
      "text/plain": [
       "['3도']"
      ]
     },
     "execution_count": 190,
     "metadata": {},
     "output_type": "execute_result"
    }
   ],
   "source": [
    "# 나이\n",
    "re.findall(\"\\d+세\",\"20세 3.14 27.3도 36세\")\n",
    "\n",
    "# 도\n",
    "re.findall(\"[0-9.]도\",\"20세 3.14 27.3도 36세\")"
   ]
  },
  {
   "cell_type": "code",
   "execution_count": 187,
   "id": "9fda32cb",
   "metadata": {},
   "outputs": [],
   "source": [
    "news='''\n",
    "뜨거운 열기가 계속 쌓여만 가는 느낌인데요.\n",
    "\n",
    "현재 서울 기온은 34.5도까지 치솟으며 하루 만에 올여름 최고 기온을 경신했습니다.\n",
    "\n",
    "특히 비공식 기온이지만 서울 강북구 수유동은 무려 37.2도까지 치솟으며 사람 체온을 웃돌고 있습니다.\n",
    "\n",
    "반면, 대기 불안정으로 동쪽 지방은 호우특보 속에 요란한 소나기가 쏟아지고 있는데요.\n",
    "\n",
    "시설물 관리와 안전사고에 주의하셔야겠습니다.\n",
    "\n",
    "전국 대부분 지역에 폭염특보가 계속되는 가운데, 현재 전국에서 가장 더운 곳은 경기도 안성으로, 양성면의 기온이 37.7도까지 치솟았는데요.\n",
    "\n",
    "서울도 체감 35도 안팎의 찜통더위가 계속되고 있습니다.\n",
    "\n",
    "찌는 듯한 더위 속에 대기 불안정이 심해지면서 동쪽 내륙을 중심으로는 강한 소나기 구름이 발달하고 있는데요.\n",
    "\n",
    "강원 남부 내륙과 전북 동부에 호우특보가 내려진 가운데, 내일 새벽까지 돌풍과 벼락을 동반한 시간당 50mm 이상의 장대비가 쏟아지며, 100mm 이상의 강우량을 기록하는 곳도 있겠습니다.\n",
    "\n",
    "피해 없도록 주변 점검 철저히 해주시기 바랍니다.\n",
    "\n",
    "내일과 모레도 무더위 속에 기습적인 소나기가 지나겠고요, 일요일 전국에 비가 내린 뒤 다음 주에는 더 심한 더위가 찾아오겠습니다.\n",
    "\n",
    "연일 계속되는 무더위에 온열 질환에 걸릴 가능성도 커지고 있습니다.\n",
    "\n",
    "볕이 강한 오후 2~5시 사이 장시간의 야외 활동은 자제하시는 게 좋겠습니다.\n",
    "\n",
    "YTN 신미림입니다.\n",
    "'''"
   ]
  },
  {
   "cell_type": "code",
   "execution_count": 188,
   "id": "e5704f8c",
   "metadata": {},
   "outputs": [
    {
     "data": {
      "text/plain": [
       "'\\n뜨거운 열기가 계속 쌓여만 가는 느낌인데요.\\n\\n현재 서울 기온은 34.5도까지 치솟으며 하루 만에 올여름 최고 기온을 경신했습니다.\\n\\n특히 비공식 기온이지만 서울 강북구 수유동은 무려 37.2도까지 치솟으며 사람 체온을 웃돌고 있습니다.\\n\\n반면, 대기 불안정으로 동쪽 지방은 호우특보 속에 요란한 소나기가 쏟아지고 있는데요.\\n\\n시설물 관리와 안전사고에 주의하셔야겠습니다.\\n\\n전국 대부분 지역에 폭염특보가 계속되는 가운데, 현재 전국에서 가장 더운 곳은 경기도 안성으로, 양성면의 기온이 37.7도까지 치솟았는데요.\\n\\n서울도 체감 35도 안팎의 찜통더위가 계속되고 있습니다.\\n\\n찌는 듯한 더위 속에 대기 불안정이 심해지면서 동쪽 내륙을 중심으로는 강한 소나기 구름이 발달하고 있는데요.\\n\\n강원 남부 내륙과 전북 동부에 호우특보가 내려진 가운데, 내일 새벽까지 돌풍과 벼락을 동반한 시간당 50mm 이상의 장대비가 쏟아지며, 100mm 이상의 강우량을 기록하는 곳도 있겠습니다.\\n\\n피해 없도록 주변 점검 철저히 해주시기 바랍니다.\\n\\n내일과 모레도 무더위 속에 기습적인 소나기가 지나겠고요, 일요일 전국에 비가 내린 뒤 다음 주에는 더 심한 더위가 찾아오겠습니다.\\n\\n연일 계속되는 무더위에 온열 질환에 걸릴 가능성도 커지고 있습니다.\\n\\n볕이 강한 오후 2~5시 사이 장시간의 야외 활동은 자제하시는 게 좋겠습니다.\\n\\nYTN 신미림입니다.\\n'"
      ]
     },
     "execution_count": 188,
     "metadata": {},
     "output_type": "execute_result"
    }
   ],
   "source": [
    "news"
   ]
  },
  {
   "cell_type": "code",
   "execution_count": 206,
   "id": "7714ea4b",
   "metadata": {},
   "outputs": [],
   "source": [
    "temp = re.findall(\"[0-9.]+도\",news)\n",
    "rainfall = re.findall(\"\\d+mm\",news)"
   ]
  },
  {
   "cell_type": "code",
   "execution_count": 211,
   "id": "7e293af6",
   "metadata": {},
   "outputs": [
    {
     "name": "stdout",
     "output_type": "stream",
     "text": [
      "temp : ['34.5도', '37.2도', '37.7도', '35도']\n",
      "rainfall : ['50mm', '100mm']\n"
     ]
    }
   ],
   "source": [
    "print(\"temp : \"+ str(temp))\n",
    "print(\"rainfall : \"+ str(rainfall))"
   ]
  },
  {
   "cell_type": "code",
   "execution_count": null,
   "id": "f81a0338",
   "metadata": {},
   "outputs": [],
   "source": []
  }
 ],
 "metadata": {
  "kernelspec": {
   "display_name": "Python 3",
   "language": "python",
   "name": "python3"
  },
  "language_info": {
   "codemirror_mode": {
    "name": "ipython",
    "version": 3
   },
   "file_extension": ".py",
   "mimetype": "text/x-python",
   "name": "python",
   "nbconvert_exporter": "python",
   "pygments_lexer": "ipython3",
   "version": "3.8.8"
  }
 },
 "nbformat": 4,
 "nbformat_minor": 5
}
