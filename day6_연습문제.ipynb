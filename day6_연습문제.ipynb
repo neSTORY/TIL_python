{
 "cells": [
  {
   "cell_type": "code",
   "execution_count": 1,
   "id": "6bae22c8",
   "metadata": {},
   "outputs": [
    {
     "name": "stdout",
     "output_type": "stream",
     "text": [
      "['머신', '신러', '러닝', '닝은', '은 ', ' 인', '인공', '공지', '지능', '능의', '의 ', ' 한', '한 ', ' 분', '분류', '류입', '입니', '니다']\n",
      "유사도는 27.778 %입니다.\n"
     ]
    }
   ],
   "source": [
    "# 1.\n",
    "\n",
    "x = \"머신러닝은 인공지능의 한 분류입니다\"\n",
    "y = \"런닝머신은 운동 기구중의 하나입니다\"\n",
    "\n",
    "ls_y = []\n",
    "ls_x = []\n",
    "\n",
    "# x, y 단어를 2-gram으로\n",
    "\n",
    "for i in range(len(x)-1):\n",
    "    ls_x.append(x[i:i+2])\n",
    "\n",
    "for i in range(len(y)-1):\n",
    "    ls_y.append(y[i:i+2])\n",
    "\n",
    "print(ls_x)\n",
    "# 중첩 개수 구하기\n",
    "similarity = 0\n",
    "overlap = 0\n",
    "\n",
    "for i in ls_x:\n",
    "    for j in ls_y:\n",
    "        if i == j:\n",
    "            overlap += 1\n",
    "\n",
    "similarity = overlap / len(ls_x) * 100\n",
    "print(\"유사도는 %0.3f %%입니다.\" % similarity)"
   ]
  },
  {
   "cell_type": "code",
   "execution_count": 14,
   "id": "06b8378e",
   "metadata": {},
   "outputs": [
    {
     "name": "stdout",
     "output_type": "stream",
     "text": [
      "최고 높이 - 최저 높이 : 2\n"
     ]
    }
   ],
   "source": [
    "# 2.\n",
    "\n",
    "box = [5, 8, 3, 1, 5, 6, 9, 9, 2, 2, 4]\n",
    "\n",
    "\n",
    "def flatten():\n",
    "\n",
    "    for i in range(len(box)):\n",
    "        if box[i] == max(box):\n",
    "            break\n",
    "    box[i] -=1\n",
    "\n",
    "\n",
    "    for j in range(len(box)):\n",
    "        if box[j] == min(box):\n",
    "            break\n",
    "    box[j] +=1\n",
    "\n",
    "for i in range(10):\n",
    "    flatten()\n",
    "\n",
    "dif = max(box) - min(box)\n",
    "\n",
    "print(\"최고 높이 - 최저 높이 : %s\" % dif)"
   ]
  },
  {
   "cell_type": "code",
   "execution_count": 17,
   "id": "4ab135a2",
   "metadata": {},
   "outputs": [
    {
     "name": "stdout",
     "output_type": "stream",
     "text": [
      "hello\n",
      "ex01\n",
      "intro\n"
     ]
    }
   ],
   "source": [
    "# 3.\n",
    "\n",
    "ls = ['hello.py', 'ex01.py', 'intro.hwp']\n",
    "\n",
    "for i in range(len(ls)):\n",
    "    print(ls[i].split(\".\")[0])"
   ]
  },
  {
   "cell_type": "code",
   "execution_count": 8,
   "id": "a6ffe45a",
   "metadata": {},
   "outputs": [
    {
     "name": "stdout",
     "output_type": "stream",
     "text": [
      "[50, 100, 30, 80, 0]\n"
     ]
    }
   ],
   "source": [
    "# 4.\n",
    "\n",
    "low_prices = [100, 200, 400, 800, 1000]\n",
    "high_prices = [150, 300, 430, 880, 1000]\n",
    "\n",
    "volatility=[]\n",
    "\n",
    "for i in range(len(low_prices)):\n",
    "    v = high_prices[i]-low_prices[i]\n",
    "    volatility.append(v)\n",
    "print(volatility)"
   ]
  },
  {
   "cell_type": "code",
   "execution_count": 13,
   "id": "248a143f",
   "metadata": {},
   "outputs": [
    {
     "name": "stdout",
     "output_type": "stream",
     "text": [
      "101 호\n",
      "102 호\n",
      "------\n",
      "201 호\n",
      "202 호\n",
      "------\n",
      "301 호\n",
      "302 호\n",
      "------\n"
     ]
    }
   ],
   "source": [
    "# 5.\n",
    "\n",
    "apart = [ [101, 102], [201, 202], [301, 302] ]\n",
    "\n",
    "for i in range(len(apart)):\n",
    "    print(str(apart[i][0]) + \" 호\")\n",
    "    print(str(apart[i][1]) + \" 호\")\n",
    "    print(\"------\")\n",
    "    "
   ]
  },
  {
   "cell_type": "code",
   "execution_count": 12,
   "id": "460d0b25",
   "metadata": {},
   "outputs": [
    {
     "name": "stdout",
     "output_type": "stream",
     "text": [
      "머신\n",
      "['머신']\n",
      "['신러']\n",
      "['러닝']\n",
      "['닝은']\n",
      "['은 ']\n",
      "[' 인']\n",
      "['인공']\n",
      "['공지']\n",
      "['지능']\n",
      "['능의']\n",
      "['의 ']\n",
      "[' 한']\n",
      "['한 ']\n",
      "[' 분']\n",
      "['분류']\n",
      "['류입']\n",
      "['입니']\n",
      "['니다']\n"
     ]
    }
   ],
   "source": [
    "x=\"머신러닝은 인공지능의 한 분류입니다\"  #내가 작성한 숙제\n",
    "y=\"런닝머신은 운동 기구중의 하나입니다\"  #다른 사람이 작성한 숙제\n",
    "\n",
    "#내가 작성한 숙제의 표절율?\n",
    "\n",
    "#2-gram(bi-gram) 단위로 글자 분리\n",
    "# x => ['머신', '신러', ... '니다']\n",
    "# y => ['런닝', '닝머', ... '니다']\n",
    "\n",
    "# 유사도 = 중복되는 단어 개수  / x를 2글자씩 분리한 리스트의 전체 길이\n",
    "\n",
    "# x, y 의 각 문장을 리스트 형식으로 만들어보자.\n",
    "xl=[]\n",
    "yl=[]\n",
    "# print(x[0])\n",
    "\n",
    "print(x[0]+x[1])\n",
    "\n",
    "for i in range(len(x)-1) :\n",
    "    xx=(x[i]+x[i+1]).split(\",\")\n",
    "    print(xx)"
   ]
  }
 ],
 "metadata": {
  "kernelspec": {
   "display_name": "Python 3",
   "language": "python",
   "name": "python3"
  },
  "language_info": {
   "codemirror_mode": {
    "name": "ipython",
    "version": 3
   },
   "file_extension": ".py",
   "mimetype": "text/x-python",
   "name": "python",
   "nbconvert_exporter": "python",
   "pygments_lexer": "ipython3",
   "version": "3.8.8"
  }
 },
 "nbformat": 4,
 "nbformat_minor": 5
}
