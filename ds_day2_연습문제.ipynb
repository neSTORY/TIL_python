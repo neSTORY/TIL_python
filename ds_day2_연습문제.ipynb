{
 "cells": [
  {
   "cell_type": "code",
   "execution_count": 54,
   "id": "90fd593b",
   "metadata": {},
   "outputs": [],
   "source": [
    "import urllib.request as req\n",
    "from bs4 import BeautifulSoup\n",
    "\n",
    "url = 'https://music.bugs.co.kr/chart'\n",
    "res = req.urlopen(url)\n",
    "soup = BeautifulSoup(res,'html.parser')"
   ]
  },
  {
   "cell_type": "code",
   "execution_count": 64,
   "id": "2990f931",
   "metadata": {},
   "outputs": [
    {
     "name": "stdout",
     "output_type": "stream",
     "text": [
      "Permission to Dance\n",
      "고백\n",
      "Weekend\n",
      "좋아좋아\n",
      "Next Level\n",
      "바라만 본다\n",
      "Butter\n",
      "신호등\n",
      "Bad Habits\n",
      "넌 좋은 사람\n"
     ]
    }
   ],
   "source": [
    "rank = soup.select('th > .title > a')\n",
    "\n",
    "for i in rank[:10]:\n",
    "    print(i.string)"
   ]
  }
 ],
 "metadata": {
  "kernelspec": {
   "display_name": "Python 3",
   "language": "python",
   "name": "python3"
  },
  "language_info": {
   "codemirror_mode": {
    "name": "ipython",
    "version": 3
   },
   "file_extension": ".py",
   "mimetype": "text/x-python",
   "name": "python",
   "nbconvert_exporter": "python",
   "pygments_lexer": "ipython3",
   "version": "3.8.8"
  }
 },
 "nbformat": 4,
 "nbformat_minor": 5
}
