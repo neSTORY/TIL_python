{
 "cells": [
  {
   "cell_type": "code",
   "execution_count": 1,
   "id": "da6d5fa8",
   "metadata": {},
   "outputs": [],
   "source": [
    "# 함수?\n",
    "\n",
    "# 반복적인 코드를 함수로 정의함으로서 다양한 장점이 있음(실수 줄임, 코드 짧아짐, 반복 사용가능)\n",
    "\n",
    "# 함수 실행(호출) : 함수명()\n",
    "# 함수 정의:\n",
    "\n",
    "def 함수명():\n",
    "    수행할 코드 1\n",
    "    수행할 코드 2\n",
    "    ...\n",
    "    수행할 코드 n"
   ]
  },
  {
   "cell_type": "code",
   "execution_count": 5,
   "id": "2b578290",
   "metadata": {},
   "outputs": [],
   "source": [
    "def hello(): # 함수명이 두 단어 이상이면 두 번째 단어는 대문자로 시작 ex) getValue():\n",
    "    print(\"hello world\")"
   ]
  },
  {
   "cell_type": "code",
   "execution_count": 8,
   "id": "cf432fb3",
   "metadata": {},
   "outputs": [
    {
     "name": "stdout",
     "output_type": "stream",
     "text": [
      "hello world\n",
      "hello world\n",
      "None\n",
      "hello world\n",
      "None\n"
     ]
    }
   ],
   "source": [
    "# 함수 실행(호출)\n",
    "\n",
    "hello()\n",
    "print(hello())\n",
    "\n",
    "print(print(\"hello world\"))"
   ]
  },
  {
   "cell_type": "code",
   "execution_count": 9,
   "id": "78f189e9",
   "metadata": {},
   "outputs": [],
   "source": [
    "def hello3():\n",
    "    # 아직 실행할 코드가 정해지지 않음\n",
    "    pass # 나중에 작성할게 일단넘어가 "
   ]
  },
  {
   "cell_type": "code",
   "execution_count": null,
   "id": "9cd96ecd",
   "metadata": {},
   "outputs": [],
   "source": [
    "print()\n",
    "print(\"안녕\") # 인수(argument) 여기선 \"안녕\"이 인수\n",
    "              # 인수는 여러개가 올 수도 있음\n"
   ]
  },
  {
   "cell_type": "code",
   "execution_count": null,
   "id": "d4a27c86",
   "metadata": {},
   "outputs": [],
   "source": [
    "def print(msg): # 매개변수(parameter)"
   ]
  },
  {
   "cell_type": "code",
   "execution_count": 10,
   "id": "386f8ede",
   "metadata": {},
   "outputs": [],
   "source": [
    "def add(x,y):\n",
    "    print(x+y)"
   ]
  },
  {
   "cell_type": "code",
   "execution_count": 12,
   "id": "66ed1ebb",
   "metadata": {},
   "outputs": [
    {
     "name": "stdout",
     "output_type": "stream",
     "text": [
      "3\n"
     ]
    }
   ],
   "source": [
    "add(1,2) # (실)인수"
   ]
  },
  {
   "cell_type": "code",
   "execution_count": 25,
   "id": "7c651010",
   "metadata": {},
   "outputs": [],
   "source": [
    "def calc(x,y, op): # 매개변수, (가) 인수\n",
    "    print(x+y)\n",
    "    print(op)"
   ]
  },
  {
   "cell_type": "code",
   "execution_count": 26,
   "id": "e04a36f2",
   "metadata": {},
   "outputs": [
    {
     "name": "stdout",
     "output_type": "stream",
     "text": [
      "3\n",
      "add\n"
     ]
    }
   ],
   "source": [
    "calc(1,2,\"add\")"
   ]
  },
  {
   "cell_type": "code",
   "execution_count": 27,
   "id": "f8210f6b",
   "metadata": {},
   "outputs": [
    {
     "name": "stdout",
     "output_type": "stream",
     "text": [
      "Help on built-in function print in module builtins:\n",
      "\n",
      "print(...)\n",
      "    print(value, ..., sep=' ', end='\\n', file=sys.stdout, flush=False)\n",
      "    \n",
      "    Prints the values to a stream, or to sys.stdout by default.\n",
      "    Optional keyword arguments:\n",
      "    file:  a file-like object (stream); defaults to the current sys.stdout.\n",
      "    sep:   string inserted between values, default a space.\n",
      "    end:   string appended after the last value, default a newline.\n",
      "    flush: whether to forcibly flush the stream.\n",
      "\n"
     ]
    }
   ],
   "source": [
    "help(print)\n",
    "# help(함수명) 하면 함수 설명이 나옴"
   ]
  },
  {
   "cell_type": "code",
   "execution_count": 28,
   "id": "868368a0",
   "metadata": {},
   "outputs": [
    {
     "name": "stdout",
     "output_type": "stream",
     "text": [
      "Help on function calc in module __main__:\n",
      "\n",
      "calc(x, y, op)\n",
      "\n"
     ]
    }
   ],
   "source": [
    "help(calc)"
   ]
  },
  {
   "cell_type": "code",
   "execution_count": 29,
   "id": "140db650",
   "metadata": {},
   "outputs": [],
   "source": [
    "def add(x,y):\n",
    "    return x+y"
   ]
  },
  {
   "cell_type": "code",
   "execution_count": 30,
   "id": "17fb5971",
   "metadata": {},
   "outputs": [
    {
     "data": {
      "text/plain": [
       "20"
      ]
     },
     "execution_count": 30,
     "metadata": {},
     "output_type": "execute_result"
    }
   ],
   "source": [
    "add(0,20)"
   ]
  },
  {
   "cell_type": "code",
   "execution_count": 45,
   "id": "1954437b",
   "metadata": {},
   "outputs": [],
   "source": [
    "def calc(x, y, op):\n",
    "    if op == \"+\":\n",
    "        return x+y\n",
    "    elif op == \"-\":\n",
    "        return x-y\n",
    "    elif op == \"*\":\n",
    "        return x*y\n",
    "    elif op == \"/\":\n",
    "        return x/y"
   ]
  },
  {
   "cell_type": "code",
   "execution_count": 47,
   "id": "e6b6b1f0",
   "metadata": {},
   "outputs": [
    {
     "name": "stdout",
     "output_type": "stream",
     "text": [
      "3\n",
      "-1\n",
      "6\n",
      "5.0\n"
     ]
    }
   ],
   "source": [
    "print(calc(1,2,\"+\"))\n",
    "print(calc(1,2,\"-\"))\n",
    "print(calc(3,2,\"*\"))\n",
    "print(calc(10,2,\"/\"))"
   ]
  },
  {
   "cell_type": "code",
   "execution_count": 48,
   "id": "2178efcd",
   "metadata": {},
   "outputs": [],
   "source": [
    "# if 로 조건 4가지 / if, elif, else 구조 차이\n",
    "\n",
    "# if,elif,else는 위에서 조건을 만족하면 밑으로 안감\n",
    "# if 로 조건을 다 작성하면 위에서 만족해도 밑으로 가서 조건을 확인해봄\n",
    "# return이 있으면 상관없음 why? 리턴값을 갖고 위로 올라가기 때문"
   ]
  },
  {
   "cell_type": "code",
   "execution_count": 54,
   "id": "b251f7aa",
   "metadata": {},
   "outputs": [],
   "source": [
    "def calc(x, y, op):\n",
    "    return eval(str(x)+op+str(y))"
   ]
  },
  {
   "cell_type": "code",
   "execution_count": 55,
   "id": "5d81b00c",
   "metadata": {},
   "outputs": [
    {
     "name": "stdout",
     "output_type": "stream",
     "text": [
      "3\n"
     ]
    }
   ],
   "source": [
    "print(calc(1,2,\"+\"))"
   ]
  },
  {
   "cell_type": "code",
   "execution_count": 76,
   "id": "1f9f1ba9",
   "metadata": {},
   "outputs": [],
   "source": [
    "def test(x,y):\n",
    "    return x+y"
   ]
  },
  {
   "cell_type": "code",
   "execution_count": 77,
   "id": "6ace0c5b",
   "metadata": {},
   "outputs": [
    {
     "data": {
      "text/plain": [
       "3"
      ]
     },
     "execution_count": 77,
     "metadata": {},
     "output_type": "execute_result"
    }
   ],
   "source": [
    "test(1,2)"
   ]
  },
  {
   "cell_type": "code",
   "execution_count": 79,
   "id": "1a926a0f",
   "metadata": {},
   "outputs": [
    {
     "name": "stdout",
     "output_type": "stream",
     "text": [
      "7\n"
     ]
    }
   ],
   "source": [
    "res = test(x =2, y = 5)\n",
    "\n",
    "print(res)"
   ]
  },
  {
   "cell_type": "code",
   "execution_count": 87,
   "id": "4d12da64",
   "metadata": {},
   "outputs": [],
   "source": [
    "# 인수의 개수가 정해지지 않았을 때? 함수호출 가능?\n",
    "# => 인수의 개수가 변할 수 있는 경우에 함수 호출\n",
    "\n",
    "def add(*args): # 매개변수 자리에 *args라고 씀 매개변수 명은 자유롭게 씀\n",
    "    sum = 0\n",
    "    for i in args:\n",
    "        sum += i\n",
    "    return sum"
   ]
  },
  {
   "cell_type": "code",
   "execution_count": 88,
   "id": "c27791bd",
   "metadata": {},
   "outputs": [
    {
     "data": {
      "text/plain": [
       "10"
      ]
     },
     "execution_count": 88,
     "metadata": {},
     "output_type": "execute_result"
    }
   ],
   "source": [
    "add(1,2,3,4) # 값이 튜플로 저장이 됨"
   ]
  },
  {
   "cell_type": "code",
   "execution_count": 92,
   "id": "e7ad26e6",
   "metadata": {},
   "outputs": [],
   "source": [
    "def func1(calc,*args):\n",
    "    if calc == \"multiply\":\n",
    "        all_multi = 1\n",
    "        for i in args:\n",
    "            all_multi *=i\n",
    "        return all_multi\n",
    "    \n",
    "    if calc == \"sum\":\n",
    "        all_sum = 0\n",
    "        for j in args:\n",
    "            all_sum += j\n",
    "        return all_sum"
   ]
  },
  {
   "cell_type": "code",
   "execution_count": 97,
   "id": "04f619f4",
   "metadata": {},
   "outputs": [
    {
     "name": "stdout",
     "output_type": "stream",
     "text": [
      "6000\n",
      "80\n"
     ]
    }
   ],
   "source": [
    "res = func1(\"multiply\", 10,20,30)\n",
    "print(res)\n",
    "res = func1(\"sum\", 5, 10, 15, 20, 30)\n",
    "print(res)"
   ]
  },
  {
   "cell_type": "code",
   "execution_count": 98,
   "id": "7137e2bd",
   "metadata": {},
   "outputs": [],
   "source": [
    "def addsub(x,y):\n",
    "    return x+y, x-y"
   ]
  },
  {
   "cell_type": "code",
   "execution_count": 104,
   "id": "bacc06b1",
   "metadata": {},
   "outputs": [
    {
     "name": "stdout",
     "output_type": "stream",
     "text": [
      "(7, -1)\n"
     ]
    }
   ],
   "source": [
    "res = addsub(3,4)\n",
    "print(res)"
   ]
  },
  {
   "cell_type": "code",
   "execution_count": 114,
   "id": "0547af49",
   "metadata": {},
   "outputs": [],
   "source": [
    "# def intro(n, age, female=True): # 매개변수 초기값 설정\n",
    "\n",
    "# def intro(n,female=True,age): # non-default argument follows default argument\n",
    "                                # 초기화 값을 정해놓은 매개변수는 맨 뒤에다 써야함!!\n",
    "def intro(n, age, female=True):\n",
    "    print(\"이름 :\", n)\n",
    "    print(\"나이 :\", age)\n",
    "    if female:\n",
    "        print(\"성별 : 여성\")\n",
    "    else:\n",
    "        print(\"성별 : 남성\")"
   ]
  },
  {
   "cell_type": "code",
   "execution_count": 115,
   "id": "ef8eede1",
   "metadata": {},
   "outputs": [
    {
     "name": "stdout",
     "output_type": "stream",
     "text": [
      "이름 : 홍길동\n",
      "나이 : 20\n",
      "성별 : 여성\n",
      "이름 : 홍길동\n",
      "나이 : 22\n",
      "성별 : 남성\n"
     ]
    }
   ],
   "source": [
    "intro(\"홍길동\", 20)\n",
    "intro(\"홍길동\", 22, False)"
   ]
  },
  {
   "cell_type": "code",
   "execution_count": 123,
   "id": "af18b5f3",
   "metadata": {},
   "outputs": [
    {
     "name": "stdout",
     "output_type": "stream",
     "text": [
      "1\n"
     ]
    }
   ],
   "source": [
    "a = 5\n",
    "b = 1\n",
    "\n",
    "def test(a): # 함수 정의. 매개변수는 함수 내에서만 사용하는 변수\n",
    "    a = a + 10\n",
    "    return\n",
    "\n",
    "test(b) # 함수 호출\n",
    "\n",
    "print(b) # 함수를 정의할 때 쓰는 변수 명과 밖에 있는 변수 명은 같아도 서로 다른 변수이다."
   ]
  },
  {
   "cell_type": "code",
   "execution_count": 125,
   "id": "d0b0b3e5",
   "metadata": {},
   "outputs": [
    {
     "name": "stdout",
     "output_type": "stream",
     "text": [
      "머신러닝은 인공지능의 한 분류입니다\n"
     ]
    }
   ],
   "source": [
    "x = \"머신러닝은 인공지능의 한 분류입니다\"\n",
    "\n",
    "def test2(x):\n",
    "    x = x+1\n",
    "\n",
    "test2(10)\n",
    "print(x)"
   ]
  },
  {
   "cell_type": "code",
   "execution_count": 135,
   "id": "1a212575",
   "metadata": {},
   "outputs": [
    {
     "name": "stdout",
     "output_type": "stream",
     "text": [
      "11\n"
     ]
    }
   ],
   "source": [
    "# 함수 밖의 변수를 가져오는 방법\n",
    "# 1. x값을 return 받는다.\n",
    "\n",
    "x = 1\n",
    "\n",
    "def test(x):\n",
    "    x += 10\n",
    "    return x\n",
    "    \n",
    "# test(x)\n",
    "# print(x)\n",
    "\n",
    "x = test(x)\n",
    "print(x)"
   ]
  },
  {
   "cell_type": "code",
   "execution_count": 139,
   "id": "e218dc14",
   "metadata": {},
   "outputs": [
    {
     "name": "stdout",
     "output_type": "stream",
     "text": [
      "11\n"
     ]
    }
   ],
   "source": [
    "# 2. global(전역 변수) 사용하기 !\n",
    "# global 함수는 잘 쓰지않는다..\n",
    "\n",
    "# 함수 내부에서 함수 외부에 있는 변수를 사용하고자 한다.\n",
    "\n",
    "x = 1\n",
    "\n",
    "def test():\n",
    "    global x # 함수 내부에서 함수 밖에 있는 변수 x를 사용하겠다!\n",
    "    x += 10\n",
    "\n",
    "test()\n",
    "print(x)"
   ]
  },
  {
   "cell_type": "code",
   "execution_count": 144,
   "id": "c5be0e06",
   "metadata": {},
   "outputs": [],
   "source": [
    "def test():\n",
    "    # return 1,2\n",
    "    return [1,2]"
   ]
  },
  {
   "cell_type": "code",
   "execution_count": 145,
   "id": "8992a75d",
   "metadata": {},
   "outputs": [
    {
     "name": "stdout",
     "output_type": "stream",
     "text": [
      "[1, 2]\n"
     ]
    }
   ],
   "source": [
    "res = test()\n",
    "# print(list(res))\n",
    "print(res)"
   ]
  },
  {
   "cell_type": "code",
   "execution_count": 150,
   "id": "bc60a1fc",
   "metadata": {},
   "outputs": [
    {
     "name": "stdout",
     "output_type": "stream",
     "text": [
      "3\n",
      "6\n"
     ]
    }
   ],
   "source": [
    "def mul(a,b):\n",
    "    res = a *b\n",
    "    return res # 3. res 값 받고 호출한 곳으로 리턴됨\n",
    "\n",
    "def add(x,y):\n",
    "    z = x+y\n",
    "    print(z) # 1. z 값 출력\n",
    "    result = mul(z,2) # 2. mul 함수 호출 # 4. res값을 받아서 result에 대입\n",
    "    print(result)\n",
    "    \n",
    "x = 1\n",
    "y = 2\n",
    "\n",
    "add(x,y)"
   ]
  },
  {
   "cell_type": "code",
   "execution_count": null,
   "id": "85c80c45",
   "metadata": {},
   "outputs": [],
   "source": []
  },
  {
   "cell_type": "code",
   "execution_count": null,
   "id": "7a0cdfa2",
   "metadata": {},
   "outputs": [],
   "source": []
  },
  {
   "cell_type": "code",
   "execution_count": null,
   "id": "6adb8ca9",
   "metadata": {},
   "outputs": [],
   "source": []
  },
  {
   "cell_type": "code",
   "execution_count": null,
   "id": "ca5324c9",
   "metadata": {},
   "outputs": [],
   "source": []
  },
  {
   "cell_type": "code",
   "execution_count": null,
   "id": "e1ef2c9a",
   "metadata": {},
   "outputs": [],
   "source": []
  },
  {
   "cell_type": "code",
   "execution_count": null,
   "id": "10ab79f1",
   "metadata": {},
   "outputs": [],
   "source": []
  }
 ],
 "metadata": {
  "kernelspec": {
   "display_name": "Python 3",
   "language": "python",
   "name": "python3"
  },
  "language_info": {
   "codemirror_mode": {
    "name": "ipython",
    "version": 3
   },
   "file_extension": ".py",
   "mimetype": "text/x-python",
   "name": "python",
   "nbconvert_exporter": "python",
   "pygments_lexer": "ipython3",
   "version": "3.8.8"
  }
 },
 "nbformat": 4,
 "nbformat_minor": 5
}
