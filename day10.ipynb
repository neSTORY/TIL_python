{
 "cells": [
  {
   "cell_type": "code",
   "execution_count": 1,
   "id": "a893c5f3",
   "metadata": {},
   "outputs": [],
   "source": [
    "# 클래스로부터 객체는 생성됨\n",
    "# ex) 게임 캐릭터\n",
    "# 인간 클래스 -> 캐릭터 생성(아이디:홍길동, 객체)\n",
    "# 속성(특성) : 눈, 코, ...(사람),  \n",
    "#              체력, 마나, 공격력, 방어력,...(게임캐릭터)\n",
    "# 메서드(동작,함수) : 먹는다, 달린다, 걷는다, 말한다, 잔다, 생각한다, ...  (사람)\n",
    "#                     벤다, 무찌른다, 마법을사용한다, 스킬을구사한다,... (게임캐릭터)\n",
    "\n",
    "#절차적 프로그래밍(꼰대프로그래밍, 고전) \n",
    "        \n",
    "# 객체지향프로그래밍 : 해결하려는 문제(게임)를 잘게 나누어서 객체를 생성. \n",
    "#     객체 간의 통신을 통해 주어진 문제를 해결(게임을 제작)\n",
    "# ex) 게임 -> 잘게 나누면 -> 캐릭터, NPC, 몬스터, 아이템, ...(객체)\n"
   ]
  },
  {
   "cell_type": "code",
   "execution_count": 2,
   "id": "52632f32",
   "metadata": {},
   "outputs": [],
   "source": [
    "# class 클래스이름:\n",
    "#     def 메서드이름(self):\n",
    "#         메서드가 수행할 작업의 코드(동작)"
   ]
  },
  {
   "cell_type": "code",
   "execution_count": 28,
   "id": "9f2dfd55",
   "metadata": {},
   "outputs": [],
   "source": [
    "#게이머 클래스 정의\n",
    "#self : 클래스로부터 생성된 객체 자기 자신, this와 같음\n",
    "class User:\n",
    "    def move(self):\n",
    "        print(\"이동합니다\")\n",
    "    def hunt(self):\n",
    "        print(self.msg)\n",
    "        self.move()\n",
    "        print(\"사냥합니다\")\n",
    "        print(self.mp)\n",
    "    def __init__(self): #클래스로부터 객체가 생성될때 자동으로 호출되는 특별한 메서드\n",
    "        print(\"init 함수가 호출됐습니다\")\n",
    "        self.hp=100 #게임 캐릭터의 초기 체력이 100\n",
    "        self.mp=50  #게임 캐릭터의 초기 마법력 50\n",
    "        #self.속성명=속성값\n",
    "        self.msg=\"캐릭터를 생성하였습니다\""
   ]
  },
  {
   "cell_type": "code",
   "execution_count": 29,
   "id": "cf00995e",
   "metadata": {},
   "outputs": [
    {
     "name": "stdout",
     "output_type": "stream",
     "text": [
      "init 함수가 호출됐습니다\n"
     ]
    }
   ],
   "source": [
    "#게이머 객체 생성\n",
    "hong=User()"
   ]
  },
  {
   "cell_type": "code",
   "execution_count": 30,
   "id": "f6ea83e1",
   "metadata": {},
   "outputs": [
    {
     "name": "stdout",
     "output_type": "stream",
     "text": [
      "캐릭터를 생성하였습니다\n",
      "이동합니다\n",
      "사냥합니다\n",
      "50\n"
     ]
    },
    {
     "data": {
      "text/plain": [
       "True"
      ]
     },
     "execution_count": 30,
     "metadata": {},
     "output_type": "execute_result"
    }
   ],
   "source": [
    "#메서드 수행\n",
    "#객체명.메서드명()\n",
    "\n",
    "#hong.move()\n",
    "\n",
    "hong.hunt()\n",
    "\n",
    "isinstance(hong, User)\n",
    "#hong(객체)은 User 클래스의 인스턴스(객체)입니까?"
   ]
  },
  {
   "cell_type": "code",
   "execution_count": 7,
   "id": "d2acb518",
   "metadata": {},
   "outputs": [],
   "source": [
    "class User2:\n",
    "    pass"
   ]
  },
  {
   "cell_type": "code",
   "execution_count": null,
   "id": "9b1bc5c1",
   "metadata": {},
   "outputs": [],
   "source": []
  },
  {
   "cell_type": "code",
   "execution_count": null,
   "id": "35a4d5c3",
   "metadata": {},
   "outputs": [],
   "source": [
    "#정규표현식(정규식, 바디 랭귀지):regex\n",
    "\n",
    "수집 문자 데이터 -> 문자열 전처리(preprocessing, ..., 정규식 작업)"
   ]
  },
  {
   "cell_type": "code",
   "execution_count": 35,
   "id": "57d143f0",
   "metadata": {},
   "outputs": [
    {
     "data": {
      "text/plain": [
       "False"
      ]
     },
     "execution_count": 35,
     "metadata": {},
     "output_type": "execute_result"
    }
   ],
   "source": [
    "# data=\"850101-1234567\"\n",
    "# =>\n",
    "# \"850101-*******\"\n",
    "\n",
    "data=\"850101-1234567\"\n",
    "#- 기호로 data를 분리\n",
    "spData=data.split(\"-\")\n",
    "\n",
    "#spData[1].isdigit()\n",
    "#문자열.isdigit()\n",
    "\n",
    "#data에 저장된 주민번호가 정상적인지 여부를 확인하는 코드 완성\n",
    "#길이=14, -기호로 분리된 각각의 데이터는 모두 숫자로만 구성\n",
    "\n"
   ]
  },
  {
   "cell_type": "code",
   "execution_count": null,
   "id": "002f4652",
   "metadata": {},
   "outputs": [],
   "source": [
    "def check_num(num):\n",
    "    if len(num) != 14:\n",
    "        print('정상적인 주민등록 번호가 아닙니다.')\n",
    "    else:\n",
    "        num_list = num.split('-')\n",
    "        if len(num_list[0]) == 6 and len(num_list[1]) == 7:\n",
    "            if num_list[0].isdigit() == True and num_list[1].isdigit() == True:\n",
    "                print('주민등록 번호가 정상적으로 입력되었습니다')\n",
    "                return\n",
    "            else:\n",
    "                print('숫자만 입력해주세요')\n",
    "        else:\n",
    "            print('정상적인 주민등록 번호가 아닙니다.')\n",
    "\n",
    "            \n",
    "data=\"850101-1234567\"\n",
    "data1=\"850101-123456가\"\n",
    "data2=\"8850101-1234567\"\n",
    "data3=\"85010-12345671\"\n",
    "\n",
    "check_num(data)\n",
    "check_num(data1)\n",
    "check_num(data2)\n",
    "check_num(data3)\n"
   ]
  },
  {
   "cell_type": "code",
   "execution_count": 45,
   "id": "385c697e",
   "metadata": {},
   "outputs": [
    {
     "name": "stdout",
     "output_type": "stream",
     "text": [
      "850101-*******\n"
     ]
    },
    {
     "data": {
      "text/plain": [
       "True"
      ]
     },
     "execution_count": 45,
     "metadata": {},
     "output_type": "execute_result"
    }
   ],
   "source": [
    "data=\"850101-1234567\"\n",
    "\n",
    "def valid(id_num):\n",
    "    if len(id_num)==14:\n",
    "        id_num=id_num.split('-')\n",
    "        if len(id_num)==2:\n",
    "            if id_num[0].isdigit():\n",
    "                if id_num[1].isdigit():\n",
    "                    print(data[:6]+\"-\"+\"*******\")\n",
    "                    \n",
    "                    return True\n",
    "    return False\n",
    "\n",
    "valid(data)"
   ]
  },
  {
   "cell_type": "code",
   "execution_count": 44,
   "id": "3ea13387",
   "metadata": {},
   "outputs": [
    {
     "data": {
      "text/plain": [
       "'850101-*******'"
      ]
     },
     "execution_count": 44,
     "metadata": {},
     "output_type": "execute_result"
    }
   ],
   "source": [
    "data=\"850101-1234567\"\n",
    "data[7:]\n",
    "data[:6]+\"-\"+\"*******\""
   ]
  },
  {
   "cell_type": "code",
   "execution_count": 46,
   "id": "be8a9cab",
   "metadata": {},
   "outputs": [],
   "source": [
    "#정규표현식은 문자열의 패턴(규칙)에 대한 표현식을 작성"
   ]
  },
  {
   "cell_type": "code",
   "execution_count": 49,
   "id": "ed8aa27d",
   "metadata": {},
   "outputs": [
    {
     "data": {
      "text/plain": [
       "'850101-*******'"
      ]
     },
     "execution_count": 49,
     "metadata": {},
     "output_type": "execute_result"
    }
   ],
   "source": [
    "import re\n",
    "data=\"850101-1234567\"\n",
    "pat=re.compile(\"(\\d{6})-\\d{7}\")\n",
    "pat.sub(\"\\g<1>-*******\", data)"
   ]
  },
  {
   "cell_type": "code",
   "execution_count": 51,
   "id": "412b3cd2",
   "metadata": {},
   "outputs": [],
   "source": [
    "#re.match(\"패턴\",\"문자열\")  #문자열에 패턴이 있는지 확인\n",
    "\n",
    "re.match(\"hi\", \"hi hello world\")#\"hi hello world\"에 \"hi\"이 있는지 판단\n",
    "#패턴이 문자열에 있는 경우에는 매치된 패턴과 위치가 출력\n",
    "\n",
    "#match함수는 문자열의 최좌측부터 시작하여 패턴이 있는지 확인.\n",
    "#처음부터 패턴이 문자열에 없다면 종료\n",
    "re.match(\"hello\", \"hi hello world\")#\"hi hello world\"에 \"hello\"패턴이 있는지 판단\n"
   ]
  },
  {
   "cell_type": "code",
   "execution_count": 52,
   "id": "0dcb9b4c",
   "metadata": {},
   "outputs": [
    {
     "data": {
      "text/plain": [
       "<re.Match object; span=(0, 5), match='hello'>"
      ]
     },
     "execution_count": 52,
     "metadata": {},
     "output_type": "execute_result"
    }
   ],
   "source": [
    "#패턴이 문자열에 없다면 곧바로 종료\n",
    "#패턴이 문자열에 있다면 매치된 문자열이 출력\n",
    "re.match(\"hello\", \"hello world\")"
   ]
  },
  {
   "cell_type": "code",
   "execution_count": 58,
   "id": "ad845957",
   "metadata": {},
   "outputs": [
    {
     "name": "stdout",
     "output_type": "stream",
     "text": [
      "None\n",
      "None\n",
      "<re.Match object; span=(0, 5), match='hello'>\n",
      "None\n"
     ]
    }
   ],
   "source": [
    "#re.match(\"패턴\",\"문자열\") \n",
    "print(re.match(\"hello\", \"hehllo world\"))\n",
    "print(re.match(\"hello\", \"1hello world\"))\n",
    "print(re.match(\"hello\", \"hello world\"))\n",
    "\n",
    "print(re.match(\"hello!\", \"hellohello! world\"))"
   ]
  },
  {
   "cell_type": "code",
   "execution_count": null,
   "id": "f44c3691",
   "metadata": {},
   "outputs": [],
   "source": [
    "#정규표현식 메타문자()\n",
    "\n",
    "# 메타 데이터:데이터를 표현(설명)하는 데이터\n",
    "    \n",
    "# 메타 문자 : 기호가 갖는 고유의 의미가 아닌, 정규표현식에서 식을 정의하는데\n",
    "#     사용되는 특별한 의미의 문자(기호)\n",
    "# 메타 문자 종류 : () [] {} \\ | ? + * ^ $...    \n",
    "\n",
    "#메타버스? Meta-verse\n",
    "\n"
   ]
  },
  {
   "cell_type": "code",
   "execution_count": null,
   "id": "6365d759",
   "metadata": {},
   "outputs": [],
   "source": [
    "\"\"\"\n",
    "#1. [] : 모든 문자가 대괄호 안에 올 수 있음\n",
    "ex) [abcde] : a,b,c,d,e 중에서 한 개의 문자와 매치\n",
    "\n",
    "\"\"\"\n"
   ]
  },
  {
   "cell_type": "code",
   "execution_count": 71,
   "id": "21e07501",
   "metadata": {},
   "outputs": [
    {
     "name": "stdout",
     "output_type": "stream",
     "text": [
      "<re.Match object; span=(0, 1), match='a'>\n",
      "<re.Match object; span=(0, 1), match='e'>\n",
      "<re.Match object; span=(0, 1), match='a'>\n",
      "<re.Match object; span=(0, 1), match='a'>\n",
      "None\n",
      "<re.Match object; span=(0, 1), match='a'>\n",
      "<re.Match object; span=(0, 4), match='abcd'>\n",
      "<re.Match object; span=(0, 2), match='ab'>\n",
      "None\n"
     ]
    }
   ],
   "source": [
    "print(re.match(\"[abcde]\", \"a\"))\n",
    "print(re.match(\"[abcde]\", \"e\"))\n",
    "print(re.match(\"[abcde]\", \"ab\"))\n",
    "print(re.match(\"[abcde]\", \"abcd\"))\n",
    "print(re.match(\"abcde\", \"abcd\")) #+는 한 문자 이상과 매치되는지 검사\n",
    "\n",
    "print(re.match(\"[decab]\", \"abcd\"))#1개의 문자에 대해서만 매치여부 확인, 순서 없음\n",
    "print(re.match(\"[decab]+\", \"abcd\")) \n",
    "\n",
    "print(re.match(\"[decab]+\", \"abfcd\")) \n",
    "print(re.match(\"[decab]+\", \"xabfcd\")) "
   ]
  },
  {
   "cell_type": "code",
   "execution_count": 76,
   "id": "972a9c52",
   "metadata": {},
   "outputs": [
    {
     "name": "stdout",
     "output_type": "stream",
     "text": [
      "None\n",
      "None\n",
      "<re.Match object; span=(0, 3), match='all'>\n"
     ]
    }
   ],
   "source": [
    "print(re.match(\"[abcd]+\", \"sky\")) \n",
    "print(re.match(\"[abcd]+\", \"saky\")) \n",
    "print(re.match(\"[abcd]+\", \"all\")) \n"
   ]
  },
  {
   "cell_type": "code",
   "execution_count": 88,
   "id": "f60ee180",
   "metadata": {},
   "outputs": [
    {
     "name": "stdout",
     "output_type": "stream",
     "text": [
      "<re.Match object; span=(0, 2), match='al'>\n",
      "<re.Match object; span=(0, 3), match='120'>\n",
      "<re.Match object; span=(0, 6), match='120348'>\n",
      "<re.Match object; span=(0, 5), match='HELLO'>\n",
      "<re.Match object; span=(0, 11), match='HELLO World'>\n"
     ]
    }
   ],
   "source": [
    "#영문자 소문자만 오면 모두 매치\n",
    "print(re.match(\"[a-z]+\", \"al7l\")) \n",
    "print(re.match(\"[10842]+\", \"120348\")) \n",
    "print(re.match(\"[0-9]+\", \"120348\")) \n",
    "print(re.match(\"[A-Z]+\", \"HELLO World\")) \n",
    "print(re.match(\"[A-Z a-z]+\", \"HELLO World\")) \n",
    "print(re.match(\"[A-Z a-z]+\", \"HELLO World\")) "
   ]
  },
  {
   "cell_type": "code",
   "execution_count": 95,
   "id": "1cbe6b94",
   "metadata": {},
   "outputs": [
    {
     "name": "stdout",
     "output_type": "stream",
     "text": [
      "<re.Match object; span=(0, 1), match='가'>\n",
      "<re.Match object; span=(0, 5), match='가다나가다'>\n",
      "<re.Match object; span=(0, 7), match='가다나가다라다'>\n",
      "<re.Match object; span=(0, 7), match='가다나가다라다'>\n",
      "<re.Match object; span=(0, 19), match='ㅎㅎㅎㅎㅎㅎ가다나가다라다ㅋㅋㅋㅋㅋㅋ'>\n"
     ]
    }
   ],
   "source": [
    "print(re.match(\"[가나다]\",\"가다나가다라다\"))\n",
    "print(re.match(\"[가나다]+\",\"가다나가다라다\"))\n",
    "print(re.match(\"[라가나다]+\",\"가다나가다라다\"))\n",
    "print(re.match(\"[카라가나다]+\",\"가다나가다라다\"))\n",
    "print(re.match(\"[가-힣ㄱ-ㅎ]+\",\"ㅎㅎㅎㅎㅎㅎ가다나가다라다ㅋㅋㅋㅋㅋㅋ\"))"
   ]
  },
  {
   "cell_type": "code",
   "execution_count": 97,
   "id": "fb81438d",
   "metadata": {},
   "outputs": [
    {
     "name": "stdout",
     "output_type": "stream",
     "text": [
      "<re.Match object; span=(0, 17), match='&^%&$&^*&abcd가나다 '>\n",
      "<re.Match object; span=(0, 9), match='&^%&$&^*&'>\n"
     ]
    }
   ],
   "source": [
    "print(re.match(\"[^0-9]+\",\"&^%&$&^*&abcd가나다 8724*&\"))\n",
    "#숫자가 아니면 매치\n",
    "print(re.match(\"[^0-9ㄱ-힣a-z A-Z]+\",\"&^%&$&^*&abcd가나다 8724*&\"))\n"
   ]
  },
  {
   "cell_type": "code",
   "execution_count": 98,
   "id": "a48f7eb7",
   "metadata": {},
   "outputs": [],
   "source": [
    "# [a-z]\n",
    "# [A-Z]\n",
    "# [a-zA-Z]\n",
    "# [0-9] == \\d\n",
    "# [^0-9] == \\D  숫자를 제외한 모든 문자\n",
    "# [0-9A-Za-z가-핳] == \\w\n",
    "# [^0-9A-Za-z] == \\W\n",
    "# [ \\t\\n\\r] == \\s\n",
    "# [^ \\t\\n\\r] == \\S"
   ]
  },
  {
   "cell_type": "code",
   "execution_count": null,
   "id": "04a90bce",
   "metadata": {},
   "outputs": [],
   "source": []
  },
  {
   "cell_type": "code",
   "execution_count": 100,
   "id": "902056c9",
   "metadata": {},
   "outputs": [
    {
     "name": "stdout",
     "output_type": "stream",
     "text": [
      "<re.Match object; span=(0, 5), match='hello'>\n",
      "None\n"
     ]
    }
   ],
   "source": [
    "print(re.match(\"hello\", \"hello world\"))\n",
    "print(re.match(\"hello\", \"world hello world\"))"
   ]
  },
  {
   "cell_type": "code",
   "execution_count": 107,
   "id": "8e4356d8",
   "metadata": {},
   "outputs": [
    {
     "name": "stdout",
     "output_type": "stream",
     "text": [
      "<re.Match object; span=(0, 5), match='hello'>\n",
      "<re.Match object; span=(6, 11), match='hello'>\n",
      "<re.Match object; span=(1, 2), match='o'>\n"
     ]
    }
   ],
   "source": [
    "print(re.search(\"hello\", \"hello world\"))\n",
    "print(re.search(\"hello\", \"world hello world hello\"))\n",
    "print(re.search(\"[helo]+\", \"world hello world\"))"
   ]
  },
  {
   "cell_type": "code",
   "execution_count": 109,
   "id": "0e8c4178",
   "metadata": {},
   "outputs": [],
   "source": [
    "re.search(\"hi\", \"hello, hi\")\n",
    "re.search(\"^hi\", \"hello, hi\") \n",
    "# ^ :~시작하는지 판단, ^hi : hi로 시작하는 문자열\n",
    "# $ : ~끝나는지 판단, hi$ : hi 로 끝나는 문자열"
   ]
  },
  {
   "cell_type": "code",
   "execution_count": 117,
   "id": "5ccb0d04",
   "metadata": {},
   "outputs": [
    {
     "name": "stdout",
     "output_type": "stream",
     "text": [
      "<re.Match object; span=(7, 9), match='hi'>\n",
      "None\n",
      "<re.Match object; span=(0, 5), match='hello'>\n",
      "<re.Match object; span=(7, 9), match='hi'>\n",
      "<re.Match object; span=(0, 2), match='he'>\n",
      "<re.Match object; span=(0, 2), match='hi'>\n"
     ]
    }
   ],
   "source": [
    "print(re.search(\"hi\", \"hello, hi\") )\n",
    "print(re.search(\"^hi\", \"hello, hi\") )\n",
    "print(re.search(\"^hello\", \"hello, hi\") )\n",
    "print(re.search(\"hi$\", \"hello, hi\") )\n",
    "\n",
    "print(re.search(\"hi|he\", \"hello, hi\")) # | : or\n",
    "\n",
    "print(re.search(\"hi|he|good|hello\", \"hi hello\"))"
   ]
  },
  {
   "cell_type": "code",
   "execution_count": 118,
   "id": "438bc05f",
   "metadata": {},
   "outputs": [],
   "source": [
    "# * : 0개 이상 있는지 판단\n",
    "# + : 1개 이상 있는지 판단"
   ]
  },
  {
   "cell_type": "code",
   "execution_count": 129,
   "id": "20a4c5fe",
   "metadata": {},
   "outputs": [
    {
     "name": "stdout",
     "output_type": "stream",
     "text": [
      "문자열이 패턴식에 매치가 됐습니다\n"
     ]
    }
   ],
   "source": [
    "#print(re.match(\"[0-9]\", \"x12a3b\"))\n",
    "\n",
    "#re.match(\"[0-9]+\", \"12a3b\")\n",
    "\n",
    "#re.match(\"[0-9]+\", \"x12a3b\")\n",
    "\n",
    "res=re.match(\"[0-9]\", \"12a3b\")\n",
    "if res:\n",
    "    print(\"문자열이 패턴식에 매치가 됐습니다\")\n",
    "else:\n",
    "    print(\"매치되지 않았습니다\")\n"
   ]
  },
  {
   "cell_type": "code",
   "execution_count": 126,
   "id": "9aca1476",
   "metadata": {},
   "outputs": [
    {
     "name": "stdout",
     "output_type": "stream",
     "text": [
      "None\n"
     ]
    }
   ],
   "source": [
    "# x=None\n",
    "# if x:\n",
    "#     print(\"None이 아님\")\n",
    "# else:\n",
    "#     print(\"None\")"
   ]
  },
  {
   "cell_type": "code",
   "execution_count": 135,
   "id": "3ccaca35",
   "metadata": {},
   "outputs": [
    {
     "name": "stdout",
     "output_type": "stream",
     "text": [
      "<re.Match object; span=(0, 2), match='12'>\n",
      "None\n"
     ]
    }
   ],
   "source": [
    "print(re.match(\"[0-9]+\", \"12a3b\"))\n",
    "print(re.match(\"[0-9]+\", \"a12a3b\")) #None?매치되지 않았다"
   ]
  },
  {
   "cell_type": "code",
   "execution_count": 137,
   "id": "7cd61f14",
   "metadata": {},
   "outputs": [
    {
     "name": "stdout",
     "output_type": "stream",
     "text": [
      "<re.Match object; span=(0, 2), match='12'>\n",
      "<re.Match object; span=(0, 0), match=''>\n"
     ]
    }
   ],
   "source": [
    "#* : 0개 이상이 매치되는지 확인\n",
    "print(re.match(\"[0-9]*\", \"12a3b\")) #0~9까지의 숫자가 0개 이상 매치되는지 확인\n",
    "print(re.match(\"[0-9]*\", \"a12a3b\")) #0개가 매치됐으므로 객체가 출력"
   ]
  },
  {
   "cell_type": "code",
   "execution_count": 140,
   "id": "4f14f1cd",
   "metadata": {},
   "outputs": [
    {
     "name": "stdout",
     "output_type": "stream",
     "text": [
      "<re.Match object; span=(0, 1), match='a'>\n",
      "<re.Match object; span=(0, 0), match=''>\n",
      "None\n"
     ]
    }
   ],
   "source": [
    "print(re.match(\"[a-z]*\", \"a12a3b\"))\n",
    "print(re.match(\"[a-z]*\", \"12a3b\"))\n",
    "print(re.match(\"[a-z]+\", \"12a3b\"))"
   ]
  },
  {
   "cell_type": "code",
   "execution_count": 8,
   "id": "684abf28",
   "metadata": {},
   "outputs": [
    {
     "name": "stdout",
     "output_type": "stream",
     "text": [
      "<re.Match object; span=(0, 1), match='b'>\n",
      "None\n",
      "<re.Match object; span=(0, 8), match='aaaaaaab'>\n",
      "<re.Match object; span=(0, 8), match='aaaaaaab'>\n",
      "<re.Match object; span=(0, 7), match='aaaaaaa'>\n",
      "None\n"
     ]
    }
   ],
   "source": [
    "# print(re.match(\"a\", \"b\"))\n",
    "# print(re.match(\"a\", \"ab\"))\n",
    "# print(re.match(\"a\", \"ba\"))\n",
    "# print(re.match(\"a*\", \"b\"))\n",
    "# print(re.match(\"a*\", \"ab\"))\n",
    "# print(re.match(\"a*\", \"aaaaaaaaaaaaaaaaaab\"))\n",
    "\n",
    "# print(re.match(\"a+\", \"b\"))\n",
    "# print(re.match(\"a+\", \"ab\"))\n",
    "# print(re.match(\"a+\", \"aaaaaaaaaaaaaaaaaab\"))\n",
    "\n",
    "print(re.match(\"a*b\", \"b\")) #a가 0개 이상 나온 후 이어서 b가 나와야 함\n",
    "print(re.match(\"a*b\", \"aaaaaaa\")) #\n",
    "print(re.match(\"a*b\", \"aaaaaaabbbbb\")) #\n",
    "\n",
    "print(re.match(\"a+b\", \"aaaaaaabbbbb\")) #\n",
    "print(re.match(\"a+b*\", \"aaaaaaa\"))\n",
    "\n",
    "print(re.match(\"a+b+\", \"aaaaaaa\"))"
   ]
  },
  {
   "cell_type": "code",
   "execution_count": 6,
   "id": "bb618e15",
   "metadata": {},
   "outputs": [
    {
     "name": "stdout",
     "output_type": "stream",
     "text": [
      "<re.Match object; span=(0, 10), match='가고싶은100입니다'>\n",
      "None\n"
     ]
    }
   ],
   "source": [
    "import re\n",
    "print(re.search(\"[가-힣]+[0-9]+입니다\", \"가고싶은100입니다\"))\n",
    "print(re.search(\"[가-힣]+[0-9]+입니다\", \"가고싶은입니다\"))\n"
   ]
  },
  {
   "cell_type": "code",
   "execution_count": 175,
   "id": "3dfec62d",
   "metadata": {},
   "outputs": [
    {
     "data": {
      "text/plain": [
       "['100', '200']"
      ]
     },
     "execution_count": 175,
     "metadata": {},
     "output_type": "execute_result"
    }
   ],
   "source": [
    "s=\"가나다 100 라마바 200\"\n",
    "#s에서 숫자를 추출\n",
    "#re.match(패턴식, s)\n",
    "\n",
    "#res=re.search(\"[0-9]+\", s)\n",
    "#res=re.search(\"\\d+\", s)\n",
    "\n",
    "\n",
    "re.findall(\"[0-9]+\", s)\n",
    "re.findall(\"\\d+\", s)\n",
    "#len(re.findall(\"\\d+\", s))"
   ]
  },
  {
   "cell_type": "code",
   "execution_count": 181,
   "id": "b2eacd7c",
   "metadata": {},
   "outputs": [
    {
     "data": {
      "text/plain": [
       "['27.3도', '39도', '38.5도']"
      ]
     },
     "execution_count": 181,
     "metadata": {},
     "output_type": "execute_result"
    }
   ],
   "source": [
    "# 3.14\n",
    "# 27.3\n",
    "# 36\n",
    "\n",
    "#나이\n",
    "#re.findall(\"[0-9]+세\",\"20세 3.14 27.3도 36세\")\n",
    "\n",
    "#도\n",
    "re.findall(\"[0-9.]+도\",\"20세 3.14 27.3도 36세 39도 38.5도\")"
   ]
  },
  {
   "cell_type": "code",
   "execution_count": 182,
   "id": "5f5f1657",
   "metadata": {},
   "outputs": [],
   "source": [
    "news=\"\"\"\n",
    "뜨거운 열기가 계속 쌓여만 가는 느낌인데요.\n",
    "\n",
    "현재 서울 기온은 34.5도까지 치솟으며 하루 만에 올여름 최고 기온을 경신했습니다.\n",
    "\n",
    "특히 비공식 기온이지만 서울 강북구 수유동은 무려 37.2도까지 치솟으며 사람 체온을 웃돌고 있습니다.\n",
    "\n",
    "반면, 대기 불안정으로 동쪽 지방은 호우특보 속에 요란한 소나기가 쏟아지고 있는데요.\n",
    "\n",
    "시설물 관리와 안전사고에 주의하셔야겠습니다.\n",
    "\n",
    "전국 대부분 지역에 폭염특보가 계속되는 가운데, 현재 전국에서 가장 더운 곳은 경기도 안성으로, 양성면의 기온이 37.7도까지 치솟았는데요.\n",
    "\n",
    "서울도 체감 35도 안팎의 찜통더위가 계속되고 있습니다.\n",
    "\n",
    "찌는 듯한 더위 속에 대기 불안정이 심해지면서 동쪽 내륙을 중심으로는 강한 소나기 구름이 발달하고 있는데요.\n",
    "\n",
    "강원 남부 내륙과 전북 동부에 호우특보가 내려진 가운데, 내일 새벽까지 돌풍과 벼락을 동반한 시간당 50mm 이상의 장대비가 쏟아지며, 100mm 이상의 강우량을 기록하는 곳도 있겠습니다.\n",
    "\n",
    "피해 없도록 주변 점검 철저히 해주시기 바랍니다.\n",
    "\n",
    "내일과 모레도 무더위 속에 기습적인 소나기가 지나겠고요, 일요일 전국에 비가 내린 뒤 다음 주에는 더 심한 더위가 찾아오겠습니다.\n",
    "\n",
    "연일 계속되는 무더위에 온열 질환에 걸릴 가능성도 커지고 있습니다.\n",
    "\n",
    "볕이 강한 오후 2~5시 사이 장시간의 야외 활동은 자제하시는 게 좋겠습니다.\n",
    "\n",
    "YTN 신미림입니다.\n",
    "\"\"\""
   ]
  },
  {
   "cell_type": "code",
   "execution_count": 183,
   "id": "e4bca00a",
   "metadata": {},
   "outputs": [
    {
     "data": {
      "text/plain": [
       "'\\n뜨거운 열기가 계속 쌓여만 가는 느낌인데요.\\n\\n현재 서울 기온은 34.5도까지 치솟으며 하루 만에 올여름 최고 기온을 경신했습니다.\\n\\n특히 비공식 기온이지만 서울 강북구 수유동은 무려 37.2도까지 치솟으며 사람 체온을 웃돌고 있습니다.\\n\\n반면, 대기 불안정으로 동쪽 지방은 호우특보 속에 요란한 소나기가 쏟아지고 있는데요.\\n\\n시설물 관리와 안전사고에 주의하셔야겠습니다.\\n\\n전국 대부분 지역에 폭염특보가 계속되는 가운데, 현재 전국에서 가장 더운 곳은 경기도 안성으로, 양성면의 기온이 37.7도까지 치솟았는데요.\\n\\n서울도 체감 35도 안팎의 찜통더위가 계속되고 있습니다.\\n\\n찌는 듯한 더위 속에 대기 불안정이 심해지면서 동쪽 내륙을 중심으로는 강한 소나기 구름이 발달하고 있는데요.\\n\\n강원 남부 내륙과 전북 동부에 호우특보가 내려진 가운데, 내일 새벽까지 돌풍과 벼락을 동반한 시간당 50mm 이상의 장대비가 쏟아지며, 100mm 이상의 강우량을 기록하는 곳도 있겠습니다.\\n\\n피해 없도록 주변 점검 철저히 해주시기 바랍니다.\\n\\n내일과 모레도 무더위 속에 기습적인 소나기가 지나겠고요, 일요일 전국에 비가 내린 뒤 다음 주에는 더 심한 더위가 찾아오겠습니다.\\n\\n연일 계속되는 무더위에 온열 질환에 걸릴 가능성도 커지고 있습니다.\\n\\n볕이 강한 오후 2~5시 사이 장시간의 야외 활동은 자제하시는 게 좋겠습니다.\\n\\nYTN 신미림입니다.\\n'"
      ]
     },
     "execution_count": 183,
     "metadata": {},
     "output_type": "execute_result"
    }
   ],
   "source": [
    "news"
   ]
  },
  {
   "cell_type": "code",
   "execution_count": null,
   "id": "6967ead2",
   "metadata": {},
   "outputs": [],
   "source": []
  }
 ],
 "metadata": {
  "kernelspec": {
   "display_name": "Python 3",
   "language": "python",
   "name": "python3"
  },
  "language_info": {
   "codemirror_mode": {
    "name": "ipython",
    "version": 3
   },
   "file_extension": ".py",
   "mimetype": "text/x-python",
   "name": "python",
   "nbconvert_exporter": "python",
   "pygments_lexer": "ipython3",
   "version": "3.8.8"
  }
 },
 "nbformat": 4,
 "nbformat_minor": 5
}
