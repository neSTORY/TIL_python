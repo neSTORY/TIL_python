{
 "cells": [
  {
   "cell_type": "code",
   "execution_count": 7,
   "id": "e44ca0ee",
   "metadata": {},
   "outputs": [
    {
     "name": "stdout",
     "output_type": "stream",
     "text": [
      "None\n",
      "<re.Match object; span=(0, 3), match='acb'>\n",
      "None\n"
     ]
    }
   ],
   "source": [
    "# Dot(.) : 모든 문자와 매치가 됨(단, \\n은 제외)\n",
    "import re\n",
    "\n",
    "print(re.match(\"a.b\",\"abc\"))\n",
    "print(re.match(\"a.b\",\"acbc\"))\n",
    "print(re.match(\"a.b0\",\"accbc\"))"
   ]
  },
  {
   "cell_type": "code",
   "execution_count": 11,
   "id": "b65b9b5b",
   "metadata": {},
   "outputs": [
    {
     "name": "stdout",
     "output_type": "stream",
     "text": [
      "<re.Match object; span=(0, 3), match='a.b'>\n"
     ]
    },
    {
     "data": {
      "text/plain": [
       "<re.Match object; span=(0, 4), match='a..b'>"
      ]
     },
     "execution_count": 11,
     "metadata": {},
     "output_type": "execute_result"
    }
   ],
   "source": [
    "#[.] : 반드시 점이 있어야 함\n",
    "\n",
    "print(re.match(\"a[.,]b\", \"a.b\"))\n",
    "(re.match(\"a[.]+b\", \"a..b\"))"
   ]
  },
  {
   "cell_type": "code",
   "execution_count": 17,
   "id": "27b653d1",
   "metadata": {},
   "outputs": [
    {
     "name": "stdout",
     "output_type": "stream",
     "text": [
      "None\n",
      "<re.Match object; span=(0, 4), match='doog'>\n",
      "None\n",
      "<re.Match object; span=(0, 3), match='doo'>\n",
      "<re.Match object; span=(0, 6), match='dooooo'>\n",
      "<re.Match object; span=(0, 6), match='dooooo'>\n"
     ]
    }
   ],
   "source": [
    "# 문자 {숫자} : 반드시 숫자만큼 왼쪽에 있는 문자가 반복되어야 함\n",
    "\n",
    "print(re.match(\"do{2}g\", \"dog\"))\n",
    "print(re.match(\"do{2}g\", \"doog\"))\n",
    "print(re.match(\"do{2}g\", \"dooog\"))\n",
    "\n",
    "# 문자{숫자1, 숫자2} : 반드시 숫자1 이상 숫자2 이하만큼 왼쪽에 있는 문자가 반복되어야 함\n",
    "print(re.match(\"do{2,5}\",\"doog\"))\n",
    "print(re.match(\"do{2,5}\",\"doooooog\"))\n",
    "print(re.match(\"do{2,5}\",\"doooooooog\"))"
   ]
  },
  {
   "cell_type": "code",
   "execution_count": 18,
   "id": "9de4fee9",
   "metadata": {},
   "outputs": [],
   "source": [
    "# ? == {0,1} 0개 이상 1개 이하\n",
    "# * == {0, 무한대} 0개 이상\n",
    "# + == {1, 무한대} 1개 이상"
   ]
  },
  {
   "cell_type": "code",
   "execution_count": 19,
   "id": "9b4c1839",
   "metadata": {},
   "outputs": [
    {
     "name": "stdout",
     "output_type": "stream",
     "text": [
      "<re.Match object; span=(0, 2), match='dg'>\n",
      "<re.Match object; span=(0, 3), match='dog'>\n",
      "None\n"
     ]
    }
   ],
   "source": [
    "print(re.match(\"do?g\",\"dg\"))\n",
    "print(re.match(\"do?g\",\"dog\"))\n",
    "print(re.match(\"do?g\",\"doog\"))"
   ]
  },
  {
   "cell_type": "code",
   "execution_count": 31,
   "id": "ff14fbfd",
   "metadata": {},
   "outputs": [],
   "source": [
    "s = \"How are you?\""
   ]
  },
  {
   "cell_type": "code",
   "execution_count": 35,
   "id": "0715cbb3",
   "metadata": {},
   "outputs": [
    {
     "data": {
      "text/plain": [
       "['How', 'are', 'you?']"
      ]
     },
     "execution_count": 35,
     "metadata": {},
     "output_type": "execute_result"
    }
   ],
   "source": [
    "re.findall(\"[a-zA-Z?]+\",s)"
   ]
  },
  {
   "cell_type": "code",
   "execution_count": 42,
   "id": "635dbb53",
   "metadata": {},
   "outputs": [
    {
     "data": {
      "text/plain": [
       "<re.Match object; span=(4, 10), match='python'>"
      ]
     },
     "execution_count": 42,
     "metadata": {},
     "output_type": "execute_result"
    }
   ],
   "source": [
    "# re.match(\"패턴식\", \"문자열\")\n",
    "\n",
    "pat = re.compile(\"[a-z]+\")\n",
    "# res = pat.match(\"python\")\n",
    "res = pat.search(\"100 python\")\n",
    "res"
   ]
  },
  {
   "cell_type": "code",
   "execution_count": 44,
   "id": "786bfce8",
   "metadata": {},
   "outputs": [
    {
     "name": "stdout",
     "output_type": "stream",
     "text": [
      "python\n",
      "6\n",
      "4\n",
      "10\n",
      "(4, 10)\n"
     ]
    }
   ],
   "source": [
    "print(res.group()) # group : 매치된 문자열\n",
    "print(len(res.group()))\n",
    "print(res.start()) # 매치된 문자열의 시작 위치\n",
    "print(res.end()) # 매치된 문자열의 끝 위치\n",
    "print(res.span()) # 매치된 문자열의 (시작, 끝) 위치"
   ]
  },
  {
   "cell_type": "code",
   "execution_count": 62,
   "id": "734360bc",
   "metadata": {},
   "outputs": [],
   "source": [
    "pat = re.compile(\"\\\\test\") # print(\"\\\\\") - > \"\\\"\n",
    "pat.search(\"\\\\\\\\[a-z]+\")"
   ]
  },
  {
   "cell_type": "code",
   "execution_count": 151,
   "id": "59b0de9b",
   "metadata": {},
   "outputs": [
    {
     "data": {
      "text/plain": [
       "<re.Match object; span=(0, 1), match='\\\\'>"
      ]
     },
     "execution_count": 151,
     "metadata": {},
     "output_type": "execute_result"
    }
   ],
   "source": [
    "re.match(\"\\\\\\\\\",\"\\\\est\")"
   ]
  },
  {
   "cell_type": "code",
   "execution_count": 69,
   "id": "58cbbede",
   "metadata": {},
   "outputs": [
    {
     "data": {
      "text/plain": [
       "'100 200'"
      ]
     },
     "execution_count": 69,
     "metadata": {},
     "output_type": "execute_result"
    }
   ],
   "source": [
    "res =res =re.match(\"\\d+ \\d+\",\"100 200\")\n",
    "res.group()"
   ]
  },
  {
   "cell_type": "code",
   "execution_count": 81,
   "id": "febcef73",
   "metadata": {},
   "outputs": [
    {
     "name": "stdout",
     "output_type": "stream",
     "text": [
      "100 200\n",
      "100\n",
      "200\n",
      "('100', '200')\n"
     ]
    }
   ],
   "source": [
    "res =re.match(\"([0-9]+) (\\d+)\",\"100 200\") # () 로 묶으면 group으로 추출할 때 순서로 따로 추출가능\n",
    "print(res.group()) # == res.group(0)\n",
    "print(res.group(1)) # 인덱스랑 다르게 1부터 시작\n",
    "print(res.group(2))\n",
    "print(res.groups()) # groups는 튜플형태로 추출"
   ]
  },
  {
   "cell_type": "code",
   "execution_count": 82,
   "id": "4d3ee7af",
   "metadata": {},
   "outputs": [],
   "source": [
    "res =re.match(\"(?P<first>\\d+) (?P<second>\\d+)\",\"100 200\")\n",
    "# ?P<그룹명>"
   ]
  },
  {
   "cell_type": "code",
   "execution_count": 80,
   "id": "ddfc4fe9",
   "metadata": {},
   "outputs": [
    {
     "name": "stdout",
     "output_type": "stream",
     "text": [
      "100\n",
      "100\n",
      "200\n",
      "200\n"
     ]
    }
   ],
   "source": [
    "print(res.group(1))\n",
    "print(res.group(\"first\"))\n",
    "print(res.group(2))\n",
    "print(res.group('second'))"
   ]
  },
  {
   "cell_type": "code",
   "execution_count": 83,
   "id": "dfae9f9d",
   "metadata": {},
   "outputs": [
    {
     "data": {
      "text/plain": [
       "'한국은 한국(한국)입니다'"
      ]
     },
     "execution_count": 83,
     "metadata": {},
     "output_type": "execute_result"
    }
   ],
   "source": [
    "# 동의어 처리\n",
    "# re.sub(\"정규식\", \"바꿀문자열\",\"문자열\")\n",
    "#문자열이 정규식에 매칭되면 바꿀 문자열로 변경하시오\n",
    "\n",
    "re.sub(\"대한민국|코리아|Korea\", \"한국\",\"대한민국은 코리아(Korea)입니다\")"
   ]
  },
  {
   "cell_type": "code",
   "execution_count": 84,
   "id": "8d230fdd",
   "metadata": {},
   "outputs": [],
   "source": [
    "# 다의어 처리??\n",
    "# 배 -타는,먹는,신체"
   ]
  },
  {
   "cell_type": "code",
   "execution_count": 86,
   "id": "e8c65de2",
   "metadata": {},
   "outputs": [
    {
     "data": {
      "text/plain": [
       "<re.Match object; span=(0, 9), match='가나다가나다가나다'>"
      ]
     },
     "execution_count": 86,
     "metadata": {},
     "output_type": "execute_result"
    }
   ],
   "source": [
    "re.match(\"(가나다)+\", \"가나다가나다가나다라마바\") # group으로 묶고 +를 쓰면 여러번 반복을 의미함"
   ]
  },
  {
   "cell_type": "code",
   "execution_count": 89,
   "id": "6eca3dc3",
   "metadata": {},
   "outputs": [
    {
     "name": "stdout",
     "output_type": "stream",
     "text": [
      "None\n",
      "<re.Match object; span=(0, 7), match='a.....b'>\n",
      "None\n"
     ]
    }
   ],
   "source": [
    "# a[.]{3,}b 패턴식\n",
    "print(re.match(\"a[.]{3,}b\",\"acccb\")) # 대괄호 안에 점 하나는 점 하나를 의미 대괄호 밖에 점은 모든 문자를 의미!!\n",
    "print(re.match(\"a[.]{3,}b\",\"a.....b\"))\n",
    "print(re.match(\"a[.]{3,}b\",\"aaab\"))"
   ]
  },
  {
   "cell_type": "code",
   "execution_count": 3,
   "id": "01644d21",
   "metadata": {},
   "outputs": [],
   "source": [
    "import re\n",
    "s = \"\"\"\n",
    "kim 010-1111-2222\n",
    "lee 010-1111-3333\n",
    "park 010-1111-1111\n",
    "\"\"\""
   ]
  },
  {
   "cell_type": "code",
   "execution_count": 4,
   "id": "1120c094",
   "metadata": {},
   "outputs": [],
   "source": [
    "s_list = re.findall(\"[a-z]+ 010-[0-9]+-[0-9]+\",s)"
   ]
  },
  {
   "cell_type": "code",
   "execution_count": 5,
   "id": "bc65d824",
   "metadata": {},
   "outputs": [
    {
     "data": {
      "text/plain": [
       "['kim 010-1111-2222', 'lee 010-1111-3333', 'park 010-1111-1111']"
      ]
     },
     "execution_count": 5,
     "metadata": {},
     "output_type": "execute_result"
    }
   ],
   "source": [
    "s_list"
   ]
  },
  {
   "cell_type": "code",
   "execution_count": 13,
   "id": "632bf387",
   "metadata": {},
   "outputs": [
    {
     "name": "stdout",
     "output_type": "stream",
     "text": [
      "<class 'str'>\n",
      "kim 010-####-####\n",
      "<class 'str'>\n",
      "lee 010-####-####\n",
      "<class 'str'>\n",
      "park 010-####-####\n"
     ]
    }
   ],
   "source": [
    "for i in s_list:\n",
    "    print(type(i))\n",
    "    s = re.sub(\"[0-9]{4}\",\"####\", i)\n",
    "    print(s)"
   ]
  },
  {
   "cell_type": "code",
   "execution_count": 14,
   "id": "5db07615",
   "metadata": {},
   "outputs": [
    {
     "data": {
      "text/plain": [
       "'\\nkim 010-1111-####\\nlee 010-1111-####\\npark 010-1111-####\\n'"
      ]
     },
     "execution_count": 14,
     "metadata": {},
     "output_type": "execute_result"
    }
   ],
   "source": [
    "s = \"\"\"\n",
    "kim 010-1111-2222\n",
    "lee 010-1111-3333\n",
    "park 010-1111-1111\n",
    "\"\"\"\n",
    "\n",
    "pat = re.compile(\"(\\d{3}[-]\\d{4})[-]\\d{4}\")\n",
    "pat.sub(\"\\g<1>-####\",s)"
   ]
  },
  {
   "cell_type": "code",
   "execution_count": 161,
   "id": "455f0fcc",
   "metadata": {},
   "outputs": [
    {
     "data": {
      "text/plain": [
       "'\\nkim 010-1111-####\\nlee 010-1111-####\\npark 010-1111-####\\n'"
      ]
     },
     "execution_count": 161,
     "metadata": {},
     "output_type": "execute_result"
    }
   ],
   "source": [
    "pat = re.compile(\"(\\d{3}[-]\\d{4})[-]\\d{4}\")\n",
    "pat.sub(\"\\g<1>-####\",s)\n",
    "\n",
    "# re.sub('[0-9]{4}',\"####\",s)"
   ]
  },
  {
   "cell_type": "code",
   "execution_count": 149,
   "id": "5ebf73a6",
   "metadata": {},
   "outputs": [],
   "source": [
    "s = \"\"\"\n",
    "문의 전화는 02-123-4567으로 연락주세요\n",
    "문의 전화는 02-1234-4567으로 연락주세요\n",
    "문의 전화는 032-1234-4567으로 연락주세요\n",
    "\"\"\""
   ]
  },
  {
   "cell_type": "code",
   "execution_count": 150,
   "id": "e9c1b526",
   "metadata": {},
   "outputs": [
    {
     "name": "stdout",
     "output_type": "stream",
     "text": [
      "None\n"
     ]
    }
   ],
   "source": [
    "res1 = re.match(\"\\d{2,3}[-]\\d{3,4}[-]\\d{4}\",s)"
   ]
  },
  {
   "cell_type": "code",
   "execution_count": 135,
   "id": "6d8e2aa4",
   "metadata": {},
   "outputs": [],
   "source": [
    "res = re.findall(\"(\\d{2,3})-(\\d{3,4})-(\\d{4})\",s)"
   ]
  },
  {
   "cell_type": "code",
   "execution_count": 136,
   "id": "118650eb",
   "metadata": {},
   "outputs": [
    {
     "name": "stdout",
     "output_type": "stream",
     "text": [
      "02 123 4567\n"
     ]
    }
   ],
   "source": [
    "print(지역번호,국번호,전화번호)"
   ]
  },
  {
   "cell_type": "code",
   "execution_count": 138,
   "id": "be03d108",
   "metadata": {},
   "outputs": [
    {
     "data": {
      "text/plain": [
       "[('02', '123', '4567'), ('02', '1234', '4567'), ('032', '1234', '4567')]"
      ]
     },
     "execution_count": 138,
     "metadata": {},
     "output_type": "execute_result"
    }
   ],
   "source": [
    "res"
   ]
  },
  {
   "cell_type": "code",
   "execution_count": 143,
   "id": "43396cac",
   "metadata": {},
   "outputs": [
    {
     "data": {
      "text/plain": [
       "'\\n문의 전화는 02-123-####으로 연락주세요\\n문의 전화는 02-1234-####으로 연락주세요\\n문의 전화는 032-1234-####으로 연락주세요\\n'"
      ]
     },
     "execution_count": 143,
     "metadata": {},
     "output_type": "execute_result"
    }
   ],
   "source": [
    "pat = re.compile(\"(\\d{2,3})-(\\d{3,4})-(\\d{4})\")\n",
    "pat.sub(\"\\g<1>-\\g<2>-####\",s)"
   ]
  },
  {
   "cell_type": "code",
   "execution_count": 158,
   "id": "c73f803d",
   "metadata": {},
   "outputs": [
    {
     "data": {
      "text/plain": [
       "1"
      ]
     },
     "execution_count": 158,
     "metadata": {},
     "output_type": "execute_result"
    }
   ],
   "source": []
  },
  {
   "cell_type": "code",
   "execution_count": null,
   "id": "79e01138",
   "metadata": {},
   "outputs": [],
   "source": []
  }
 ],
 "metadata": {
  "kernelspec": {
   "display_name": "Python 3",
   "language": "python",
   "name": "python3"
  },
  "language_info": {
   "codemirror_mode": {
    "name": "ipython",
    "version": 3
   },
   "file_extension": ".py",
   "mimetype": "text/x-python",
   "name": "python",
   "nbconvert_exporter": "python",
   "pygments_lexer": "ipython3",
   "version": "3.8.8"
  }
 },
 "nbformat": 4,
 "nbformat_minor": 5
}
