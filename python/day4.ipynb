{
 "cells": [
  {
   "cell_type": "code",
   "execution_count": null,
   "id": "fe9a32f4",
   "metadata": {},
   "outputs": [],
   "source": [
    "# if 문\n",
    "\n",
    "explicit(명시적) language : 파이썬, 자바,,\n",
    "\n",
    "명시적 언어의 한계 : 일부 작업에서는 모든 조건을 다 나열할 수 없을 정도로 조건이 많음\n",
    "\n",
    "-> implicit(묵시적) language 등장 : 머신러닝(인공지능) 언어\n",
    "    모든 조건을 나열하는 것이 아닌, 확률(통계)적 접근하여 문제 해결\n",
    "    \n",
    "ex)\n",
    "이세돌 <-> 알파고\n",
    "if 이세돌 1번 위치에 돌을 놓으면:\n",
    "    xxx\n",
    "elif 2번위치:\n",
    "...\n",
    "elif 19*19번 위치:\n",
    "    \n",
    "-> 이런식으로 명시적언어는 모든 조건을 나열할 수 없음\n",
    "\n",
    "if 조건문:\n",
    "    처리문\n",
    "\n",
    "# 조건문에는 not, and, or 를 사용할 수 있음\n",
    "\n",
    "if 신호등 == 빨강:\n",
    "    길을 건너지 마세요 # 의사코드 (pseudo)코드"
   ]
  },
  {
   "cell_type": "code",
   "execution_count": 4,
   "id": "3dc3d2cb",
   "metadata": {},
   "outputs": [],
   "source": [
    "x = 3\n",
    "if x==3:\n",
    "    pass # 나중에 코드 구현\n",
    "else:\n",
    "    print(\"다름\")\n",
    "    \n",
    "# pass는 파이썬에서만 존재하는 문법, 조건 만족시 아무 작업도 수행하지 않고 다음 줄로 이동\n",
    "# 조건을 만족했을때 처리해야할 구문이 아직 정해지지 않음"
   ]
  },
  {
   "cell_type": "code",
   "execution_count": null,
   "id": "302d1259",
   "metadata": {},
   "outputs": [],
   "source": [
    "# 주머니에 3000원 잉상 있으면 택시를 이용하겠다. 없으면 도보\n",
    "# 수도코드로 작성\n",
    "\n",
    "if 잔돈 >= 3000: # == if True:\n",
    "    택시를 탄다\n",
    "else:\n",
    "    도보이용"
   ]
  },
  {
   "cell_type": "code",
   "execution_count": 5,
   "id": "b3569d0c",
   "metadata": {},
   "outputs": [],
   "source": [
    "money = 2000\n",
    "card = True"
   ]
  },
  {
   "cell_type": "code",
   "execution_count": 8,
   "id": "c5f70547",
   "metadata": {},
   "outputs": [
    {
     "name": "stdout",
     "output_type": "stream",
     "text": [
      "택시를 이용합니다.\n"
     ]
    }
   ],
   "source": [
    "if money >= 3000 or card is True:\n",
    "    print(\"택시를 이용합니다.\")\n",
    "else:\n",
    "    print(\"도보로 갑니다.\")"
   ]
  },
  {
   "cell_type": "code",
   "execution_count": 13,
   "id": "1af7b560",
   "metadata": {},
   "outputs": [
    {
     "name": "stdout",
     "output_type": "stream",
     "text": [
      "0 이상입니다.\n",
      "5\n"
     ]
    }
   ],
   "source": [
    "# if문 안에 다시 if문을 사용 가능\n",
    "\n",
    "x = 5\n",
    "\n",
    "if x >= 0:\n",
    "    print(\"0 이상입니다.\")\n",
    "    if x ==5:\n",
    "        print(\"5\")\n",
    "    else:\n",
    "        print(x)"
   ]
  },
  {
   "cell_type": "code",
   "execution_count": 14,
   "id": "4b9a1eb8",
   "metadata": {},
   "outputs": [
    {
     "name": "stdout",
     "output_type": "stream",
     "text": [
      "여성\n"
     ]
    }
   ],
   "source": [
    "# 바람직하지 않은 코드\n",
    "\n",
    "gender = \"여성\"\n",
    "\n",
    "if gender == \"여성\":\n",
    "    print(\"여성\")\n",
    "if gender == \"남성\": # -> 여기까지 수행을 함\n",
    "    print(\"남성\")"
   ]
  },
  {
   "cell_type": "code",
   "execution_count": null,
   "id": "f8932f3f",
   "metadata": {},
   "outputs": [],
   "source": [
    "# 바람직한 코드\n",
    "\n",
    "gender = \"여성\"\n",
    "\n",
    "if gender == \"여성\":\n",
    "    print(\"여성\")        # -> 여기까지 수행을 함\n",
    "elif gender == \"남성\":\n",
    "    print(\"남성\")"
   ]
  },
  {
   "cell_type": "code",
   "execution_count": null,
   "id": "29d4a07e",
   "metadata": {},
   "outputs": [],
   "source": [
    "# if 와 elif 차이점\n",
    "# if는 조건 일일이 다 확인해보는데 elif는 조건이 만족하면 밑에까지 안가고 넘어감"
   ]
  },
  {
   "cell_type": "code",
   "execution_count": 18,
   "id": "c0e0a1e4",
   "metadata": {
    "scrolled": true
   },
   "outputs": [
    {
     "name": "stdout",
     "output_type": "stream",
     "text": [
      "점수 입력 : 90\n",
      "합격\n"
     ]
    }
   ],
   "source": [
    "score = int(input(\"점수 입력 : \"))\n",
    "\n",
    "if score >= 80:\n",
    "    print(\"합격\")\n",
    "else:\n",
    "    print(\"불합격\")"
   ]
  },
  {
   "cell_type": "code",
   "execution_count": null,
   "id": "37591f2b",
   "metadata": {},
   "outputs": [],
   "source": [
    "# 조건이 참인 경우 수행할 문장(변수 = 값 )if 조건문 else 거짓일 경우 수행할 문장(값)"
   ]
  },
  {
   "cell_type": "code",
   "execution_count": 21,
   "id": "a649e3de",
   "metadata": {},
   "outputs": [
    {
     "name": "stdout",
     "output_type": "stream",
     "text": [
      "0\n"
     ]
    }
   ],
   "source": [
    "x = 1\n",
    "\n",
    "# if x==0:\n",
    "#     y =x\n",
    "# else:\n",
    "#    y = 0\n",
    "\n",
    "y=x if x==0 else 0\n",
    "# x와 0이 같다면 x값을 y에게, 같지 않다면 0을 y에게 대입해라"
   ]
  },
  {
   "cell_type": "code",
   "execution_count": null,
   "id": "d3773d34",
   "metadata": {},
   "outputs": [],
   "source": [
    "print(y)"
   ]
  },
  {
   "cell_type": "code",
   "execution_count": 23,
   "id": "c937cf44",
   "metadata": {},
   "outputs": [],
   "source": [
    "if False:\n",
    "    print(\"참\")\n",
    "    \n",
    "# 조건문에 False, None, 0(이거 3개 전부 Fasle임)같이 False(거짓)을 넣으면 진행안됨.\n",
    "# 조건자체가 거짓이기 때문에!\n",
    "\n",
    "# 비어있는 리스트(튜플, 셋, 딕셔너리) 또한 거짓"
   ]
  },
  {
   "cell_type": "code",
   "execution_count": null,
   "id": "1ddaf970",
   "metadata": {},
   "outputs": [],
   "source": [
    "a in(또는 not in) 리스트(튜플, 문자열, set, 딕셔너리)"
   ]
  },
  {
   "cell_type": "code",
   "execution_count": 25,
   "id": "0b7d54da",
   "metadata": {},
   "outputs": [
    {
     "data": {
      "text/plain": [
       "True"
      ]
     },
     "execution_count": 25,
     "metadata": {},
     "output_type": "execute_result"
    }
   ],
   "source": [
    "1 in [1,2,3]"
   ]
  },
  {
   "cell_type": "code",
   "execution_count": 27,
   "id": "d76e9261",
   "metadata": {
    "scrolled": true
   },
   "outputs": [
    {
     "name": "stdout",
     "output_type": "stream",
     "text": [
      "들어있습니다.\n"
     ]
    }
   ],
   "source": [
    "if 1 in (1,2,3):\n",
    "    print(\"들어있습니다.\")"
   ]
  },
  {
   "cell_type": "code",
   "execution_count": 31,
   "id": "611ebf17",
   "metadata": {},
   "outputs": [
    {
     "name": "stdout",
     "output_type": "stream",
     "text": [
      "존재\n"
     ]
    }
   ],
   "source": [
    "x = {1:\"a\", 2:\"b\"}\n",
    "\n",
    "if 2 in x:\n",
    "    print(\"존재\")"
   ]
  },
  {
   "cell_type": "code",
   "execution_count": 33,
   "id": "3fccce5d",
   "metadata": {},
   "outputs": [],
   "source": [
    "s = 70"
   ]
  },
  {
   "cell_type": "code",
   "execution_count": 34,
   "id": "4bb882cf",
   "metadata": {},
   "outputs": [
    {
     "name": "stdout",
     "output_type": "stream",
     "text": [
      "합격\n"
     ]
    }
   ],
   "source": [
    "s = 70\n",
    "\n",
    "if s >= 60:\n",
    "    print(\"합격\")\n",
    "else:\n",
    "    print(\"불합격\")"
   ]
  },
  {
   "cell_type": "code",
   "execution_count": 35,
   "id": "92796656",
   "metadata": {},
   "outputs": [
    {
     "name": "stdout",
     "output_type": "stream",
     "text": [
      "합격\n"
     ]
    }
   ],
   "source": [
    "print(\"합격\") if s>=60 else print(\"불합격\")"
   ]
  },
  {
   "cell_type": "code",
   "execution_count": 38,
   "id": "090c7a80",
   "metadata": {},
   "outputs": [
    {
     "name": "stdout",
     "output_type": "stream",
     "text": [
      "같다\n"
     ]
    }
   ],
   "source": [
    "ani = \"dog\"\n",
    "cat = \"cat\"\n",
    "dog = \"dog\"\n",
    "\n",
    "print(\"같다\") if ani == dog else print(\"다르다\")"
   ]
  },
  {
   "cell_type": "code",
   "execution_count": null,
   "id": "bc4579c2",
   "metadata": {},
   "outputs": [],
   "source": [
    "# if elif else 구조\n",
    "# A if 조건 else B if 조건 else C"
   ]
  },
  {
   "cell_type": "code",
   "execution_count": 40,
   "id": "4b7d8e7c",
   "metadata": {},
   "outputs": [],
   "source": [
    "ani = \"cow\"\n",
    "cat = \"cat\"\n",
    "dog = \"dog\""
   ]
  },
  {
   "cell_type": "code",
   "execution_count": 42,
   "id": "9d196e99",
   "metadata": {},
   "outputs": [
    {
     "name": "stdout",
     "output_type": "stream",
     "text": [
      "cow\n"
     ]
    }
   ],
   "source": [
    "res = dog if ani == dog else cat if ani == cat else \"cow\"\n",
    "\n",
    "# 만약에 ani == dog 이면 dog 이 저장, 그렇지 않고\n",
    "# 만약에 ani == cat 이면 cat 이 저장, 그렇지 않으면 cow가 저장\n",
    "\n",
    "\n",
    "print(res)\n",
    "\n",
    "# 한 줄 if문은 조건이 많아지면 복잡해지기 때문에 이렇게 쓰지말도록 하자."
   ]
  },
  {
   "cell_type": "code",
   "execution_count": null,
   "id": "5864c6ae",
   "metadata": {},
   "outputs": [],
   "source": [
    "# for문\n",
    "\n",
    "for 변수 in range(횟수):\n",
    "    반복문장"
   ]
  },
  {
   "cell_type": "code",
   "execution_count": 47,
   "id": "b482a9f3",
   "metadata": {},
   "outputs": [
    {
     "name": "stdout",
     "output_type": "stream",
     "text": [
      "1\n",
      "3\n"
     ]
    }
   ],
   "source": [
    "# for i in range(10): # range(10) qjadnl : 0 ~ 9 까지의 값이 차례대로 i 에 저장됨\n",
    "#     print(i)\n",
    "\n",
    "i = 1\n",
    "\n",
    "# for _ in range(10): # '_' 언더바 입력시 : range(10)의 값을 무시하고 횟수만 10번 반복함\n",
    "#     print(i)\n",
    "\n",
    "x, _, y = 1,2,3 # '_' 는 무시됨\n",
    "print(x)\n",
    "print(y)"
   ]
  },
  {
   "cell_type": "code",
   "execution_count": 52,
   "id": "b6c5e8ab",
   "metadata": {},
   "outputs": [
    {
     "name": "stdout",
     "output_type": "stream",
     "text": [
      "0 2 4 6 8 "
     ]
    }
   ],
   "source": [
    "# range(0,10,2) 3번째에 등차를 적어줄 수 있다\n",
    "\n",
    "for i in range(0,10,2):\n",
    "    print(i, end = \" \")"
   ]
  },
  {
   "cell_type": "code",
   "execution_count": 53,
   "id": "a09082ff",
   "metadata": {},
   "outputs": [],
   "source": [
    "# for문에 sequence 객체를 작성하영 반복처리\n",
    "# sequence 객체? 리스트, 튜플, 문자열 등 (순서가 있는 객체) -> set, dic은 순서가 없기때문에 아님\n",
    "# set, dict은 시퀀스객체로 볼 수 없지만, 최근 버전에서는 for문에 처리가 가능하도록 업데이트됨(그래도 왠만하면 쓰지말자!)"
   ]
  },
  {
   "cell_type": "code",
   "execution_count": 54,
   "id": "ecea1c77",
   "metadata": {},
   "outputs": [
    {
     "name": "stdout",
     "output_type": "stream",
     "text": [
      "10\n",
      "20\n",
      "30\n"
     ]
    }
   ],
   "source": [
    "for i in [10,20,30]:\n",
    "    print(i)"
   ]
  },
  {
   "cell_type": "code",
   "execution_count": 72,
   "id": "feb82f7d",
   "metadata": {},
   "outputs": [
    {
     "name": "stdout",
     "output_type": "stream",
     "text": [
      "10\n",
      "20\n",
      "30\n",
      "name\n",
      "age\n",
      "gender\n"
     ]
    }
   ],
   "source": [
    "# set, dict 도 for문 활용 가능\n",
    "\n",
    "for s in {10,20,30}:\n",
    "    print(s)\n",
    "    \n",
    "for i in {\"name\":\"ns\", \"age\":10, \"gender\":\"male\"}:\n",
    "    print(i)"
   ]
  },
  {
   "cell_type": "code",
   "execution_count": null,
   "id": "50c0f8f5",
   "metadata": {},
   "outputs": [],
   "source": [
    "# while 문\n",
    "\n",
    "i = 0\n",
    "\n",
    "while i <101: # i 변수 값이 101보다 작다는 조건을 만족하는 동안 반복해라!\n",
    "    i += 1\n",
    "    print(i)"
   ]
  },
  {
   "cell_type": "code",
   "execution_count": null,
   "id": "3e13ca62",
   "metadata": {},
   "outputs": [],
   "source": [
    "# 파이썬 모듈(module) : 관련 함수의 집합, 일반적으로 파이썬 파일\n",
    "# 패키지(라이브러리) : 관련 모듈의 모임, 폴더, 패키지도 포함\n",
    "\n",
    "# 라이브러리: 파이썬 표준 라이브러리(모듈, 패키지 모두 포함)"
   ]
  },
  {
   "cell_type": "code",
   "execution_count": 74,
   "id": "a2b8df2a",
   "metadata": {},
   "outputs": [],
   "source": [
    "# import 파이썬 모듈 불러오기\n",
    "import math"
   ]
  },
  {
   "cell_type": "code",
   "execution_count": 77,
   "id": "f31c8ab4",
   "metadata": {},
   "outputs": [
    {
     "name": "stdout",
     "output_type": "stream",
     "text": [
      "3.141592653589793\n",
      "2.0\n"
     ]
    }
   ],
   "source": [
    "# math.함수()\n",
    "# math.변수\n",
    "# math.클래스()\n",
    "\n",
    "print(math.pi)\n",
    "print(math.sqrt(4))"
   ]
  },
  {
   "cell_type": "code",
   "execution_count": 78,
   "id": "35ea85b7",
   "metadata": {},
   "outputs": [
    {
     "data": {
      "text/plain": [
       "2.0"
      ]
     },
     "execution_count": 78,
     "metadata": {},
     "output_type": "execute_result"
    }
   ],
   "source": [
    "import math as mt # 축약형\n",
    "mt.sqrt(4)"
   ]
  },
  {
   "cell_type": "code",
   "execution_count": 83,
   "id": "b5959bd6",
   "metadata": {},
   "outputs": [
    {
     "data": {
      "text/plain": [
       "5.0"
      ]
     },
     "execution_count": 83,
     "metadata": {},
     "output_type": "execute_result"
    }
   ],
   "source": [
    "# from 모듈명 import 함수(변수, 클래스)명\n",
    "from math import sqrt # math 모듈안에 있는 sqrt 함수만 불러와줘\n",
    "\n",
    "sqrt(25) # math.도 필요없음\n",
    "\n",
    "# 이렇게하면 math모듈의 모든 함수를 불러오지 않아서 메모리를 적게 씀"
   ]
  },
  {
   "cell_type": "code",
   "execution_count": 84,
   "id": "4bffb758",
   "metadata": {},
   "outputs": [],
   "source": [
    "# import math\n",
    "\n",
    "# math 사용 완료하면\n",
    "\n",
    "# del math 하면 메모리에서 math 모듈이 제거됨"
   ]
  },
  {
   "cell_type": "code",
   "execution_count": 85,
   "id": "abf84e73",
   "metadata": {},
   "outputs": [],
   "source": [
    "import random"
   ]
  },
  {
   "cell_type": "code",
   "execution_count": 101,
   "id": "dc8f62ca",
   "metadata": {},
   "outputs": [
    {
     "name": "stdout",
     "output_type": "stream",
     "text": [
      "1\n",
      "2\n",
      "2\n",
      "3\n",
      "3\n",
      "2\n"
     ]
    }
   ],
   "source": [
    "for i in range(6):\n",
    "    print(random.randint(1,3)) # 1 ~ 3 범위에서 난수 1개 발생\n",
    "\n",
    "# 모듈이름.함수(변수, 클래스)명\n",
    "# 클래스명들은 보통 헤드글자가 대문자임!!"
   ]
  },
  {
   "cell_type": "code",
   "execution_count": 111,
   "id": "7963e625",
   "metadata": {},
   "outputs": [
    {
     "name": "stdout",
     "output_type": "stream",
     "text": [
      "3\n",
      "h\n"
     ]
    }
   ],
   "source": [
    "print(random.choice([1,2,3])) # choice( ) 함수 : 1,2,3 중에서 1개를 임의로 선택\n",
    "# random.choice(시퀀스 객체, 추출 횟수)\n",
    "print(random.choice(\"hello\")) # 복원 추출 (반복 시 복원해서 추출을 함)"
   ]
  },
  {
   "cell_type": "code",
   "execution_count": 140,
   "id": "5c0532d0",
   "metadata": {},
   "outputs": [
    {
     "data": {
      "text/plain": [
       "[1, 3, 2]"
      ]
     },
     "execution_count": 140,
     "metadata": {},
     "output_type": "execute_result"
    }
   ],
   "source": [
    "# random.choice(\"hello\") # 복원 추출 (반복 시 복원해서 추출을 함)\n",
    "# random.sample(시퀀스 객체, 추출데이터 갯수) # 비복우너 추출\n",
    "\n",
    "random.sample((1,2,3),1)\n",
    "\n",
    "# 추출 횟수를 전체로 하면 데이터 전체를 셔플(shuffle) 해줌\n",
    "random.sample((1,2,3),3)"
   ]
  },
  {
   "cell_type": "code",
   "execution_count": 149,
   "id": "bcc7b445",
   "metadata": {},
   "outputs": [
    {
     "name": "stdout",
     "output_type": "stream",
     "text": [
      "[34, 2, 5, 21, 23, 1]\n",
      "[13, 41, 37, 33, 39, 12]\n",
      "[33, 22, 28, 45, 25, 38]\n",
      "[42, 2, 28, 39, 32, 18]\n",
      "[43, 26, 35, 16, 30, 33]\n"
     ]
    }
   ],
   "source": [
    "import random\n",
    "\n",
    "for i in range(5):\n",
    "    print(random.sample(range(46),6))"
   ]
  },
  {
   "cell_type": "code",
   "execution_count": 150,
   "id": "8d931ad9",
   "metadata": {},
   "outputs": [
    {
     "name": "stdout",
     "output_type": "stream",
     "text": [
      "1\n",
      "1\n",
      "1\n",
      "1\n",
      "1\n",
      "1\n",
      "1\n",
      "1\n",
      "1\n",
      "1\n"
     ]
    }
   ],
   "source": [
    "cond = 1\n",
    "\n",
    "while True: # 조건식의 결과가 항상 참이므로 무한 반복\n",
    "    print(\"1\")\n",
    "    if cond == 10:\n",
    "        break\n",
    "    cond += 1"
   ]
  },
  {
   "cell_type": "code",
   "execution_count": 157,
   "id": "0eb631db",
   "metadata": {},
   "outputs": [
    {
     "name": "stdout",
     "output_type": "stream",
     "text": [
      "* * * * * * * * * * * "
     ]
    }
   ],
   "source": [
    "c = 0\n",
    "\n",
    "while True:\n",
    "    print(\"*\", end = \" \")\n",
    "    c+=1\n",
    "    if c < 2:\n",
    "        continue # 계속 반복해라 => 반복문의 시작 위치로 이동. 밑에 있는 구문으로 이동하지 않음\n",
    "    if c > 10:\n",
    "        break # 반복을 멈춰라 -> 반복문의 블록을 벗어남"
   ]
  },
  {
   "cell_type": "code",
   "execution_count": null,
   "id": "d4258e2e",
   "metadata": {},
   "outputs": [],
   "source": []
  },
  {
   "cell_type": "code",
   "execution_count": null,
   "id": "643721a6",
   "metadata": {},
   "outputs": [],
   "source": []
  },
  {
   "cell_type": "code",
   "execution_count": null,
   "id": "9d852808",
   "metadata": {},
   "outputs": [],
   "source": []
  },
  {
   "cell_type": "code",
   "execution_count": null,
   "id": "ed6d69ed",
   "metadata": {},
   "outputs": [],
   "source": []
  }
 ],
 "metadata": {
  "kernelspec": {
   "display_name": "Python 3",
   "language": "python",
   "name": "python3"
  },
  "language_info": {
   "codemirror_mode": {
    "name": "ipython",
    "version": 3
   },
   "file_extension": ".py",
   "mimetype": "text/x-python",
   "name": "python",
   "nbconvert_exporter": "python",
   "pygments_lexer": "ipython3",
   "version": "3.8.8"
  }
 },
 "nbformat": 4,
 "nbformat_minor": 5
}
