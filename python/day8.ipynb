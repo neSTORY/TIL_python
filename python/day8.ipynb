{
 "cells": [
  {
   "cell_type": "code",
   "execution_count": 121,
   "id": "fb63072f",
   "metadata": {},
   "outputs": [
    {
     "name": "stdout",
     "output_type": "stream",
     "text": [
      "[1, 2, 3]\n",
      "1 2 3\n",
      "1 2 3\n"
     ]
    }
   ],
   "source": [
    "x = [1,2,3] # 리스트, 튜플 같이 자료들이 묶여있는것을 packing 이라고 부름\n",
    "\n",
    "print(x)\n",
    "print(*x) # unpacking을 해줘서 요소들이 풀려서 나옴\n",
    "print(*[1,2,3])"
   ]
  },
  {
   "cell_type": "code",
   "execution_count": 122,
   "id": "048e1627",
   "metadata": {},
   "outputs": [
    {
     "name": "stdout",
     "output_type": "stream",
     "text": [
      "1\n",
      "2\n",
      "3\n",
      "1\n",
      "2\n",
      "3\n",
      "1\n",
      "2\n",
      "3\n"
     ]
    }
   ],
   "source": [
    "def printNum(*args):\n",
    "    for i in args:\n",
    "        print(i)\n",
    "        \n",
    "printNum(1,2,3) # 가변 인수\n",
    "printNum(*[1,2,3])"
   ]
  },
  {
   "cell_type": "code",
   "execution_count": 7,
   "id": "1e72d24c",
   "metadata": {},
   "outputs": [],
   "source": [
    "def perInfo(n, a, addr):\n",
    "    print(n, a, addr)"
   ]
  },
  {
   "cell_type": "code",
   "execution_count": 10,
   "id": "92cbcac5",
   "metadata": {},
   "outputs": [
    {
     "name": "stdout",
     "output_type": "stream",
     "text": [
      "김 30 서울\n"
     ]
    }
   ],
   "source": [
    "perInfo(a = 30, addr = \"서울\", n = \"김\")"
   ]
  },
  {
   "cell_type": "code",
   "execution_count": 13,
   "id": "333ae15c",
   "metadata": {},
   "outputs": [
    {
     "data": {
      "text/plain": [
       "1"
      ]
     },
     "execution_count": 13,
     "metadata": {},
     "output_type": "execute_result"
    }
   ],
   "source": [
    "num = (1,2,3,4,5) # packing\n",
    "a,b,c,d,e = num # unpacking\n",
    "a"
   ]
  },
  {
   "cell_type": "code",
   "execution_count": 14,
   "id": "f45ffaf5",
   "metadata": {},
   "outputs": [],
   "source": [
    "num = (10,20,30,40,50)\n",
    "\n",
    "a,b,_,d,e = num \n",
    "\n",
    "# 언더바 _ 는 해당 자리의 데이터를 버리겠다(무시하겠다)"
   ]
  },
  {
   "cell_type": "code",
   "execution_count": 17,
   "id": "b63cf1bc",
   "metadata": {},
   "outputs": [
    {
     "name": "stdout",
     "output_type": "stream",
     "text": [
      "30\n"
     ]
    }
   ],
   "source": [
    "print(_)"
   ]
  },
  {
   "cell_type": "code",
   "execution_count": 19,
   "id": "a5d1b824",
   "metadata": {},
   "outputs": [
    {
     "data": {
      "text/plain": [
       "(10, 20, 30, 40, 50)"
      ]
     },
     "execution_count": 19,
     "metadata": {},
     "output_type": "execute_result"
    }
   ],
   "source": [
    "num"
   ]
  },
  {
   "cell_type": "code",
   "execution_count": 22,
   "id": "06ffa196",
   "metadata": {},
   "outputs": [],
   "source": [
    "x = num[0]\n",
    "y = num[1]\n",
    "z = num[2:]"
   ]
  },
  {
   "cell_type": "code",
   "execution_count": 23,
   "id": "84c6d644",
   "metadata": {},
   "outputs": [],
   "source": [
    "x,y,*z=num # 나머지 데이터 전체를 리스트에 담아 저장"
   ]
  },
  {
   "cell_type": "code",
   "execution_count": 24,
   "id": "58ea8db2",
   "metadata": {},
   "outputs": [
    {
     "name": "stdout",
     "output_type": "stream",
     "text": [
      "10\n",
      "20\n",
      "[30, 40, 50]\n"
     ]
    }
   ],
   "source": [
    "print(x)\n",
    "print(y)\n",
    "print(z)"
   ]
  },
  {
   "cell_type": "code",
   "execution_count": 27,
   "id": "04f291fe",
   "metadata": {},
   "outputs": [
    {
     "data": {
      "text/plain": [
       "(10, 20, 30, 40, 50)"
      ]
     },
     "execution_count": 27,
     "metadata": {},
     "output_type": "execute_result"
    }
   ],
   "source": [
    "num"
   ]
  },
  {
   "cell_type": "code",
   "execution_count": 25,
   "id": "1783e54c",
   "metadata": {},
   "outputs": [],
   "source": [
    "*x,y,z = num"
   ]
  },
  {
   "cell_type": "code",
   "execution_count": 30,
   "id": "a2109748",
   "metadata": {},
   "outputs": [
    {
     "data": {
      "text/plain": [
       "[10, 20, 30]"
      ]
     },
     "execution_count": 30,
     "metadata": {},
     "output_type": "execute_result"
    }
   ],
   "source": [
    "x"
   ]
  },
  {
   "cell_type": "code",
   "execution_count": 31,
   "id": "e0a48a72",
   "metadata": {},
   "outputs": [
    {
     "data": {
      "text/plain": [
       "[20, 30, 40]"
      ]
     },
     "execution_count": 31,
     "metadata": {},
     "output_type": "execute_result"
    }
   ],
   "source": [
    "x,*y,z = num\n",
    "\n",
    "y"
   ]
  },
  {
   "cell_type": "code",
   "execution_count": 36,
   "id": "83adc68d",
   "metadata": {},
   "outputs": [],
   "source": [
    "def dString(year, month, day):\n",
    "    return str(year)+\"년 \"+str(month)+\"월 \"+str(day)+\"일\""
   ]
  },
  {
   "cell_type": "code",
   "execution_count": 37,
   "id": "ceea5518",
   "metadata": {},
   "outputs": [
    {
     "data": {
      "text/plain": [
       "'2021년 7월 14일'"
      ]
     },
     "execution_count": 37,
     "metadata": {},
     "output_type": "execute_result"
    }
   ],
   "source": [
    "date = (2021,7,14)\n",
    "dString(*date) # == dStirng(date[0],date[1],date[2])"
   ]
  },
  {
   "cell_type": "code",
   "execution_count": 39,
   "id": "7de64145",
   "metadata": {},
   "outputs": [
    {
     "data": {
      "text/plain": [
       "'2021년 7월 14일'"
      ]
     },
     "execution_count": 39,
     "metadata": {},
     "output_type": "execute_result"
    }
   ],
   "source": [
    "dString(*(2021,7,14))"
   ]
  },
  {
   "cell_type": "code",
   "execution_count": 40,
   "id": "e32aca5a",
   "metadata": {},
   "outputs": [
    {
     "name": "stdout",
     "output_type": "stream",
     "text": [
      "3.5\n",
      "2.0\n"
     ]
    }
   ],
   "source": [
    "def test(*args): # 패킹 매개변수\n",
    "    return sum(args)/len(args)\n",
    "\n",
    "print(test(5,2))\n",
    "print(test(1,2,3))"
   ]
  },
  {
   "cell_type": "code",
   "execution_count": 42,
   "id": "964c48ed",
   "metadata": {},
   "outputs": [
    {
     "data": {
      "text/plain": [
       "30.0"
      ]
     },
     "execution_count": 42,
     "metadata": {},
     "output_type": "execute_result"
    }
   ],
   "source": [
    "num\n",
    "test(*num)"
   ]
  },
  {
   "cell_type": "code",
   "execution_count": 44,
   "id": "49626cb2",
   "metadata": {},
   "outputs": [],
   "source": [
    "# 람다함수\n",
    "\n",
    "# lambda : 함수를 정의할 때 사용하는 예약어(def와 동일), 간단한 기능의 함수를 정의할 때\n",
    "#           또는 def 사용할 수 없는 곳에 쓰임\n",
    "\n",
    "# def : 복잡한 기능을 갖는 함수를 정의할 때"
   ]
  },
  {
   "cell_type": "code",
   "execution_count": 46,
   "id": "31ba8464",
   "metadata": {},
   "outputs": [],
   "source": [
    "def sum(a,b):\n",
    "    return a+b"
   ]
  },
  {
   "cell_type": "code",
   "execution_count": 47,
   "id": "01ddde56",
   "metadata": {},
   "outputs": [
    {
     "name": "stdout",
     "output_type": "stream",
     "text": [
      "30\n"
     ]
    }
   ],
   "source": [
    "res = sum(10,20)\n",
    "print(res)"
   ]
  },
  {
   "cell_type": "code",
   "execution_count": 52,
   "id": "d8e0d644",
   "metadata": {},
   "outputs": [],
   "source": [
    "# 위에 sum함수를 lambda로 표현\n",
    "\n",
    "# 람다함수는 함수명이 없는 경우도 있음, 익명함수\n",
    "sum_lambda = lambda a,b:a+b # 함수명 = lambda 매개변수 : 리턴값"
   ]
  },
  {
   "cell_type": "code",
   "execution_count": 53,
   "id": "1a32b396",
   "metadata": {},
   "outputs": [
    {
     "data": {
      "text/plain": [
       "8"
      ]
     },
     "execution_count": 53,
     "metadata": {},
     "output_type": "execute_result"
    }
   ],
   "source": [
    "sum_lambda(3,5)"
   ]
  },
  {
   "cell_type": "code",
   "execution_count": 54,
   "id": "c7d1603a",
   "metadata": {},
   "outputs": [
    {
     "data": {
      "text/plain": [
       "6"
      ]
     },
     "execution_count": 54,
     "metadata": {},
     "output_type": "execute_result"
    }
   ],
   "source": [
    "(lambda x: x+1)(5)"
   ]
  },
  {
   "cell_type": "code",
   "execution_count": 58,
   "id": "ee72402b",
   "metadata": {},
   "outputs": [
    {
     "data": {
      "text/plain": [
       "15"
      ]
     },
     "execution_count": 58,
     "metadata": {},
     "output_type": "execute_result"
    }
   ],
   "source": [
    "(lambda x,y: x+y)(5,10)\n",
    "(lambda x,y=10:x+y)(5) # 매개 변수에 초기 값을 대입해도 가능! 최신 버전만 가능"
   ]
  },
  {
   "cell_type": "code",
   "execution_count": 60,
   "id": "78e2954e",
   "metadata": {},
   "outputs": [
    {
     "data": {
      "text/plain": [
       "15"
      ]
     },
     "execution_count": 60,
     "metadata": {},
     "output_type": "execute_result"
    }
   ],
   "source": [
    "y = 10\n",
    "(lambda x:x+y)(5) # 이렇게 쓰면 버전 상관없이 가능함"
   ]
  },
  {
   "cell_type": "code",
   "execution_count": 78,
   "id": "8ec49ae2",
   "metadata": {},
   "outputs": [
    {
     "data": {
      "text/plain": [
       "[2, 3, 4]"
      ]
     },
     "execution_count": 78,
     "metadata": {},
     "output_type": "execute_result"
    }
   ],
   "source": [
    "# 람다함수를 map함수의 인수로 전달하여 수행\n",
    "\n",
    "def add(a):\n",
    "    return a+1\n",
    "x = [1,2,3]\n",
    "\n",
    "# [2,3,4]가 출력\n",
    "\n",
    "x_add = []\n",
    "[x_add.append(add(i)) for i in x]\n",
    "x_add"
   ]
  },
  {
   "cell_type": "code",
   "execution_count": 85,
   "id": "b40e59ae",
   "metadata": {},
   "outputs": [
    {
     "name": "stdout",
     "output_type": "stream",
     "text": [
      "[2, 3, 4]\n"
     ]
    }
   ],
   "source": [
    "print(list(map(add,x)))"
   ]
  },
  {
   "cell_type": "code",
   "execution_count": 87,
   "id": "95c097bd",
   "metadata": {},
   "outputs": [
    {
     "data": {
      "text/plain": [
       "[2, 3, 4]"
      ]
     },
     "execution_count": 87,
     "metadata": {},
     "output_type": "execute_result"
    }
   ],
   "source": [
    "# 위에 코드를 람다함수로 표현\n",
    "\n",
    "list(map(lambda x:x+1,x))"
   ]
  },
  {
   "cell_type": "code",
   "execution_count": 100,
   "id": "c4d76f15",
   "metadata": {},
   "outputs": [
    {
     "data": {
      "text/plain": [
       "[1, '2', 3, '4', 5]"
      ]
     },
     "execution_count": 100,
     "metadata": {},
     "output_type": "execute_result"
    }
   ],
   "source": [
    "num=[1,2,3,4,5]\n",
    "[str(i) if i%2==0 else i for i in num]"
   ]
  },
  {
   "cell_type": "code",
   "execution_count": 103,
   "id": "ebc59b2a",
   "metadata": {},
   "outputs": [
    {
     "data": {
      "text/plain": [
       "[1, '2', 3, '4', 5]"
      ]
     },
     "execution_count": 103,
     "metadata": {},
     "output_type": "execute_result"
    }
   ],
   "source": [
    "x= [1,2,3,4,5]\n",
    "\n",
    "# 람다식에 if문을 쓰는 경우에는 콜론기호를 사용하지 않음\n",
    "# 조건식 => 식(참) if 조건식 else 식(거짓)\n",
    "\n",
    "list(map(lambda x: str(x) if x%2 ==0 else x, x))"
   ]
  },
  {
   "cell_type": "code",
   "execution_count": 105,
   "id": "f7ab3390",
   "metadata": {},
   "outputs": [
    {
     "data": {
      "text/plain": [
       "['1', 2.0, 3, 4, 5]"
      ]
     },
     "execution_count": 105,
     "metadata": {},
     "output_type": "execute_result"
    }
   ],
   "source": [
    "# 조건식이 여러개일 경우\n",
    "\n",
    "# 조건식 => 식1 if 조건식1 else 식2 if 조건식2 else 식3\n",
    "\n",
    "list(map(lambda x: str(x) if x==1 else float(x) if x==2 else x,x))"
   ]
  },
  {
   "cell_type": "code",
   "execution_count": 112,
   "id": "53b8462f",
   "metadata": {},
   "outputs": [],
   "source": [
    "x = [10,20,0,5,10]\n",
    "y= [1,0,20,15,5]"
   ]
  },
  {
   "cell_type": "code",
   "execution_count": 114,
   "id": "73393fda",
   "metadata": {},
   "outputs": [
    {
     "data": {
      "text/plain": [
       "[10, 0, 0, 75, 50]"
      ]
     },
     "execution_count": 114,
     "metadata": {},
     "output_type": "execute_result"
    }
   ],
   "source": [
    "list(map(lambda x,y:x*y, x,y))"
   ]
  },
  {
   "cell_type": "code",
   "execution_count": 129,
   "id": "90568144",
   "metadata": {},
   "outputs": [
    {
     "name": "stdout",
     "output_type": "stream",
     "text": [
      "True\n",
      "False\n",
      "False\n",
      "True\n"
     ]
    }
   ],
   "source": [
    "# any, all 함수\n",
    "\n",
    "# all: 모두 참 -> 참\n",
    "print(all([10,20,-5]))\n",
    "print(all([10,20,0]))\n",
    "print(all([\"\",\"hello\"]))\n",
    "\n",
    "# any : 하나 이상이 참이면 참\n",
    "print(any([10,20,0]))"
   ]
  },
  {
   "cell_type": "code",
   "execution_count": 130,
   "id": "5fe0b28d",
   "metadata": {},
   "outputs": [
    {
     "name": "stdout",
     "output_type": "stream",
     "text": [
      "z\n"
     ]
    }
   ],
   "source": [
    "# chr 함수\n",
    "# chr(유니코드) : 전 세계의 모든 문자를 표현하기 위한 표준코드\n",
    "# cf. 아스키코드는 0 ~ 127까지\n",
    "print(chr(122))"
   ]
  },
  {
   "cell_type": "code",
   "execution_count": 143,
   "id": "36843f83",
   "metadata": {},
   "outputs": [
    {
     "name": "stdout",
     "output_type": "stream",
     "text": [
      "44033\n",
      "97\n"
     ]
    }
   ],
   "source": [
    "# ord 함수\n",
    "# 유니코드 해당 번호를 알 수 있음\n",
    "\n",
    "print(ord(\"각\"))\n",
    "print(ord(\"a\"))"
   ]
  },
  {
   "cell_type": "code",
   "execution_count": 144,
   "id": "e0b2bd51",
   "metadata": {},
   "outputs": [
    {
     "data": {
      "text/plain": [
       "(2, 1)"
      ]
     },
     "execution_count": 144,
     "metadata": {},
     "output_type": "execute_result"
    }
   ],
   "source": [
    "# divmod 함수\n",
    "# 몫, 나머지 구하는 함수\n",
    "# divmod(수, 나누는 수)\n",
    "# 결과값은 튜플형태로 나옴\n",
    "\n",
    "divmod(5,2)"
   ]
  },
  {
   "cell_type": "code",
   "execution_count": 146,
   "id": "221f49f2",
   "metadata": {},
   "outputs": [
    {
     "name": "stdout",
     "output_type": "stream",
     "text": [
      "(0, 'a')\n",
      "(1, 'b')\n",
      "(2, 'c')\n",
      "0 a\n",
      "1 b\n",
      "2 c\n"
     ]
    }
   ],
   "source": [
    "# enumerate 함수\n",
    "# 열거형 함수. for 문과 많이 쓰임\n",
    "# 리스트(튜플, 문자열 같이 순서가 있는 자료구조)의 자료를\n",
    "# 입력받아서 (index, 자료) 형식으로 리턴해줌\n",
    "\n",
    "a = [\"a\",\"b\",\"c\"]\n",
    "\n",
    "for i in enumerate(a):\n",
    "    print(i)\n",
    "    \n",
    "for i, data in enumerate(a):\n",
    "    print(i, data)"
   ]
  },
  {
   "cell_type": "code",
   "execution_count": 148,
   "id": "a8857b15",
   "metadata": {},
   "outputs": [
    {
     "name": "stdout",
     "output_type": "stream",
     "text": [
      "3\n"
     ]
    }
   ],
   "source": [
    "# eval 함수\n",
    "# 연산이 가능한 문자열을 전달받아 연산 수행을 하고 결과를 리턴해줌\n",
    "\n",
    "a = \"1+2\"\n",
    "print(eval(a))"
   ]
  },
  {
   "cell_type": "code",
   "execution_count": 149,
   "id": "e6921561",
   "metadata": {},
   "outputs": [],
   "source": [
    "# filter 함수\n",
    "# 조건에 만족하는 자료들만 추출\n",
    "# filter(함수, 리스트(튜플, 문자열,,)) -> 함수에 정의한 조건을 \n",
    "# 만족하는 데이터들만 리턴해줌\n",
    "\n",
    "def myFunc(data):\n",
    "    return data > 3 and data < 7"
   ]
  },
  {
   "cell_type": "code",
   "execution_count": 179,
   "id": "865ee1e0",
   "metadata": {},
   "outputs": [
    {
     "name": "stdout",
     "output_type": "stream",
     "text": [
      "[5, 6]\n"
     ]
    }
   ],
   "source": [
    "data = [8,1,5,2,6]\n",
    "\n",
    "print(list(filter(myFunc, data)))\n",
    "\n",
    "# myFunc에서 3<data<7에 해당하는 값만 True로 통과\n",
    "# filter함수에서 True된 값을 리턴시켜줌"
   ]
  },
  {
   "cell_type": "code",
   "execution_count": 180,
   "id": "bc98e045",
   "metadata": {},
   "outputs": [
    {
     "data": {
      "text/plain": [
       "[5, 6]"
      ]
     },
     "execution_count": 180,
     "metadata": {},
     "output_type": "execute_result"
    }
   ],
   "source": [
    "list(filter(lambda x:3<x<7,data))"
   ]
  },
  {
   "cell_type": "code",
   "execution_count": 181,
   "id": "02bd505c",
   "metadata": {},
   "outputs": [
    {
     "data": {
      "text/plain": [
       "[5, 6]"
      ]
     },
     "execution_count": 181,
     "metadata": {},
     "output_type": "execute_result"
    }
   ],
   "source": [
    "list(filter(lambda x: x if 3<x<7 else 0, data))\n",
    "list(filter(lambda x: 3<x<7, data))"
   ]
  },
  {
   "cell_type": "code",
   "execution_count": 182,
   "id": "496667b5",
   "metadata": {},
   "outputs": [],
   "source": [
    "data = [-1,3,2,-5,4]\n",
    "# 양수만 출력"
   ]
  },
  {
   "cell_type": "code",
   "execution_count": 183,
   "id": "6034a5b3",
   "metadata": {},
   "outputs": [
    {
     "data": {
      "text/plain": [
       "[3, 2, 4]"
      ]
     },
     "execution_count": 183,
     "metadata": {},
     "output_type": "execute_result"
    }
   ],
   "source": [
    "def pos(data):\n",
    "    return data>0\n",
    "list(filter(pos,data))        "
   ]
  },
  {
   "cell_type": "code",
   "execution_count": 222,
   "id": "e98e8bd1",
   "metadata": {},
   "outputs": [],
   "source": [
    "# map 함수를 활용하여 리스트의 값을 2배\n",
    "\n",
    "s = [1,2,3]"
   ]
  },
  {
   "cell_type": "code",
   "execution_count": 226,
   "id": "46a75bd6",
   "metadata": {},
   "outputs": [
    {
     "name": "stdout",
     "output_type": "stream",
     "text": [
      "[2, 4, 6]\n"
     ]
    }
   ],
   "source": [
    "def twiceUp(s):\n",
    "    twice_s = []\n",
    "    for i in s:\n",
    "        twice_s.append(int(i)*2)\n",
    "    return twice_s\n",
    "\n",
    "print(list(map(int,twiceUp(s))))"
   ]
  },
  {
   "cell_type": "code",
   "execution_count": 219,
   "id": "5fcd955f",
   "metadata": {},
   "outputs": [
    {
     "data": {
      "text/plain": [
       "[2, 4, 6]"
      ]
     },
     "execution_count": 219,
     "metadata": {},
     "output_type": "execute_result"
    }
   ],
   "source": [
    "list(map(lambda x:x*2,s))"
   ]
  },
  {
   "cell_type": "code",
   "execution_count": 220,
   "id": "56e1c2b6",
   "metadata": {},
   "outputs": [
    {
     "name": "stdout",
     "output_type": "stream",
     "text": [
      "[2, 4, 6]\n"
     ]
    }
   ],
   "source": [
    "for i in range(len(s)):\n",
    "    s[i]=s[i]*2\n",
    "print(s)"
   ]
  },
  {
   "cell_type": "code",
   "execution_count": 230,
   "id": "370fb11f",
   "metadata": {},
   "outputs": [
    {
     "data": {
      "text/plain": [
       "3"
      ]
     },
     "execution_count": 230,
     "metadata": {},
     "output_type": "execute_result"
    }
   ],
   "source": [
    "# max 함수 : 최대 값 출력\n",
    "# min 함수 : 최소 값 출력\n",
    "max([1,2,3])"
   ]
  },
  {
   "cell_type": "code",
   "execution_count": 231,
   "id": "e0337b41",
   "metadata": {},
   "outputs": [
    {
     "name": "stdout",
     "output_type": "stream",
     "text": [
      "9\n",
      "3\n",
      "3\n",
      "3.142\n"
     ]
    }
   ],
   "source": [
    "# pow 함수 : 제곱\n",
    "print(pow(3,2))\n",
    "\n",
    "# round 함수 : 반올림\n",
    "print(round(3.1))\n",
    "print(round(3.141592))\n",
    "print(round(3.141592,3)) # 반올림 할 소수점자리 지정가능"
   ]
  },
  {
   "cell_type": "code",
   "execution_count": 235,
   "id": "fa4a88dc",
   "metadata": {},
   "outputs": [
    {
     "name": "stdout",
     "output_type": "stream",
     "text": [
      "hi\n",
      "HI\n"
     ]
    }
   ],
   "source": [
    "# lower, upper : 소문자화, 대문자화\n",
    "print(\"hi\".lower())\n",
    "print(\"hi\".upper())"
   ]
  },
  {
   "cell_type": "code",
   "execution_count": 238,
   "id": "5d8245a2",
   "metadata": {},
   "outputs": [
    {
     "name": "stdout",
     "output_type": "stream",
     "text": [
      "[(1, 3), (2, 4)]\n",
      "[('h', 'h'), ('i', 'e')]\n",
      "[(1, 3, 5), (2, 4, 6)]\n"
     ]
    }
   ],
   "source": [
    "# zip 함수 : 같은 위치의 자료들을 묶는 함수\n",
    "print(list(zip([1,2],[3,4])))\n",
    "print(list(zip(\"hi\",\"hello\"))) # 자리수가 같은 곳 까지만 묶어줌\n",
    "print(list(zip([1,2],[3,4],[5,6,7])))"
   ]
  },
  {
   "cell_type": "code",
   "execution_count": 239,
   "id": "b1dc43d8",
   "metadata": {},
   "outputs": [],
   "source": [
    "# reduce () : 누적 함수"
   ]
  },
  {
   "cell_type": "code",
   "execution_count": 240,
   "id": "2990d13c",
   "metadata": {},
   "outputs": [],
   "source": [
    "def myFunc(a,b):\n",
    "    return a+b"
   ]
  },
  {
   "cell_type": "code",
   "execution_count": 244,
   "id": "0e3d01dc",
   "metadata": {},
   "outputs": [
    {
     "data": {
      "text/plain": [
       "150"
      ]
     },
     "execution_count": 244,
     "metadata": {},
     "output_type": "execute_result"
    }
   ],
   "source": [
    "from functools import reduce\n",
    "\n",
    "x = [10,20,30,40,50]\n",
    "reduce(myFunc,x) # 누적합 구해주는 함수\n",
    "# 파이썬 3.x 버전에서는 지원이 안됨"
   ]
  },
  {
   "cell_type": "code",
   "execution_count": null,
   "id": "2e67e3c8",
   "metadata": {},
   "outputs": [],
   "source": [
    "# 파일압축 : run-length 기법, 허프만 코드방식\n",
    "\n",
    "# run-length 기법 : bmp파일\n",
    "\n",
    "# 압축\n",
    "aaaaaaaabbbbbccc # 16글자\n",
    "a8b5c3 # 6글자\n",
    "\n",
    "# 해제\n",
    "a8b5c3\n",
    "aaaaaaaabbbbbccc\n",
    "\n",
    "# 단점\n",
    "# 중복되는 문자가 적으면 압축이 의미없어짐"
   ]
  },
  {
   "cell_type": "code",
   "execution_count": 280,
   "id": "af89e8a3",
   "metadata": {},
   "outputs": [],
   "source": [
    "str = \"aaaaaaaabbbbbccc\"\n",
    "\n",
    "# run-length 기법으로 a8b5c3로 압축하기"
   ]
  },
  {
   "cell_type": "code",
   "execution_count": null,
   "id": "38b78107",
   "metadata": {},
   "outputs": [],
   "source": []
  }
 ],
 "metadata": {
  "kernelspec": {
   "display_name": "Python 3",
   "language": "python",
   "name": "python3"
  },
  "language_info": {
   "codemirror_mode": {
    "name": "ipython",
    "version": 3
   },
   "file_extension": ".py",
   "mimetype": "text/x-python",
   "name": "python",
   "nbconvert_exporter": "python",
   "pygments_lexer": "ipython3",
   "version": "3.8.8"
  }
 },
 "nbformat": 4,
 "nbformat_minor": 5
}
