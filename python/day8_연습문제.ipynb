{
 "cells": [
  {
   "cell_type": "code",
   "execution_count": 57,
   "id": "565c51de",
   "metadata": {},
   "outputs": [
    {
     "name": "stdout",
     "output_type": "stream",
     "text": [
      "[0, 1, 1, 2, 3, 5, 8, 13, 21, 34, 55, 89]\n"
     ]
    }
   ],
   "source": [
    "# 1.\n",
    "\n",
    "def pibonachi(n):\n",
    "    pibo_ls = [0, 1]\n",
    "    for i in range(n):\n",
    "        pibo_ls.append(pibo_ls[i]+pibo_ls[i+1])\n",
    "        if pibo_ls[-1] > n:\n",
    "            pibo_ls.pop()\n",
    "            break\n",
    "    return pibo_ls\n",
    "\n",
    "\n",
    "print(pibonachi(100))"
   ]
  },
  {
   "cell_type": "code",
   "execution_count": 143,
   "id": "c7ef39e2",
   "metadata": {},
   "outputs": [
    {
     "name": "stdout",
     "output_type": "stream",
     "text": [
      "(3, 4)\n"
     ]
    }
   ],
   "source": [
    "# 2.\n",
    "\n",
    "# 점의 위치 리스트\n",
    "s = [1, 3, 4, 8, 13, 17, 20]\n",
    "\n",
    "\n",
    "def shortest(ls):\n",
    "    shrt = []  # 점 사이 간격 리스트\n",
    "\n",
    "    for i in range(len(ls)-1):\n",
    "        shrt.append(ls[i+1]-ls[i])\n",
    "\n",
    "    # 가장 작은 값의 인덱스 구하기\n",
    "    shrtest = shrt[0]\n",
    "    for j in range(len(shrt)):\n",
    "        if shrt[j] < shrtest:\n",
    "            shrtest = shrt[j]\n",
    "            idx = j\n",
    "    # 인덱스를 점의 위치 리스트에 넣어줌\n",
    "    return (ls[idx],ls[idx+1])\n",
    "\n",
    "\n",
    "print(shortest(s))"
   ]
  },
  {
   "cell_type": "code",
   "execution_count": 73,
   "id": "661835ce",
   "metadata": {},
   "outputs": [
    {
     "data": {
      "text/plain": [
       "'a#b#c#d'"
      ]
     },
     "execution_count": 73,
     "metadata": {},
     "output_type": "execute_result"
    }
   ],
   "source": [
    "# 3.\n",
    "\n",
    "s = \"a:b:c:d\"\n",
    "\n",
    "s = s.split(\":\")\n",
    "\"#\".join(s)"
   ]
  },
  {
   "cell_type": "code",
   "execution_count": 100,
   "id": "5a24eeec",
   "metadata": {},
   "outputs": [
    {
     "name": "stdout",
     "output_type": "stream",
     "text": [
      "[67, 82, 90, 87, 100]\n",
      "85.2\n"
     ]
    }
   ],
   "source": [
    "# 4.\n",
    "\n",
    "A = [20, 55, 67, 82, 45, 33, 90, 87, 100, 25]\n",
    "A2 = []\n",
    "\n",
    "for i in range(len(A)):\n",
    "    if A[i] >= 60:\n",
    "        A2.append(A[i])\n",
    "        \n",
    "print(A2)\n",
    "print(sum(A2)/len(A2))    "
   ]
  },
  {
   "cell_type": "code",
   "execution_count": 6,
   "id": "2e51c1b5",
   "metadata": {},
   "outputs": [
    {
     "name": "stdout",
     "output_type": "stream",
     "text": [
      "69.0%\n",
      "53.6%\n"
     ]
    }
   ],
   "source": [
    "# 5.\n",
    "\n",
    "sen1 = \"오늘 멀티캠퍼스에서 너무 쉬운 프로그래밍을 공부했다\"\n",
    "sen2 = \"멀티캠퍼스에서 공부했던 오늘의 프로그래밍은 너무 쉬웠다\"\n",
    "\n",
    "\n",
    "def similarity(s1, s2, n):\n",
    "    s1_gram = []\n",
    "    s2_gram = []\n",
    "    for i in range(len(s1)-n+1):\n",
    "        s1_gram.append(s1[i:i+n])\n",
    "    for j in range(len(s2)-n+1):\n",
    "        s2_gram.append(s2[j:j+n])\n",
    "\n",
    "    s1_gram = set(s1_gram)\n",
    "    s2_gram = set(s2_gram)\n",
    "    \n",
    "    sim = len(s1_gram & s2_gram)/len(s2_gram)*100\n",
    "\n",
    "    return sim\n",
    "\n",
    "\n",
    "print(str(round(similarity(sen1, sen2, 2),1))+\"%\")\n",
    "print(str(round(similarity(sen1, sen2, 3),1))+\"%\")"
   ]
  },
  {
   "cell_type": "code",
   "execution_count": 158,
   "id": "e64560bc",
   "metadata": {},
   "outputs": [
    {
     "name": "stdout",
     "output_type": "stream",
     "text": [
      "숫자를 입력하세요 : 0123456789 01234 01234567890 6789012345 012322456789\n",
      "True False False True False "
     ]
    }
   ],
   "source": [
    "# 6.\n",
    "\n",
    "num = input(\"숫자를 입력하세요 : \")\n",
    "\n",
    "\n",
    "def num_check(n):\n",
    "    n_list = n.split()\n",
    "    for i in range(len(n_list)):\n",
    "        len_check = len(n_list[i])\n",
    "        set_check = len(set(n_list[i]))\n",
    "        \n",
    "        if set_check !=10:\n",
    "            print(\"False\", end=\" \")\n",
    "        elif len_check != set_check:\n",
    "            print(\"False\", end=\" \")\n",
    "        else:\n",
    "            print(\"True\", end=\" \")\n",
    "        \n",
    "\n",
    "\n",
    "num_check(num)"
   ]
  },
  {
   "cell_type": "code",
   "execution_count": null,
   "id": "f145b458",
   "metadata": {},
   "outputs": [],
   "source": []
  },
  {
   "cell_type": "code",
   "execution_count": null,
   "id": "140c7e9a",
   "metadata": {},
   "outputs": [],
   "source": []
  },
  {
   "cell_type": "code",
   "execution_count": null,
   "id": "c81277aa",
   "metadata": {},
   "outputs": [],
   "source": [
    "# 7번은 내일..."
   ]
  },
  {
   "cell_type": "code",
   "execution_count": null,
   "id": "b09dfd93",
   "metadata": {},
   "outputs": [],
   "source": []
  },
  {
   "cell_type": "code",
   "execution_count": null,
   "id": "96bd8ff9",
   "metadata": {},
   "outputs": [],
   "source": []
  },
  {
   "cell_type": "code",
   "execution_count": null,
   "id": "0debdbbf",
   "metadata": {},
   "outputs": [],
   "source": []
  },
  {
   "cell_type": "code",
   "execution_count": 99,
   "id": "821bc911",
   "metadata": {},
   "outputs": [
    {
     "name": "stdout",
     "output_type": "stream",
     "text": [
      "step.1 : ...!@bat#*..y.abcdefghijklm\n",
      "step.2 : ...bat..y.abcdefghijklm\n"
     ]
    }
   ],
   "source": [
    "# 7.\n",
    "\n",
    "_id = \"...!@BaT#*..y.abcdefghijklm\"\n",
    "\n",
    "def new_id(_id):    \n",
    "    \n",
    "    # step.1\n",
    "    _id_1 = _id.lower()\n",
    "    print(\"step.1 : \"+_id_1)\n",
    "    \n",
    "    # step.2\n",
    "    check = []\n",
    "    for x in _id_1:\n",
    "        if \"a\"<=x<=\"z\" or \"0\"<=x<=\"9\" or x in[\"_\",\".\",\"-\"]:\n",
    "            check.append(x)\n",
    "    _id_2 = \"\".join(check)\n",
    "    print(\"step.2 : \"+_id_2)\n",
    "    \n",
    "    # step.3\n",
    "new_id(_id)"
   ]
  },
  {
   "cell_type": "code",
   "execution_count": 102,
   "id": "2fcae3ec",
   "metadata": {},
   "outputs": [],
   "source": [
    "name = \"...ba\""
   ]
  },
  {
   "cell_type": "code",
   "execution_count": 103,
   "id": "3ec4dc7a",
   "metadata": {},
   "outputs": [],
   "source": [
    "name3 = []"
   ]
  },
  {
   "cell_type": "code",
   "execution_count": 106,
   "id": "7e61d321",
   "metadata": {},
   "outputs": [
    {
     "data": {
      "text/plain": [
       "['.', '.', '.', 'b', 'a']"
      ]
     },
     "execution_count": 106,
     "metadata": {},
     "output_type": "execute_result"
    }
   ],
   "source": [
    "for i in name:\n",
    "    if i "
   ]
  },
  {
   "cell_type": "code",
   "execution_count": null,
   "id": "4fa80e76",
   "metadata": {},
   "outputs": [],
   "source": [
    "\n"
   ]
  }
 ],
 "metadata": {
  "kernelspec": {
   "display_name": "Python 3",
   "language": "python",
   "name": "python3"
  },
  "language_info": {
   "codemirror_mode": {
    "name": "ipython",
    "version": 3
   },
   "file_extension": ".py",
   "mimetype": "text/x-python",
   "name": "python",
   "nbconvert_exporter": "python",
   "pygments_lexer": "ipython3",
   "version": "3.8.8"
  }
 },
 "nbformat": 4,
 "nbformat_minor": 5
}
