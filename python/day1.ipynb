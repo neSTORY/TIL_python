{
 "cells": [
  {
   "cell_type": "code",
   "execution_count": 36,
   "id": "d4d6ca77",
   "metadata": {},
   "outputs": [
    {
     "name": "stdout",
     "output_type": "stream",
     "text": [
      "15\n",
      "15.0\n"
     ]
    }
   ],
   "source": [
    "# 작업 : 1 ~ 5 까지의 합을 구하시오. -> 15\n",
    "\n",
    "sum = 0 # 변수(variable)\n",
    "\n",
    "for i in range(1, 6):\n",
    "    sum=sum+i\n",
    "print(sum)\n",
    "\n",
    "print(5*(5+1)/2)\n",
    "\n"
   ]
  },
  {
   "cell_type": "code",
   "execution_count": 38,
   "id": "6e3c37bf",
   "metadata": {},
   "outputs": [
    {
     "name": "stdout",
     "output_type": "stream",
     "text": [
      "hello wolrd\n"
     ]
    }
   ],
   "source": [
    "print(\"hello wolrd\")\n",
    "# 함수 실행(호출)"
   ]
  },
  {
   "cell_type": "code",
   "execution_count": 40,
   "id": "b5fd7e55",
   "metadata": {},
   "outputs": [
    {
     "name": "stdout",
     "output_type": "stream",
     "text": [
      "hello wolrd123\n"
     ]
    }
   ],
   "source": [
    "print(\"hello wolrd\")\n",
    "print(\"123\")"
   ]
  },
  {
   "cell_type": "code",
   "execution_count": 43,
   "id": "c248cf8f",
   "metadata": {},
   "outputs": [
    {
     "name": "stdout",
     "output_type": "stream",
     "text": [
      "hello wolrd\n",
      "123\n"
     ]
    }
   ],
   "source": [
    "print(\"hello wolrd\");print(\"123\")\n",
    "# 세미콜론 -> 여러 줄을 한 줄로 쓸 수 있음"
   ]
  },
  {
   "cell_type": "code",
   "execution_count": 52,
   "id": "1863d11e",
   "metadata": {},
   "outputs": [
    {
     "name": "stdout",
     "output_type": "stream",
     "text": [
      "0 보다 커요\n",
      "3 보다 작습니다.\n",
      "a는 자연수 입니다.\n"
     ]
    }
   ],
   "source": [
    "# 파이썬은 들여쓰기가 문법이다.\n",
    "\n",
    "a = 1\n",
    "\n",
    "if a>0:\n",
    "    if a < 3:\n",
    "        print(\"0 보다 커요\")\n",
    "        print(\"3 보다 작습니다.\")\n",
    "    print(\"a는 자연수 입니다.\")"
   ]
  },
  {
   "cell_type": "code",
   "execution_count": 53,
   "id": "91781563",
   "metadata": {},
   "outputs": [
    {
     "name": "stdout",
     "output_type": "stream",
     "text": [
      "a는 자연수 입니다.\n"
     ]
    }
   ],
   "source": [
    "a = 10\n",
    "\n",
    "if a>0:\n",
    "    if a < 3:\n",
    "        print(\"0 보다 커요\")\n",
    "        print(\"3 보다 작습니다.\")\n",
    "    print(\"a는 자연수 입니다.\")"
   ]
  },
  {
   "cell_type": "code",
   "execution_count": 55,
   "id": "2461c830",
   "metadata": {},
   "outputs": [
    {
     "name": "stdout",
     "output_type": "stream",
     "text": [
      "무조건 실행되는 문장입니다.\n"
     ]
    }
   ],
   "source": [
    "a = -2\n",
    "\n",
    "if a>0:\n",
    "    if a < 3:\n",
    "        print(\"0 보다 커요\")\n",
    "        print(\"3 보다 작습니다.\")\n",
    "print(\"무조건 실행되는 문장입니다.\")"
   ]
  },
  {
   "cell_type": "code",
   "execution_count": 60,
   "id": "992ce80b",
   "metadata": {},
   "outputs": [
    {
     "name": "stdout",
     "output_type": "stream",
     "text": [
      "4.1e-05\n"
     ]
    }
   ],
   "source": [
    "x = 4.1e5 # 4.1 x 10의 5승\n",
    "x = 4.1e-5 # 4.1 x 10의 -5승\n",
    "print(x)"
   ]
  },
  {
   "cell_type": "code",
   "execution_count": 59,
   "id": "014a38bf",
   "metadata": {},
   "outputs": [
    {
     "name": "stdout",
     "output_type": "stream",
     "text": [
      "15\n"
     ]
    }
   ],
   "source": [
    "x = 0o17 # 8진수 17을 의미\n",
    "print(x) # 10진수로 변환되어 출력"
   ]
  },
  {
   "cell_type": "code",
   "execution_count": 64,
   "id": "8d85faf0",
   "metadata": {},
   "outputs": [
    {
     "name": "stdout",
     "output_type": "stream",
     "text": [
      "10\n"
     ]
    }
   ],
   "source": [
    "# 16진수 표기법: 0x + 0,1,2....9,A,B,C...F,10,11..\n",
    "x = 0xa\n",
    "print(x)"
   ]
  },
  {
   "cell_type": "code",
   "execution_count": 65,
   "id": "6ccdec95",
   "metadata": {},
   "outputs": [
    {
     "data": {
      "text/plain": [
       "6"
      ]
     },
     "execution_count": 65,
     "metadata": {},
     "output_type": "execute_result"
    }
   ],
   "source": [
    "4+2\n",
    "4-2 # jupyter 에서는 print 안 써도 계산값이 나옴\n",
    "    # 두개 입력 시 제일 마지막꺼만 값이 나옴"
   ]
  },
  {
   "cell_type": "code",
   "execution_count": 72,
   "id": "c614727a",
   "metadata": {},
   "outputs": [
    {
     "name": "stdout",
     "output_type": "stream",
     "text": [
      "2\n",
      "2.0\n",
      "2\n"
     ]
    }
   ],
   "source": [
    "print(4 // 2) # 몫 구하기\n",
    "print(4.0 // 2) # 실수형으로 쓰면 결과값도 실수형으로 나옴\n",
    "print(5 % 3) # 나머지 구하기"
   ]
  },
  {
   "cell_type": "code",
   "execution_count": 74,
   "id": "3f340230",
   "metadata": {},
   "outputs": [
    {
     "name": "stdout",
     "output_type": "stream",
     "text": [
      "8\n"
     ]
    }
   ],
   "source": [
    "print(2**3) # 2의 3승"
   ]
  },
  {
   "cell_type": "code",
   "execution_count": 82,
   "id": "51336166",
   "metadata": {},
   "outputs": [
    {
     "name": "stdout",
     "output_type": "stream",
     "text": [
      "2\n",
      "53\n",
      "4\n"
     ]
    },
    {
     "ename": "ValueError",
     "evalue": "invalid literal for int() with base 10: '3.1'",
     "output_type": "error",
     "traceback": [
      "\u001b[1;31m---------------------------------------------------------------------------\u001b[0m",
      "\u001b[1;31mValueError\u001b[0m                                Traceback (most recent call last)",
      "\u001b[1;32m<ipython-input-82-9a8d971a1141>\u001b[0m in \u001b[0;36m<module>\u001b[1;34m\u001b[0m\n\u001b[0;32m      6\u001b[0m \u001b[1;33m\u001b[0m\u001b[0m\n\u001b[0;32m      7\u001b[0m \u001b[0mprint\u001b[0m\u001b[1;33m(\u001b[0m\u001b[0mint\u001b[0m\u001b[1;33m(\u001b[0m\u001b[1;34m\"4\"\u001b[0m\u001b[1;33m)\u001b[0m\u001b[1;33m)\u001b[0m \u001b[1;31m# \"4\"는 문자이지만 \"\"안이 정수형이라서 결과값이 정수 4로 나옴\u001b[0m\u001b[1;33m\u001b[0m\u001b[1;33m\u001b[0m\u001b[0m\n\u001b[1;32m----> 8\u001b[1;33m \u001b[0mprint\u001b[0m\u001b[1;33m(\u001b[0m\u001b[0mint\u001b[0m\u001b[1;33m(\u001b[0m\u001b[1;34m\"3.1\"\u001b[0m\u001b[1;33m)\u001b[0m\u001b[1;33m)\u001b[0m \u001b[1;31m# \"\"안이 실수형이라서 결과값이 안나오고 에러가 나옴\u001b[0m\u001b[1;33m\u001b[0m\u001b[1;33m\u001b[0m\u001b[0m\n\u001b[0m",
      "\u001b[1;31mValueError\u001b[0m: invalid literal for int() with base 10: '3.1'"
     ]
    }
   ],
   "source": [
    "# 데이터를 정수로 변환\n",
    "print(int(5//2.0))\n",
    "\n",
    "# 문자열 -> 정수로 변환\n",
    "print('5' + '3') # 숫자 5, 3 이 아닌 문자 '5','3 '이라서 결과값이 '53'으로 나옴\n",
    "\n",
    "print(int(\"4\")) # \"4\"는 문자이지만 \"\"안이 정수형이라서 결과값이 정수 4로 나옴\n",
    "print(int(\"3.1\")) # \"\"안이 실수형이라서 결과값이 안나오고 에러가 나옴"
   ]
  },
  {
   "cell_type": "code",
   "execution_count": 90,
   "id": "931dd94a",
   "metadata": {},
   "outputs": [
    {
     "name": "stdout",
     "output_type": "stream",
     "text": [
      "(1, 2)\n",
      "1\n",
      "2\n"
     ]
    }
   ],
   "source": [
    "# //, %\n",
    "print(divmod(5,3)) # 목과 나머지를 구하는 함수\n",
    "# 5를 3으로 나눈 몫과 나머지\n",
    "\n",
    "# 소괄호가 나오는 경우\n",
    "# 1. 함수 : 함수명()\n",
    "# 2. 튜플 : ( , ) -> 자료형 구조 중 하나\n",
    "\n",
    "a ,b = divmod(5,3) # 튜플 형태로 나온 (1,2)가 각각 변수 a, b에 저장\n",
    "print(a)\n",
    "print(b)"
   ]
  },
  {
   "cell_type": "code",
   "execution_count": 93,
   "id": "daf32f7e",
   "metadata": {},
   "outputs": [
    {
     "name": "stdout",
     "output_type": "stream",
     "text": [
      "1\n"
     ]
    }
   ],
   "source": [
    "res = divmod(5,3) # res라는 변수에 튜플 저장\n",
    "print(res[0]) # res라는 튜플의 첫번째 값(몫)만 출력"
   ]
  },
  {
   "cell_type": "code",
   "execution_count": 96,
   "id": "7116494d",
   "metadata": {},
   "outputs": [
    {
     "name": "stdout",
     "output_type": "stream",
     "text": [
      "<class 'int'>\n",
      "<class 'float'>\n"
     ]
    }
   ],
   "source": [
    "print(type(5)) # 타입함수는 값의 타입을 알려줌\n",
    "print(type(3.14))"
   ]
  },
  {
   "cell_type": "code",
   "execution_count": 102,
   "id": "a6e1aca2",
   "metadata": {},
   "outputs": [
    {
     "name": "stdout",
     "output_type": "stream",
     "text": [
      "5\n",
      "<class 'str'>\n"
     ]
    }
   ],
   "source": [
    "print(str(5))\n",
    "a = str(5)\n",
    "print(type(a))"
   ]
  },
  {
   "cell_type": "code",
   "execution_count": 107,
   "id": "4e892cf7",
   "metadata": {},
   "outputs": [
    {
     "name": "stdout",
     "output_type": "stream",
     "text": [
      "<class 'str'>\n",
      "a\n"
     ]
    }
   ],
   "source": [
    "x, y = 1, \"a\"\n",
    "print(type(y))\n",
    "print(y)"
   ]
  },
  {
   "cell_type": "code",
   "execution_count": 112,
   "id": "5ee66edb",
   "metadata": {},
   "outputs": [
    {
     "name": "stdout",
     "output_type": "stream",
     "text": [
      "1 1\n"
     ]
    }
   ],
   "source": [
    "a=b=1\n",
    "print(a,b)\n",
    "# 뒤에서부터 대입됨. b=1"
   ]
  },
  {
   "cell_type": "code",
   "execution_count": 120,
   "id": "3128cf7e",
   "metadata": {},
   "outputs": [],
   "source": [
    "x=2\n",
    "y=3"
   ]
  },
  {
   "cell_type": "code",
   "execution_count": 122,
   "id": "a2eff07a",
   "metadata": {},
   "outputs": [
    {
     "name": "stdout",
     "output_type": "stream",
     "text": [
      "2\n",
      "3\n"
     ]
    }
   ],
   "source": [
    "x,y = y,x # 변수 값 교환 방법\n",
    "print(x)\n",
    "print(y)\n",
    "\n",
    "# 또는 다른 변수에 저장해서 교환가능\n",
    "# a = y\n",
    "# y = x\n",
    "# x = a"
   ]
  },
  {
   "cell_type": "code",
   "execution_count": 123,
   "id": "bff17557",
   "metadata": {},
   "outputs": [
    {
     "ename": "NameError",
     "evalue": "name 'x' is not defined",
     "output_type": "error",
     "traceback": [
      "\u001b[1;31m---------------------------------------------------------------------------\u001b[0m",
      "\u001b[1;31mNameError\u001b[0m                                 Traceback (most recent call last)",
      "\u001b[1;32m<ipython-input-123-a1aea2b60626>\u001b[0m in \u001b[0;36m<module>\u001b[1;34m\u001b[0m\n\u001b[0;32m      1\u001b[0m \u001b[1;32mdel\u001b[0m \u001b[0mx\u001b[0m \u001b[1;31m# 메모리에서 x를 삭제\u001b[0m\u001b[1;33m\u001b[0m\u001b[1;33m\u001b[0m\u001b[0m\n\u001b[1;32m----> 2\u001b[1;33m \u001b[0mprint\u001b[0m\u001b[1;33m(\u001b[0m\u001b[0mx\u001b[0m\u001b[1;33m)\u001b[0m\u001b[1;33m\u001b[0m\u001b[1;33m\u001b[0m\u001b[0m\n\u001b[0m",
      "\u001b[1;31mNameError\u001b[0m: name 'x' is not defined"
     ]
    }
   ],
   "source": [
    "del x # 메모리에서 x를 삭제\n",
    "print(x)"
   ]
  },
  {
   "cell_type": "code",
   "execution_count": 125,
   "id": "64c28b0d",
   "metadata": {},
   "outputs": [
    {
     "name": "stdout",
     "output_type": "stream",
     "text": [
      "None\n"
     ]
    }
   ],
   "source": [
    "b = None # 값이 없음을 의미\n",
    "# None : 값이 들어가 있지 않은 변수를 선언\n",
    "print(b)"
   ]
  },
  {
   "cell_type": "code",
   "execution_count": 126,
   "id": "350e823d",
   "metadata": {},
   "outputs": [],
   "source": [
    "# 축약형\n",
    "\n",
    "# a = a+1 == a+=1\n",
    "# a = a-1 == a-=1\n",
    "\n",
    "# 축약형을 왜 쓸까? 연산 과정을 줄여서 cpu 사용을 줄이려고!!\n",
    "# a = a+1 의 계산 과정은 cpu에서 'a' 값을 가져오고 '1'을 가져오고 계산 후 다시 'a' 값을 저장\n",
    "# a += 1 은 연산 한 번으로 끝남( += 가 하나의 연산)"
   ]
  },
  {
   "cell_type": "code",
   "execution_count": null,
   "id": "0cac0e8d",
   "metadata": {},
   "outputs": [],
   "source": [
    "# 입력함수 input\n",
    "\n",
    "i = int(input(\"첫번째 숫자를 입력해 주세요 : \"))\n",
    "j = int(input(\"두번째 숫자를 입력해 주세요 : \"))"
   ]
  },
  {
   "cell_type": "code",
   "execution_count": 143,
   "id": "b3070e1e",
   "metadata": {},
   "outputs": [
    {
     "name": "stdout",
     "output_type": "stream",
     "text": [
      "5\n",
      "3\n",
      "8\n"
     ]
    }
   ],
   "source": [
    "print(i)\n",
    "print(j)\n",
    "print(i + j)"
   ]
  },
  {
   "cell_type": "code",
   "execution_count": 4,
   "id": "1b5cf85e",
   "metadata": {},
   "outputs": [
    {
     "name": "stdout",
     "output_type": "stream",
     "text": [
      "단어를 2개 입력 : hi hello\n",
      "hi\n",
      "hello\n"
     ]
    }
   ],
   "source": [
    "# split 함수\n",
    "\n",
    "x = input(\"단어를 2개 입력 : \") # x = \"hi hello\"\n",
    "a, b = x.split() # 문자열을 공백을 기준으로 분리해줌\n",
    "\n",
    "# 문자열에 대해 어떤 연산을 수행하고자 하는 경우에는\n",
    "# 문자열.함수이름()\n",
    "\n",
    "# 꼭 공백을 기준으로만 분리되는건 아니다.\n",
    "# split(\"#\") -> \"\"안에 문자를 기준으로 분리\n",
    "# split(\"\") 이렇게 표기하는게 맞지만 기본적으로 공백을 기준으로 하기 때문에\n",
    "# 공백을 기준으로 분리하려면 \"\"를 생략해도 가능\n",
    "\n",
    "print(a)\n",
    "print(b)"
   ]
  },
  {
   "cell_type": "code",
   "execution_count": 11,
   "id": "ce86e87a",
   "metadata": {},
   "outputs": [
    {
     "name": "stdout",
     "output_type": "stream",
     "text": [
      "단어를 입력하세요 : abhiabhello\n",
      "['', 'hi', 'hello']\n"
     ]
    }
   ],
   "source": [
    "x = input(\"단어를 입력하세요 : \")\n",
    "res = x.split(\"ab\")\n",
    "print(res)"
   ]
  },
  {
   "cell_type": "code",
   "execution_count": 17,
   "id": "e7f41e4c",
   "metadata": {},
   "outputs": [
    {
     "name": "stdout",
     "output_type": "stream",
     "text": [
      "\n",
      "hi\n",
      "hello\n",
      "\n"
     ]
    }
   ],
   "source": [
    "# 여러줄을 사용할 수 있는 문자열 표기 방법\n",
    "x = '''\n",
    "hi\n",
    "hello\n",
    "''' # 위아래로 공백이 생김 ( 엔터 두 번쳤기 때문에)\n",
    "print(x)"
   ]
  },
  {
   "cell_type": "code",
   "execution_count": 20,
   "id": "11e2f487",
   "metadata": {},
   "outputs": [
    {
     "name": "stdout",
     "output_type": "stream",
     "text": [
      "Life\n",
      "is\n",
      "too\n",
      "short\n",
      "so\n",
      "you\n",
      "need\n",
      "Python\n"
     ]
    }
   ],
   "source": [
    "x = \"\"\"Life\n",
    "is\n",
    "too\n",
    "short\n",
    "so\n",
    "you\n",
    "need\n",
    "Python\"\"\"\n",
    "\n",
    "print(x)"
   ]
  },
  {
   "cell_type": "code",
   "execution_count": 23,
   "id": "b277330c",
   "metadata": {},
   "outputs": [
    {
     "name": "stdout",
     "output_type": "stream",
     "text": [
      "python's\n",
      "Life is too short\n",
      "you need Python\n"
     ]
    }
   ],
   "source": [
    "# \\\" , \\n 역할\n",
    "\n",
    "x=\"python\\'s\"\n",
    "print(x)\n",
    "\n",
    "s = \"Life is too short\\nyou need Python\" # \\n(역슬래쉬 + n)은 엔터역활을 함\n",
    "print(s)"
   ]
  },
  {
   "cell_type": "code",
   "execution_count": 26,
   "id": "6b662183",
   "metadata": {},
   "outputs": [
    {
     "name": "stdout",
     "output_type": "stream",
     "text": [
      "==============================\n",
      "lifelifelifelifelife\n",
      "==============================\n"
     ]
    }
   ],
   "source": [
    "# 문자열 연산\n",
    "# *를 하면 문자열 반복 ex) str*5 는 str을 5번 반복\n",
    "str = \"life\"\n",
    "print(\"=\"*30)\n",
    "print(str*5)\n",
    "print(\"=\"*30)"
   ]
  },
  {
   "cell_type": "code",
   "execution_count": 39,
   "id": "37779511",
   "metadata": {},
   "outputs": [
    {
     "name": "stdout",
     "output_type": "stream",
     "text": [
      "17\n",
      "f\n",
      "t\n",
      "ife\n",
      "is too short\n",
      "Lif\n",
      "Life is too short\n",
      "is too sh\n"
     ]
    }
   ],
   "source": [
    "# len 함수 -> 길이를 구해줌\n",
    "s = \"Life is too short\"\n",
    "print(len(s))\n",
    "\n",
    "# index\n",
    "\n",
    "# s[2] -> s 문자열 중 3번째 문자\n",
    "# s[-1] -> 맨 뒤에서부터 첫번째 문자\n",
    "# s[1:4] -> 두 번째 문자부터 네번째 문자까지\n",
    "# s[5:] -> 6번째 문자부터 마지막 까지\n",
    "# s[:3] -> 맨 앞에서부터 3번째 문자까지 \n",
    "\n",
    "print(s[2]) # s[2] -> s 문자열 중 3번째 문자\n",
    "print(s[-1]) # 맨 뒤에서부터 첫번째 문자\n",
    "print(s[1:4]) # 두 번째 문자부터 네번째 문자까지\n",
    "print(s[5:]) # 6번째 문자부터 마지막 까지\n",
    "print(s[:3]) # 맨 앞에서부터 3번째 문자까지 \n",
    "print(s[:]) # 전체\n",
    "print(s[5:-3]) # 6번째 문자부터 뒤에서 4번째 문자까지"
   ]
  },
  {
   "cell_type": "code",
   "execution_count": 44,
   "id": "cebfb35e",
   "metadata": {},
   "outputs": [
    {
     "name": "stdout",
     "output_type": "stream",
     "text": [
      "science\n"
     ]
    }
   ],
   "source": [
    "s = \"saience\" # a -> c 로 바꾸고 싶음\n",
    "\n",
    "# s[1] = \"c\" # 문자열 하나만 바꾸는게 불가능\n",
    "\n",
    "a = s.replace(\"a\",\"c\") # 바꾸려면 replace 사용\n",
    "print(a)"
   ]
  },
  {
   "cell_type": "code",
   "execution_count": null,
   "id": "160b3dad",
   "metadata": {},
   "outputs": [],
   "source": []
  },
  {
   "cell_type": "code",
   "execution_count": null,
   "id": "67319be7",
   "metadata": {},
   "outputs": [],
   "source": []
  }
 ],
 "metadata": {
  "kernelspec": {
   "display_name": "Python 3",
   "language": "python",
   "name": "python3"
  },
  "language_info": {
   "codemirror_mode": {
    "name": "ipython",
    "version": 3
   },
   "file_extension": ".py",
   "mimetype": "text/x-python",
   "name": "python",
   "nbconvert_exporter": "python",
   "pygments_lexer": "ipython3",
   "version": "3.8.8"
  }
 },
 "nbformat": 4,
 "nbformat_minor": 5
}
