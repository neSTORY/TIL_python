{
 "cells": [
  {
   "cell_type": "code",
   "execution_count": 3,
   "id": "e098f4ca",
   "metadata": {},
   "outputs": [],
   "source": [
    "# insert 함수: 리스트내의 특정 위치에 데이터를 삽입\n",
    "\n",
    "a = [10, 20, 30]\n",
    "a.append(100)"
   ]
  },
  {
   "cell_type": "code",
   "execution_count": 4,
   "id": "305c290e",
   "metadata": {},
   "outputs": [
    {
     "data": {
      "text/plain": [
       "[10, 20, 30, 100]"
      ]
     },
     "execution_count": 4,
     "metadata": {},
     "output_type": "execute_result"
    }
   ],
   "source": [
    "a"
   ]
  },
  {
   "cell_type": "code",
   "execution_count": 5,
   "id": "315f61e9",
   "metadata": {},
   "outputs": [],
   "source": [
    "a.insert(1, 15) # (들어갈 index 위치 , 요소 값)"
   ]
  },
  {
   "cell_type": "code",
   "execution_count": 6,
   "id": "4529e52c",
   "metadata": {},
   "outputs": [
    {
     "data": {
      "text/plain": [
       "[10, 15, 20, 30, 100]"
      ]
     },
     "execution_count": 6,
     "metadata": {},
     "output_type": "execute_result"
    }
   ],
   "source": [
    "a"
   ]
  },
  {
   "cell_type": "code",
   "execution_count": 7,
   "id": "955d40e8",
   "metadata": {},
   "outputs": [],
   "source": [
    "# extend 함수 : 리스트 마지막에 요소값들을 넣어줌\n",
    "# append와 차이는 append는 리스트 통으로 넣지만 extend는 요소들을 분해해서 넣어줌"
   ]
  },
  {
   "cell_type": "code",
   "execution_count": 8,
   "id": "5fafca0d",
   "metadata": {},
   "outputs": [],
   "source": [
    "a = [10, 20, 10, 20]"
   ]
  },
  {
   "cell_type": "code",
   "execution_count": null,
   "id": "de7f078d",
   "metadata": {},
   "outputs": [],
   "source": [
    "# remove 함수\n",
    "# 맨 앞에 요소를 삭제해줌\n",
    "# remove(요소값)"
   ]
  },
  {
   "cell_type": "code",
   "execution_count": 9,
   "id": "6b735ae0",
   "metadata": {},
   "outputs": [],
   "source": [
    "a.remove(10)"
   ]
  },
  {
   "cell_type": "code",
   "execution_count": 10,
   "id": "800eed8a",
   "metadata": {},
   "outputs": [
    {
     "data": {
      "text/plain": [
       "[20, 10, 20]"
      ]
     },
     "execution_count": 10,
     "metadata": {},
     "output_type": "execute_result"
    }
   ],
   "source": [
    "a"
   ]
  },
  {
   "cell_type": "code",
   "execution_count": 11,
   "id": "b642cacf",
   "metadata": {},
   "outputs": [],
   "source": [
    "# pop 함수\n",
    "# a.pop() 가장 마지막 요소를 꺼낸다음 제거\n",
    "# data = a.pop() #가장 마지막 요소를 꺼낸다음 data에 저장"
   ]
  },
  {
   "cell_type": "code",
   "execution_count": 22,
   "id": "e2d7e1ad",
   "metadata": {},
   "outputs": [],
   "source": [
    "# a.pop(1) # index 위치를 지정해서 꺼내줄 수도 있음"
   ]
  },
  {
   "cell_type": "code",
   "execution_count": 20,
   "id": "69443a69",
   "metadata": {},
   "outputs": [],
   "source": [
    "a = [10, 20, 30]"
   ]
  },
  {
   "cell_type": "code",
   "execution_count": 21,
   "id": "1b87ab26",
   "metadata": {},
   "outputs": [
    {
     "data": {
      "text/plain": [
       "20"
      ]
     },
     "execution_count": 21,
     "metadata": {},
     "output_type": "execute_result"
    }
   ],
   "source": [
    "a.pop(1)"
   ]
  },
  {
   "cell_type": "code",
   "execution_count": null,
   "id": "204eabd7",
   "metadata": {},
   "outputs": [],
   "source": [
    "# 튜플 : 리스트와 거의 비슷. \n",
    "# 리스트 : [] , 튜플 : () 로 자료 표현\n",
    "# 리스트는 데이터를 생성, 수정, 삭제 등을 수행\n",
    "# 튜플은 데이터를 변경할 수 없음"
   ]
  },
  {
   "cell_type": "code",
   "execution_count": 5,
   "id": "8a2ae37d",
   "metadata": {},
   "outputs": [
    {
     "data": {
      "text/plain": [
       "(1, 2)"
      ]
     },
     "execution_count": 5,
     "metadata": {},
     "output_type": "execute_result"
    }
   ],
   "source": [
    "tup1 = () # 튜플도 빈 튜플을 만들 수 있음\n",
    "tup1\n",
    "type(tup1)\n",
    "\n",
    "tup2 = (1)\n",
    "tup2\n",
    "type(tup2) # 튜플안에 기호를 넣어줘야 int로 안 나옴\n",
    "\n",
    "tup2 = (1,)\n",
    "tup2\n",
    "type(tup2) # 튜플은 ',' (콤마)를 사용해야 튜플로 인식함!\n",
    "\n",
    "tup3 = (10, 20, 30)\n",
    "tup3\n",
    "\n",
    "tup4 = 1,2 # 소괄호를 안 써도 튜플로 인식되긴 함. 근데 쓰지 말도록 하자\n",
    "tup4"
   ]
  },
  {
   "cell_type": "code",
   "execution_count": 6,
   "id": "8b00b0ec",
   "metadata": {},
   "outputs": [],
   "source": [
    "# 에러 발생의 경우\n",
    "\n",
    "# del tup4[0] 튜플은 데이터를 변경x\n",
    "\n",
    "# tup[1] = 3 튜플은 데이터를 변경x"
   ]
  },
  {
   "cell_type": "code",
   "execution_count": 7,
   "id": "93d6d23d",
   "metadata": {},
   "outputs": [],
   "source": [
    "l4 = list(tup4) # 튜플 -> 리스트"
   ]
  },
  {
   "cell_type": "code",
   "execution_count": 8,
   "id": "59a28eb6",
   "metadata": {},
   "outputs": [
    {
     "data": {
      "text/plain": [
       "[1, 3]"
      ]
     },
     "execution_count": 8,
     "metadata": {},
     "output_type": "execute_result"
    }
   ],
   "source": [
    "l4[1] = 3\n",
    "l4"
   ]
  },
  {
   "cell_type": "code",
   "execution_count": 37,
   "id": "41e451cb",
   "metadata": {},
   "outputs": [
    {
     "data": {
      "text/plain": [
       "(1, 3)"
      ]
     },
     "execution_count": 37,
     "metadata": {},
     "output_type": "execute_result"
    }
   ],
   "source": [
    "tup4 =tuple(l4)\n",
    "tup4"
   ]
  },
  {
   "cell_type": "code",
   "execution_count": 10,
   "id": "b219cc9d",
   "metadata": {},
   "outputs": [
    {
     "data": {
      "text/plain": [
       "(10, 20, '가', '나')"
      ]
     },
     "execution_count": 10,
     "metadata": {},
     "output_type": "execute_result"
    }
   ],
   "source": [
    "tup5 = (10, 20, \"가\", \"나\")\n",
    "tup5"
   ]
  },
  {
   "cell_type": "code",
   "execution_count": 11,
   "id": "7128c968",
   "metadata": {},
   "outputs": [
    {
     "data": {
      "text/plain": [
       "'나'"
      ]
     },
     "execution_count": 11,
     "metadata": {},
     "output_type": "execute_result"
    }
   ],
   "source": [
    "tup5[3] # 참조는 가능\n",
    "# tup5[2:]"
   ]
  },
  {
   "cell_type": "code",
   "execution_count": 43,
   "id": "1b7c7f03",
   "metadata": {
    "scrolled": true
   },
   "outputs": [
    {
     "name": "stdout",
     "output_type": "stream",
     "text": [
      "(10, 20, '가', '나')\n",
      "(10, 20, 30)\n"
     ]
    }
   ],
   "source": [
    "print(tup5)\n",
    "print(tup3)"
   ]
  },
  {
   "cell_type": "code",
   "execution_count": 45,
   "id": "c6815f98",
   "metadata": {},
   "outputs": [
    {
     "data": {
      "text/plain": [
       "[1, 2, 3, 4]"
      ]
     },
     "execution_count": 45,
     "metadata": {},
     "output_type": "execute_result"
    }
   ],
   "source": [
    "li1 = [1,2]\n",
    "li2 = [3,4]\n",
    "li1 + li2"
   ]
  },
  {
   "cell_type": "code",
   "execution_count": 47,
   "id": "c21f723b",
   "metadata": {},
   "outputs": [
    {
     "data": {
      "text/plain": [
       "(10, 20, 30, 10, 20, '가', '나')"
      ]
     },
     "execution_count": 47,
     "metadata": {},
     "output_type": "execute_result"
    }
   ],
   "source": [
    "tup3 + tup5 # 튜플 합치기는 가능"
   ]
  },
  {
   "cell_type": "code",
   "execution_count": 52,
   "id": "6be454c2",
   "metadata": {},
   "outputs": [
    {
     "name": "stdout",
     "output_type": "stream",
     "text": [
      "[1, 2, 1, 2, 1, 2, 1, 2, 1, 2]\n",
      "(10, 20, '가', '나', 10, 20, '가', '나', 10, 20, '가', '나')\n"
     ]
    }
   ],
   "source": [
    "print(li1 * 5)\n",
    "print(tup5 * 3) # 반복도 가능"
   ]
  },
  {
   "cell_type": "code",
   "execution_count": 53,
   "id": "4bf0a878",
   "metadata": {},
   "outputs": [
    {
     "name": "stdout",
     "output_type": "stream",
     "text": [
      "[1, 2]\n",
      "(10, 20, '가', '나')\n"
     ]
    }
   ],
   "source": [
    "print(li1)\n",
    "print(tup5) # 길이 구하는 것도 가능"
   ]
  },
  {
   "cell_type": "code",
   "execution_count": 54,
   "id": "8f7841fb",
   "metadata": {},
   "outputs": [
    {
     "data": {
      "text/plain": [
       "range(0, 5)"
      ]
     },
     "execution_count": 54,
     "metadata": {},
     "output_type": "execute_result"
    }
   ],
   "source": [
    "range(5) # 0~4"
   ]
  },
  {
   "cell_type": "code",
   "execution_count": 56,
   "id": "8d31e313",
   "metadata": {},
   "outputs": [
    {
     "name": "stdout",
     "output_type": "stream",
     "text": [
      "(0, 1, 2, 3, 4)\n",
      "[0, 1, 2, 3, 4]\n"
     ]
    }
   ],
   "source": [
    "# range를 활용하여 튜플,리스트에 연속된 값을 넣어줄 수 있음\n",
    "\n",
    "print(tuple(range(5)))\n",
    "print(list(range(5)))"
   ]
  },
  {
   "cell_type": "code",
   "execution_count": 60,
   "id": "b35b2cf4",
   "metadata": {},
   "outputs": [
    {
     "name": "stdout",
     "output_type": "stream",
     "text": [
      "['d', 'a', 't', 'a']\n",
      "('d', 'a', 't', 'a')\n"
     ]
    }
   ],
   "source": [
    "print(list(\"data\")) # 문자열을 list함수 안에 넣으면 하나 하나 분리되서 요소로 들어감\n",
    "\n",
    "print(tuple(\"data\")) # 튜플도 마찬가지"
   ]
  },
  {
   "cell_type": "code",
   "execution_count": 61,
   "id": "805d4a08",
   "metadata": {},
   "outputs": [],
   "source": [
    "# set : 파이썬에서 집합을 의미함\n",
    "# 중괄호, 컴마로 구분\n",
    "# 중복을 허용하지 않음"
   ]
  },
  {
   "cell_type": "code",
   "execution_count": 63,
   "id": "0abe778e",
   "metadata": {},
   "outputs": [
    {
     "name": "stdout",
     "output_type": "stream",
     "text": [
      "{1, 2, 3, 4}\n",
      "{'hello', 'bye', 'hi'}\n"
     ]
    }
   ],
   "source": [
    "s1 = {1,2,3,1,2,4}\n",
    "print(s1)\n",
    "s2 = {\"hi\", \"hello\", \"bye\", \"hi\"}\n",
    "print(s2) # 자료 위치가 랜덤하게 출력. 저장 순서가 없음 => 대괄호 기호를 사용하여 데이터 참조를 할 수 없음"
   ]
  },
  {
   "cell_type": "code",
   "execution_count": null,
   "id": "717cd2ae",
   "metadata": {},
   "outputs": [],
   "source": [
    "# 리스트나 튜플에서는 데이터 참조시 대괄호([]) 기호를 사용\n",
    "# 리스트변수명[3] : 4번째 자료 추출\n",
    "# s2[1] 에러 발생"
   ]
  },
  {
   "cell_type": "code",
   "execution_count": 66,
   "id": "f613844d",
   "metadata": {},
   "outputs": [
    {
     "name": "stdout",
     "output_type": "stream",
     "text": [
      "False\n",
      "True\n",
      "False\n"
     ]
    }
   ],
   "source": [
    "# in 연산자\n",
    "\n",
    "print(\"key\" in s2)\n",
    "print(\"bye\" in s2)\n",
    "\n",
    "# not in 연산자\n",
    "print(\"bye\" not in s2)"
   ]
  },
  {
   "cell_type": "code",
   "execution_count": 68,
   "id": "61f23ce3",
   "metadata": {},
   "outputs": [
    {
     "name": "stdout",
     "output_type": "stream",
     "text": [
      "{'l', 'e', 'h', 'o'}\n"
     ]
    }
   ],
   "source": [
    "a = set(\"hello\")\n",
    "print(a) # 튜플처럼 중복이 제외된 상태에서 분해되어 저장됨"
   ]
  },
  {
   "cell_type": "code",
   "execution_count": 69,
   "id": "69a60a3d",
   "metadata": {},
   "outputs": [
    {
     "data": {
      "text/plain": [
       "range(0, 5)"
      ]
     },
     "execution_count": 69,
     "metadata": {},
     "output_type": "execute_result"
    }
   ],
   "source": [
    "range(5) # range 객체 : 0 ~ 4 까지 범위를 갖는 값들을 포장해놓은 포장물(객체)\n",
    "\n",
    "# 객체? 객체지향언어에 등장하는 클래스로부터 파생된 실체(인스턴스)"
   ]
  },
  {
   "cell_type": "code",
   "execution_count": 71,
   "id": "1f5a573a",
   "metadata": {},
   "outputs": [
    {
     "data": {
      "text/plain": [
       "{0, 1, 2, 3, 4}"
      ]
     },
     "execution_count": 71,
     "metadata": {},
     "output_type": "execute_result"
    }
   ],
   "source": [
    "list(range(5)) # 포장지를 뜯어서 리스트 형태로 만듬\n",
    "tuple(range(5)) # 포장지를 뜯어서 튜플 형태로 만듬\n",
    "set(range(5)) # 포장지를 뜯어서 집합 형태로 만듬"
   ]
  },
  {
   "cell_type": "code",
   "execution_count": 72,
   "id": "15229948",
   "metadata": {},
   "outputs": [
    {
     "name": "stdout",
     "output_type": "stream",
     "text": [
      "set()\n"
     ]
    }
   ],
   "source": [
    "c = set()\n",
    "print(c) # c는 공집합이 됨"
   ]
  },
  {
   "cell_type": "code",
   "execution_count": 73,
   "id": "9d03b40b",
   "metadata": {},
   "outputs": [
    {
     "data": {
      "text/plain": [
       "dict"
      ]
     },
     "execution_count": 73,
     "metadata": {},
     "output_type": "execute_result"
    }
   ],
   "source": [
    "c = {} # dictionary\n",
    "type(c)"
   ]
  },
  {
   "cell_type": "code",
   "execution_count": 76,
   "id": "ec53f731",
   "metadata": {},
   "outputs": [
    {
     "name": "stdout",
     "output_type": "stream",
     "text": [
      "{'고', '습', '갑', '요', '다', '니', '반'}\n"
     ]
    }
   ],
   "source": [
    "set_han = set(\"반갑습니다반갑고요\") # 한글을 넣어도 중복 제거\n",
    "print(set_han)"
   ]
  },
  {
   "cell_type": "code",
   "execution_count": 78,
   "id": "2a8f5551",
   "metadata": {},
   "outputs": [
    {
     "name": "stdout",
     "output_type": "stream",
     "text": [
      "<class 'set'> <class 'set'> <class 'dict'>\n"
     ]
    }
   ],
   "source": [
    "a = {10, 20, 30}\n",
    "b = {30, 40, 50}\n",
    "c = {}\n",
    "print(type(a),type(b),type(c))"
   ]
  },
  {
   "cell_type": "code",
   "execution_count": 79,
   "id": "195e4040",
   "metadata": {},
   "outputs": [
    {
     "name": "stdout",
     "output_type": "stream",
     "text": [
      "{50, 20, 40, 10, 30}\n"
     ]
    },
    {
     "data": {
      "text/plain": [
       "{10, 20, 30, 40, 50}"
      ]
     },
     "execution_count": 79,
     "metadata": {},
     "output_type": "execute_result"
    }
   ],
   "source": [
    "print(a | b) # or 연산자, 합집합(union)\n",
    "set.union(a,b)"
   ]
  },
  {
   "cell_type": "code",
   "execution_count": 81,
   "id": "6a206f54",
   "metadata": {},
   "outputs": [
    {
     "name": "stdout",
     "output_type": "stream",
     "text": [
      "{30}\n",
      "{30}\n"
     ]
    }
   ],
   "source": [
    "# 교집합(intersection)\n",
    "\n",
    "print(a & b) # and 연산자, 교집합\n",
    "print(set.intersection(a,b))"
   ]
  },
  {
   "cell_type": "code",
   "execution_count": 85,
   "id": "4c921e6a",
   "metadata": {},
   "outputs": [
    {
     "name": "stdout",
     "output_type": "stream",
     "text": [
      "{10, 20}\n",
      "{10, 20}\n"
     ]
    }
   ],
   "source": [
    "# 차집합(difference)\n",
    "\n",
    "print(a - b)\n",
    "print(set.difference(a,b))"
   ]
  },
  {
   "cell_type": "code",
   "execution_count": 86,
   "id": "44307eaf",
   "metadata": {},
   "outputs": [
    {
     "name": "stdout",
     "output_type": "stream",
     "text": [
      "{40, 10, 50, 20}\n"
     ]
    }
   ],
   "source": [
    "# 대칭차집합, XOR 연산\n",
    "print(a ^ b)"
   ]
  },
  {
   "cell_type": "code",
   "execution_count": 90,
   "id": "5b72ee82",
   "metadata": {},
   "outputs": [
    {
     "name": "stdout",
     "output_type": "stream",
     "text": [
      "{40, 10, 20, 30}\n"
     ]
    }
   ],
   "source": [
    "# set(집합) 내 자료 추가\n",
    "\n",
    "a = {10, 20, 30}\n",
    "a.add(40) # 추가할 자료를 괄호안에 넣음\n",
    "print(a)"
   ]
  },
  {
   "cell_type": "code",
   "execution_count": 14,
   "id": "42cfe28c",
   "metadata": {
    "scrolled": true
   },
   "outputs": [
    {
     "name": "stdout",
     "output_type": "stream",
     "text": [
      "{40, 10, 30}\n"
     ]
    }
   ],
   "source": [
    "# set 내 자료 제거\n",
    "a = {10,20,30,40}\n",
    "a.remove(20) # 제거할 자료를 괄호안에 넣음\n",
    "print(a)"
   ]
  },
  {
   "cell_type": "code",
   "execution_count": 15,
   "id": "6ecbf8d3",
   "metadata": {},
   "outputs": [
    {
     "name": "stdout",
     "output_type": "stream",
     "text": [
      "{40, 10}\n"
     ]
    }
   ],
   "source": [
    "# a.remove(20) - error 발생\n",
    "# a.discard(20) - error 발생 안함\n",
    "\n",
    "a.discard(30)\n",
    "print(a)\n",
    "\n",
    "# remove, discard 둘 다 데이터를 제거해주지만 remove는 집합내 없는 자료를 지우려하면 에러가 발생함"
   ]
  },
  {
   "cell_type": "code",
   "execution_count": 100,
   "id": "970b76ac",
   "metadata": {},
   "outputs": [
    {
     "name": "stdout",
     "output_type": "stream",
     "text": [
      "{20, 30}\n",
      "{30}\n",
      "set()\n"
     ]
    }
   ],
   "source": [
    "a = {10, 20, 30}\n",
    "\n",
    "a.pop() # set에서 사용가능\n",
    "print(a)\n",
    "\n",
    "a.pop()\n",
    "print(a)\n",
    "\n",
    "a.pop()\n",
    "print(a)"
   ]
  },
  {
   "cell_type": "code",
   "execution_count": 101,
   "id": "19274a99",
   "metadata": {},
   "outputs": [],
   "source": [
    "# 집합은 자료의 순서가 유지되지 않음\n",
    "# set 자료구조는 자료의 저장 순서가 필요없으면서도 중복을 제거해야 하는 상황에서 사용"
   ]
  },
  {
   "cell_type": "code",
   "execution_count": 105,
   "id": "a54cf685",
   "metadata": {},
   "outputs": [
    {
     "name": "stdout",
     "output_type": "stream",
     "text": [
      "3\n",
      "set()\n"
     ]
    }
   ],
   "source": [
    "a = {10,20,30}\n",
    "print(len(a))\n",
    "a.clear() # 집합내 요소를 전부 없애줌\n",
    "print(a)"
   ]
  },
  {
   "cell_type": "code",
   "execution_count": 113,
   "id": "e0caf9ac",
   "metadata": {},
   "outputs": [
    {
     "name": "stdout",
     "output_type": "stream",
     "text": [
      "{10, 20, 30}\n"
     ]
    }
   ],
   "source": [
    "s1 = {10, 20, 30}\n",
    "\n",
    "s2 = s1\n",
    "\n",
    "print(s2)"
   ]
  },
  {
   "cell_type": "code",
   "execution_count": 114,
   "id": "480b3096",
   "metadata": {},
   "outputs": [
    {
     "name": "stdout",
     "output_type": "stream",
     "text": [
      "{40, 10, 20, 30}\n",
      "{40, 10, 20, 30}\n"
     ]
    }
   ],
   "source": [
    "# 대입연산자로 새로운 변수에 할당하게 되면, set이 2개가 아니라 여전히 1개\n",
    "# s1 s2가 따로 따로 집합을 형성하는게 아니라 공동으로 있음\n",
    "\n",
    "s2.add(40)\n",
    "print(s2)\n",
    "print(s1)"
   ]
  },
  {
   "cell_type": "code",
   "execution_count": 115,
   "id": "a4258c32",
   "metadata": {},
   "outputs": [
    {
     "name": "stdout",
     "output_type": "stream",
     "text": [
      "True\n"
     ]
    }
   ],
   "source": [
    "# is : s1, s2 집합이 동일한 집합인지 확인하는 연산자\n",
    "\n",
    "print(s1 is s2)"
   ]
  },
  {
   "cell_type": "code",
   "execution_count": 118,
   "id": "e5e1489c",
   "metadata": {},
   "outputs": [
    {
     "name": "stdout",
     "output_type": "stream",
     "text": [
      "{10, 20, 30}\n",
      "False\n",
      "True\n"
     ]
    }
   ],
   "source": [
    "# copy() : 두 개의 완전히 분리된 집합을 생성하기 위한 함수\n",
    "\n",
    "a = {10, 20, 30}\n",
    "# b = a 동일한 집합\n",
    "\n",
    "b = a.copy()\n",
    "print(a)\n",
    "\n",
    "# is : 두 집합이 동일한지(메모리 상의 주소, 위치) 확인\n",
    "print(b is a) # a, b 두 집합은 서로 다른 집합이 됐음\n",
    "# False의 의미? -> a 집합과 b 집합의 자료들이 메모리 상의 다른 위치에 저장되어 있음을 의미!\n",
    "\n",
    "# ==: 두 집합에 속해있는 요소{1, 2, 3}가 동일한지 확인\n",
    "print(a == b) # 요소가 같아서 True가 나옴"
   ]
  },
  {
   "cell_type": "code",
   "execution_count": 119,
   "id": "712ab260",
   "metadata": {},
   "outputs": [
    {
     "name": "stdout",
     "output_type": "stream",
     "text": [
      "{40, 10, 20, 30} {10, 20, 30}\n"
     ]
    }
   ],
   "source": [
    "b.add(40)\n",
    "print(b, a) # 서로 다른 요소를 갖게 됨 <- copy를 해서 사본을 만들었기 때문"
   ]
  },
  {
   "cell_type": "code",
   "execution_count": null,
   "id": "78ba80f9",
   "metadata": {},
   "outputs": [],
   "source": [
    "# Dictionary\n",
    "\n",
    "# 단어 : 설명 -> 키(key) :  값(value) 의 쌍으로 자료를 구성\n",
    "# json 파일이 딕셔너리 구조로 이루어져 있음\n",
    "\n",
    "# 딕셔너리 = {키1: 값1, 키2: 값2}"
   ]
  },
  {
   "cell_type": "code",
   "execution_count": 126,
   "id": "5c9b932d",
   "metadata": {},
   "outputs": [
    {
     "name": "stdout",
     "output_type": "stream",
     "text": [
      "{'name': 'kim', 'cp': 114, 'birth': '0707', 10: 'ten'}\n",
      "{'name': 'kim', 'cp': 119, 'birth': '0707', 10: 'ten'}\n"
     ]
    }
   ],
   "source": [
    "people = {\"name\":\"kim\",\n",
    "          \"cp\":114,\n",
    "          \"birth\":\"0707\",\n",
    "         10:\"ten\"}\n",
    "\n",
    "print(people)\n",
    "\n",
    "# 값이 확정이 안되어있으면 value 값을 None 으로 초기화시켜놓으면 됨\n",
    "\n",
    "# 키 이름이 중복될 경우\n",
    "people = {\"name\":\"kim\",\n",
    "          \"cp\":114,\n",
    "          \"birth\":\"0707\",\n",
    "         10:\"ten\", \"cp\":119, # 마지막 키에 해당하는 값이 저장됨\n",
    "         \"nickname\":[\"ai\", \"robot\"]} # 밸류에 리스트형태로 쓸 수 있음(키는 안됨)\n",
    "print(people)"
   ]
  },
  {
   "cell_type": "code",
   "execution_count": 134,
   "id": "f3815cdf",
   "metadata": {},
   "outputs": [
    {
     "name": "stdout",
     "output_type": "stream",
     "text": [
      "{'name': 'NaEunSu', 'adress': 'Bucheon', 'gender': 'Male', 'nickname': 'nestory', 'hobby': 'balling'}\n"
     ]
    }
   ],
   "source": [
    "nes = {\n",
    "    \"name\":\"NaEunSu\",\n",
    "    \"adress\":\"Bucheon\",\n",
    "    \"gender\":\"Male\",\n",
    "    \"nickname\":\"nestory\",\n",
    "    \"hobby\":\"balling\"\n",
    "}\n",
    "print(nes)"
   ]
  },
  {
   "cell_type": "code",
   "execution_count": null,
   "id": "abf220f1",
   "metadata": {},
   "outputs": [],
   "source": [
    "s = {} # set이 아닌 dict구조\n",
    "s = dict() # 이렇게도 비어있는 dictionary 생성 가능"
   ]
  },
  {
   "cell_type": "code",
   "execution_count": 135,
   "id": "7298d8fc",
   "metadata": {},
   "outputs": [
    {
     "name": "stdout",
     "output_type": "stream",
     "text": [
      "{'name': 'kim', 'cp': 114}\n"
     ]
    }
   ],
   "source": [
    "# people = {\"name\":\"kim\", \"cp\":114}\n",
    "\n",
    "mydic = dict(name = \"kim\", cp = 114) # dict 함수에서는 키에 \"\"을 쓰면 안됨\n",
    "# mydic = dict(\"name\" = \"kim\", \"cp\" = 114) 에러 발생!\n",
    "# dic 함수에서는 숫자(int)를 key로 사용하지 못함!\n",
    "print(mydic)"
   ]
  },
  {
   "cell_type": "code",
   "execution_count": 143,
   "id": "3d08ef06",
   "metadata": {},
   "outputs": [
    {
     "name": "stdout",
     "output_type": "stream",
     "text": [
      "{'one': 1, 'two': 2}\n"
     ]
    }
   ],
   "source": [
    "# dict함수와 zip함수를 활용하여 딕셔너리를 생성가능\n",
    "# 잘 사용하지 않는 방법\n",
    "\n",
    "# zip()\n",
    "\n",
    "zip([\"one\", \"two\"],[1,2])\n",
    "# 이 상태는 포장되어 있는 상태라 볼 수 없음\n",
    "\n",
    "print(dict(zip([\"one\", \"two\"],[1,2])))\n",
    "# zip([key 값], [\"value 값\"])으로 표현"
   ]
  },
  {
   "cell_type": "code",
   "execution_count": 148,
   "id": "e14b9271",
   "metadata": {},
   "outputs": [
    {
     "name": "stdout",
     "output_type": "stream",
     "text": [
      "kim\n"
     ]
    }
   ],
   "source": [
    "# 딕셔너리의 키에 연결된 값을 추출하는 작업\n",
    "print(mydic[\"name\"])"
   ]
  },
  {
   "cell_type": "code",
   "execution_count": 149,
   "id": "352b4933",
   "metadata": {},
   "outputs": [
    {
     "name": "stdout",
     "output_type": "stream",
     "text": [
      "{'name': 'kim', 'cp': 119}\n"
     ]
    }
   ],
   "source": [
    "mydic[\"cp\"] = 119 # value 값 변경\n",
    "\n",
    "print(mydic)"
   ]
  },
  {
   "cell_type": "code",
   "execution_count": 150,
   "id": "5fe699b9",
   "metadata": {},
   "outputs": [
    {
     "name": "stdout",
     "output_type": "stream",
     "text": [
      "{'name': 'kim', 'cp': 119, 'bloodtype': 'B'}\n"
     ]
    }
   ],
   "source": [
    "mydic[\"bloodtype\"] = \"B\" # 데이터 추가하는 방법\n",
    "\n",
    "print(mydic)"
   ]
  },
  {
   "cell_type": "code",
   "execution_count": 153,
   "id": "43223506",
   "metadata": {},
   "outputs": [
    {
     "data": {
      "text/plain": [
       "True"
      ]
     },
     "execution_count": 153,
     "metadata": {},
     "output_type": "execute_result"
    }
   ],
   "source": [
    "# 딕셔너리에 어떤 키가 존재하는지 확인\n",
    "\n",
    "\"gender\" in mydic # False\n",
    "\"name\" in mydic # True"
   ]
  },
  {
   "cell_type": "code",
   "execution_count": 175,
   "id": "acc67db9",
   "metadata": {},
   "outputs": [
    {
     "name": "stdout",
     "output_type": "stream",
     "text": [
      "[('name', 'kim'), ('cp', 119), ('bloodtype', 'B')]\n",
      "('name', 'kim')\n",
      "kim\n"
     ]
    }
   ],
   "source": [
    "res_key =mydic.keys() # mydic 안에 있는 key 값들을 보여줌\n",
    "res_val = mydic.values() # mydic 안에 있는 value  값들을 보여줌\n",
    "res_item = mydic.items() # mydic 안에 있는 key, value 값을 튜플로 묶어서 보여줌\n",
    "\n",
    "print(list(mydic.items()))\n",
    "print(list(mydic.items())[0]) # 리스트이기 때문에 인덱스 사용가능\n",
    "print(list(mydic.items())[0][1]) # 첫 번째가 튜플이기때문에 추가로 인덱스 또 사용가능"
   ]
  },
  {
   "cell_type": "code",
   "execution_count": 196,
   "id": "6d0eb638",
   "metadata": {},
   "outputs": [],
   "source": [
    "li=[('name', 'kim'), ('cp', '119'), ('bloodtype', 'B')]\n",
    "mydic = dict(li)"
   ]
  },
  {
   "cell_type": "code",
   "execution_count": 192,
   "id": "e407dbb4",
   "metadata": {},
   "outputs": [
    {
     "name": "stdout",
     "output_type": "stream",
     "text": [
      "None\n",
      "서울\n",
      "B\n"
     ]
    }
   ],
   "source": [
    "mydic[\"cp\"] # == mydic.get(\"cp\")\n",
    "\n",
    "# mydic[\"addr\"] # 해당 키가 없는 경우에는 에러 발생\n",
    "print(mydic.get(\"addr\")) # 에러없이 None 값 발생\n",
    "print(mydic.get(\"addr\", \"서울\")) # 없는 키값에 value값을 넣어줄 수도 있음\n",
    "\n",
    "print(mydic.get(\"bloodtype\", \"A\"))\n",
    "# 키가 존재하면 값을 리턴, 키가 존재하지 않으면 A를 디폴트값으로 리턴"
   ]
  },
  {
   "cell_type": "code",
   "execution_count": 197,
   "id": "14683e8b",
   "metadata": {},
   "outputs": [
    {
     "name": "stdout",
     "output_type": "stream",
     "text": [
      "{'name': 'kim', 'bloodtype': 'B'}\n"
     ]
    }
   ],
   "source": [
    "del mydic[\"cp\"]\n",
    "print(mydic)"
   ]
  },
  {
   "cell_type": "code",
   "execution_count": 199,
   "id": "60669a2a",
   "metadata": {},
   "outputs": [
    {
     "data": {
      "text/plain": [
       "2"
      ]
     },
     "execution_count": 199,
     "metadata": {},
     "output_type": "execute_result"
    }
   ],
   "source": [
    "len(mydic)"
   ]
  },
  {
   "cell_type": "code",
   "execution_count": 200,
   "id": "df16aeaf",
   "metadata": {},
   "outputs": [],
   "source": [
    "## 딕셔너리 연습 ##"
   ]
  },
  {
   "cell_type": "code",
   "execution_count": 228,
   "id": "47d7967b",
   "metadata": {},
   "outputs": [],
   "source": [
    "t = {\"새우깡\":1000, \"감자칩\":2000, \"요구르트\":500}"
   ]
  },
  {
   "cell_type": "code",
   "execution_count": 229,
   "id": "263f8694",
   "metadata": {},
   "outputs": [
    {
     "data": {
      "text/plain": [
       "{'새우깡': 1000, '감자칩': 2000, '요구르트': 500}"
      ]
     },
     "execution_count": 229,
     "metadata": {},
     "output_type": "execute_result"
    }
   ],
   "source": [
    "t"
   ]
  },
  {
   "cell_type": "code",
   "execution_count": 230,
   "id": "99611800",
   "metadata": {},
   "outputs": [],
   "source": [
    "t[\"생수\"] = 500"
   ]
  },
  {
   "cell_type": "code",
   "execution_count": 231,
   "id": "f0c1441c",
   "metadata": {},
   "outputs": [
    {
     "data": {
      "text/plain": [
       "{'새우깡': 1000, '감자칩': 2000, '요구르트': 500, '생수': 500}"
      ]
     },
     "execution_count": 231,
     "metadata": {},
     "output_type": "execute_result"
    }
   ],
   "source": [
    "t"
   ]
  },
  {
   "cell_type": "code",
   "execution_count": 232,
   "id": "17006589",
   "metadata": {},
   "outputs": [],
   "source": [
    "t[\"새우깡\"] = 1500"
   ]
  },
  {
   "cell_type": "code",
   "execution_count": 233,
   "id": "d9485f56",
   "metadata": {},
   "outputs": [
    {
     "data": {
      "text/plain": [
       "{'새우깡': 1500, '감자칩': 2000, '요구르트': 500, '생수': 500}"
      ]
     },
     "execution_count": 233,
     "metadata": {},
     "output_type": "execute_result"
    }
   ],
   "source": [
    "t"
   ]
  },
  {
   "cell_type": "code",
   "execution_count": 234,
   "id": "ff9969d4",
   "metadata": {},
   "outputs": [],
   "source": [
    "del t[\"요구르트\"]"
   ]
  },
  {
   "cell_type": "code",
   "execution_count": 235,
   "id": "47a83807",
   "metadata": {},
   "outputs": [
    {
     "data": {
      "text/plain": [
       "{'새우깡': 1500, '감자칩': 2000, '생수': 500}"
      ]
     },
     "execution_count": 235,
     "metadata": {},
     "output_type": "execute_result"
    }
   ],
   "source": [
    "t"
   ]
  },
  {
   "cell_type": "code",
   "execution_count": null,
   "id": "b94f9ae3",
   "metadata": {},
   "outputs": [],
   "source": [
    "# 새우깡 가격1000 수량 5\n",
    "# 생수 가격 500 수량 10\n",
    "# 표현해보기"
   ]
  },
  {
   "cell_type": "code",
   "execution_count": 239,
   "id": "af916c2d",
   "metadata": {},
   "outputs": [],
   "source": [
    "가격 = {\"새우깡\": 1000, \"생수\":500}\n",
    "재고 = {\"새우깡\":5, \"생수\":10}"
   ]
  },
  {
   "cell_type": "code",
   "execution_count": 240,
   "id": "77508162",
   "metadata": {},
   "outputs": [],
   "source": [
    "제품 = {\"새우깡\":[1000,5],\"생수\":[500,10]}"
   ]
  },
  {
   "cell_type": "code",
   "execution_count": 244,
   "id": "69bf75b5",
   "metadata": {},
   "outputs": [
    {
     "data": {
      "text/plain": [
       "[1000, 5]"
      ]
     },
     "execution_count": 244,
     "metadata": {},
     "output_type": "execute_result"
    }
   ],
   "source": [
    "가격[\"새우깡\"]\n",
    "재고[\"새우깡\"]\n",
    "제품[\"새우깡\"]"
   ]
  },
  {
   "cell_type": "code",
   "execution_count": 248,
   "id": "9c17fd29",
   "metadata": {},
   "outputs": [
    {
     "name": "stdout",
     "output_type": "stream",
     "text": [
      "1000원 5개\n"
     ]
    }
   ],
   "source": [
    "print(str(가격[\"새우깡\"]) + \"원\", str(재고[\"새우깡\"])+ \"개\")"
   ]
  },
  {
   "cell_type": "code",
   "execution_count": 253,
   "id": "f4c2a8d9",
   "metadata": {},
   "outputs": [
    {
     "name": "stdout",
     "output_type": "stream",
     "text": [
      "생수의 재고량은10개 입니다.\n"
     ]
    }
   ],
   "source": [
    "제품 = {\"새우깡\":[1000,5],\"생수\":[500,10]}\n",
    "\n",
    "# 생수의 재고량을 출력\n",
    "\n",
    "print(\"생수의 재고량은 \" + str(제품[\"생수\"][1]) + \"개 입니다.\")"
   ]
  },
  {
   "cell_type": "code",
   "execution_count": 256,
   "id": "3f84df5e",
   "metadata": {},
   "outputs": [
    {
     "data": {
      "text/plain": [
       "[[1000, 5], [500, 10]]"
      ]
     },
     "execution_count": 256,
     "metadata": {},
     "output_type": "execute_result"
    }
   ],
   "source": [
    "list(제품.keys())\n",
    "list(제품.values())"
   ]
  },
  {
   "cell_type": "code",
   "execution_count": null,
   "id": "ca5ea7f1",
   "metadata": {},
   "outputs": [],
   "source": []
  },
  {
   "cell_type": "code",
   "execution_count": null,
   "id": "b8902470",
   "metadata": {},
   "outputs": [],
   "source": []
  },
  {
   "cell_type": "code",
   "execution_count": null,
   "id": "f42c6cb0",
   "metadata": {},
   "outputs": [],
   "source": []
  },
  {
   "cell_type": "code",
   "execution_count": null,
   "id": "2e60c9e3",
   "metadata": {},
   "outputs": [],
   "source": []
  }
 ],
 "metadata": {
  "kernelspec": {
   "display_name": "Python 3",
   "language": "python",
   "name": "python3"
  },
  "language_info": {
   "codemirror_mode": {
    "name": "ipython",
    "version": 3
   },
   "file_extension": ".py",
   "mimetype": "text/x-python",
   "name": "python",
   "nbconvert_exporter": "python",
   "pygments_lexer": "ipython3",
   "version": "3.8.8"
  }
 },
 "nbformat": 4,
 "nbformat_minor": 5
}
