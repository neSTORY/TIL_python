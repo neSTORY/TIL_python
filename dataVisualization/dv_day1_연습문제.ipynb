{
 "cells": [
  {
   "cell_type": "code",
   "execution_count": 141,
   "source": [
    "import matplotlib\r\n",
    "from matplotlib import font_manager, rc\r\n",
    "import platform"
   ],
   "outputs": [],
   "metadata": {}
  },
  {
   "cell_type": "code",
   "execution_count": 142,
   "source": [
    "if platform.system()==\"Windows\":\r\n",
    "    font_name=font_manager.FontProperties(fname=\"c:/Windows/Fonts/malgun.ttf\").get_name()\r\n",
    "    rc('font', family=font_name)\r\n",
    "matplotlib.rcParams['axes.unicode_minus']=False\r\n",
    "\r\n",
    "import warnings\r\n",
    "warnings.filterwarnings(\"ignore\")"
   ],
   "outputs": [],
   "metadata": {}
  },
  {
   "cell_type": "markdown",
   "source": [
    "1. 임의의 두 수를 입력 받은 후 최소공배수/최대공약수 출력"
   ],
   "metadata": {}
  },
  {
   "cell_type": "code",
   "execution_count": 64,
   "source": [
    "a, b= input(\"두 수를 입력하세요 : \").split(\",\")\r\n",
    "a = int(a)\r\n",
    "b = int(b)"
   ],
   "outputs": [],
   "metadata": {}
  },
  {
   "cell_type": "code",
   "execution_count": 65,
   "source": [
    "a_ = a\r\n",
    "b_ = b\r\n",
    "\r\n",
    "while True:\r\n",
    "  a = a-b\r\n",
    "  if b > a:\r\n",
    "    a,b = b,a\r\n",
    "  if a == b:\r\n",
    "    break\r\n",
    "print(\"최대공약수 : \",str(a))\r\n",
    "print(\"최소공배수 : \",str(a_*b_/a))"
   ],
   "outputs": [
    {
     "output_type": "stream",
     "name": "stdout",
     "text": [
      "최대공약수 :  10\n",
      "최소공배수 :  840.0\n"
     ]
    }
   ],
   "metadata": {}
  },
  {
   "cell_type": "markdown",
   "source": [
    "2. 1~1000에서 각 숫자의 개수 구하기\r\n",
    "\r\n",
    "    예로 10 ~ 15 까지의 각 숫자의 개수를 구해보자\r\n",
    "\r\n",
    "    10 = 1, 0\r\n",
    "    11 = 1, 1\r\n",
    "    12 = 1, 2\r\n",
    "    13 = 1, 3\r\n",
    "    14 = 1, 4\r\n",
    "    15 = 1, 5\r\n",
    "\r\n",
    "    그러므로 이 경우의 답은 0:1개, 1:7개, 2:1개, 3:1개, 4:1개, 5:1개"
   ],
   "metadata": {}
  },
  {
   "cell_type": "code",
   "execution_count": 86,
   "source": [
    "from collections import Counter"
   ],
   "outputs": [],
   "metadata": {}
  },
  {
   "cell_type": "code",
   "execution_count": 88,
   "source": [
    "c = []\r\n",
    "for i in range(1,1001):\r\n",
    "  c = c + list(str(i))\r\n",
    "Counter(c)"
   ],
   "outputs": [
    {
     "output_type": "execute_result",
     "data": {
      "text/plain": [
       "Counter({'1': 301,\n",
       "         '2': 300,\n",
       "         '3': 300,\n",
       "         '4': 300,\n",
       "         '5': 300,\n",
       "         '6': 300,\n",
       "         '7': 300,\n",
       "         '8': 300,\n",
       "         '9': 300,\n",
       "         '0': 192})"
      ]
     },
     "metadata": {},
     "execution_count": 88
    }
   ],
   "metadata": {}
  },
  {
   "cell_type": "markdown",
   "source": [
    "3.\r\n",
    "    시저 암호는, 고대 로마의 황제 줄리어스 시저가 만들어 낸 암호인데, \r\n",
    "    예를 들어 알파벳 A를 입력했을 때, 그 알파벳의 n개 뒤에 오는\r\n",
    "    (여기서는 예를 들 때 3으로 지정하였다)알파벳이 출력되는 것이다. \r\n",
    "    예를 들어 바꾸려는 단어가 'CAT\"고, n을 5로 지정하였을 때 \"HFY\"가 되는 것이다.\r\n",
    "\r\n",
    "    어떠한 암호를 만들 문장과 n을 입력했을 때 암호를 만들어 출력하는 프로그램을 \r\n",
    "    작성해라."
   ],
   "metadata": {}
  },
  {
   "cell_type": "code",
   "execution_count": 99,
   "source": [
    "sent = input(\"문자를 입력하세요 : \")\r\n",
    "num = int(input(\"숫자를 입력하세요 : \"))"
   ],
   "outputs": [],
   "metadata": {}
  },
  {
   "cell_type": "code",
   "execution_count": 112,
   "source": [
    "sent = input(\"문자를 입력하세요 : \")\r\n",
    "num = int(input(\"숫자를 입력하세요 : \"))\r\n",
    "after_sent = \"\"\r\n",
    "\r\n",
    "for i in list(sent):\r\n",
    "  cnum = ord(i) + num\r\n",
    "  if 65 <= ord(i) <=90:\r\n",
    "    if cnum > 90:\r\n",
    "      cnum -= 26\r\n",
    "  else:\r\n",
    "    if cnum > 122:\r\n",
    "      cnum -= 26\r\n",
    "  after_sent = after_sent+chr(cnum)\r\n",
    "print(\"변경 전 문장, 숫자 : \", sent,\",\",num)\r\n",
    "print(\"암호 : \", after_sent)"
   ],
   "outputs": [
    {
     "output_type": "stream",
     "name": "stdout",
     "text": [
      "변경 전 문장, 숫자 :  xyzXYZ , 5\n",
      "암호 :  cdeCDE\n"
     ]
    }
   ],
   "metadata": {}
  },
  {
   "cell_type": "code",
   "execution_count": 121,
   "source": [
    "import seaborn as sns\r\n",
    "import pandas as pd\r\n",
    "import numpy as np\r\n",
    "import matplotlib as mpl\r\n",
    "import matplotlib.pyplot as plt"
   ],
   "outputs": [],
   "metadata": {}
  },
  {
   "cell_type": "markdown",
   "source": [
    "\r\n",
    "4. http://matplotlib.org/gallery.html 에서\r\n",
    "하나를 선택하여 타이타닉 데이터를 시각화 해본다"
   ],
   "metadata": {}
  },
  {
   "cell_type": "code",
   "execution_count": 115,
   "source": [
    "titanic = sns.load_dataset(\"titanic\")\r\n",
    "titanic"
   ],
   "outputs": [
    {
     "output_type": "execute_result",
     "data": {
      "text/plain": [
       "     survived  pclass     sex   age  sibsp  parch     fare embarked   class  \\\n",
       "0           0       3    male  22.0      1      0   7.2500        S   Third   \n",
       "1           1       1  female  38.0      1      0  71.2833        C   First   \n",
       "2           1       3  female  26.0      0      0   7.9250        S   Third   \n",
       "3           1       1  female  35.0      1      0  53.1000        S   First   \n",
       "4           0       3    male  35.0      0      0   8.0500        S   Third   \n",
       "..        ...     ...     ...   ...    ...    ...      ...      ...     ...   \n",
       "886         0       2    male  27.0      0      0  13.0000        S  Second   \n",
       "887         1       1  female  19.0      0      0  30.0000        S   First   \n",
       "888         0       3  female   NaN      1      2  23.4500        S   Third   \n",
       "889         1       1    male  26.0      0      0  30.0000        C   First   \n",
       "890         0       3    male  32.0      0      0   7.7500        Q   Third   \n",
       "\n",
       "       who  adult_male deck  embark_town alive  alone  \n",
       "0      man        True  NaN  Southampton    no  False  \n",
       "1    woman       False    C    Cherbourg   yes  False  \n",
       "2    woman       False  NaN  Southampton   yes   True  \n",
       "3    woman       False    C  Southampton   yes  False  \n",
       "4      man        True  NaN  Southampton    no   True  \n",
       "..     ...         ...  ...          ...   ...    ...  \n",
       "886    man        True  NaN  Southampton    no   True  \n",
       "887  woman       False    B  Southampton   yes   True  \n",
       "888  woman       False  NaN  Southampton    no  False  \n",
       "889    man        True    C    Cherbourg   yes   True  \n",
       "890    man        True  NaN   Queenstown    no   True  \n",
       "\n",
       "[891 rows x 15 columns]"
      ],
      "text/html": [
       "<div>\n",
       "<style scoped>\n",
       "    .dataframe tbody tr th:only-of-type {\n",
       "        vertical-align: middle;\n",
       "    }\n",
       "\n",
       "    .dataframe tbody tr th {\n",
       "        vertical-align: top;\n",
       "    }\n",
       "\n",
       "    .dataframe thead th {\n",
       "        text-align: right;\n",
       "    }\n",
       "</style>\n",
       "<table border=\"1\" class=\"dataframe\">\n",
       "  <thead>\n",
       "    <tr style=\"text-align: right;\">\n",
       "      <th></th>\n",
       "      <th>survived</th>\n",
       "      <th>pclass</th>\n",
       "      <th>sex</th>\n",
       "      <th>age</th>\n",
       "      <th>sibsp</th>\n",
       "      <th>parch</th>\n",
       "      <th>fare</th>\n",
       "      <th>embarked</th>\n",
       "      <th>class</th>\n",
       "      <th>who</th>\n",
       "      <th>adult_male</th>\n",
       "      <th>deck</th>\n",
       "      <th>embark_town</th>\n",
       "      <th>alive</th>\n",
       "      <th>alone</th>\n",
       "    </tr>\n",
       "  </thead>\n",
       "  <tbody>\n",
       "    <tr>\n",
       "      <th>0</th>\n",
       "      <td>0</td>\n",
       "      <td>3</td>\n",
       "      <td>male</td>\n",
       "      <td>22.0</td>\n",
       "      <td>1</td>\n",
       "      <td>0</td>\n",
       "      <td>7.2500</td>\n",
       "      <td>S</td>\n",
       "      <td>Third</td>\n",
       "      <td>man</td>\n",
       "      <td>True</td>\n",
       "      <td>NaN</td>\n",
       "      <td>Southampton</td>\n",
       "      <td>no</td>\n",
       "      <td>False</td>\n",
       "    </tr>\n",
       "    <tr>\n",
       "      <th>1</th>\n",
       "      <td>1</td>\n",
       "      <td>1</td>\n",
       "      <td>female</td>\n",
       "      <td>38.0</td>\n",
       "      <td>1</td>\n",
       "      <td>0</td>\n",
       "      <td>71.2833</td>\n",
       "      <td>C</td>\n",
       "      <td>First</td>\n",
       "      <td>woman</td>\n",
       "      <td>False</td>\n",
       "      <td>C</td>\n",
       "      <td>Cherbourg</td>\n",
       "      <td>yes</td>\n",
       "      <td>False</td>\n",
       "    </tr>\n",
       "    <tr>\n",
       "      <th>2</th>\n",
       "      <td>1</td>\n",
       "      <td>3</td>\n",
       "      <td>female</td>\n",
       "      <td>26.0</td>\n",
       "      <td>0</td>\n",
       "      <td>0</td>\n",
       "      <td>7.9250</td>\n",
       "      <td>S</td>\n",
       "      <td>Third</td>\n",
       "      <td>woman</td>\n",
       "      <td>False</td>\n",
       "      <td>NaN</td>\n",
       "      <td>Southampton</td>\n",
       "      <td>yes</td>\n",
       "      <td>True</td>\n",
       "    </tr>\n",
       "    <tr>\n",
       "      <th>3</th>\n",
       "      <td>1</td>\n",
       "      <td>1</td>\n",
       "      <td>female</td>\n",
       "      <td>35.0</td>\n",
       "      <td>1</td>\n",
       "      <td>0</td>\n",
       "      <td>53.1000</td>\n",
       "      <td>S</td>\n",
       "      <td>First</td>\n",
       "      <td>woman</td>\n",
       "      <td>False</td>\n",
       "      <td>C</td>\n",
       "      <td>Southampton</td>\n",
       "      <td>yes</td>\n",
       "      <td>False</td>\n",
       "    </tr>\n",
       "    <tr>\n",
       "      <th>4</th>\n",
       "      <td>0</td>\n",
       "      <td>3</td>\n",
       "      <td>male</td>\n",
       "      <td>35.0</td>\n",
       "      <td>0</td>\n",
       "      <td>0</td>\n",
       "      <td>8.0500</td>\n",
       "      <td>S</td>\n",
       "      <td>Third</td>\n",
       "      <td>man</td>\n",
       "      <td>True</td>\n",
       "      <td>NaN</td>\n",
       "      <td>Southampton</td>\n",
       "      <td>no</td>\n",
       "      <td>True</td>\n",
       "    </tr>\n",
       "    <tr>\n",
       "      <th>...</th>\n",
       "      <td>...</td>\n",
       "      <td>...</td>\n",
       "      <td>...</td>\n",
       "      <td>...</td>\n",
       "      <td>...</td>\n",
       "      <td>...</td>\n",
       "      <td>...</td>\n",
       "      <td>...</td>\n",
       "      <td>...</td>\n",
       "      <td>...</td>\n",
       "      <td>...</td>\n",
       "      <td>...</td>\n",
       "      <td>...</td>\n",
       "      <td>...</td>\n",
       "      <td>...</td>\n",
       "    </tr>\n",
       "    <tr>\n",
       "      <th>886</th>\n",
       "      <td>0</td>\n",
       "      <td>2</td>\n",
       "      <td>male</td>\n",
       "      <td>27.0</td>\n",
       "      <td>0</td>\n",
       "      <td>0</td>\n",
       "      <td>13.0000</td>\n",
       "      <td>S</td>\n",
       "      <td>Second</td>\n",
       "      <td>man</td>\n",
       "      <td>True</td>\n",
       "      <td>NaN</td>\n",
       "      <td>Southampton</td>\n",
       "      <td>no</td>\n",
       "      <td>True</td>\n",
       "    </tr>\n",
       "    <tr>\n",
       "      <th>887</th>\n",
       "      <td>1</td>\n",
       "      <td>1</td>\n",
       "      <td>female</td>\n",
       "      <td>19.0</td>\n",
       "      <td>0</td>\n",
       "      <td>0</td>\n",
       "      <td>30.0000</td>\n",
       "      <td>S</td>\n",
       "      <td>First</td>\n",
       "      <td>woman</td>\n",
       "      <td>False</td>\n",
       "      <td>B</td>\n",
       "      <td>Southampton</td>\n",
       "      <td>yes</td>\n",
       "      <td>True</td>\n",
       "    </tr>\n",
       "    <tr>\n",
       "      <th>888</th>\n",
       "      <td>0</td>\n",
       "      <td>3</td>\n",
       "      <td>female</td>\n",
       "      <td>NaN</td>\n",
       "      <td>1</td>\n",
       "      <td>2</td>\n",
       "      <td>23.4500</td>\n",
       "      <td>S</td>\n",
       "      <td>Third</td>\n",
       "      <td>woman</td>\n",
       "      <td>False</td>\n",
       "      <td>NaN</td>\n",
       "      <td>Southampton</td>\n",
       "      <td>no</td>\n",
       "      <td>False</td>\n",
       "    </tr>\n",
       "    <tr>\n",
       "      <th>889</th>\n",
       "      <td>1</td>\n",
       "      <td>1</td>\n",
       "      <td>male</td>\n",
       "      <td>26.0</td>\n",
       "      <td>0</td>\n",
       "      <td>0</td>\n",
       "      <td>30.0000</td>\n",
       "      <td>C</td>\n",
       "      <td>First</td>\n",
       "      <td>man</td>\n",
       "      <td>True</td>\n",
       "      <td>C</td>\n",
       "      <td>Cherbourg</td>\n",
       "      <td>yes</td>\n",
       "      <td>True</td>\n",
       "    </tr>\n",
       "    <tr>\n",
       "      <th>890</th>\n",
       "      <td>0</td>\n",
       "      <td>3</td>\n",
       "      <td>male</td>\n",
       "      <td>32.0</td>\n",
       "      <td>0</td>\n",
       "      <td>0</td>\n",
       "      <td>7.7500</td>\n",
       "      <td>Q</td>\n",
       "      <td>Third</td>\n",
       "      <td>man</td>\n",
       "      <td>True</td>\n",
       "      <td>NaN</td>\n",
       "      <td>Queenstown</td>\n",
       "      <td>no</td>\n",
       "      <td>True</td>\n",
       "    </tr>\n",
       "  </tbody>\n",
       "</table>\n",
       "<p>891 rows × 15 columns</p>\n",
       "</div>"
      ]
     },
     "metadata": {},
     "execution_count": 115
    }
   ],
   "metadata": {}
  },
  {
   "cell_type": "code",
   "execution_count": 209,
   "source": [
    "# 연령대별 생존자수\r\n",
    "x = titanic[titanic[\"alive\"] ==\"yes\"][\"age\"].value_counts().keys()\r\n",
    "plt.hist(x, bins = 10, histtype='bar', facecolor='y', alpha=0.75)\r\n",
    "plt.title(\"연령대별 생존자수\");"
   ],
   "outputs": [
    {
     "output_type": "display_data",
     "data": {
      "text/plain": [
       "<Figure size 432x288 with 1 Axes>"
      ],
      "image/svg+xml": "<?xml version=\"1.0\" encoding=\"utf-8\" standalone=\"no\"?>\r\n<!DOCTYPE svg PUBLIC \"-//W3C//DTD SVG 1.1//EN\"\r\n  \"http://www.w3.org/Graphics/SVG/1.1/DTD/svg11.dtd\">\r\n<!-- Created with matplotlib (https://matplotlib.org/) -->\r\n<svg height=\"263.906875pt\" version=\"1.1\" viewBox=\"0 0 367.215625 263.906875\" width=\"367.215625pt\" xmlns=\"http://www.w3.org/2000/svg\" xmlns:xlink=\"http://www.w3.org/1999/xlink\">\r\n <metadata>\r\n  <rdf:RDF xmlns:cc=\"http://creativecommons.org/ns#\" xmlns:dc=\"http://purl.org/dc/elements/1.1/\" xmlns:rdf=\"http://www.w3.org/1999/02/22-rdf-syntax-ns#\">\r\n   <cc:Work>\r\n    <dc:type rdf:resource=\"http://purl.org/dc/dcmitype/StillImage\"/>\r\n    <dc:date>2021-08-24T17:26:18.116665</dc:date>\r\n    <dc:format>image/svg+xml</dc:format>\r\n    <dc:creator>\r\n     <cc:Agent>\r\n      <dc:title>Matplotlib v3.3.4, https://matplotlib.org/</dc:title>\r\n     </cc:Agent>\r\n    </dc:creator>\r\n   </cc:Work>\r\n  </rdf:RDF>\r\n </metadata>\r\n <defs>\r\n  <style type=\"text/css\">*{stroke-linecap:butt;stroke-linejoin:round;}</style>\r\n </defs>\r\n <g id=\"figure_1\">\r\n  <g id=\"patch_1\">\r\n   <path d=\"M 0 263.906875 \r\nL 367.215625 263.906875 \r\nL 367.215625 0 \r\nL 0 0 \r\nz\r\n\" style=\"fill:none;\"/>\r\n  </g>\r\n  <g id=\"axes_1\">\r\n   <g id=\"patch_2\">\r\n    <path d=\"M 25.215625 239.750625 \r\nL 360.015625 239.750625 \r\nL 360.015625 22.310625 \r\nL 25.215625 22.310625 \r\nz\r\n\" style=\"fill:#ffffff;\"/>\r\n   </g>\r\n   <g id=\"patch_3\">\r\n    <path clip-path=\"url(#p44f658df95)\" d=\"M 40.433807 239.750625 \r\nL 70.87017 239.750625 \r\nL 70.87017 32.664911 \r\nL 40.433807 32.664911 \r\nz\r\n\" style=\"fill:#bfbf00;opacity:0.75;\"/>\r\n   </g>\r\n   <g id=\"patch_4\">\r\n    <path clip-path=\"url(#p44f658df95)\" d=\"M 70.87017 239.750625 \r\nL 101.306534 239.750625 \r\nL 101.306534 128.242933 \r\nL 70.87017 128.242933 \r\nz\r\n\" style=\"fill:#bfbf00;opacity:0.75;\"/>\r\n   </g>\r\n   <g id=\"patch_5\">\r\n    <path clip-path=\"url(#p44f658df95)\" d=\"M 101.306534 239.750625 \r\nL 131.742898 239.750625 \r\nL 131.742898 112.313262 \r\nL 101.306534 112.313262 \r\nz\r\n\" style=\"fill:#bfbf00;opacity:0.75;\"/>\r\n   </g>\r\n   <g id=\"patch_6\">\r\n    <path clip-path=\"url(#p44f658df95)\" d=\"M 131.742898 239.750625 \r\nL 162.179261 239.750625 \r\nL 162.179261 112.313262 \r\nL 131.742898 112.313262 \r\nz\r\n\" style=\"fill:#bfbf00;opacity:0.75;\"/>\r\n   </g>\r\n   <g id=\"patch_7\">\r\n    <path clip-path=\"url(#p44f658df95)\" d=\"M 162.179261 239.750625 \r\nL 192.615625 239.750625 \r\nL 192.615625 96.383592 \r\nL 162.179261 96.383592 \r\nz\r\n\" style=\"fill:#bfbf00;opacity:0.75;\"/>\r\n   </g>\r\n   <g id=\"patch_8\">\r\n    <path clip-path=\"url(#p44f658df95)\" d=\"M 192.615625 239.750625 \r\nL 223.051989 239.750625 \r\nL 223.051989 128.242933 \r\nL 192.615625 128.242933 \r\nz\r\n\" style=\"fill:#bfbf00;opacity:0.75;\"/>\r\n   </g>\r\n   <g id=\"patch_9\">\r\n    <path clip-path=\"url(#p44f658df95)\" d=\"M 223.051989 239.750625 \r\nL 253.488352 239.750625 \r\nL 253.488352 112.313262 \r\nL 223.051989 112.313262 \r\nz\r\n\" style=\"fill:#bfbf00;opacity:0.75;\"/>\r\n   </g>\r\n   <g id=\"patch_10\">\r\n    <path clip-path=\"url(#p44f658df95)\" d=\"M 253.488352 239.750625 \r\nL 283.924716 239.750625 \r\nL 283.924716 176.031944 \r\nL 253.488352 176.031944 \r\nz\r\n\" style=\"fill:#bfbf00;opacity:0.75;\"/>\r\n   </g>\r\n   <g id=\"patch_11\">\r\n    <path clip-path=\"url(#p44f658df95)\" d=\"M 283.924716 239.750625 \r\nL 314.36108 239.750625 \r\nL 314.36108 239.750625 \r\nL 283.924716 239.750625 \r\nz\r\n\" style=\"fill:#bfbf00;opacity:0.75;\"/>\r\n   </g>\r\n   <g id=\"patch_12\">\r\n    <path clip-path=\"url(#p44f658df95)\" d=\"M 314.36108 239.750625 \r\nL 344.797443 239.750625 \r\nL 344.797443 223.820955 \r\nL 314.36108 223.820955 \r\nz\r\n\" style=\"fill:#bfbf00;opacity:0.75;\"/>\r\n   </g>\r\n   <g id=\"matplotlib.axis_1\">\r\n    <g id=\"xtick_1\">\r\n     <g id=\"line2d_1\">\r\n      <defs>\r\n       <path d=\"M 0 0 \r\nL 0 3.5 \r\n\" id=\"mf6e29a4548\" style=\"stroke:#000000;stroke-width:0.8;\"/>\r\n      </defs>\r\n      <g>\r\n       <use style=\"stroke:#000000;stroke-width:0.8;\" x=\"38.827464\" xlink:href=\"#mf6e29a4548\" y=\"239.750625\"/>\r\n      </g>\r\n     </g>\r\n     <g id=\"text_1\">\r\n      <!-- 0 -->\r\n      <g transform=\"translate(36.073558 254.342812)scale(0.1 -0.1)\">\r\n       <defs>\r\n        <path d=\"M 4.34375 34.46875 \r\nQ 4.34375 53.515625 10.546875 63.28125 \r\nQ 16.75 73.046875 28.421875 73.046875 \r\nQ 50.828125 73.046875 50.828125 36.234375 \r\nQ 50.828125 18.0625 44.59375 8.421875 \r\nQ 38.375 -1.21875 26.8125 -1.21875 \r\nQ 15.875 -1.21875 10.109375 8.125 \r\nQ 4.34375 17.484375 4.34375 34.46875 \r\nz\r\nM 12.25 34.859375 \r\nQ 12.25 5.375 27.640625 5.375 \r\nQ 42.921875 5.375 42.921875 35.296875 \r\nQ 42.921875 66.40625 28.03125 66.40625 \r\nQ 12.25 66.40625 12.25 34.859375 \r\nz\r\n\" id=\"MalgunGothic-48\"/>\r\n       </defs>\r\n       <use xlink:href=\"#MalgunGothic-48\"/>\r\n      </g>\r\n     </g>\r\n    </g>\r\n    <g id=\"xtick_2\">\r\n     <g id=\"line2d_2\">\r\n      <g>\r\n       <use style=\"stroke:#000000;stroke-width:0.8;\" x=\"77.073712\" xlink:href=\"#mf6e29a4548\" y=\"239.750625\"/>\r\n      </g>\r\n     </g>\r\n     <g id=\"text_2\">\r\n      <!-- 10 -->\r\n      <g transform=\"translate(71.565899 254.342812)scale(0.1 -0.1)\">\r\n       <defs>\r\n        <path d=\"M 34.859375 0 \r\nL 27.09375 0 \r\nL 27.09375 62.0625 \r\nQ 24.859375 59.8125 19.78125 57.203125 \r\nQ 14.703125 54.59375 10.5 53.5625 \r\nL 10.5 61.859375 \r\nQ 15.875 63.375 22.015625 66.796875 \r\nQ 28.171875 70.21875 31.734375 73.4375 \r\nL 34.859375 73.4375 \r\nz\r\n\" id=\"MalgunGothic-49\"/>\r\n       </defs>\r\n       <use xlink:href=\"#MalgunGothic-49\"/>\r\n       <use x=\"55.078125\" xlink:href=\"#MalgunGothic-48\"/>\r\n      </g>\r\n     </g>\r\n    </g>\r\n    <g id=\"xtick_3\">\r\n     <g id=\"line2d_3\">\r\n      <g>\r\n       <use style=\"stroke:#000000;stroke-width:0.8;\" x=\"115.319959\" xlink:href=\"#mf6e29a4548\" y=\"239.750625\"/>\r\n      </g>\r\n     </g>\r\n     <g id=\"text_3\">\r\n      <!-- 20 -->\r\n      <g transform=\"translate(109.812147 254.342812)scale(0.1 -0.1)\">\r\n       <defs>\r\n        <path d=\"M 39.359375 52.6875 \r\nQ 39.359375 59.125 35.546875 62.78125 \r\nQ 31.734375 66.453125 25.4375 66.453125 \r\nQ 20.953125 66.453125 16.453125 64.125 \r\nQ 11.96875 61.8125 8.34375 57.765625 \r\nL 8.34375 66.15625 \r\nQ 15.328125 73.046875 26.421875 73.046875 \r\nQ 35.640625 73.046875 41.28125 67.71875 \r\nQ 46.921875 62.40625 46.921875 53.375 \r\nQ 46.921875 45.609375 43.3125 39.765625 \r\nQ 39.703125 33.9375 31 27.734375 \r\nQ 22.796875 21.96875 19.59375 18.984375 \r\nQ 16.40625 16.015625 15.109375 13.34375 \r\nQ 13.8125 10.6875 13.8125 7.03125 \r\nL 48.6875 7.03125 \r\nL 48.6875 0 \r\nL 5.5625 0 \r\nL 5.5625 3.515625 \r\nQ 5.5625 9.421875 7.203125 13.59375 \r\nQ 8.84375 17.78125 12.671875 21.75 \r\nQ 16.5 25.734375 24.953125 31.59375 \r\nQ 32.671875 36.921875 36.015625 41.71875 \r\nQ 39.359375 46.53125 39.359375 52.6875 \r\nz\r\n\" id=\"MalgunGothic-50\"/>\r\n       </defs>\r\n       <use xlink:href=\"#MalgunGothic-50\"/>\r\n       <use x=\"55.078125\" xlink:href=\"#MalgunGothic-48\"/>\r\n      </g>\r\n     </g>\r\n    </g>\r\n    <g id=\"xtick_4\">\r\n     <g id=\"line2d_4\">\r\n      <g>\r\n       <use style=\"stroke:#000000;stroke-width:0.8;\" x=\"153.566206\" xlink:href=\"#mf6e29a4548\" y=\"239.750625\"/>\r\n      </g>\r\n     </g>\r\n     <g id=\"text_4\">\r\n      <!-- 30 -->\r\n      <g transform=\"translate(148.058394 254.342812)scale(0.1 -0.1)\">\r\n       <defs>\r\n        <path d=\"M 6.5 11.234375 \r\nQ 13.921875 5.375 23.09375 5.375 \r\nQ 30.609375 5.375 35.21875 9.171875 \r\nQ 39.84375 12.984375 39.84375 19.484375 \r\nQ 39.84375 33.890625 19.578125 33.890625 \r\nL 13.625 33.890625 \r\nL 13.625 40.484375 \r\nL 19.28125 40.484375 \r\nQ 37.3125 40.484375 37.3125 53.953125 \r\nQ 37.3125 66.40625 23.578125 66.40625 \r\nQ 15.96875 66.40625 9.28125 61.1875 \r\nL 9.28125 68.953125 \r\nQ 16.109375 73.046875 25.53125 73.046875 \r\nQ 34.125 73.046875 39.671875 68.3125 \r\nQ 45.21875 63.578125 45.21875 55.953125 \r\nQ 45.21875 41.84375 30.8125 37.640625 \r\nL 30.8125 37.5 \r\nQ 38.578125 36.8125 43.1875 32.078125 \r\nQ 47.796875 27.34375 47.796875 20.3125 \r\nQ 47.796875 10.5 40.6875 4.640625 \r\nQ 33.59375 -1.21875 22.65625 -1.21875 \r\nQ 12.59375 -1.21875 6.5 2.640625 \r\nz\r\n\" id=\"MalgunGothic-51\"/>\r\n       </defs>\r\n       <use xlink:href=\"#MalgunGothic-51\"/>\r\n       <use x=\"55.078125\" xlink:href=\"#MalgunGothic-48\"/>\r\n      </g>\r\n     </g>\r\n    </g>\r\n    <g id=\"xtick_5\">\r\n     <g id=\"line2d_5\">\r\n      <g>\r\n       <use style=\"stroke:#000000;stroke-width:0.8;\" x=\"191.812454\" xlink:href=\"#mf6e29a4548\" y=\"239.750625\"/>\r\n      </g>\r\n     </g>\r\n     <g id=\"text_5\">\r\n      <!-- 40 -->\r\n      <g transform=\"translate(186.304641 254.342812)scale(0.1 -0.1)\">\r\n       <defs>\r\n        <path d=\"M 42.234375 71.875 \r\nL 42.234375 24.421875 \r\nL 51.703125 24.421875 \r\nL 51.703125 17.390625 \r\nL 42.234375 17.390625 \r\nL 42.234375 0 \r\nL 34.578125 0 \r\nL 34.578125 17.390625 \r\nL 0.78125 17.390625 \r\nL 0.78125 23.96875 \r\nQ 11.375 35.890625 20.234375 48.578125 \r\nQ 29.109375 61.28125 33.9375 71.875 \r\nz\r\nM 9.765625 24.421875 \r\nL 34.578125 24.421875 \r\nL 34.578125 59.859375 \r\nQ 25.203125 43.5625 14.984375 30.953125 \r\nz\r\n\" id=\"MalgunGothic-52\"/>\r\n       </defs>\r\n       <use xlink:href=\"#MalgunGothic-52\"/>\r\n       <use x=\"55.078125\" xlink:href=\"#MalgunGothic-48\"/>\r\n      </g>\r\n     </g>\r\n    </g>\r\n    <g id=\"xtick_6\">\r\n     <g id=\"line2d_6\">\r\n      <g>\r\n       <use style=\"stroke:#000000;stroke-width:0.8;\" x=\"230.058701\" xlink:href=\"#mf6e29a4548\" y=\"239.750625\"/>\r\n      </g>\r\n     </g>\r\n     <g id=\"text_6\">\r\n      <!-- 50 -->\r\n      <g transform=\"translate(224.550889 254.342812)scale(0.1 -0.1)\">\r\n       <defs>\r\n        <path d=\"M 48 21.921875 \r\nQ 48 11.28125 41.1875 5.03125 \r\nQ 34.375 -1.21875 22.953125 -1.21875 \r\nQ 12.9375 -1.21875 8.0625 1.765625 \r\nL 8.0625 10.15625 \r\nQ 15.53125 5.375 23.046875 5.375 \r\nQ 30.765625 5.375 35.46875 9.84375 \r\nQ 40.1875 14.3125 40.1875 21.4375 \r\nQ 40.1875 28.71875 35.390625 32.6875 \r\nQ 30.609375 36.671875 21.578125 36.671875 \r\nQ 15.53125 36.671875 9.421875 35.9375 \r\nL 11.859375 71.875 \r\nL 44.828125 71.875 \r\nL 44.828125 64.796875 \r\nL 18.84375 64.796875 \r\nL 17.28125 43.171875 \r\nQ 21.046875 43.5 24.171875 43.5 \r\nQ 35.359375 43.5 41.671875 37.71875 \r\nQ 48 31.9375 48 21.921875 \r\nz\r\n\" id=\"MalgunGothic-53\"/>\r\n       </defs>\r\n       <use xlink:href=\"#MalgunGothic-53\"/>\r\n       <use x=\"55.078125\" xlink:href=\"#MalgunGothic-48\"/>\r\n      </g>\r\n     </g>\r\n    </g>\r\n    <g id=\"xtick_7\">\r\n     <g id=\"line2d_7\">\r\n      <g>\r\n       <use style=\"stroke:#000000;stroke-width:0.8;\" x=\"268.304948\" xlink:href=\"#mf6e29a4548\" y=\"239.750625\"/>\r\n      </g>\r\n     </g>\r\n     <g id=\"text_7\">\r\n      <!-- 60 -->\r\n      <g transform=\"translate(262.797136 254.342812)scale(0.1 -0.1)\">\r\n       <defs>\r\n        <path d=\"M 46.578125 63.578125 \r\nQ 40.921875 66.40625 34.8125 66.40625 \r\nQ 24.859375 66.40625 19.1875 57.640625 \r\nQ 13.53125 48.875 13.578125 34.578125 \r\nL 13.8125 34.578125 \r\nQ 18.796875 44.875 30.28125 44.875 \r\nQ 39.796875 44.875 45.359375 38.71875 \r\nQ 50.921875 32.5625 50.921875 22.65625 \r\nQ 50.921875 12.453125 44.640625 5.609375 \r\nQ 38.375 -1.21875 28.515625 -1.21875 \r\nQ 17.4375 -1.21875 11.5 7.46875 \r\nQ 5.5625 16.15625 5.5625 31.546875 \r\nQ 5.5625 49.703125 13.234375 61.375 \r\nQ 20.90625 73.046875 34.71875 73.046875 \r\nQ 42.1875 73.046875 46.578125 71 \r\nz\r\nM 14.15625 23.53125 \r\nQ 14.15625 15.96875 18.203125 10.671875 \r\nQ 22.265625 5.375 28.8125 5.375 \r\nQ 35.109375 5.375 39.03125 10.078125 \r\nQ 42.96875 14.796875 42.96875 21.6875 \r\nQ 42.96875 29.5 39.203125 33.859375 \r\nQ 35.453125 38.234375 28.71875 38.234375 \r\nQ 22.5625 38.234375 18.359375 33.953125 \r\nQ 14.15625 29.6875 14.15625 23.53125 \r\nz\r\n\" id=\"MalgunGothic-54\"/>\r\n       </defs>\r\n       <use xlink:href=\"#MalgunGothic-54\"/>\r\n       <use x=\"55.078125\" xlink:href=\"#MalgunGothic-48\"/>\r\n      </g>\r\n     </g>\r\n    </g>\r\n    <g id=\"xtick_8\">\r\n     <g id=\"line2d_8\">\r\n      <g>\r\n       <use style=\"stroke:#000000;stroke-width:0.8;\" x=\"306.551196\" xlink:href=\"#mf6e29a4548\" y=\"239.750625\"/>\r\n      </g>\r\n     </g>\r\n     <g id=\"text_8\">\r\n      <!-- 70 -->\r\n      <g transform=\"translate(301.043383 254.342812)scale(0.1 -0.1)\">\r\n       <defs>\r\n        <path d=\"M 50.203125 67.140625 \r\nQ 38.71875 46.96875 32.25 29.96875 \r\nQ 25.78125 12.984375 24.21875 0 \r\nL 15.765625 0 \r\nQ 16.9375 8.296875 20.15625 18.375 \r\nQ 23.390625 28.46875 28.359375 39.640625 \r\nQ 33.34375 50.828125 41.109375 64.796875 \r\nL 4.546875 64.796875 \r\nL 4.546875 71.875 \r\nL 50.203125 71.875 \r\nz\r\n\" id=\"MalgunGothic-55\"/>\r\n       </defs>\r\n       <use xlink:href=\"#MalgunGothic-55\"/>\r\n       <use x=\"55.078125\" xlink:href=\"#MalgunGothic-48\"/>\r\n      </g>\r\n     </g>\r\n    </g>\r\n    <g id=\"xtick_9\">\r\n     <g id=\"line2d_9\">\r\n      <g>\r\n       <use style=\"stroke:#000000;stroke-width:0.8;\" x=\"344.797443\" xlink:href=\"#mf6e29a4548\" y=\"239.750625\"/>\r\n      </g>\r\n     </g>\r\n     <g id=\"text_9\">\r\n      <!-- 80 -->\r\n      <g transform=\"translate(339.289631 254.342812)scale(0.1 -0.1)\">\r\n       <defs>\r\n        <path d=\"M 4.734375 20.015625 \r\nQ 4.734375 26.078125 8.421875 31.421875 \r\nQ 12.109375 36.765625 18.015625 38.96875 \r\nQ 13.375 41.359375 10.546875 45.546875 \r\nQ 7.71875 49.75 7.71875 54.6875 \r\nQ 7.71875 59.8125 10.296875 64.03125 \r\nQ 12.890625 68.265625 17.53125 70.65625 \r\nQ 22.171875 73.046875 27.78125 73.046875 \r\nQ 36.46875 73.046875 42.1875 67.84375 \r\nQ 47.90625 62.640625 47.90625 54.6875 \r\nQ 47.90625 49.703125 45.015625 45.53125 \r\nQ 42.140625 41.359375 37.703125 38.96875 \r\nQ 43.5625 36.71875 47.21875 31.390625 \r\nQ 50.875 26.078125 50.875 20.015625 \r\nQ 50.875 10.5 44.421875 4.640625 \r\nQ 37.984375 -1.21875 27.78125 -1.21875 \r\nQ 17.671875 -1.21875 11.203125 4.703125 \r\nQ 4.734375 10.640625 4.734375 20.015625 \r\nz\r\nM 12.640625 20.75 \r\nQ 12.640625 13.71875 16.890625 9.546875 \r\nQ 21.140625 5.375 27.828125 5.375 \r\nQ 34.46875 5.375 38.78125 9.671875 \r\nQ 43.109375 13.96875 43.109375 20.75 \r\nQ 43.109375 27.046875 38.78125 31.421875 \r\nQ 34.46875 35.796875 27.828125 35.796875 \r\nQ 21.4375 35.796875 17.03125 31.5625 \r\nQ 12.640625 27.34375 12.640625 20.75 \r\nz\r\nM 15.671875 54.046875 \r\nQ 15.671875 48.828125 19.28125 45.3125 \r\nQ 22.90625 41.796875 27.828125 41.796875 \r\nQ 32.765625 41.796875 36.40625 45.3125 \r\nQ 40.046875 48.828125 40.046875 54.046875 \r\nQ 40.046875 59.421875 36.578125 62.90625 \r\nQ 33.109375 66.40625 27.828125 66.40625 \r\nQ 22.65625 66.40625 19.15625 62.953125 \r\nQ 15.671875 59.515625 15.671875 54.046875 \r\nz\r\n\" id=\"MalgunGothic-56\"/>\r\n       </defs>\r\n       <use xlink:href=\"#MalgunGothic-56\"/>\r\n       <use x=\"55.078125\" xlink:href=\"#MalgunGothic-48\"/>\r\n      </g>\r\n     </g>\r\n    </g>\r\n   </g>\r\n   <g id=\"matplotlib.axis_2\">\r\n    <g id=\"ytick_1\">\r\n     <g id=\"line2d_10\">\r\n      <defs>\r\n       <path d=\"M 0 0 \r\nL -3.5 0 \r\n\" id=\"ma537ba8d3f\" style=\"stroke:#000000;stroke-width:0.8;\"/>\r\n      </defs>\r\n      <g>\r\n       <use style=\"stroke:#000000;stroke-width:0.8;\" x=\"25.215625\" xlink:href=\"#ma537ba8d3f\" y=\"239.750625\"/>\r\n      </g>\r\n     </g>\r\n     <g id=\"text_10\">\r\n      <!-- 0 -->\r\n      <g transform=\"translate(12.707813 243.546719)scale(0.1 -0.1)\">\r\n       <use xlink:href=\"#MalgunGothic-48\"/>\r\n      </g>\r\n     </g>\r\n    </g>\r\n    <g id=\"ytick_2\">\r\n     <g id=\"line2d_11\">\r\n      <g>\r\n       <use style=\"stroke:#000000;stroke-width:0.8;\" x=\"25.215625\" xlink:href=\"#ma537ba8d3f\" y=\"207.891284\"/>\r\n      </g>\r\n     </g>\r\n     <g id=\"text_11\">\r\n      <!-- 2 -->\r\n      <g transform=\"translate(12.707813 211.687378)scale(0.1 -0.1)\">\r\n       <use xlink:href=\"#MalgunGothic-50\"/>\r\n      </g>\r\n     </g>\r\n    </g>\r\n    <g id=\"ytick_3\">\r\n     <g id=\"line2d_12\">\r\n      <g>\r\n       <use style=\"stroke:#000000;stroke-width:0.8;\" x=\"25.215625\" xlink:href=\"#ma537ba8d3f\" y=\"176.031944\"/>\r\n      </g>\r\n     </g>\r\n     <g id=\"text_12\">\r\n      <!-- 4 -->\r\n      <g transform=\"translate(12.707813 179.828037)scale(0.1 -0.1)\">\r\n       <use xlink:href=\"#MalgunGothic-52\"/>\r\n      </g>\r\n     </g>\r\n    </g>\r\n    <g id=\"ytick_4\">\r\n     <g id=\"line2d_13\">\r\n      <g>\r\n       <use style=\"stroke:#000000;stroke-width:0.8;\" x=\"25.215625\" xlink:href=\"#ma537ba8d3f\" y=\"144.172603\"/>\r\n      </g>\r\n     </g>\r\n     <g id=\"text_13\">\r\n      <!-- 6 -->\r\n      <g transform=\"translate(12.707813 147.968697)scale(0.1 -0.1)\">\r\n       <use xlink:href=\"#MalgunGothic-54\"/>\r\n      </g>\r\n     </g>\r\n    </g>\r\n    <g id=\"ytick_5\">\r\n     <g id=\"line2d_14\">\r\n      <g>\r\n       <use style=\"stroke:#000000;stroke-width:0.8;\" x=\"25.215625\" xlink:href=\"#ma537ba8d3f\" y=\"112.313262\"/>\r\n      </g>\r\n     </g>\r\n     <g id=\"text_14\">\r\n      <!-- 8 -->\r\n      <g transform=\"translate(12.707813 116.109356)scale(0.1 -0.1)\">\r\n       <use xlink:href=\"#MalgunGothic-56\"/>\r\n      </g>\r\n     </g>\r\n    </g>\r\n    <g id=\"ytick_6\">\r\n     <g id=\"line2d_15\">\r\n      <g>\r\n       <use style=\"stroke:#000000;stroke-width:0.8;\" x=\"25.215625\" xlink:href=\"#ma537ba8d3f\" y=\"80.453922\"/>\r\n      </g>\r\n     </g>\r\n     <g id=\"text_15\">\r\n      <!-- 10 -->\r\n      <g transform=\"translate(7.2 84.250015)scale(0.1 -0.1)\">\r\n       <use xlink:href=\"#MalgunGothic-49\"/>\r\n       <use x=\"55.078125\" xlink:href=\"#MalgunGothic-48\"/>\r\n      </g>\r\n     </g>\r\n    </g>\r\n    <g id=\"ytick_7\">\r\n     <g id=\"line2d_16\">\r\n      <g>\r\n       <use style=\"stroke:#000000;stroke-width:0.8;\" x=\"25.215625\" xlink:href=\"#ma537ba8d3f\" y=\"48.594581\"/>\r\n      </g>\r\n     </g>\r\n     <g id=\"text_16\">\r\n      <!-- 12 -->\r\n      <g transform=\"translate(7.2 52.390675)scale(0.1 -0.1)\">\r\n       <use xlink:href=\"#MalgunGothic-49\"/>\r\n       <use x=\"55.078125\" xlink:href=\"#MalgunGothic-50\"/>\r\n      </g>\r\n     </g>\r\n    </g>\r\n   </g>\r\n   <g id=\"patch_13\">\r\n    <path d=\"M 25.215625 239.750625 \r\nL 25.215625 22.310625 \r\n\" style=\"fill:none;stroke:#000000;stroke-linecap:square;stroke-linejoin:miter;stroke-width:0.8;\"/>\r\n   </g>\r\n   <g id=\"patch_14\">\r\n    <path d=\"M 360.015625 239.750625 \r\nL 360.015625 22.310625 \r\n\" style=\"fill:none;stroke:#000000;stroke-linecap:square;stroke-linejoin:miter;stroke-width:0.8;\"/>\r\n   </g>\r\n   <g id=\"patch_15\">\r\n    <path d=\"M 25.215625 239.750625 \r\nL 360.015625 239.750625 \r\n\" style=\"fill:none;stroke:#000000;stroke-linecap:square;stroke-linejoin:miter;stroke-width:0.8;\"/>\r\n   </g>\r\n   <g id=\"patch_16\">\r\n    <path d=\"M 25.215625 22.310625 \r\nL 360.015625 22.310625 \r\n\" style=\"fill:none;stroke:#000000;stroke-linecap:square;stroke-linejoin:miter;stroke-width:0.8;\"/>\r\n   </g>\r\n   <g id=\"text_17\">\r\n    <!-- 연령대별 생존자수 -->\r\n    <g transform=\"translate(142.50625 16.310625)scale(0.12 -0.12)\">\r\n     <defs>\r\n      <path d=\"M 56.109375 39.5 \r\nQ 48.96875 31.890625 37.703125 31.890625 \r\nQ 27.09375 31.890625 20.03125 38.890625 \r\nQ 12.984375 45.90625 12.984375 56.984375 \r\nQ 12.984375 68.265625 20.0625 75.171875 \r\nQ 27.15625 82.078125 37.703125 82.078125 \r\nQ 51.03125 82.078125 58.203125 71.921875 \r\nL 77.484375 71.921875 \r\nL 77.484375 85.40625 \r\nL 84.8125 85.40625 \r\nL 84.8125 16.609375 \r\nL 77.484375 16.609375 \r\nL 77.484375 39.5 \r\nz\r\nM 37.703125 75.6875 \r\nQ 29.984375 75.6875 25.140625 70.625 \r\nQ 20.3125 65.578125 20.3125 56.984375 \r\nQ 20.3125 48.390625 25.140625 43.328125 \r\nQ 29.984375 38.28125 37.703125 38.28125 \r\nQ 45.5625 38.28125 50.4375 43.359375 \r\nQ 55.328125 48.4375 55.328125 56.984375 \r\nQ 55.328125 65.53125 50.4375 70.609375 \r\nQ 45.5625 75.6875 37.703125 75.6875 \r\nz\r\nM 60.296875 45.90625 \r\nL 77.484375 45.90625 \r\nL 77.484375 65.484375 \r\nL 61.1875 65.484375 \r\nQ 62.5 61.421875 62.5 56.984375 \r\nQ 62.5 50.984375 60.296875 45.90625 \r\nz\r\nM 26.609375 -5.90625 \r\nL 26.609375 23.09375 \r\nL 33.890625 23.09375 \r\nL 33.890625 0.6875 \r\nL 87.109375 0.6875 \r\nL 87.109375 -5.90625 \r\nz\r\n\" id=\"MalgunGothic-50672\"/>\r\n      <path d=\"M 59.90625 46.921875 \r\nL 59.90625 53.21875 \r\nL 77.296875 53.21875 \r\nL 77.296875 63.921875 \r\nL 60.109375 63.921875 \r\nL 60.109375 70.3125 \r\nL 77.296875 70.3125 \r\nL 77.296875 85.40625 \r\nL 84.625 85.40625 \r\nL 84.625 28.609375 \r\nL 77.296875 28.609375 \r\nL 77.296875 46.921875 \r\nz\r\nM 58.296875 35.5 \r\nQ 50.734375 34.234375 43.921875 33.953125 \r\nQ 37.109375 33.6875 15.484375 33.6875 \r\nL 15.484375 61.625 \r\nL 46.484375 61.625 \r\nL 46.484375 74.421875 \r\nL 15.484375 74.421875 \r\nL 15.484375 80.8125 \r\nL 53.8125 80.8125 \r\nL 53.8125 55.21875 \r\nL 22.796875 55.21875 \r\nL 22.796875 40.1875 \r\nL 33.84375 40.1875 \r\nQ 48.78125 40.1875 57.328125 41.796875 \r\nz\r\nM 54.5 -7.515625 \r\nQ 39.546875 -7.515625 31.5625 -2.953125 \r\nQ 23.578125 1.609375 23.578125 9.421875 \r\nQ 23.578125 17.1875 31.515625 21.796875 \r\nQ 39.453125 26.421875 54.5 26.421875 \r\nQ 69.734375 26.421875 77.609375 21.828125 \r\nQ 85.5 17.234375 85.5 9.421875 \r\nQ 85.5 1.5625 77.5625 -2.96875 \r\nQ 69.625 -7.515625 54.5 -7.515625 \r\nz\r\nM 54.5 20.21875 \r\nQ 43.0625 20.21875 37.21875 17.3125 \r\nQ 31.390625 14.40625 31.390625 9.421875 \r\nQ 31.390625 4.34375 37.328125 1.515625 \r\nQ 43.265625 -1.3125 54.5 -1.3125 \r\nQ 65.671875 -1.3125 71.71875 1.46875 \r\nQ 77.78125 4.25 77.78125 9.421875 \r\nQ 77.78125 14.5 71.828125 17.359375 \r\nQ 65.875 20.21875 54.5 20.21875 \r\nz\r\n\" id=\"MalgunGothic-47161\"/>\r\n      <path d=\"M 79.203125 -8.796875 \r\nL 79.203125 40.1875 \r\nL 67.09375 40.1875 \r\nL 67.09375 -5.90625 \r\nL 59.90625 -5.90625 \r\nL 59.90625 83.5 \r\nL 67.09375 83.5 \r\nL 67.09375 46.6875 \r\nL 79.203125 46.6875 \r\nL 79.203125 85.40625 \r\nL 86.53125 85.40625 \r\nL 86.53125 -8.796875 \r\nz\r\nM 52.984375 18.015625 \r\nQ 39.3125 16.609375 12.890625 16.609375 \r\nL 12.890625 77.09375 \r\nL 49.03125 77.09375 \r\nL 49.03125 70.609375 \r\nL 20.125 70.609375 \r\nL 20.125 23.09375 \r\nL 28.8125 23.09375 \r\nQ 43.609375 23.09375 52.484375 24.21875 \r\nz\r\n\" id=\"MalgunGothic-45824\"/>\r\n      <path d=\"M 16.21875 40.28125 \r\nL 16.21875 82.625 \r\nL 23.390625 82.625 \r\nL 23.390625 67.09375 \r\nL 52.59375 67.09375 \r\nL 52.59375 82.625 \r\nL 59.8125 82.625 \r\nL 59.8125 72.90625 \r\nL 77.296875 72.90625 \r\nL 77.296875 85.40625 \r\nL 84.625 85.40625 \r\nL 84.625 35.296875 \r\nL 77.296875 35.296875 \r\nL 77.296875 48.875 \r\nL 59.8125 48.875 \r\nL 59.8125 40.28125 \r\nz\r\nM 59.8125 66.609375 \r\nL 59.8125 55.078125 \r\nL 77.296875 55.078125 \r\nL 77.296875 66.609375 \r\nz\r\nM 52.59375 60.6875 \r\nL 23.390625 60.6875 \r\nL 23.390625 46.78125 \r\nL 52.59375 46.78125 \r\nz\r\nM 27 -7.625 \r\nL 27 14.796875 \r\nL 77.390625 14.796875 \r\nL 77.390625 23.6875 \r\nL 27 23.6875 \r\nL 27 30.078125 \r\nL 84.625 30.078125 \r\nL 84.625 8.59375 \r\nL 34.28125 8.59375 \r\nL 34.28125 -1.125 \r\nL 87.203125 -1.125 \r\nL 87.203125 -7.625 \r\nz\r\n\" id=\"MalgunGothic-48324\"/>\r\n      <path id=\"MalgunGothic-32\"/>\r\n      <path d=\"M 77.984375 30.515625 \r\nL 77.984375 54.109375 \r\nL 67 54.109375 \r\nL 67 33.015625 \r\nL 59.71875 33.015625 \r\nL 59.71875 83.5 \r\nL 67 83.5 \r\nL 67 60.40625 \r\nL 77.984375 60.40625 \r\nL 77.984375 85.40625 \r\nL 85.296875 85.40625 \r\nL 85.296875 30.515625 \r\nz\r\nM 49.03125 37.59375 \r\nQ 43.65625 40.671875 37.984375 47.015625 \r\nQ 32.328125 53.375 30.328125 58.203125 \r\nQ 28.5625 52.640625 22.921875 45.78125 \r\nQ 17.28125 38.921875 11.1875 35.203125 \r\nL 6 40.09375 \r\nQ 15.328125 45.015625 21.015625 53.78125 \r\nQ 26.703125 62.546875 26.703125 72.125 \r\nL 26.703125 82.078125 \r\nL 33.6875 82.078125 \r\nL 33.6875 72.125 \r\nQ 33.6875 63.09375 39.625 54.90625 \r\nQ 45.5625 46.734375 53.8125 43.015625 \r\nz\r\nM 54.5 -7.171875 \r\nQ 39.65625 -7.171875 31.375 -2.171875 \r\nQ 23.09375 2.828125 23.09375 10.796875 \r\nQ 23.09375 18.75 31.375 23.78125 \r\nQ 39.65625 28.8125 54.5 28.8125 \r\nQ 69.4375 28.8125 77.703125 23.78125 \r\nQ 85.984375 18.75 85.984375 10.796875 \r\nQ 85.984375 2.828125 77.703125 -2.171875 \r\nQ 69.4375 -7.171875 54.5 -7.171875 \r\nz\r\nM 54.5 22.609375 \r\nQ 43.0625 22.609375 36.9375 19.265625 \r\nQ 30.8125 15.921875 30.8125 10.796875 \r\nQ 30.8125 5.609375 36.984375 2.3125 \r\nQ 43.171875 -0.984375 54.5 -0.984375 \r\nQ 65.765625 -0.984375 71.984375 2.28125 \r\nQ 78.21875 5.5625 78.21875 10.796875 \r\nQ 78.21875 15.96875 72.015625 19.28125 \r\nQ 65.828125 22.609375 54.5 22.609375 \r\nz\r\n\" id=\"MalgunGothic-49373\"/>\r\n      <path d=\"M 85.296875 48.1875 \r\nQ 73.921875 49.859375 63.90625 55.296875 \r\nQ 53.90625 60.75 50.09375 66.703125 \r\nQ 46.6875 61.28125 36.578125 55.59375 \r\nQ 26.46875 49.90625 15.1875 48.1875 \r\nL 10.890625 54.109375 \r\nQ 24.078125 55.171875 34.421875 61.46875 \r\nQ 44.78125 67.78125 46.296875 75 \r\nL 16.015625 75 \r\nL 16.015625 81.59375 \r\nL 83.984375 81.59375 \r\nL 83.984375 75 \r\nL 53.71875 75 \r\nQ 55.21875 67.671875 65.421875 61.375 \r\nQ 75.640625 55.078125 89.109375 54.109375 \r\nz\r\nM 6.296875 29.984375 \r\nL 6.296875 36.625 \r\nL 46.296875 36.625 \r\nL 46.296875 51.90625 \r\nL 53.71875 51.90625 \r\nL 53.71875 36.625 \r\nL 93.703125 36.625 \r\nL 93.703125 29.984375 \r\nz\r\nM 20.703125 -5.609375 \r\nL 20.703125 22.796875 \r\nL 27.984375 22.796875 \r\nL 27.984375 0.875 \r\nL 81.296875 0.875 \r\nL 81.296875 -5.609375 \r\nz\r\n\" id=\"MalgunGothic-51316\"/>\r\n      <path d=\"M 79.59375 40.625 \r\nL 79.59375 -8.796875 \r\nL 72.3125 -8.796875 \r\nL 72.3125 85.40625 \r\nL 79.59375 85.40625 \r\nL 79.59375 47.125 \r\nL 95.90625 47.125 \r\nL 95.90625 40.625 \r\nz\r\nM 57.421875 14.203125 \r\nQ 50.4375 19.53125 43.875 28.3125 \r\nQ 37.3125 37.109375 35.109375 44.09375 \r\nQ 33.203125 37.40625 26.75 28.265625 \r\nQ 20.3125 19.140625 12.5 12.890625 \r\nL 6.890625 17.71875 \r\nQ 17.1875 24.515625 24.234375 36.9375 \r\nQ 31.296875 49.359375 31.296875 60.796875 \r\nL 31.296875 70.703125 \r\nL 10.40625 70.703125 \r\nL 10.40625 77.203125 \r\nL 58.984375 77.203125 \r\nL 58.984375 70.703125 \r\nL 38.484375 70.703125 \r\nL 38.484375 61.28125 \r\nQ 38.484375 49.8125 45.5625 38.03125 \r\nQ 52.640625 26.265625 62.5 19.671875 \r\nz\r\n\" id=\"MalgunGothic-51088\"/>\r\n      <path d=\"M 85.796875 46.78125 \r\nQ 74.21875 48.390625 63.71875 54.65625 \r\nQ 53.21875 60.9375 50 66.796875 \r\nQ 46.484375 60.796875 36.078125 54.546875 \r\nQ 25.6875 48.296875 14.40625 46.1875 \r\nL 9.90625 52.296875 \r\nQ 24.359375 53.90625 35.328125 61.59375 \r\nQ 46.296875 69.28125 46.296875 78.328125 \r\nL 46.296875 82.421875 \r\nL 53.609375 82.421875 \r\nL 53.609375 78.328125 \r\nQ 53.609375 69.234375 64.34375 61.6875 \r\nQ 75.09375 54.15625 90.09375 52.78125 \r\nz\r\nM 53.609375 28.71875 \r\nL 53.609375 -8.796875 \r\nL 46.296875 -8.796875 \r\nL 46.296875 28.71875 \r\nL 6.296875 28.71875 \r\nL 6.296875 35.203125 \r\nL 93.703125 35.203125 \r\nL 93.703125 28.71875 \r\nz\r\n\" id=\"MalgunGothic-49688\"/>\r\n     </defs>\r\n     <use xlink:href=\"#MalgunGothic-50672\"/>\r\n     <use x=\"100\" xlink:href=\"#MalgunGothic-47161\"/>\r\n     <use x=\"200\" xlink:href=\"#MalgunGothic-45824\"/>\r\n     <use x=\"300\" xlink:href=\"#MalgunGothic-48324\"/>\r\n     <use x=\"400\" xlink:href=\"#MalgunGothic-32\"/>\r\n     <use x=\"435.15625\" xlink:href=\"#MalgunGothic-49373\"/>\r\n     <use x=\"535.15625\" xlink:href=\"#MalgunGothic-51316\"/>\r\n     <use x=\"635.15625\" xlink:href=\"#MalgunGothic-51088\"/>\r\n     <use x=\"735.15625\" xlink:href=\"#MalgunGothic-49688\"/>\r\n    </g>\r\n   </g>\r\n  </g>\r\n </g>\r\n <defs>\r\n  <clipPath id=\"p44f658df95\">\r\n   <rect height=\"217.44\" width=\"334.8\" x=\"25.215625\" y=\"22.310625\"/>\r\n  </clipPath>\r\n </defs>\r\n</svg>\r\n",
      "image/png": "[encoded data removed]"
     },
     "metadata": {
      "needs_background": "light"
     }
    }
   ],
   "metadata": {}
  },
  {
   "cell_type": "code",
   "execution_count": 208,
   "source": [
    "# 생존자 성별 비율\r\n",
    "\r\n",
    "labels = list(titanic.groupby(\"sex\").sum()[\"survived\"].keys())\r\n",
    "surv = list(titanic.groupby(\"sex\").sum()[\"survived\"].values)\r\n",
    "\r\n",
    "plt.pie(surv, labels = labels, autopct = \"%.1f%%\", colors = [\"crimson\",\"dodgerblue\"])\r\n",
    "plt.title(\"생존자 성별 비율\");"
   ],
   "outputs": [
    {
     "output_type": "display_data",
     "data": {
      "text/plain": [
       "<Figure size 432x288 with 1 Axes>"
      ],
      "image/svg+xml": "<?xml version=\"1.0\" encoding=\"utf-8\" standalone=\"no\"?>\r\n<!DOCTYPE svg PUBLIC \"-//W3C//DTD SVG 1.1//EN\"\r\n  \"http://www.w3.org/Graphics/SVG/1.1/DTD/svg11.dtd\">\r\n<!-- Created with matplotlib (https://matplotlib.org/) -->\r\n<svg height=\"246.950625pt\" version=\"1.1\" viewBox=\"0 0 231.84 246.950625\" width=\"231.84pt\" xmlns=\"http://www.w3.org/2000/svg\" xmlns:xlink=\"http://www.w3.org/1999/xlink\">\r\n <metadata>\r\n  <rdf:RDF xmlns:cc=\"http://creativecommons.org/ns#\" xmlns:dc=\"http://purl.org/dc/elements/1.1/\" xmlns:rdf=\"http://www.w3.org/1999/02/22-rdf-syntax-ns#\">\r\n   <cc:Work>\r\n    <dc:type rdf:resource=\"http://purl.org/dc/dcmitype/StillImage\"/>\r\n    <dc:date>2021-08-24T17:26:05.960358</dc:date>\r\n    <dc:format>image/svg+xml</dc:format>\r\n    <dc:creator>\r\n     <cc:Agent>\r\n      <dc:title>Matplotlib v3.3.4, https://matplotlib.org/</dc:title>\r\n     </cc:Agent>\r\n    </dc:creator>\r\n   </cc:Work>\r\n  </rdf:RDF>\r\n </metadata>\r\n <defs>\r\n  <style type=\"text/css\">*{stroke-linecap:butt;stroke-linejoin:round;}</style>\r\n </defs>\r\n <g id=\"figure_1\">\r\n  <g id=\"patch_1\">\r\n   <path d=\"M 0 246.950625 \r\nL 231.84 246.950625 \r\nL 231.84 0 \r\nL 0 0 \r\nz\r\n\" style=\"fill:none;\"/>\r\n  </g>\r\n  <g id=\"axes_1\">\r\n   <g id=\"patch_2\">\r\n    <path d=\"M 202.896 131.030625 \r\nC 202.896 115.425618 198.696286 100.104465 190.739122 86.680614 \r\nC 182.781959 73.256762 171.356827 62.218569 157.66689 54.728451 \r\nC 143.976954 47.238333 128.52025 43.568779 112.9245 44.106224 \r\nC 97.328751 44.643668 82.161328 49.36856 69.019489 57.783327 \r\nC 55.87765 66.198094 45.239493 77.996609 38.225308 91.936388 \r\nC 31.211122 105.876167 28.076081 121.450083 29.150333 137.01807 \r\nC 30.224585 152.586057 35.469048 167.581755 44.331435 180.425988 \r\nC 53.193822 193.270222 65.351721 203.49572 79.524803 210.025651 \r\nL 115.92 131.030625 \r\nL 202.896 131.030625 \r\nz\r\n\" style=\"fill:#dc143c;\"/>\r\n   </g>\r\n   <g id=\"patch_3\">\r\n    <path d=\"M 79.524803 210.025651 \r\nC 92.775776 216.130742 107.352323 218.804653 121.907449 217.800292 \r\nC 136.462575 216.79593 150.533694 212.145218 162.820518 204.277918 \r\nC 175.107342 196.410619 185.219374 185.576769 192.22218 172.777505 \r\nC 199.224985 159.978241 202.896003 145.620346 202.896 131.030609 \r\nL 115.92 131.030625 \r\nL 79.524803 210.025651 \r\nz\r\n\" style=\"fill:#1e90ff;\"/>\r\n   </g>\r\n   <g id=\"matplotlib.axis_1\"/>\r\n   <g id=\"matplotlib.axis_2\"/>\r\n   <g id=\"text_1\">\r\n    <!-- female -->\r\n    <g transform=\"translate(34.002875 53.07266)scale(0.1 -0.1)\">\r\n     <defs>\r\n      <path d=\"M 33.25 69.09375 \r\nQ 30.859375 70.40625 27.78125 70.40625 \r\nQ 19.09375 70.40625 19.09375 59.375 \r\nL 19.09375 51.3125 \r\nL 31.109375 51.3125 \r\nL 31.109375 44.625 \r\nL 19.09375 44.625 \r\nL 19.09375 0 \r\nL 11.46875 0 \r\nL 11.46875 44.625 \r\nL 2.6875 44.625 \r\nL 2.6875 51.3125 \r\nL 11.46875 51.3125 \r\nL 11.46875 59.765625 \r\nQ 11.46875 67.828125 16.03125 72.4375 \r\nQ 20.609375 77.046875 27.390625 77.046875 \r\nQ 31.15625 77.046875 33.25 76.171875 \r\nz\r\n\" id=\"MalgunGothic-102\"/>\r\n      <path d=\"M 49.3125 23.734375 \r\nL 12.9375 23.734375 \r\nQ 13.1875 14.84375 17.703125 10.125 \r\nQ 22.21875 5.421875 29.828125 5.421875 \r\nQ 38.625 5.421875 45.84375 11.234375 \r\nL 45.84375 3.8125 \r\nQ 38.96875 -1.21875 28.03125 -1.21875 \r\nQ 17.1875 -1.21875 11.0625 5.875 \r\nQ 4.9375 12.984375 4.9375 25.53125 \r\nQ 4.9375 37.203125 11.671875 44.84375 \r\nQ 18.40625 52.484375 28.375 52.484375 \r\nQ 38.328125 52.484375 43.8125 45.96875 \r\nQ 49.3125 39.453125 49.3125 27.9375 \r\nz\r\nM 41.3125 30.5625 \r\nQ 41.3125 37.75 37.859375 41.796875 \r\nQ 34.421875 45.84375 28.265625 45.84375 \r\nQ 22.46875 45.84375 18.265625 41.671875 \r\nQ 14.0625 37.5 13.03125 30.5625 \r\nz\r\n\" id=\"MalgunGothic-101\"/>\r\n      <path d=\"M 80.71875 0 \r\nL 72.953125 0 \r\nL 72.953125 29.4375 \r\nQ 72.953125 38.484375 70.234375 42.21875 \r\nQ 67.53125 45.953125 61.28125 45.953125 \r\nQ 56 45.953125 52.21875 40.984375 \r\nQ 48.4375 36.03125 48.4375 29.296875 \r\nL 48.4375 0 \r\nL 40.71875 0 \r\nL 40.71875 30.515625 \r\nQ 40.71875 45.953125 28.8125 45.953125 \r\nQ 23.390625 45.953125 19.765625 41.28125 \r\nQ 16.15625 36.625 16.15625 29.296875 \r\nL 16.15625 0 \r\nL 8.40625 0 \r\nL 8.40625 51.3125 \r\nL 16.15625 51.3125 \r\nL 16.15625 43.171875 \r\nL 16.359375 43.171875 \r\nQ 21.734375 52.484375 32.234375 52.484375 \r\nQ 37.203125 52.484375 41.1875 49.625 \r\nQ 45.171875 46.78125 46.734375 41.796875 \r\nQ 52.4375 52.484375 63.765625 52.484375 \r\nQ 80.71875 52.484375 80.71875 31.59375 \r\nz\r\n\" id=\"MalgunGothic-109\"/>\r\n      <path d=\"M 9.625 47.65625 \r\nQ 17.140625 52.484375 26.90625 52.484375 \r\nQ 44.78125 52.484375 44.78125 33.546875 \r\nL 44.78125 0 \r\nL 37.015625 0 \r\nL 37.015625 8.0625 \r\nL 36.71875 8.0625 \r\nQ 31.390625 -1.21875 20.953125 -1.21875 \r\nQ 13.421875 -1.21875 9 2.8125 \r\nQ 4.59375 6.84375 4.59375 13.578125 \r\nQ 4.59375 27.875 21.484375 30.21875 \r\nL 36.96875 32.46875 \r\nQ 36.96875 45.84375 26.3125 45.84375 \r\nQ 16.9375 45.84375 9.625 39.453125 \r\nz\r\nM 24.421875 24.359375 \r\nQ 18.40625 23.578125 15.515625 21.421875 \r\nQ 12.640625 19.28125 12.640625 14.109375 \r\nQ 12.640625 10.203125 15.40625 7.8125 \r\nQ 18.171875 5.421875 22.65625 5.421875 \r\nQ 28.859375 5.421875 32.90625 9.8125 \r\nQ 36.96875 14.203125 36.96875 20.84375 \r\nL 36.96875 26.03125 \r\nz\r\n\" id=\"MalgunGothic-97\"/>\r\n      <path d=\"M 8.453125 0 \r\nL 8.453125 75.921875 \r\nL 16.15625 75.921875 \r\nL 16.15625 0 \r\nz\r\n\" id=\"MalgunGothic-108\"/>\r\n     </defs>\r\n     <use xlink:href=\"#MalgunGothic-102\"/>\r\n     <use x=\"31.640625\" xlink:href=\"#MalgunGothic-101\"/>\r\n     <use x=\"85.15625\" xlink:href=\"#MalgunGothic-109\"/>\r\n     <use x=\"173.144531\" xlink:href=\"#MalgunGothic-97\"/>\r\n     <use x=\"225.146484\" xlink:href=\"#MalgunGothic-108\"/>\r\n     <use x=\"249.755859\" xlink:href=\"#MalgunGothic-101\"/>\r\n    </g>\r\n   </g>\r\n   <g id=\"text_2\">\r\n    <!-- 68.1% -->\r\n    <g transform=\"translate(74.242193 89.696309)scale(0.1 -0.1)\">\r\n     <defs>\r\n      <path d=\"M 46.578125 63.578125 \r\nQ 40.921875 66.40625 34.8125 66.40625 \r\nQ 24.859375 66.40625 19.1875 57.640625 \r\nQ 13.53125 48.875 13.578125 34.578125 \r\nL 13.8125 34.578125 \r\nQ 18.796875 44.875 30.28125 44.875 \r\nQ 39.796875 44.875 45.359375 38.71875 \r\nQ 50.921875 32.5625 50.921875 22.65625 \r\nQ 50.921875 12.453125 44.640625 5.609375 \r\nQ 38.375 -1.21875 28.515625 -1.21875 \r\nQ 17.4375 -1.21875 11.5 7.46875 \r\nQ 5.5625 16.15625 5.5625 31.546875 \r\nQ 5.5625 49.703125 13.234375 61.375 \r\nQ 20.90625 73.046875 34.71875 73.046875 \r\nQ 42.1875 73.046875 46.578125 71 \r\nz\r\nM 14.15625 23.53125 \r\nQ 14.15625 15.96875 18.203125 10.671875 \r\nQ 22.265625 5.375 28.8125 5.375 \r\nQ 35.109375 5.375 39.03125 10.078125 \r\nQ 42.96875 14.796875 42.96875 21.6875 \r\nQ 42.96875 29.5 39.203125 33.859375 \r\nQ 35.453125 38.234375 28.71875 38.234375 \r\nQ 22.5625 38.234375 18.359375 33.953125 \r\nQ 14.15625 29.6875 14.15625 23.53125 \r\nz\r\n\" id=\"MalgunGothic-54\"/>\r\n      <path d=\"M 4.734375 20.015625 \r\nQ 4.734375 26.078125 8.421875 31.421875 \r\nQ 12.109375 36.765625 18.015625 38.96875 \r\nQ 13.375 41.359375 10.546875 45.546875 \r\nQ 7.71875 49.75 7.71875 54.6875 \r\nQ 7.71875 59.8125 10.296875 64.03125 \r\nQ 12.890625 68.265625 17.53125 70.65625 \r\nQ 22.171875 73.046875 27.78125 73.046875 \r\nQ 36.46875 73.046875 42.1875 67.84375 \r\nQ 47.90625 62.640625 47.90625 54.6875 \r\nQ 47.90625 49.703125 45.015625 45.53125 \r\nQ 42.140625 41.359375 37.703125 38.96875 \r\nQ 43.5625 36.71875 47.21875 31.390625 \r\nQ 50.875 26.078125 50.875 20.015625 \r\nQ 50.875 10.5 44.421875 4.640625 \r\nQ 37.984375 -1.21875 27.78125 -1.21875 \r\nQ 17.671875 -1.21875 11.203125 4.703125 \r\nQ 4.734375 10.640625 4.734375 20.015625 \r\nz\r\nM 12.640625 20.75 \r\nQ 12.640625 13.71875 16.890625 9.546875 \r\nQ 21.140625 5.375 27.828125 5.375 \r\nQ 34.46875 5.375 38.78125 9.671875 \r\nQ 43.109375 13.96875 43.109375 20.75 \r\nQ 43.109375 27.046875 38.78125 31.421875 \r\nQ 34.46875 35.796875 27.828125 35.796875 \r\nQ 21.4375 35.796875 17.03125 31.5625 \r\nQ 12.640625 27.34375 12.640625 20.75 \r\nz\r\nM 15.671875 54.046875 \r\nQ 15.671875 48.828125 19.28125 45.3125 \r\nQ 22.90625 41.796875 27.828125 41.796875 \r\nQ 32.765625 41.796875 36.40625 45.3125 \r\nQ 40.046875 48.828125 40.046875 54.046875 \r\nQ 40.046875 59.421875 36.578125 62.90625 \r\nQ 33.109375 66.40625 27.828125 66.40625 \r\nQ 22.65625 66.40625 19.15625 62.953125 \r\nQ 15.671875 59.515625 15.671875 54.046875 \r\nz\r\n\" id=\"MalgunGothic-56\"/>\r\n      <path d=\"M 5.5625 4.296875 \r\nQ 5.5625 6.59375 7.171875 8.171875 \r\nQ 8.796875 9.765625 10.9375 9.765625 \r\nQ 13.09375 9.765625 14.703125 8.171875 \r\nQ 16.3125 6.59375 16.3125 4.296875 \r\nQ 16.3125 2.15625 14.71875 0.515625 \r\nQ 13.140625 -1.125 10.9375 -1.125 \r\nQ 8.734375 -1.125 7.140625 0.453125 \r\nQ 5.5625 2.046875 5.5625 4.296875 \r\nz\r\n\" id=\"MalgunGothic-46\"/>\r\n      <path d=\"M 34.859375 0 \r\nL 27.09375 0 \r\nL 27.09375 62.0625 \r\nQ 24.859375 59.8125 19.78125 57.203125 \r\nQ 14.703125 54.59375 10.5 53.5625 \r\nL 10.5 61.859375 \r\nQ 15.875 63.375 22.015625 66.796875 \r\nQ 28.171875 70.21875 31.734375 73.4375 \r\nL 34.859375 73.4375 \r\nz\r\n\" id=\"MalgunGothic-49\"/>\r\n      <path d=\"M 3.953125 53.8125 \r\nQ 3.953125 62.453125 8.546875 67.671875 \r\nQ 13.140625 72.90625 21.140625 72.90625 \r\nQ 28.859375 72.90625 33.046875 68.046875 \r\nQ 37.25 63.1875 37.25 54.828125 \r\nQ 37.25 46.4375 32.53125 41.140625 \r\nQ 27.828125 35.84375 20.125 35.84375 \r\nQ 12.75 35.84375 8.34375 40.75 \r\nQ 3.953125 45.65625 3.953125 53.8125 \r\nz\r\nM 10.40625 54.296875 \r\nQ 10.40625 48.296875 13.140625 44.75 \r\nQ 15.875 41.21875 20.65625 41.21875 \r\nQ 25.484375 41.21875 28.171875 44.734375 \r\nQ 30.859375 48.25 30.859375 54.59375 \r\nQ 30.859375 60.84375 28.1875 64.25 \r\nQ 25.53125 67.671875 20.84375 67.671875 \r\nQ 15.96875 67.671875 13.1875 64.03125 \r\nQ 10.40625 60.40625 10.40625 54.296875 \r\nz\r\nM 67.96875 71.875 \r\nL 21.921875 -0.53125 \r\nL 15.09375 -0.53125 \r\nL 61.078125 71.875 \r\nz\r\nM 46.6875 16.84375 \r\nQ 46.6875 25.640625 51.3125 30.890625 \r\nQ 55.953125 36.140625 63.765625 36.140625 \r\nQ 71.390625 36.140625 75.640625 31.25 \r\nQ 79.890625 26.375 79.890625 17.78125 \r\nQ 79.890625 9.375 75.140625 4.125 \r\nQ 70.40625 -1.125 62.796875 -1.125 \r\nQ 55.46875 -1.125 51.078125 3.828125 \r\nQ 46.6875 8.796875 46.6875 16.84375 \r\nz\r\nM 53.03125 17.234375 \r\nQ 53.03125 11.328125 55.78125 7.78125 \r\nQ 58.546875 4.25 63.28125 4.25 \r\nQ 68.0625 4.25 70.765625 7.828125 \r\nQ 73.484375 11.421875 73.484375 17.71875 \r\nQ 73.484375 23.96875 70.84375 27.3125 \r\nQ 68.21875 30.671875 63.53125 30.671875 \r\nQ 58.640625 30.671875 55.828125 27.046875 \r\nQ 53.03125 23.4375 53.03125 17.234375 \r\nz\r\n\" id=\"MalgunGothic-37\"/>\r\n     </defs>\r\n     <use xlink:href=\"#MalgunGothic-54\"/>\r\n     <use x=\"55.078125\" xlink:href=\"#MalgunGothic-56\"/>\r\n     <use x=\"110.15625\" xlink:href=\"#MalgunGothic-46\"/>\r\n     <use x=\"132.03125\" xlink:href=\"#MalgunGothic-49\"/>\r\n     <use x=\"187.109375\" xlink:href=\"#MalgunGothic-37\"/>\r\n    </g>\r\n   </g>\r\n   <g id=\"text_3\">\r\n    <!-- male -->\r\n    <g transform=\"translate(167.51057 214.21671)scale(0.1 -0.1)\">\r\n     <use xlink:href=\"#MalgunGothic-109\"/>\r\n     <use x=\"87.988281\" xlink:href=\"#MalgunGothic-97\"/>\r\n     <use x=\"139.990234\" xlink:href=\"#MalgunGothic-108\"/>\r\n     <use x=\"164.599609\" xlink:href=\"#MalgunGothic-101\"/>\r\n    </g>\r\n   </g>\r\n   <g id=\"text_4\">\r\n    <!-- 31.9% -->\r\n    <g transform=\"translate(130.522811 177.593064)scale(0.1 -0.1)\">\r\n     <defs>\r\n      <path d=\"M 6.5 11.234375 \r\nQ 13.921875 5.375 23.09375 5.375 \r\nQ 30.609375 5.375 35.21875 9.171875 \r\nQ 39.84375 12.984375 39.84375 19.484375 \r\nQ 39.84375 33.890625 19.578125 33.890625 \r\nL 13.625 33.890625 \r\nL 13.625 40.484375 \r\nL 19.28125 40.484375 \r\nQ 37.3125 40.484375 37.3125 53.953125 \r\nQ 37.3125 66.40625 23.578125 66.40625 \r\nQ 15.96875 66.40625 9.28125 61.1875 \r\nL 9.28125 68.953125 \r\nQ 16.109375 73.046875 25.53125 73.046875 \r\nQ 34.125 73.046875 39.671875 68.3125 \r\nQ 45.21875 63.578125 45.21875 55.953125 \r\nQ 45.21875 41.84375 30.8125 37.640625 \r\nL 30.8125 37.5 \r\nQ 38.578125 36.8125 43.1875 32.078125 \r\nQ 47.796875 27.34375 47.796875 20.3125 \r\nQ 47.796875 10.5 40.6875 4.640625 \r\nQ 33.59375 -1.21875 22.65625 -1.21875 \r\nQ 12.59375 -1.21875 6.5 2.640625 \r\nz\r\n\" id=\"MalgunGothic-51\"/>\r\n      <path d=\"M 8.6875 8.796875 \r\nQ 14.703125 5.375 21.34375 5.375 \r\nQ 31.15625 5.375 36.671875 13.359375 \r\nQ 42.1875 21.34375 42.1875 36.140625 \r\nQ 42.09375 36.03125 42 36.140625 \r\nQ 37.3125 26.765625 25.828125 26.765625 \r\nQ 16.546875 26.765625 10.65625 33.125 \r\nQ 4.78125 39.5 4.78125 49.125 \r\nQ 4.78125 59.46875 11.109375 66.25 \r\nQ 17.4375 73.046875 27.6875 73.046875 \r\nQ 38.53125 73.046875 44.265625 64.546875 \r\nQ 50 56.0625 50 40.28125 \r\nQ 50 20.609375 42.453125 9.6875 \r\nQ 34.90625 -1.21875 21 -1.21875 \r\nQ 13.765625 -1.21875 8.6875 1.21875 \r\nz\r\nM 12.703125 50.296875 \r\nQ 12.703125 42.828125 16.609375 38.28125 \r\nQ 20.515625 33.734375 27.484375 33.734375 \r\nQ 33.546875 33.734375 37.59375 37.765625 \r\nQ 41.65625 41.796875 41.65625 47.609375 \r\nQ 41.65625 55.5625 37.671875 60.984375 \r\nQ 33.6875 66.40625 26.953125 66.40625 \r\nQ 20.65625 66.40625 16.671875 61.6875 \r\nQ 12.703125 56.984375 12.703125 50.296875 \r\nz\r\n\" id=\"MalgunGothic-57\"/>\r\n     </defs>\r\n     <use xlink:href=\"#MalgunGothic-51\"/>\r\n     <use x=\"55.078125\" xlink:href=\"#MalgunGothic-49\"/>\r\n     <use x=\"110.15625\" xlink:href=\"#MalgunGothic-46\"/>\r\n     <use x=\"132.03125\" xlink:href=\"#MalgunGothic-57\"/>\r\n     <use x=\"187.109375\" xlink:href=\"#MalgunGothic-37\"/>\r\n    </g>\r\n   </g>\r\n   <g id=\"text_5\">\r\n    <!-- 생존자 성별 비율 -->\r\n    <g transform=\"translate(69.70125 16.310625)scale(0.12 -0.12)\">\r\n     <defs>\r\n      <path d=\"M 77.984375 30.515625 \r\nL 77.984375 54.109375 \r\nL 67 54.109375 \r\nL 67 33.015625 \r\nL 59.71875 33.015625 \r\nL 59.71875 83.5 \r\nL 67 83.5 \r\nL 67 60.40625 \r\nL 77.984375 60.40625 \r\nL 77.984375 85.40625 \r\nL 85.296875 85.40625 \r\nL 85.296875 30.515625 \r\nz\r\nM 49.03125 37.59375 \r\nQ 43.65625 40.671875 37.984375 47.015625 \r\nQ 32.328125 53.375 30.328125 58.203125 \r\nQ 28.5625 52.640625 22.921875 45.78125 \r\nQ 17.28125 38.921875 11.1875 35.203125 \r\nL 6 40.09375 \r\nQ 15.328125 45.015625 21.015625 53.78125 \r\nQ 26.703125 62.546875 26.703125 72.125 \r\nL 26.703125 82.078125 \r\nL 33.6875 82.078125 \r\nL 33.6875 72.125 \r\nQ 33.6875 63.09375 39.625 54.90625 \r\nQ 45.5625 46.734375 53.8125 43.015625 \r\nz\r\nM 54.5 -7.171875 \r\nQ 39.65625 -7.171875 31.375 -2.171875 \r\nQ 23.09375 2.828125 23.09375 10.796875 \r\nQ 23.09375 18.75 31.375 23.78125 \r\nQ 39.65625 28.8125 54.5 28.8125 \r\nQ 69.4375 28.8125 77.703125 23.78125 \r\nQ 85.984375 18.75 85.984375 10.796875 \r\nQ 85.984375 2.828125 77.703125 -2.171875 \r\nQ 69.4375 -7.171875 54.5 -7.171875 \r\nz\r\nM 54.5 22.609375 \r\nQ 43.0625 22.609375 36.9375 19.265625 \r\nQ 30.8125 15.921875 30.8125 10.796875 \r\nQ 30.8125 5.609375 36.984375 2.3125 \r\nQ 43.171875 -0.984375 54.5 -0.984375 \r\nQ 65.765625 -0.984375 71.984375 2.28125 \r\nQ 78.21875 5.5625 78.21875 10.796875 \r\nQ 78.21875 15.96875 72.015625 19.28125 \r\nQ 65.828125 22.609375 54.5 22.609375 \r\nz\r\n\" id=\"MalgunGothic-49373\"/>\r\n      <path d=\"M 85.296875 48.1875 \r\nQ 73.921875 49.859375 63.90625 55.296875 \r\nQ 53.90625 60.75 50.09375 66.703125 \r\nQ 46.6875 61.28125 36.578125 55.59375 \r\nQ 26.46875 49.90625 15.1875 48.1875 \r\nL 10.890625 54.109375 \r\nQ 24.078125 55.171875 34.421875 61.46875 \r\nQ 44.78125 67.78125 46.296875 75 \r\nL 16.015625 75 \r\nL 16.015625 81.59375 \r\nL 83.984375 81.59375 \r\nL 83.984375 75 \r\nL 53.71875 75 \r\nQ 55.21875 67.671875 65.421875 61.375 \r\nQ 75.640625 55.078125 89.109375 54.109375 \r\nz\r\nM 6.296875 29.984375 \r\nL 6.296875 36.625 \r\nL 46.296875 36.625 \r\nL 46.296875 51.90625 \r\nL 53.71875 51.90625 \r\nL 53.71875 36.625 \r\nL 93.703125 36.625 \r\nL 93.703125 29.984375 \r\nz\r\nM 20.703125 -5.609375 \r\nL 20.703125 22.796875 \r\nL 27.984375 22.796875 \r\nL 27.984375 0.875 \r\nL 81.296875 0.875 \r\nL 81.296875 -5.609375 \r\nz\r\n\" id=\"MalgunGothic-51316\"/>\r\n      <path d=\"M 79.59375 40.625 \r\nL 79.59375 -8.796875 \r\nL 72.3125 -8.796875 \r\nL 72.3125 85.40625 \r\nL 79.59375 85.40625 \r\nL 79.59375 47.125 \r\nL 95.90625 47.125 \r\nL 95.90625 40.625 \r\nz\r\nM 57.421875 14.203125 \r\nQ 50.4375 19.53125 43.875 28.3125 \r\nQ 37.3125 37.109375 35.109375 44.09375 \r\nQ 33.203125 37.40625 26.75 28.265625 \r\nQ 20.3125 19.140625 12.5 12.890625 \r\nL 6.890625 17.71875 \r\nQ 17.1875 24.515625 24.234375 36.9375 \r\nQ 31.296875 49.359375 31.296875 60.796875 \r\nL 31.296875 70.703125 \r\nL 10.40625 70.703125 \r\nL 10.40625 77.203125 \r\nL 58.984375 77.203125 \r\nL 58.984375 70.703125 \r\nL 38.484375 70.703125 \r\nL 38.484375 61.28125 \r\nQ 38.484375 49.8125 45.5625 38.03125 \r\nQ 52.640625 26.265625 62.5 19.671875 \r\nz\r\n\" id=\"MalgunGothic-51088\"/>\r\n      <path id=\"MalgunGothic-32\"/>\r\n      <path d=\"M 77.296875 31 \r\nL 77.296875 59.078125 \r\nL 55.328125 59.078125 \r\nL 55.328125 65.625 \r\nL 77.296875 65.625 \r\nL 77.296875 85.40625 \r\nL 84.625 85.40625 \r\nL 84.625 31 \r\nz\r\nM 57.078125 36.375 \r\nQ 50.6875 39.84375 44.234375 46.09375 \r\nQ 37.796875 52.34375 35.203125 57.8125 \r\nQ 32.421875 51.609375 25.921875 44.65625 \r\nQ 19.4375 37.703125 12.796875 33.984375 \r\nL 7.625 39.015625 \r\nQ 17.71875 43.84375 24.546875 53.015625 \r\nQ 31.390625 62.203125 31.390625 72.3125 \r\nL 31.390625 82.328125 \r\nL 38.484375 82.328125 \r\nL 38.484375 72.3125 \r\nQ 38.484375 62.890625 45.5625 54.25 \r\nQ 52.640625 45.609375 62.015625 41.703125 \r\nz\r\nM 55.71875 -7.421875 \r\nQ 40.96875 -7.421875 32.9375 -2.3125 \r\nQ 24.90625 2.78125 24.90625 10.890625 \r\nQ 24.90625 19 32.90625 24.046875 \r\nQ 40.921875 29.109375 55.71875 29.109375 \r\nQ 70.515625 29.109375 78.515625 24.046875 \r\nQ 86.53125 19 86.53125 10.890625 \r\nQ 86.53125 2.78125 78.484375 -2.3125 \r\nQ 70.453125 -7.421875 55.71875 -7.421875 \r\nz\r\nM 55.71875 22.90625 \r\nQ 44.53125 22.90625 38.625 19.5 \r\nQ 32.71875 16.109375 32.71875 10.890625 \r\nQ 32.71875 5.609375 38.640625 2.234375 \r\nQ 44.578125 -1.125 55.71875 -1.125 \r\nQ 66.796875 -1.125 72.75 2.21875 \r\nQ 78.71875 5.5625 78.71875 10.890625 \r\nQ 78.71875 16.15625 72.796875 19.53125 \r\nQ 66.890625 22.90625 55.71875 22.90625 \r\nz\r\n\" id=\"MalgunGothic-49457\"/>\r\n      <path d=\"M 16.21875 40.28125 \r\nL 16.21875 82.625 \r\nL 23.390625 82.625 \r\nL 23.390625 67.09375 \r\nL 52.59375 67.09375 \r\nL 52.59375 82.625 \r\nL 59.8125 82.625 \r\nL 59.8125 72.90625 \r\nL 77.296875 72.90625 \r\nL 77.296875 85.40625 \r\nL 84.625 85.40625 \r\nL 84.625 35.296875 \r\nL 77.296875 35.296875 \r\nL 77.296875 48.875 \r\nL 59.8125 48.875 \r\nL 59.8125 40.28125 \r\nz\r\nM 59.8125 66.609375 \r\nL 59.8125 55.078125 \r\nL 77.296875 55.078125 \r\nL 77.296875 66.609375 \r\nz\r\nM 52.59375 60.6875 \r\nL 23.390625 60.6875 \r\nL 23.390625 46.78125 \r\nL 52.59375 46.78125 \r\nz\r\nM 27 -7.625 \r\nL 27 14.796875 \r\nL 77.390625 14.796875 \r\nL 77.390625 23.6875 \r\nL 27 23.6875 \r\nL 27 30.078125 \r\nL 84.625 30.078125 \r\nL 84.625 8.59375 \r\nL 34.28125 8.59375 \r\nL 34.28125 -1.125 \r\nL 87.203125 -1.125 \r\nL 87.203125 -7.625 \r\nz\r\n\" id=\"MalgunGothic-48324\"/>\r\n      <path d=\"M 76.3125 -8.796875 \r\nL 76.3125 85.40625 \r\nL 83.59375 85.40625 \r\nL 83.59375 -8.796875 \r\nz\r\nM 12.890625 16.890625 \r\nL 12.890625 78.328125 \r\nL 20.21875 78.328125 \r\nL 20.21875 54.203125 \r\nL 50.6875 54.203125 \r\nL 50.6875 78.328125 \r\nL 58.015625 78.328125 \r\nL 58.015625 16.890625 \r\nz\r\nM 50.6875 47.703125 \r\nL 20.21875 47.703125 \r\nL 20.21875 23.390625 \r\nL 50.6875 23.390625 \r\nz\r\n\" id=\"MalgunGothic-48708\"/>\r\n      <path d=\"M 50 51.8125 \r\nQ 35.453125 51.8125 27.640625 56.328125 \r\nQ 19.828125 60.84375 19.828125 68.40625 \r\nQ 19.828125 75.921875 27.65625 80.46875 \r\nQ 35.5 85.015625 50 85.015625 \r\nQ 64.65625 85.015625 72.40625 80.546875 \r\nQ 80.171875 76.078125 80.171875 68.40625 \r\nQ 80.171875 60.796875 72.375 56.296875 \r\nQ 64.59375 51.8125 50 51.8125 \r\nz\r\nM 50 79.203125 \r\nQ 39.109375 79.203125 33.25 76.21875 \r\nQ 27.390625 73.25 27.390625 68.40625 \r\nQ 27.390625 63.484375 33.296875 60.5 \r\nQ 39.203125 57.515625 50 57.515625 \r\nQ 60.6875 57.515625 66.640625 60.546875 \r\nQ 72.609375 63.578125 72.609375 68.40625 \r\nQ 72.609375 73.140625 66.671875 76.171875 \r\nQ 60.75 79.203125 50 79.203125 \r\nz\r\nM 20.40625 -7.8125 \r\nL 20.40625 13.1875 \r\nL 72.3125 13.1875 \r\nL 72.3125 21.921875 \r\nL 20.40625 21.921875 \r\nL 20.40625 27.875 \r\nL 31.390625 27.875 \r\nL 31.390625 37.890625 \r\nL 6.296875 37.890625 \r\nL 6.296875 44 \r\nL 93.703125 44 \r\nL 93.703125 37.890625 \r\nL 68.609375 37.890625 \r\nL 68.609375 27.875 \r\nL 79.5 27.875 \r\nL 79.5 7.421875 \r\nL 27.59375 7.421875 \r\nL 27.59375 -1.703125 \r\nL 81.984375 -1.703125 \r\nL 81.984375 -7.8125 \r\nz\r\nM 61.375 27.875 \r\nL 61.375 37.890625 \r\nL 38.625 37.890625 \r\nL 38.625 27.875 \r\nz\r\n\" id=\"MalgunGothic-50984\"/>\r\n     </defs>\r\n     <use xlink:href=\"#MalgunGothic-49373\"/>\r\n     <use x=\"100\" xlink:href=\"#MalgunGothic-51316\"/>\r\n     <use x=\"200\" xlink:href=\"#MalgunGothic-51088\"/>\r\n     <use x=\"300\" xlink:href=\"#MalgunGothic-32\"/>\r\n     <use x=\"335.15625\" xlink:href=\"#MalgunGothic-49457\"/>\r\n     <use x=\"435.15625\" xlink:href=\"#MalgunGothic-48324\"/>\r\n     <use x=\"535.15625\" xlink:href=\"#MalgunGothic-32\"/>\r\n     <use x=\"570.3125\" xlink:href=\"#MalgunGothic-48708\"/>\r\n     <use x=\"670.3125\" xlink:href=\"#MalgunGothic-50984\"/>\r\n    </g>\r\n   </g>\r\n  </g>\r\n </g>\r\n</svg>\r\n",
      "image/png": "[encoded data removed]"
     },
     "metadata": {}
    }
   ],
   "metadata": {}
  },
  {
   "cell_type": "code",
   "execution_count": 266,
   "source": [
    "# 성인 남성의 생존율\r\n",
    "\r\n",
    "labels = [\"생존\",\"사망\"]\r\n",
    "surv = [surv_adult_male, len(titanic)-surv_adult_male]\r\n",
    "\r\n",
    "plt.pie(surv, labels = labels, autopct = \"%.1f%%\");\r\n",
    "plt.title(\"성인 남성의 생존율\")"
   ],
   "outputs": [
    {
     "output_type": "execute_result",
     "data": {
      "text/plain": [
       "Text(0.5, 1.0, '성인 남성의 생존율')"
      ]
     },
     "metadata": {},
     "execution_count": 266
    },
    {
     "output_type": "display_data",
     "data": {
      "text/plain": [
       "<Figure size 432x288 with 1 Axes>"
      ],
      "image/svg+xml": "<?xml version=\"1.0\" encoding=\"utf-8\" standalone=\"no\"?>\r\n<!DOCTYPE svg PUBLIC \"-//W3C//DTD SVG 1.1//EN\"\r\n  \"http://www.w3.org/Graphics/SVG/1.1/DTD/svg11.dtd\">\r\n<!-- Created with matplotlib (https://matplotlib.org/) -->\r\n<svg height=\"246.950625pt\" version=\"1.1\" viewBox=\"0 0 236.609966 246.950625\" width=\"236.609966pt\" xmlns=\"http://www.w3.org/2000/svg\" xmlns:xlink=\"http://www.w3.org/1999/xlink\">\r\n <metadata>\r\n  <rdf:RDF xmlns:cc=\"http://creativecommons.org/ns#\" xmlns:dc=\"http://purl.org/dc/elements/1.1/\" xmlns:rdf=\"http://www.w3.org/1999/02/22-rdf-syntax-ns#\">\r\n   <cc:Work>\r\n    <dc:type rdf:resource=\"http://purl.org/dc/dcmitype/StillImage\"/>\r\n    <dc:date>2021-08-24T17:45:25.918505</dc:date>\r\n    <dc:format>image/svg+xml</dc:format>\r\n    <dc:creator>\r\n     <cc:Agent>\r\n      <dc:title>Matplotlib v3.3.4, https://matplotlib.org/</dc:title>\r\n     </cc:Agent>\r\n    </dc:creator>\r\n   </cc:Work>\r\n  </rdf:RDF>\r\n </metadata>\r\n <defs>\r\n  <style type=\"text/css\">*{stroke-linecap:butt;stroke-linejoin:round;}</style>\r\n </defs>\r\n <g id=\"figure_1\">\r\n  <g id=\"patch_1\">\r\n   <path d=\"M 0 246.950625 \r\nL 236.609966 246.950625 \r\nL 236.609966 0 \r\nL 0 0 \r\nz\r\n\" style=\"fill:none;\"/>\r\n  </g>\r\n  <g id=\"axes_1\">\r\n   <g id=\"patch_2\">\r\n    <path d=\"M 205.280983 131.030625 \r\nC 205.280983 122.016961 203.879801 113.057833 201.127695 104.474591 \r\nC 198.375589 95.891348 194.305862 87.787855 189.064488 80.45477 \r\nL 118.304983 131.030625 \r\nL 205.280983 131.030625 \r\nz\r\n\" style=\"fill:#1f77b4;\"/>\r\n   </g>\r\n   <g id=\"patch_3\">\r\n    <path d=\"M 189.064488 80.45477 \r\nC 183.082461 72.085455 175.662738 64.843447 167.150888 59.066035 \r\nC 158.639037 53.288624 149.169287 49.066917 139.182684 46.597538 \r\nC 129.19608 44.128159 118.850108 43.450048 108.626623 44.594788 \r\nC 98.403138 45.739528 88.463359 48.689067 79.270225 53.306033 \r\nC 70.077092 57.922998 61.775574 64.134582 54.752309 71.651486 \r\nC 47.729045 79.168389 42.094787 87.872073 38.111947 97.35717 \r\nC 34.129108 106.842267 31.860494 116.959202 31.411765 127.236785 \r\nC 30.963036 137.514369 32.341268 147.790528 35.482271 157.586659 \r\nC 38.623274 167.38279 43.477516 176.544412 49.818914 184.644829 \r\nC 56.160311 192.745246 63.888864 199.656718 72.64462 205.057349 \r\nC 81.400377 210.45798 91.045262 214.262603 101.130073 216.294023 \r\nC 111.214884 218.325442 121.580588 218.551623 131.74441 216.96203 \r\nC 141.908232 215.372437 151.709893 211.992139 160.692887 206.978569 \r\nC 169.675882 201.964999 177.698553 195.397219 184.387251 187.58112 \r\nC 191.075948 179.765021 196.325194 170.823858 199.890508 161.174059 \r\nC 203.455823 151.524261 205.280983 141.318 205.280983 131.030625 \r\nL 118.304983 131.030625 \r\nL 189.064488 80.45477 \r\nz\r\n\" style=\"fill:#ff7f0e;\"/>\r\n   </g>\r\n   <g id=\"matplotlib.axis_1\"/>\r\n   <g id=\"matplotlib.axis_2\"/>\r\n   <g id=\"text_1\">\r\n    <!-- 생존 -->\r\n    <g transform=\"translate(209.409966 104.43305)scale(0.1 -0.1)\">\r\n     <defs>\r\n      <path d=\"M 77.984375 30.515625 \r\nL 77.984375 54.109375 \r\nL 67 54.109375 \r\nL 67 33.015625 \r\nL 59.71875 33.015625 \r\nL 59.71875 83.5 \r\nL 67 83.5 \r\nL 67 60.40625 \r\nL 77.984375 60.40625 \r\nL 77.984375 85.40625 \r\nL 85.296875 85.40625 \r\nL 85.296875 30.515625 \r\nz\r\nM 49.03125 37.59375 \r\nQ 43.65625 40.671875 37.984375 47.015625 \r\nQ 32.328125 53.375 30.328125 58.203125 \r\nQ 28.5625 52.640625 22.921875 45.78125 \r\nQ 17.28125 38.921875 11.1875 35.203125 \r\nL 6 40.09375 \r\nQ 15.328125 45.015625 21.015625 53.78125 \r\nQ 26.703125 62.546875 26.703125 72.125 \r\nL 26.703125 82.078125 \r\nL 33.6875 82.078125 \r\nL 33.6875 72.125 \r\nQ 33.6875 63.09375 39.625 54.90625 \r\nQ 45.5625 46.734375 53.8125 43.015625 \r\nz\r\nM 54.5 -7.171875 \r\nQ 39.65625 -7.171875 31.375 -2.171875 \r\nQ 23.09375 2.828125 23.09375 10.796875 \r\nQ 23.09375 18.75 31.375 23.78125 \r\nQ 39.65625 28.8125 54.5 28.8125 \r\nQ 69.4375 28.8125 77.703125 23.78125 \r\nQ 85.984375 18.75 85.984375 10.796875 \r\nQ 85.984375 2.828125 77.703125 -2.171875 \r\nQ 69.4375 -7.171875 54.5 -7.171875 \r\nz\r\nM 54.5 22.609375 \r\nQ 43.0625 22.609375 36.9375 19.265625 \r\nQ 30.8125 15.921875 30.8125 10.796875 \r\nQ 30.8125 5.609375 36.984375 2.3125 \r\nQ 43.171875 -0.984375 54.5 -0.984375 \r\nQ 65.765625 -0.984375 71.984375 2.28125 \r\nQ 78.21875 5.5625 78.21875 10.796875 \r\nQ 78.21875 15.96875 72.015625 19.28125 \r\nQ 65.828125 22.609375 54.5 22.609375 \r\nz\r\n\" id=\"MalgunGothic-49373\"/>\r\n      <path d=\"M 85.296875 48.1875 \r\nQ 73.921875 49.859375 63.90625 55.296875 \r\nQ 53.90625 60.75 50.09375 66.703125 \r\nQ 46.6875 61.28125 36.578125 55.59375 \r\nQ 26.46875 49.90625 15.1875 48.1875 \r\nL 10.890625 54.109375 \r\nQ 24.078125 55.171875 34.421875 61.46875 \r\nQ 44.78125 67.78125 46.296875 75 \r\nL 16.015625 75 \r\nL 16.015625 81.59375 \r\nL 83.984375 81.59375 \r\nL 83.984375 75 \r\nL 53.71875 75 \r\nQ 55.21875 67.671875 65.421875 61.375 \r\nQ 75.640625 55.078125 89.109375 54.109375 \r\nz\r\nM 6.296875 29.984375 \r\nL 6.296875 36.625 \r\nL 46.296875 36.625 \r\nL 46.296875 51.90625 \r\nL 53.71875 51.90625 \r\nL 53.71875 36.625 \r\nL 93.703125 36.625 \r\nL 93.703125 29.984375 \r\nz\r\nM 20.703125 -5.609375 \r\nL 20.703125 22.796875 \r\nL 27.984375 22.796875 \r\nL 27.984375 0.875 \r\nL 81.296875 0.875 \r\nL 81.296875 -5.609375 \r\nz\r\n\" id=\"MalgunGothic-51316\"/>\r\n     </defs>\r\n     <use xlink:href=\"#MalgunGothic-49373\"/>\r\n     <use x=\"100\" xlink:href=\"#MalgunGothic-51316\"/>\r\n    </g>\r\n   </g>\r\n   <g id=\"text_2\">\r\n    <!-- 9.9% -->\r\n    <g transform=\"translate(157.215017 117.711067)scale(0.1 -0.1)\">\r\n     <defs>\r\n      <path d=\"M 8.6875 8.796875 \r\nQ 14.703125 5.375 21.34375 5.375 \r\nQ 31.15625 5.375 36.671875 13.359375 \r\nQ 42.1875 21.34375 42.1875 36.140625 \r\nQ 42.09375 36.03125 42 36.140625 \r\nQ 37.3125 26.765625 25.828125 26.765625 \r\nQ 16.546875 26.765625 10.65625 33.125 \r\nQ 4.78125 39.5 4.78125 49.125 \r\nQ 4.78125 59.46875 11.109375 66.25 \r\nQ 17.4375 73.046875 27.6875 73.046875 \r\nQ 38.53125 73.046875 44.265625 64.546875 \r\nQ 50 56.0625 50 40.28125 \r\nQ 50 20.609375 42.453125 9.6875 \r\nQ 34.90625 -1.21875 21 -1.21875 \r\nQ 13.765625 -1.21875 8.6875 1.21875 \r\nz\r\nM 12.703125 50.296875 \r\nQ 12.703125 42.828125 16.609375 38.28125 \r\nQ 20.515625 33.734375 27.484375 33.734375 \r\nQ 33.546875 33.734375 37.59375 37.765625 \r\nQ 41.65625 41.796875 41.65625 47.609375 \r\nQ 41.65625 55.5625 37.671875 60.984375 \r\nQ 33.6875 66.40625 26.953125 66.40625 \r\nQ 20.65625 66.40625 16.671875 61.6875 \r\nQ 12.703125 56.984375 12.703125 50.296875 \r\nz\r\n\" id=\"MalgunGothic-57\"/>\r\n      <path d=\"M 5.5625 4.296875 \r\nQ 5.5625 6.59375 7.171875 8.171875 \r\nQ 8.796875 9.765625 10.9375 9.765625 \r\nQ 13.09375 9.765625 14.703125 8.171875 \r\nQ 16.3125 6.59375 16.3125 4.296875 \r\nQ 16.3125 2.15625 14.71875 0.515625 \r\nQ 13.140625 -1.125 10.9375 -1.125 \r\nQ 8.734375 -1.125 7.140625 0.453125 \r\nQ 5.5625 2.046875 5.5625 4.296875 \r\nz\r\n\" id=\"MalgunGothic-46\"/>\r\n      <path d=\"M 3.953125 53.8125 \r\nQ 3.953125 62.453125 8.546875 67.671875 \r\nQ 13.140625 72.90625 21.140625 72.90625 \r\nQ 28.859375 72.90625 33.046875 68.046875 \r\nQ 37.25 63.1875 37.25 54.828125 \r\nQ 37.25 46.4375 32.53125 41.140625 \r\nQ 27.828125 35.84375 20.125 35.84375 \r\nQ 12.75 35.84375 8.34375 40.75 \r\nQ 3.953125 45.65625 3.953125 53.8125 \r\nz\r\nM 10.40625 54.296875 \r\nQ 10.40625 48.296875 13.140625 44.75 \r\nQ 15.875 41.21875 20.65625 41.21875 \r\nQ 25.484375 41.21875 28.171875 44.734375 \r\nQ 30.859375 48.25 30.859375 54.59375 \r\nQ 30.859375 60.84375 28.1875 64.25 \r\nQ 25.53125 67.671875 20.84375 67.671875 \r\nQ 15.96875 67.671875 13.1875 64.03125 \r\nQ 10.40625 60.40625 10.40625 54.296875 \r\nz\r\nM 67.96875 71.875 \r\nL 21.921875 -0.53125 \r\nL 15.09375 -0.53125 \r\nL 61.078125 71.875 \r\nz\r\nM 46.6875 16.84375 \r\nQ 46.6875 25.640625 51.3125 30.890625 \r\nQ 55.953125 36.140625 63.765625 36.140625 \r\nQ 71.390625 36.140625 75.640625 31.25 \r\nQ 79.890625 26.375 79.890625 17.78125 \r\nQ 79.890625 9.375 75.140625 4.125 \r\nQ 70.40625 -1.125 62.796875 -1.125 \r\nQ 55.46875 -1.125 51.078125 3.828125 \r\nQ 46.6875 8.796875 46.6875 16.84375 \r\nz\r\nM 53.03125 17.234375 \r\nQ 53.03125 11.328125 55.78125 7.78125 \r\nQ 58.546875 4.25 63.28125 4.25 \r\nQ 68.0625 4.25 70.765625 7.828125 \r\nQ 73.484375 11.421875 73.484375 17.71875 \r\nQ 73.484375 23.96875 70.84375 27.3125 \r\nQ 68.21875 30.671875 63.53125 30.671875 \r\nQ 58.640625 30.671875 55.828125 27.046875 \r\nQ 53.03125 23.4375 53.03125 17.234375 \r\nz\r\n\" id=\"MalgunGothic-37\"/>\r\n     </defs>\r\n     <use xlink:href=\"#MalgunGothic-57\"/>\r\n     <use x=\"55.078125\" xlink:href=\"#MalgunGothic-46\"/>\r\n     <use x=\"76.953125\" xlink:href=\"#MalgunGothic-57\"/>\r\n     <use x=\"132.03125\" xlink:href=\"#MalgunGothic-37\"/>\r\n    </g>\r\n   </g>\r\n   <g id=\"text_3\">\r\n    <!-- 사망 -->\r\n    <g transform=\"translate(7.2 162.856325)scale(0.1 -0.1)\">\r\n     <defs>\r\n      <path d=\"M 79.59375 40.625 \r\nL 79.59375 -8.796875 \r\nL 72.3125 -8.796875 \r\nL 72.3125 85.40625 \r\nL 79.59375 85.40625 \r\nL 79.59375 47.125 \r\nL 95.90625 47.125 \r\nL 95.90625 40.625 \r\nz\r\nM 58.5 15.09375 \r\nQ 50.53125 21.1875 43.75 30.25 \r\nQ 36.96875 39.3125 34.90625 46.09375 \r\nQ 32.71875 38.625 26.125 29.421875 \r\nQ 19.53125 20.21875 11.53125 13.921875 \r\nL 5.90625 18.796875 \r\nQ 17.4375 26.609375 24.3125 38.734375 \r\nQ 31.203125 50.875 31.203125 63.484375 \r\nL 31.203125 78.90625 \r\nL 38.484375 78.90625 \r\nL 38.484375 63.8125 \r\nQ 38.484375 51.515625 45.28125 39.890625 \r\nQ 52.09375 28.265625 63.625 20.796875 \r\nz\r\n\" id=\"MalgunGothic-49324\"/>\r\n      <path d=\"M 80.078125 52.78125 \r\nL 80.078125 31.109375 \r\nL 72.796875 31.109375 \r\nL 72.796875 85.40625 \r\nL 80.078125 85.40625 \r\nL 80.078125 59.28125 \r\nL 94.28125 59.28125 \r\nL 94.28125 52.78125 \r\nz\r\nM 11.921875 36.921875 \r\nL 11.921875 80.21875 \r\nL 54.59375 80.21875 \r\nL 54.59375 36.921875 \r\nz\r\nM 47.40625 73.78125 \r\nL 19.09375 73.78125 \r\nL 19.09375 43.40625 \r\nL 47.40625 43.40625 \r\nz\r\nM 51.3125 -7.421875 \r\nQ 36.578125 -7.421875 28.546875 -2.3125 \r\nQ 20.515625 2.78125 20.515625 10.890625 \r\nQ 20.515625 19 28.515625 24.046875 \r\nQ 36.53125 29.109375 51.3125 29.109375 \r\nQ 66.15625 29.109375 74.109375 24.046875 \r\nQ 82.078125 19 82.078125 10.890625 \r\nQ 82.078125 2.78125 74.09375 -2.3125 \r\nQ 66.109375 -7.421875 51.3125 -7.421875 \r\nz\r\nM 51.3125 22.90625 \r\nQ 40.140625 22.90625 34.234375 19.5 \r\nQ 28.328125 16.109375 28.328125 10.890625 \r\nQ 28.328125 5.609375 34.25 2.234375 \r\nQ 40.1875 -1.125 51.3125 -1.125 \r\nQ 62.40625 -1.125 68.359375 2.21875 \r\nQ 74.3125 5.5625 74.3125 10.890625 \r\nQ 74.3125 16.15625 68.40625 19.53125 \r\nQ 62.5 22.90625 51.3125 22.90625 \r\nz\r\n\" id=\"MalgunGothic-47581\"/>\r\n     </defs>\r\n     <use xlink:href=\"#MalgunGothic-49324\"/>\r\n     <use x=\"100\" xlink:href=\"#MalgunGothic-47581\"/>\r\n    </g>\r\n   </g>\r\n   <g id=\"text_4\">\r\n    <!-- 90.1% -->\r\n    <g transform=\"translate(55.073856 149.578308)scale(0.1 -0.1)\">\r\n     <defs>\r\n      <path d=\"M 4.34375 34.46875 \r\nQ 4.34375 53.515625 10.546875 63.28125 \r\nQ 16.75 73.046875 28.421875 73.046875 \r\nQ 50.828125 73.046875 50.828125 36.234375 \r\nQ 50.828125 18.0625 44.59375 8.421875 \r\nQ 38.375 -1.21875 26.8125 -1.21875 \r\nQ 15.875 -1.21875 10.109375 8.125 \r\nQ 4.34375 17.484375 4.34375 34.46875 \r\nz\r\nM 12.25 34.859375 \r\nQ 12.25 5.375 27.640625 5.375 \r\nQ 42.921875 5.375 42.921875 35.296875 \r\nQ 42.921875 66.40625 28.03125 66.40625 \r\nQ 12.25 66.40625 12.25 34.859375 \r\nz\r\n\" id=\"MalgunGothic-48\"/>\r\n      <path d=\"M 34.859375 0 \r\nL 27.09375 0 \r\nL 27.09375 62.0625 \r\nQ 24.859375 59.8125 19.78125 57.203125 \r\nQ 14.703125 54.59375 10.5 53.5625 \r\nL 10.5 61.859375 \r\nQ 15.875 63.375 22.015625 66.796875 \r\nQ 28.171875 70.21875 31.734375 73.4375 \r\nL 34.859375 73.4375 \r\nz\r\n\" id=\"MalgunGothic-49\"/>\r\n     </defs>\r\n     <use xlink:href=\"#MalgunGothic-57\"/>\r\n     <use x=\"55.078125\" xlink:href=\"#MalgunGothic-48\"/>\r\n     <use x=\"110.15625\" xlink:href=\"#MalgunGothic-46\"/>\r\n     <use x=\"132.03125\" xlink:href=\"#MalgunGothic-49\"/>\r\n     <use x=\"187.109375\" xlink:href=\"#MalgunGothic-37\"/>\r\n    </g>\r\n   </g>\r\n   <g id=\"text_5\">\r\n    <!-- 성인 남성의 생존율 -->\r\n    <g transform=\"translate(66.086233 16.310625)scale(0.12 -0.12)\">\r\n     <defs>\r\n      <path d=\"M 77.296875 31 \r\nL 77.296875 59.078125 \r\nL 55.328125 59.078125 \r\nL 55.328125 65.625 \r\nL 77.296875 65.625 \r\nL 77.296875 85.40625 \r\nL 84.625 85.40625 \r\nL 84.625 31 \r\nz\r\nM 57.078125 36.375 \r\nQ 50.6875 39.84375 44.234375 46.09375 \r\nQ 37.796875 52.34375 35.203125 57.8125 \r\nQ 32.421875 51.609375 25.921875 44.65625 \r\nQ 19.4375 37.703125 12.796875 33.984375 \r\nL 7.625 39.015625 \r\nQ 17.71875 43.84375 24.546875 53.015625 \r\nQ 31.390625 62.203125 31.390625 72.3125 \r\nL 31.390625 82.328125 \r\nL 38.484375 82.328125 \r\nL 38.484375 72.3125 \r\nQ 38.484375 62.890625 45.5625 54.25 \r\nQ 52.640625 45.609375 62.015625 41.703125 \r\nz\r\nM 55.71875 -7.421875 \r\nQ 40.96875 -7.421875 32.9375 -2.3125 \r\nQ 24.90625 2.78125 24.90625 10.890625 \r\nQ 24.90625 19 32.90625 24.046875 \r\nQ 40.921875 29.109375 55.71875 29.109375 \r\nQ 70.515625 29.109375 78.515625 24.046875 \r\nQ 86.53125 19 86.53125 10.890625 \r\nQ 86.53125 2.78125 78.484375 -2.3125 \r\nQ 70.453125 -7.421875 55.71875 -7.421875 \r\nz\r\nM 55.71875 22.90625 \r\nQ 44.53125 22.90625 38.625 19.5 \r\nQ 32.71875 16.109375 32.71875 10.890625 \r\nQ 32.71875 5.609375 38.640625 2.234375 \r\nQ 44.578125 -1.125 55.71875 -1.125 \r\nQ 66.796875 -1.125 72.75 2.21875 \r\nQ 78.71875 5.5625 78.71875 10.890625 \r\nQ 78.71875 16.15625 72.796875 19.53125 \r\nQ 66.890625 22.90625 55.71875 22.90625 \r\nz\r\n\" id=\"MalgunGothic-49457\"/>\r\n      <path d=\"M 77.296875 16.609375 \r\nL 77.296875 85.40625 \r\nL 84.625 85.40625 \r\nL 84.625 16.609375 \r\nz\r\nM 38.09375 33.984375 \r\nQ 27.546875 33.984375 20.453125 40.640625 \r\nQ 13.375 47.3125 13.375 57.90625 \r\nQ 13.375 68.5625 20.421875 75.171875 \r\nQ 27.484375 81.78125 38.09375 81.78125 \r\nQ 48.6875 81.78125 55.6875 75.1875 \r\nQ 62.703125 68.609375 62.703125 57.90625 \r\nQ 62.703125 47.3125 55.671875 40.640625 \r\nQ 48.640625 33.984375 38.09375 33.984375 \r\nz\r\nM 38.09375 75.296875 \r\nQ 30.375 75.296875 25.53125 70.5625 \r\nQ 20.703125 65.828125 20.703125 57.90625 \r\nQ 20.703125 50 25.515625 45.234375 \r\nQ 30.328125 40.484375 38.09375 40.484375 \r\nQ 45.84375 40.484375 50.671875 45.234375 \r\nQ 55.515625 50 55.515625 57.90625 \r\nQ 55.515625 65.828125 50.671875 70.5625 \r\nQ 45.84375 75.296875 38.09375 75.296875 \r\nz\r\nM 25.203125 -5.171875 \r\nL 25.203125 25.390625 \r\nL 32.515625 25.390625 \r\nL 32.515625 1.421875 \r\nL 87.109375 1.421875 \r\nL 87.109375 -5.171875 \r\nz\r\n\" id=\"MalgunGothic-51064\"/>\r\n      <path id=\"MalgunGothic-32\"/>\r\n      <path d=\"M 80.078125 55.90625 \r\nL 80.078125 33.109375 \r\nL 72.796875 33.109375 \r\nL 72.796875 85.40625 \r\nL 80.078125 85.40625 \r\nL 80.078125 62.5 \r\nL 94.28125 62.5 \r\nL 94.28125 55.90625 \r\nz\r\nM 66.609375 44.28125 \r\nQ 58.453125 42.09375 14.3125 42.09375 \r\nL 14.3125 81.59375 \r\nL 21.578125 81.59375 \r\nL 21.578125 48.578125 \r\nL 28.03125 48.578125 \r\nQ 55.515625 48.578125 65.71875 50.59375 \r\nz\r\nM 22.90625 -6.59375 \r\nL 22.90625 27.875 \r\nL 80.078125 27.875 \r\nL 80.078125 -6.59375 \r\nz\r\nM 72.90625 21.390625 \r\nL 30.078125 21.390625 \r\nL 30.078125 -0.09375 \r\nL 72.90625 -0.09375 \r\nz\r\n\" id=\"MalgunGothic-45224\"/>\r\n      <path d=\"M 78.328125 -8.796875 \r\nL 78.328125 85.40625 \r\nL 85.59375 85.40625 \r\nL 85.59375 -8.796875 \r\nz\r\nM 38.28125 33.296875 \r\nQ 27.734375 33.296875 20.546875 39.6875 \r\nQ 13.375 46.09375 13.375 55.8125 \r\nQ 13.375 65.328125 20.5 71.765625 \r\nQ 27.640625 78.21875 38.28125 78.21875 \r\nQ 48.875 78.21875 56.03125 71.71875 \r\nQ 63.1875 65.234375 63.1875 55.8125 \r\nQ 63.1875 46.046875 56.046875 39.671875 \r\nQ 48.921875 33.296875 38.28125 33.296875 \r\nz\r\nM 38.28125 71.78125 \r\nQ 30.859375 71.78125 25.875 67.28125 \r\nQ 20.90625 62.796875 20.90625 55.8125 \r\nQ 20.90625 48.734375 26 44.265625 \r\nQ 31.109375 39.796875 38.28125 39.796875 \r\nQ 45.65625 39.796875 50.6875 44.265625 \r\nQ 55.71875 48.734375 55.71875 55.8125 \r\nQ 55.71875 62.890625 50.734375 67.328125 \r\nQ 45.75 71.78125 38.28125 71.78125 \r\nz\r\nM 7.171875 8.296875 \r\nL 6.5 14.59375 \r\nQ 19.09375 14.59375 41.671875 15.078125 \r\nQ 64.265625 15.578125 71.6875 16.21875 \r\nL 72.125 9.90625 \r\nQ 64.453125 9.28125 41.859375 8.78125 \r\nQ 19.28125 8.296875 7.171875 8.296875 \r\nz\r\n\" id=\"MalgunGothic-51032\"/>\r\n      <path d=\"M 50 51.8125 \r\nQ 35.453125 51.8125 27.640625 56.328125 \r\nQ 19.828125 60.84375 19.828125 68.40625 \r\nQ 19.828125 75.921875 27.65625 80.46875 \r\nQ 35.5 85.015625 50 85.015625 \r\nQ 64.65625 85.015625 72.40625 80.546875 \r\nQ 80.171875 76.078125 80.171875 68.40625 \r\nQ 80.171875 60.796875 72.375 56.296875 \r\nQ 64.59375 51.8125 50 51.8125 \r\nz\r\nM 50 79.203125 \r\nQ 39.109375 79.203125 33.25 76.21875 \r\nQ 27.390625 73.25 27.390625 68.40625 \r\nQ 27.390625 63.484375 33.296875 60.5 \r\nQ 39.203125 57.515625 50 57.515625 \r\nQ 60.6875 57.515625 66.640625 60.546875 \r\nQ 72.609375 63.578125 72.609375 68.40625 \r\nQ 72.609375 73.140625 66.671875 76.171875 \r\nQ 60.75 79.203125 50 79.203125 \r\nz\r\nM 20.40625 -7.8125 \r\nL 20.40625 13.1875 \r\nL 72.3125 13.1875 \r\nL 72.3125 21.921875 \r\nL 20.40625 21.921875 \r\nL 20.40625 27.875 \r\nL 31.390625 27.875 \r\nL 31.390625 37.890625 \r\nL 6.296875 37.890625 \r\nL 6.296875 44 \r\nL 93.703125 44 \r\nL 93.703125 37.890625 \r\nL 68.609375 37.890625 \r\nL 68.609375 27.875 \r\nL 79.5 27.875 \r\nL 79.5 7.421875 \r\nL 27.59375 7.421875 \r\nL 27.59375 -1.703125 \r\nL 81.984375 -1.703125 \r\nL 81.984375 -7.8125 \r\nz\r\nM 61.375 27.875 \r\nL 61.375 37.890625 \r\nL 38.625 37.890625 \r\nL 38.625 27.875 \r\nz\r\n\" id=\"MalgunGothic-50984\"/>\r\n     </defs>\r\n     <use xlink:href=\"#MalgunGothic-49457\"/>\r\n     <use x=\"100\" xlink:href=\"#MalgunGothic-51064\"/>\r\n     <use x=\"200\" xlink:href=\"#MalgunGothic-32\"/>\r\n     <use x=\"235.15625\" xlink:href=\"#MalgunGothic-45224\"/>\r\n     <use x=\"335.15625\" xlink:href=\"#MalgunGothic-49457\"/>\r\n     <use x=\"435.15625\" xlink:href=\"#MalgunGothic-51032\"/>\r\n     <use x=\"535.15625\" xlink:href=\"#MalgunGothic-32\"/>\r\n     <use x=\"570.3125\" xlink:href=\"#MalgunGothic-49373\"/>\r\n     <use x=\"670.3125\" xlink:href=\"#MalgunGothic-51316\"/>\r\n     <use x=\"770.3125\" xlink:href=\"#MalgunGothic-50984\"/>\r\n    </g>\r\n   </g>\r\n  </g>\r\n </g>\r\n</svg>\r\n",
      "image/png": "[encoded data removed]"
     },
     "metadata": {}
    }
   ],
   "metadata": {}
  }
 ],
 "metadata": {
  "orig_nbformat": 4,
  "language_info": {
   "name": "python",
   "version": "3.8.8",
   "mimetype": "text/x-python",
   "codemirror_mode": {
    "name": "ipython",
    "version": 3
   },
   "pygments_lexer": "ipython3",
   "nbconvert_exporter": "python",
   "file_extension": ".py"
  },
  "kernelspec": {
   "name": "python3",
   "display_name": "Python 3.8.8 64-bit ('base': conda)"
  },
  "interpreter": {
   "hash": "8a578a6474853f9056afdfe8478bc696ac5c7ab9da35a920677f2514d2b2a623"
  }
 },
 "nbformat": 4,
 "nbformat_minor": 2
}