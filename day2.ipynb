{
 "cells": [
  {
   "cell_type": "code",
   "execution_count": 5,
   "id": "db328483",
   "metadata": {},
   "outputs": [
    {
     "name": "stdout",
     "output_type": "stream",
     "text": [
      "숫자 두 개를 입력 : 1 2\n",
      "1 2\n"
     ]
    }
   ],
   "source": [
    "x, y = input(\"숫자 두 개를 입력 : \").split()\n",
    "print(x, y)"
   ]
  },
  {
   "cell_type": "code",
   "execution_count": 198,
   "id": "dd2aeab2",
   "metadata": {},
   "outputs": [
    {
     "name": "stdout",
     "output_type": "stream",
     "text": [
      "숫자 입력 : 5 3\n",
      "8\n"
     ]
    }
   ],
   "source": [
    "# map 함수\n",
    "# map(적용함수, 지정함수) 지정된함수의 각각의 요소에 적용함수를 적용해줌\n",
    "\n",
    "x,y = map(int, input(\"숫자 입력 : \").split()) # 리스트 안의 요소들이 정수형으로 바뀜\n",
    "print(x + y)"
   ]
  },
  {
   "cell_type": "code",
   "execution_count": 201,
   "id": "0df67b2a",
   "metadata": {},
   "outputs": [
    {
     "name": "stdout",
     "output_type": "stream",
     "text": [
      "숫자 입력 : 5,           1\n",
      "6\n"
     ]
    }
   ],
   "source": [
    "x,y = map(int, input(\"숫자 입력 : \").split(\",\"))\n",
    "print(x+y)"
   ]
  },
  {
   "cell_type": "code",
   "execution_count": 17,
   "id": "360bbd76",
   "metadata": {},
   "outputs": [
    {
     "name": "stdout",
     "output_type": "stream",
     "text": [
      "10 20 30\n",
      "10,20,30\n",
      "102030\n"
     ]
    }
   ],
   "source": [
    "print(10, 20, 30)\n",
    "print(10, 20, 30, sep = \",\")\n",
    "print(10, 20, 30, sep=\"\")"
   ]
  },
  {
   "cell_type": "code",
   "execution_count": null,
   "id": "ede6f3b2",
   "metadata": {},
   "outputs": [],
   "source": [
    "# 비교연산자, 논리연산자 => 연산 결과가 불린형\n",
    "1==2 # = 의미는 assign, == 의미? equal\n",
    "1 !=2 # != (not equal)\n",
    "\n",
    "'test' == 'test' # True\n",
    "'test' == 'Test' # False\n",
    "\n",
    "'Trump' 'trump'\n",
    "'sky' 'Sky'\n",
    "# 의미는 같지만 대소문자의 차이로 서로 다른 문자로 인식\n",
    "# 자연어 전처리 과정에서는 대소문자를 통일하는 작업을 수행"
   ]
  },
  {
   "cell_type": "code",
   "execution_count": 23,
   "id": "a1e56cba",
   "metadata": {},
   "outputs": [
    {
     "data": {
      "text/plain": [
       "False"
      ]
     },
     "execution_count": 23,
     "metadata": {},
     "output_type": "execute_result"
    }
   ],
   "source": [
    "# 논리연산자 : and, or , not 연산자\n",
    "True\n",
    "False\n",
    "\n",
    "# and : 모두 다 참인경우만 참이되는 연산자\n",
    "True and False # False\n",
    "True and True # True\n",
    "\n",
    "# or : 적어도 하나 이상이 참인 경우 참이되는 연산자\n",
    "True or False\n",
    "True or True\n",
    "\n",
    "# not : 참 -> 거짓, 거짓 -> 참\n",
    "not True\n",
    "\n",
    "# 논리 연산자 우선순위 : not > and > or\n",
    "not True and False # == False and False"
   ]
  },
  {
   "cell_type": "code",
   "execution_count": 24,
   "id": "8c4cf351",
   "metadata": {},
   "outputs": [
    {
     "data": {
      "text/plain": [
       "True"
      ]
     },
     "execution_count": 24,
     "metadata": {},
     "output_type": "execute_result"
    }
   ],
   "source": [
    "1==1 and 1!=2\n",
    "# 비교연산자 2개, 논리연산자 1개\n",
    "# 우선순위: 비교연산자 > 논리연산자"
   ]
  },
  {
   "cell_type": "code",
   "execution_count": 27,
   "id": "91488d77",
   "metadata": {},
   "outputs": [
    {
     "data": {
      "text/plain": [
       "False"
      ]
     },
     "execution_count": 27,
     "metadata": {},
     "output_type": "execute_result"
    }
   ],
   "source": [
    "# bool(): 정수, 실수, 문자 -> 불린형태로\n",
    "bool(100) # True\n",
    "bool(-100) # True\n",
    "bool(1) # True\n",
    "bool(0) # False\n",
    "\n",
    "bool(3.14) # True\n",
    "bool(-1.1) # True\n",
    "bool(0.1) # True\n",
    "bool(0.0) # False\n",
    "\n",
    "bool(\"a\") # True\n",
    "bool(\"Test\") # True\n",
    "bool(\"\") # False 공백문자도 없이 아무것도 없는 경우에만 False"
   ]
  },
  {
   "cell_type": "code",
   "execution_count": 41,
   "id": "b176b62f",
   "metadata": {
    "scrolled": false
   },
   "outputs": [
    {
     "name": "stdout",
     "output_type": "stream",
     "text": [
      "숫자를 입력 : 5\n",
      "I eat 5 apples\n",
      "I eat three bananas\n",
      "I eat 2.100000 apples\n",
      "I eat 2.1 apples\n"
     ]
    }
   ],
   "source": [
    "# 포매팅\n",
    "\n",
    "a = int(input(\"숫자를 입력 : \"))\n",
    "b = \"three\"\n",
    "c = 2.1\n",
    "\n",
    "print(\"I eat %d apples\" % a) # d -> digit(수)의 약자 : 정수만\n",
    "print(\"I eat %s bananas\" % b) # s -> string(문자열)의 약자\n",
    "print(\"I eat %f apples\" % c) # f -> float의 약자 실수형태(소수점 6자리까지 나옴)\n",
    "print(\"I eat %.1f apples\" % c)\n",
    "\n",
    "# \"Acuuracy is 90%\"를 표기할 때 (%표기 방법)\n",
    "print(\"Accuracy is %d%%\" %90) # %%를 사용하여 표기"
   ]
  },
  {
   "cell_type": "code",
   "execution_count": 37,
   "id": "91b55ae7",
   "metadata": {},
   "outputs": [
    {
     "name": "stdout",
     "output_type": "stream",
     "text": [
      "I ate 3 apples. so I was sick for three days\n"
     ]
    }
   ],
   "source": [
    "print(\"I ate %d apples. so I was sick for %s days\" %(3, \"three\"))"
   ]
  },
  {
   "cell_type": "code",
   "execution_count": 43,
   "id": "af0fbb97",
   "metadata": {},
   "outputs": [
    {
     "name": "stdout",
     "output_type": "stream",
     "text": [
      "hello\n",
      "     hello\n",
      "hello     \n"
     ]
    }
   ],
   "source": [
    "print(\"%s\" %\"hello\")\n",
    "print(\"%10s\" %\"hello\") # 10칸 확보 후 우측으로 정렬\n",
    "print(\"%-10s\" %\"hello\") # 10칸 확보 후 좌측으로 정렬"
   ]
  },
  {
   "cell_type": "code",
   "execution_count": 44,
   "id": "d3a9267b",
   "metadata": {},
   "outputs": [],
   "source": [
    "num = 3\n",
    "day = \"five\""
   ]
  },
  {
   "cell_type": "code",
   "execution_count": 48,
   "id": "2d49706c",
   "metadata": {},
   "outputs": [
    {
     "name": "stdout",
     "output_type": "stream",
     "text": [
      "I ate 3 apples. so I was sick for three days\n",
      "I ate 3 apples. so I was sick for five days\n",
      "I ate 3 apples. so I was sick for five days\n"
     ]
    }
   ],
   "source": [
    "print(\"I ate %d apples. so I was sick for %s days\" %(3, \"three\"))\n",
    "print(\"I ate %d apples. so I was sick for %s days\" %(num, day))\n",
    "print(\"I ate {0} apples. so I was sick for {1} days\".format(num,day))\n",
    "# {0}: format 함수의 첫 번째 인수\n",
    "# {1}: format 함수의 두 번째 인수"
   ]
  },
  {
   "cell_type": "code",
   "execution_count": 51,
   "id": "6473b28a",
   "metadata": {},
   "outputs": [
    {
     "name": "stdout",
     "output_type": "stream",
     "text": [
      "I ate five apples. so I was sick for 3 days\n",
      "I ate 3 apples. so I was sick for Three days\n"
     ]
    }
   ],
   "source": [
    "print(\"I ate {1} apples. so I was sick for {0} days\".format(num,day)) # 순서 바꿔서도 사용 가능\n",
    "print(\"I ate {num} apples. so I was sick for {day} days\".format(num=3,day=\"Three\"))"
   ]
  },
  {
   "cell_type": "code",
   "execution_count": 59,
   "id": "c0f11df4",
   "metadata": {},
   "outputs": [
    {
     "name": "stdout",
     "output_type": "stream",
     "text": [
      "hello     \n",
      "  hello   \n",
      "$$hello$$$\n"
     ]
    }
   ],
   "source": [
    "print(\"{0:<10}\".format(\"hello\"))\n",
    "# :<10 의 의미? 전체 자리수가 10자리, 왼쪽 정렬\n",
    "# 0의 의미는 포맷함수 인수의 위치\n",
    "print(\"{0:^10}\".format(\"hello\")) # 가운데 정렬\n",
    "print(\"{0:$^10}\".format(\"hello\")) # $는 공백 채우는 용도"
   ]
  },
  {
   "cell_type": "code",
   "execution_count": 64,
   "id": "b481b220",
   "metadata": {},
   "outputs": [
    {
     "data": {
      "text/plain": [
       "2"
      ]
     },
     "execution_count": 64,
     "metadata": {},
     "output_type": "execute_result"
    }
   ],
   "source": [
    "# 파이썬에서는 문자열 자체적으로 문자열 관련 함수를 가지고 있음 -> (문자열) 내장 함수\n",
    "# 사용방법 : 문자열(변수).내장함수()\n",
    "\n",
    "\"data\".count(\"a\")\n",
    "\n",
    "x = \"data\"\n",
    "x.count(\"a\")"
   ]
  },
  {
   "cell_type": "code",
   "execution_count": 71,
   "id": "85eea9b5",
   "metadata": {},
   "outputs": [
    {
     "ename": "ValueError",
     "evalue": "substring not found",
     "output_type": "error",
     "traceback": [
      "\u001b[1;31m---------------------------------------------------------------------------\u001b[0m",
      "\u001b[1;31mValueError\u001b[0m                                Traceback (most recent call last)",
      "\u001b[1;32m<ipython-input-71-391e00945e98>\u001b[0m in \u001b[0;36m<module>\u001b[1;34m\u001b[0m\n\u001b[0;32m      3\u001b[0m \u001b[1;33m\u001b[0m\u001b[0m\n\u001b[0;32m      4\u001b[0m \u001b[0mx\u001b[0m\u001b[1;33m.\u001b[0m\u001b[0mindex\u001b[0m\u001b[1;33m(\u001b[0m\u001b[1;34m\"a\"\u001b[0m\u001b[1;33m)\u001b[0m\u001b[1;33m\u001b[0m\u001b[1;33m\u001b[0m\u001b[0m\n\u001b[1;32m----> 5\u001b[1;33m \u001b[0mx\u001b[0m\u001b[1;33m.\u001b[0m\u001b[0mindex\u001b[0m\u001b[1;33m(\u001b[0m\u001b[1;34m\"b\"\u001b[0m\u001b[1;33m)\u001b[0m \u001b[1;31m# 문자가 없는 경우에는 오류가 발생\u001b[0m\u001b[1;33m\u001b[0m\u001b[1;33m\u001b[0m\u001b[0m\n\u001b[0m",
      "\u001b[1;31mValueError\u001b[0m: substring not found"
     ]
    }
   ],
   "source": [
    "x.find(\"a\") # \"a\"의 위치, 0번부터 시작\n",
    "x.find(\"b\") # 문자가 없는 경우에는 -1이 리턴\n",
    "\n",
    "x.index(\"a\")\n",
    "x.index(\"b\") # 문자가 없는 경우에는 오류가 발생"
   ]
  },
  {
   "cell_type": "code",
   "execution_count": 217,
   "id": "b7fd7a39",
   "metadata": {},
   "outputs": [
    {
     "data": {
      "text/plain": [
       "'abcd'"
      ]
     },
     "execution_count": 217,
     "metadata": {},
     "output_type": "execute_result"
    }
   ],
   "source": [
    "# \"a,b,c,d\" => \"abcd\"\n",
    "x = \"a,b,c,d\"\n",
    "x.replace(\",\",\"\")"
   ]
  },
  {
   "cell_type": "code",
   "execution_count": 3,
   "id": "ed45946f",
   "metadata": {},
   "outputs": [
    {
     "data": {
      "text/plain": [
       "['a', 'b', 'c', 'd']"
      ]
     },
     "execution_count": 3,
     "metadata": {},
     "output_type": "execute_result"
    }
   ],
   "source": [
    "x = \"a,b,c,d\"\n",
    "res = x.split(\",\")\n",
    "res"
   ]
  },
  {
   "cell_type": "code",
   "execution_count": 2,
   "id": "80a981cb",
   "metadata": {},
   "outputs": [
    {
     "name": "stdout",
     "output_type": "stream",
     "text": [
      "a,b,c,d\n"
     ]
    }
   ],
   "source": [
    "print(\",\".join(res))\n",
    "# res에 저장되어 있는 각각의 문자가 컴마로 연결\n",
    "\n",
    "# split <-> join"
   ]
  },
  {
   "cell_type": "code",
   "execution_count": 87,
   "id": "381eeaed",
   "metadata": {},
   "outputs": [
    {
     "data": {
      "text/plain": [
       "'test'"
      ]
     },
     "execution_count": 87,
     "metadata": {},
     "output_type": "execute_result"
    }
   ],
   "source": [
    "\"test\".capitalize()\n",
    "\"test\".upper()\n",
    "\"test\".lower()"
   ]
  },
  {
   "cell_type": "code",
   "execution_count": 90,
   "id": "14171a9a",
   "metadata": {},
   "outputs": [
    {
     "name": "stdout",
     "output_type": "stream",
     "text": [
      " hello hi\n"
     ]
    }
   ],
   "source": [
    "a = \" hello \"\n",
    "b = \"hi\"\n",
    "print(a, b, sep=\"\")"
   ]
  },
  {
   "cell_type": "code",
   "execution_count": 93,
   "id": "b975e481",
   "metadata": {},
   "outputs": [
    {
     "data": {
      "text/plain": [
       "' hello'"
      ]
     },
     "execution_count": 93,
     "metadata": {},
     "output_type": "execute_result"
    }
   ],
   "source": [
    "a.strip() # 양쪽 공백 제거\n",
    "a.lstrip() # 왼쪽 공백 제거\n",
    "a.rstrip() # 오른쪽 공백 제거\n",
    "\n",
    "# \"hello   \"  != \"hello\""
   ]
  },
  {
   "cell_type": "code",
   "execution_count": 96,
   "id": "021f4737",
   "metadata": {},
   "outputs": [
    {
     "data": {
      "text/plain": [
       "'Pythtn is ttt easy'"
      ]
     },
     "execution_count": 96,
     "metadata": {},
     "output_type": "execute_result"
    }
   ],
   "source": [
    "a = \"Python is too easy\"\n",
    "a.replace(\"easy\", \"difficult\")\n",
    "\n",
    "a.replace(\"o\", \"t\")"
   ]
  },
  {
   "cell_type": "code",
   "execution_count": 109,
   "id": "7ae70478",
   "metadata": {},
   "outputs": [],
   "source": [
    "# 리스트\n",
    "\n",
    "# 리스트변수명 = [요소값1, 요소값2, 요소값3]\n",
    "\n",
    "a = [] # 빈 리스트\n",
    "a2 = [10, 20, 30] # 요소(element)\n",
    "a3 = [\"hi\", \"hello\"]\n",
    "a4 = [10, 20, \"hi\",True] # 여러 자료형 올 수 있음\n",
    "\n",
    "a6 = list() # 함수를 사용해서 리스트 표현도 가능"
   ]
  },
  {
   "cell_type": "code",
   "execution_count": 226,
   "id": "65210acb",
   "metadata": {},
   "outputs": [
    {
     "data": {
      "text/plain": [
       "[]"
      ]
     },
     "execution_count": 226,
     "metadata": {},
     "output_type": "execute_result"
    }
   ],
   "source": [
    "a6"
   ]
  },
  {
   "cell_type": "code",
   "execution_count": 116,
   "id": "149f3982",
   "metadata": {},
   "outputs": [],
   "source": [
    "#    0    1   2   3 \n",
    "a = [10, 20, 30, 40]\n",
    "a = [10, 20, 30,40, [50,\"a\",\"b\"]] # 리스트는 리스트를 요소값으로 할 수 있다"
   ]
  },
  {
   "cell_type": "code",
   "execution_count": 118,
   "id": "db5e5a0d",
   "metadata": {},
   "outputs": [
    {
     "data": {
      "text/plain": [
       "'a'"
      ]
     },
     "execution_count": 118,
     "metadata": {},
     "output_type": "execute_result"
    }
   ],
   "source": [
    "a[4][1]"
   ]
  },
  {
   "cell_type": "code",
   "execution_count": 123,
   "id": "503f16d0",
   "metadata": {},
   "outputs": [],
   "source": [
    "a = [10, 20, 30,40, [50,\"a\",[3.14,True,100],\"b\"]]"
   ]
  },
  {
   "cell_type": "code",
   "execution_count": 125,
   "id": "0ed0ebed",
   "metadata": {},
   "outputs": [
    {
     "data": {
      "text/plain": [
       "3.14"
      ]
     },
     "execution_count": 125,
     "metadata": {},
     "output_type": "execute_result"
    }
   ],
   "source": [
    "a[-1][-2][0]"
   ]
  },
  {
   "cell_type": "code",
   "execution_count": 128,
   "id": "9c2e3c35",
   "metadata": {},
   "outputs": [
    {
     "data": {
      "text/plain": [
       "[10, 20, 30]"
      ]
     },
     "execution_count": 128,
     "metadata": {},
     "output_type": "execute_result"
    }
   ],
   "source": [
    "# 리스트(동적) != 배열(array, 정적)\n",
    "a = [10, 20, 30, 40, 50]\n",
    "a [0:3]"
   ]
  },
  {
   "cell_type": "code",
   "execution_count": 130,
   "id": "8d76e008",
   "metadata": {},
   "outputs": [],
   "source": [
    "a = [10,20,30,[\"가\",\"나\",\"다\"],40,50,60]"
   ]
  },
  {
   "cell_type": "code",
   "execution_count": 133,
   "id": "a5762a13",
   "metadata": {},
   "outputs": [
    {
     "data": {
      "text/plain": [
       "['가', '나']"
      ]
     },
     "execution_count": 133,
     "metadata": {},
     "output_type": "execute_result"
    }
   ],
   "source": [
    "a[3][0:2]"
   ]
  },
  {
   "cell_type": "code",
   "execution_count": 134,
   "id": "f6668fbc",
   "metadata": {},
   "outputs": [],
   "source": [
    "a= [10, 20]\n",
    "b= [30, 40]"
   ]
  },
  {
   "cell_type": "code",
   "execution_count": 136,
   "id": "85c15b25",
   "metadata": {},
   "outputs": [
    {
     "data": {
      "text/plain": [
       "[10, 20, 30, 40]"
      ]
     },
     "execution_count": 136,
     "metadata": {},
     "output_type": "execute_result"
    }
   ],
   "source": [
    "a*3 # 요소들 3번 반복\n",
    "a+b # a, b의 요소들 합함"
   ]
  },
  {
   "cell_type": "code",
   "execution_count": 139,
   "id": "85bd92c7",
   "metadata": {},
   "outputs": [
    {
     "data": {
      "text/plain": [
       "5"
      ]
     },
     "execution_count": 139,
     "metadata": {},
     "output_type": "execute_result"
    }
   ],
   "source": [
    "# len 함수\n",
    "# 리스트, 문자열, 딕셔너리, 튜플의 길이를 알려주는 함수\n",
    "\n",
    "len(\"hello\")"
   ]
  },
  {
   "cell_type": "code",
   "execution_count": 141,
   "id": "16f35ed8",
   "metadata": {},
   "outputs": [
    {
     "data": {
      "text/plain": [
       "[10, 20, 'hello']"
      ]
     },
     "execution_count": 141,
     "metadata": {},
     "output_type": "execute_result"
    }
   ],
   "source": [
    "s=[10, 20, \"hello\"]\n",
    "s"
   ]
  },
  {
   "cell_type": "code",
   "execution_count": 1,
   "id": "6f745765",
   "metadata": {},
   "outputs": [
    {
     "name": "stdout",
     "output_type": "stream",
     "text": [
      "[10, 13, 16, 19, 22, 25, 28, 31, 34, 37, 40, 43, 46, 49]\n"
     ]
    }
   ],
   "source": [
    "range(5) # 0~4 까지 연속된 수열\n",
    "\n",
    "list(range(5)) # 리스트구조로 요소가 0~4로 들어감\n",
    "\n",
    "print(list(range(10,50,3))) # 10 ~ 49까지 차이가 3만큼 커짐\n",
    "\n",
    "# range(시작 값, 끝 값, 증감 값)\n",
    "# 파이썬에서는 증감값으로 정수만 가능한데 넘파이는 실수형으로 가능"
   ]
  },
  {
   "cell_type": "code",
   "execution_count": 168,
   "id": "b8b5a6f5",
   "metadata": {},
   "outputs": [
    {
     "name": "stdout",
     "output_type": "stream",
     "text": [
      "[5.0, 4.5, 4.0, 3.5, 3.0, 2.5, 2.0, 1.5, 1.0, 0.5]\n"
     ]
    }
   ],
   "source": [
    "a = list(range(10,0,-1))\n",
    "\n",
    "lst = []\n",
    "for i in a:\n",
    "    i = i/2\n",
    "    lst.append(i)\n",
    "print(lst)"
   ]
  },
  {
   "cell_type": "code",
   "execution_count": 177,
   "id": "aeb49ea3",
   "metadata": {},
   "outputs": [
    {
     "data": {
      "text/plain": [
       "[10, 20, 30, [100, 200], 20]"
      ]
     },
     "execution_count": 177,
     "metadata": {},
     "output_type": "execute_result"
    }
   ],
   "source": [
    "# append 함수 리스트의 맨 마지막에 추가\n",
    "a = [10, 20]\n",
    "a.append(30)\n",
    "a.append([100,200]) # 리스트를 추가하는 것도 가능\n",
    "b = 20\n",
    "a.append(b)\n",
    "a"
   ]
  },
  {
   "cell_type": "code",
   "execution_count": 181,
   "id": "27157200",
   "metadata": {},
   "outputs": [
    {
     "data": {
      "text/plain": [
       "['Z', 'b', 'c', 't', 'v']"
      ]
     },
     "execution_count": 181,
     "metadata": {},
     "output_type": "execute_result"
    }
   ],
   "source": [
    "# sort 함수 : 정렬해줌\n",
    "\n",
    "a = [30, 10, 20]\n",
    "a.sort()\n",
    "a\n",
    "\n",
    "# 문자는 ascii코드 값을 기준으로 정렬 (A:65 ~ Z:90 , a:97 ~ z:122)\n",
    "# 인코딩 : 코드화(문자, 숫자 등 -> 코드(0,1))하는 작업\n",
    "# 디코딩 : 코드(0,1) -> 문자, 숫자 등\n",
    "\n",
    "# 인코딩 / 디코딩 방식 : ascii, ebcdic, bcd, utf8, utf16, euc-kr 등등\n",
    "# 아스키 : 모든 문자/숫자를 7비트로 표현(7비트 = 2의 7승 = 128가지 문자를 표현 가능)\n",
    "# 0~127까지 코드\n",
    "\n",
    "b = [\"b\",\"c\",\"Z\",\"t\",\"v\"]\n",
    "b.sort()\n",
    "b"
   ]
  },
  {
   "cell_type": "code",
   "execution_count": 1,
   "id": "65b15259",
   "metadata": {},
   "outputs": [
    {
     "data": {
      "text/plain": [
       "['v', 't', 'c', 'b', 'Z']"
      ]
     },
     "execution_count": 1,
     "metadata": {},
     "output_type": "execute_result"
    }
   ],
   "source": [
    "a = [\"b\",\"c\",\"Z\",\"t\",\"v\"]\n",
    "# a.reverse() # 역순으로 나열\n",
    "a\n",
    "\n",
    "# a 를 역순으로 표현하고 싶으면..1\n",
    "a.sort()\n",
    "a.reverse()\n",
    "a"
   ]
  },
  {
   "cell_type": "code",
   "execution_count": 196,
   "id": "11d02e8c",
   "metadata": {},
   "outputs": [
    {
     "data": {
      "text/plain": [
       "['v', 't', 'c', 'b', '_', 'Z', '0']"
      ]
     },
     "execution_count": 196,
     "metadata": {},
     "output_type": "execute_result"
    }
   ],
   "source": [
    "# a 를 역순으로 표현하고 싶으면..2\n",
    "\n",
    "a = [\"b\",\"c\",\"Z\",\"t\",\"v\"]\n",
    "a.sort(reverse=True)\n",
    "a\n",
    "\n",
    "a = [\"b\",\"c\",\"Z\",\"t\",\"v\",\"0\",chr(95)]\n",
    "a.sort(reverse=True)\n",
    "a"
   ]
  },
  {
   "cell_type": "code",
   "execution_count": 197,
   "id": "210711b3",
   "metadata": {},
   "outputs": [
    {
     "data": {
      "text/plain": [
       "'_'"
      ]
     },
     "execution_count": 197,
     "metadata": {},
     "output_type": "execute_result"
    }
   ],
   "source": [
    "chr(65) # 아스키코드 값을 아스키 문자로 변환\n",
    "chr(90)\n",
    "chr(95)\n",
    "chr(127)"
   ]
  },
  {
   "cell_type": "code",
   "execution_count": 10,
   "id": "4ccd9488",
   "metadata": {},
   "outputs": [
    {
     "data": {
      "text/plain": [
       "[2,\n",
       " 3,\n",
       " 4,\n",
       " 5,\n",
       " 6,\n",
       " 7,\n",
       " 8,\n",
       " 9,\n",
       " 10,\n",
       " 11,\n",
       " 12,\n",
       " 13,\n",
       " 14,\n",
       " 15,\n",
       " 16,\n",
       " 17,\n",
       " 18,\n",
       " 19,\n",
       " 20,\n",
       " 21,\n",
       " 22,\n",
       " 23,\n",
       " 24,\n",
       " 25,\n",
       " 26,\n",
       " 27,\n",
       " 28,\n",
       " 29,\n",
       " 30,\n",
       " 31,\n",
       " 32,\n",
       " 33,\n",
       " 34,\n",
       " 35,\n",
       " 36,\n",
       " 37,\n",
       " 38,\n",
       " 39,\n",
       " 40,\n",
       " 41,\n",
       " 42,\n",
       " 43,\n",
       " 44,\n",
       " 45,\n",
       " 46,\n",
       " 47,\n",
       " 48,\n",
       " 49,\n",
       " 50,\n",
       " 51,\n",
       " 52,\n",
       " 53,\n",
       " 54,\n",
       " 55,\n",
       " 56,\n",
       " 57,\n",
       " 58,\n",
       " 59,\n",
       " 60,\n",
       " 61,\n",
       " 62,\n",
       " 63,\n",
       " 64,\n",
       " 65,\n",
       " 66,\n",
       " 67,\n",
       " 68,\n",
       " 69,\n",
       " 70,\n",
       " 71,\n",
       " 72,\n",
       " 73,\n",
       " 74,\n",
       " 75,\n",
       " 76,\n",
       " 77,\n",
       " 78,\n",
       " 79,\n",
       " 80,\n",
       " 81,\n",
       " 82,\n",
       " 83,\n",
       " 84,\n",
       " 85,\n",
       " 86,\n",
       " 87,\n",
       " 88,\n",
       " 89,\n",
       " 90,\n",
       " 91,\n",
       " 92,\n",
       " 93,\n",
       " 94,\n",
       " 95,\n",
       " 96,\n",
       " 97,\n",
       " 98,\n",
       " 99,\n",
       " 100]"
      ]
     },
     "execution_count": 10,
     "metadata": {},
     "output_type": "execute_result"
    }
   ],
   "source": [
    "num_list = list(range(2,101))\n",
    "num_list"
   ]
  },
  {
   "cell_type": "code",
   "execution_count": null,
   "id": "142951b6",
   "metadata": {},
   "outputs": [],
   "source": []
  }
 ],
 "metadata": {
  "kernelspec": {
   "display_name": "Python 3",
   "language": "python",
   "name": "python3"
  },
  "language_info": {
   "codemirror_mode": {
    "name": "ipython",
    "version": 3
   },
   "file_extension": ".py",
   "mimetype": "text/x-python",
   "name": "python",
   "nbconvert_exporter": "python",
   "pygments_lexer": "ipython3",
   "version": "3.8.8"
  }
 },
 "nbformat": 4,
 "nbformat_minor": 5
}
