{
 "cells": [
  {
   "cell_type": "code",
   "execution_count": 148,
   "id": "54d0ff53",
   "metadata": {},
   "outputs": [],
   "source": [
    "import pandas as pd\n",
    "import numpy as np\n",
    "import re\n",
    "\n",
    "import matplotlib.pyplot as plt\n",
    "import seaborn as sns\n",
    "\n",
    "from sklearn.preprocessing import LabelEncoder\n",
    "from sklearn.preprocessing import OneHotEncoder\n",
    "\n",
    "from sklearn.metrics import accuracy_score\n",
    "from sklearn.model_selection import train_test_split\n",
    "from sklearn.model_selection import GridSearchCV\n",
    "from sklearn.model_selection import cross_val_score\n",
    "from sklearn.model_selection import KFold\n",
    "\n",
    "from sklearn.neighbors import KNeighborsClassifier\n",
    "from sklearn.tree import DecisionTreeClassifier\n",
    "from sklearn.ensemble import RandomForestClassifier\n",
    "from sklearn.ensemble import AdaBoostClassifier\n",
    "from sklearn.ensemble import VotingClassifier"
   ]
  },
  {
   "cell_type": "code",
   "execution_count": 2,
   "id": "d3fcaa39",
   "metadata": {},
   "outputs": [],
   "source": [
    "train = pd.read_csv(\"data/train.csv\")\n",
    "test = pd.read_csv(\"data/test.csv\")\n",
    "combine = [train, test]"
   ]
  },
  {
   "cell_type": "code",
   "execution_count": 3,
   "id": "e3a1cd2e",
   "metadata": {},
   "outputs": [
    {
     "name": "stdout",
     "output_type": "stream",
     "text": [
      "<class 'pandas.core.frame.DataFrame'>\n",
      "RangeIndex: 891 entries, 0 to 890\n",
      "Data columns (total 12 columns):\n",
      " #   Column       Non-Null Count  Dtype  \n",
      "---  ------       --------------  -----  \n",
      " 0   PassengerId  891 non-null    int64  \n",
      " 1   Survived     891 non-null    int64  \n",
      " 2   Pclass       891 non-null    int64  \n",
      " 3   Name         891 non-null    object \n",
      " 4   Sex          891 non-null    object \n",
      " 5   Age          714 non-null    float64\n",
      " 6   SibSp        891 non-null    int64  \n",
      " 7   Parch        891 non-null    int64  \n",
      " 8   Ticket       891 non-null    object \n",
      " 9   Fare         891 non-null    float64\n",
      " 10  Cabin        204 non-null    object \n",
      " 11  Embarked     889 non-null    object \n",
      "dtypes: float64(2), int64(5), object(5)\n",
      "memory usage: 83.7+ KB\n"
     ]
    }
   ],
   "source": [
    "train.info()"
   ]
  },
  {
   "cell_type": "markdown",
   "id": "a27329f8",
   "metadata": {},
   "source": [
    "## pclass"
   ]
  },
  {
   "cell_type": "markdown",
   "id": "a04678ae",
   "metadata": {},
   "source": [
    "클래스별 생존 히스토그램"
   ]
  },
  {
   "cell_type": "code",
   "execution_count": 4,
   "id": "78c1288f",
   "metadata": {},
   "outputs": [
    {
     "name": "stderr",
     "output_type": "stream",
     "text": [
      "C:\\Users\\NaEunSu\\anaconda3\\lib\\site-packages\\seaborn\\axisgrid.py:316: UserWarning: The `size` parameter has been renamed to `height`; please update your code.\n",
      "  warnings.warn(msg, UserWarning)\n"
     ]
    },
    {
     "data": {
      "image/png": "[encoded data removed]",
      "text/plain": [
       "<Figure size 560.96x518.4 with 6 Axes>"
      ]
     },
     "metadata": {
      "needs_background": "light"
     },
     "output_type": "display_data"
    }
   ],
   "source": [
    "grid = sns.FacetGrid(train, row=\"Pclass\", col=\"Survived\", size=2.4, aspect=1.6)\n",
    "grid.map(plt.hist, \"Age\", alpha=0.5, bins=10)\n",
    "grid.add_legend();"
   ]
  },
  {
   "cell_type": "code",
   "execution_count": 5,
   "id": "7ef236a6",
   "metadata": {},
   "outputs": [],
   "source": [
    "for data in combine:\n",
    "    data.Pclass = data.Pclass.astype(\"category\")"
   ]
  },
  {
   "cell_type": "markdown",
   "id": "1a5d169d",
   "metadata": {},
   "source": [
    "## Name"
   ]
  },
  {
   "cell_type": "code",
   "execution_count": 6,
   "id": "96620a9a",
   "metadata": {},
   "outputs": [],
   "source": [
    "pat = re.compile(\"(.+)(, )([\\w]+)(.+)\")\n",
    "# train_appellation = []\n",
    "# test_appellation = []\n",
    "\n",
    "for data in combine:\n",
    "    appellation = []\n",
    "    for i in data.Name.values:\n",
    "        appellation.append(pat.sub(\"\\g<3>\",i))\n",
    "    data[\"호칭\"] = appellation"
   ]
  },
  {
   "cell_type": "markdown",
   "id": "716657cb",
   "metadata": {},
   "source": [
    "호칭과 성별의 관계를 보자"
   ]
  },
  {
   "cell_type": "code",
   "execution_count": 7,
   "id": "88773afa",
   "metadata": {},
   "outputs": [
    {
     "data": {
      "text/html": [
       "<style  type=\"text/css\" >\n",
       "#T_2df23_row0_col0,#T_2df23_row0_col1,#T_2df23_row0_col2,#T_2df23_row0_col3,#T_2df23_row0_col4,#T_2df23_row0_col6,#T_2df23_row0_col7,#T_2df23_row0_col11,#T_2df23_row0_col14,#T_2df23_row0_col15,#T_2df23_row1_col5,#T_2df23_row1_col8,#T_2df23_row1_col9,#T_2df23_row1_col10,#T_2df23_row1_col12,#T_2df23_row1_col13,#T_2df23_row1_col16{\n",
       "            background-color:  #67001f;\n",
       "            color:  #f1f1f1;\n",
       "        }#T_2df23_row0_col5,#T_2df23_row0_col8,#T_2df23_row0_col9,#T_2df23_row0_col10,#T_2df23_row0_col12,#T_2df23_row0_col13,#T_2df23_row0_col16,#T_2df23_row1_col0,#T_2df23_row1_col1,#T_2df23_row1_col2,#T_2df23_row1_col3,#T_2df23_row1_col4,#T_2df23_row1_col6,#T_2df23_row1_col7,#T_2df23_row1_col11,#T_2df23_row1_col14,#T_2df23_row1_col15{\n",
       "            background-color:  #053061;\n",
       "            color:  #f1f1f1;\n",
       "        }</style><table id=\"T_2df23_\" ><thead>    <tr>        <th class=\"index_name level0\" >호칭</th>        <th class=\"col_heading level0 col0\" >Capt</th>        <th class=\"col_heading level0 col1\" >Col</th>        <th class=\"col_heading level0 col2\" >Don</th>        <th class=\"col_heading level0 col3\" >Dr</th>        <th class=\"col_heading level0 col4\" >Jonkheer</th>        <th class=\"col_heading level0 col5\" >Lady</th>        <th class=\"col_heading level0 col6\" >Major</th>        <th class=\"col_heading level0 col7\" >Master</th>        <th class=\"col_heading level0 col8\" >Miss</th>        <th class=\"col_heading level0 col9\" >Mlle</th>        <th class=\"col_heading level0 col10\" >Mme</th>        <th class=\"col_heading level0 col11\" >Mr</th>        <th class=\"col_heading level0 col12\" >Mrs</th>        <th class=\"col_heading level0 col13\" >Ms</th>        <th class=\"col_heading level0 col14\" >Rev</th>        <th class=\"col_heading level0 col15\" >Sir</th>        <th class=\"col_heading level0 col16\" >the</th>    </tr>    <tr>        <th class=\"index_name level0\" >Sex</th>        <th class=\"blank\" ></th>        <th class=\"blank\" ></th>        <th class=\"blank\" ></th>        <th class=\"blank\" ></th>        <th class=\"blank\" ></th>        <th class=\"blank\" ></th>        <th class=\"blank\" ></th>        <th class=\"blank\" ></th>        <th class=\"blank\" ></th>        <th class=\"blank\" ></th>        <th class=\"blank\" ></th>        <th class=\"blank\" ></th>        <th class=\"blank\" ></th>        <th class=\"blank\" ></th>        <th class=\"blank\" ></th>        <th class=\"blank\" ></th>        <th class=\"blank\" ></th>    </tr></thead><tbody>\n",
       "                <tr>\n",
       "                        <th id=\"T_2df23_level0_row0\" class=\"row_heading level0 row0\" >female</th>\n",
       "                        <td id=\"T_2df23_row0_col0\" class=\"data row0 col0\" >0</td>\n",
       "                        <td id=\"T_2df23_row0_col1\" class=\"data row0 col1\" >0</td>\n",
       "                        <td id=\"T_2df23_row0_col2\" class=\"data row0 col2\" >0</td>\n",
       "                        <td id=\"T_2df23_row0_col3\" class=\"data row0 col3\" >1</td>\n",
       "                        <td id=\"T_2df23_row0_col4\" class=\"data row0 col4\" >0</td>\n",
       "                        <td id=\"T_2df23_row0_col5\" class=\"data row0 col5\" >1</td>\n",
       "                        <td id=\"T_2df23_row0_col6\" class=\"data row0 col6\" >0</td>\n",
       "                        <td id=\"T_2df23_row0_col7\" class=\"data row0 col7\" >0</td>\n",
       "                        <td id=\"T_2df23_row0_col8\" class=\"data row0 col8\" >182</td>\n",
       "                        <td id=\"T_2df23_row0_col9\" class=\"data row0 col9\" >2</td>\n",
       "                        <td id=\"T_2df23_row0_col10\" class=\"data row0 col10\" >1</td>\n",
       "                        <td id=\"T_2df23_row0_col11\" class=\"data row0 col11\" >0</td>\n",
       "                        <td id=\"T_2df23_row0_col12\" class=\"data row0 col12\" >125</td>\n",
       "                        <td id=\"T_2df23_row0_col13\" class=\"data row0 col13\" >1</td>\n",
       "                        <td id=\"T_2df23_row0_col14\" class=\"data row0 col14\" >0</td>\n",
       "                        <td id=\"T_2df23_row0_col15\" class=\"data row0 col15\" >0</td>\n",
       "                        <td id=\"T_2df23_row0_col16\" class=\"data row0 col16\" >1</td>\n",
       "            </tr>\n",
       "            <tr>\n",
       "                        <th id=\"T_2df23_level0_row1\" class=\"row_heading level0 row1\" >male</th>\n",
       "                        <td id=\"T_2df23_row1_col0\" class=\"data row1 col0\" >1</td>\n",
       "                        <td id=\"T_2df23_row1_col1\" class=\"data row1 col1\" >2</td>\n",
       "                        <td id=\"T_2df23_row1_col2\" class=\"data row1 col2\" >1</td>\n",
       "                        <td id=\"T_2df23_row1_col3\" class=\"data row1 col3\" >6</td>\n",
       "                        <td id=\"T_2df23_row1_col4\" class=\"data row1 col4\" >1</td>\n",
       "                        <td id=\"T_2df23_row1_col5\" class=\"data row1 col5\" >0</td>\n",
       "                        <td id=\"T_2df23_row1_col6\" class=\"data row1 col6\" >2</td>\n",
       "                        <td id=\"T_2df23_row1_col7\" class=\"data row1 col7\" >40</td>\n",
       "                        <td id=\"T_2df23_row1_col8\" class=\"data row1 col8\" >0</td>\n",
       "                        <td id=\"T_2df23_row1_col9\" class=\"data row1 col9\" >0</td>\n",
       "                        <td id=\"T_2df23_row1_col10\" class=\"data row1 col10\" >0</td>\n",
       "                        <td id=\"T_2df23_row1_col11\" class=\"data row1 col11\" >517</td>\n",
       "                        <td id=\"T_2df23_row1_col12\" class=\"data row1 col12\" >0</td>\n",
       "                        <td id=\"T_2df23_row1_col13\" class=\"data row1 col13\" >0</td>\n",
       "                        <td id=\"T_2df23_row1_col14\" class=\"data row1 col14\" >6</td>\n",
       "                        <td id=\"T_2df23_row1_col15\" class=\"data row1 col15\" >1</td>\n",
       "                        <td id=\"T_2df23_row1_col16\" class=\"data row1 col16\" >0</td>\n",
       "            </tr>\n",
       "    </tbody></table>"
      ],
      "text/plain": [
       "<pandas.io.formats.style.Styler at 0x2923a7ca760>"
      ]
     },
     "execution_count": 7,
     "metadata": {},
     "output_type": "execute_result"
    }
   ],
   "source": [
    "train_name_sex = pd.crosstab(train[\"호칭\"],train[\"Sex\"]).T\n",
    "train_name_sex.style.background_gradient(cmap='RdBu')"
   ]
  },
  {
   "cell_type": "markdown",
   "id": "cd437fb5",
   "metadata": {},
   "source": [
    "기타 호칭을 etc로 구분하자"
   ]
  },
  {
   "cell_type": "code",
   "execution_count": 8,
   "id": "eaeda2a4",
   "metadata": {},
   "outputs": [
    {
     "data": {
      "text/plain": [
       "Index(['Capt', 'Col', 'Don', 'Dr', 'Jonkheer', 'Lady', 'Major', 'Master',\n",
       "       'Miss', 'Mlle', 'Mme', 'Mr', 'Mrs', 'Ms', 'Rev', 'Sir', 'the'],\n",
       "      dtype='object', name='호칭')"
      ]
     },
     "execution_count": 8,
     "metadata": {},
     "output_type": "execute_result"
    }
   ],
   "source": [
    "train_name_sex.keys()"
   ]
  },
  {
   "cell_type": "code",
   "execution_count": 9,
   "id": "80fa1c29",
   "metadata": {},
   "outputs": [],
   "source": [
    "for data in combine:\n",
    "    data.호칭.replace(['Capt', 'Col', 'Don', 'Dr', 'Jonkheer', 'Lady', 'Major',\n",
    "                       'Rev', 'Sir', 'the',\"Dona\"], \"etc\", inplace=True)\n",
    "    data.호칭.replace({\"Mlle\":\"Miss\", \"Ms\":\"Miss\", \"Mme\":\"Mrs\"}, inplace=True)"
   ]
  },
  {
   "cell_type": "code",
   "execution_count": 10,
   "id": "09fce2f1",
   "metadata": {},
   "outputs": [
    {
     "data": {
      "text/html": [
       "<div>\n",
       "<style scoped>\n",
       "    .dataframe tbody tr th:only-of-type {\n",
       "        vertical-align: middle;\n",
       "    }\n",
       "\n",
       "    .dataframe tbody tr th {\n",
       "        vertical-align: top;\n",
       "    }\n",
       "\n",
       "    .dataframe thead th {\n",
       "        text-align: right;\n",
       "    }\n",
       "</style>\n",
       "<table border=\"1\" class=\"dataframe\">\n",
       "  <thead>\n",
       "    <tr style=\"text-align: right;\">\n",
       "      <th></th>\n",
       "      <th>PassengerId</th>\n",
       "      <th>Survived</th>\n",
       "      <th>Age</th>\n",
       "      <th>SibSp</th>\n",
       "      <th>Parch</th>\n",
       "      <th>Fare</th>\n",
       "    </tr>\n",
       "    <tr>\n",
       "      <th>호칭</th>\n",
       "      <th></th>\n",
       "      <th></th>\n",
       "      <th></th>\n",
       "      <th></th>\n",
       "      <th></th>\n",
       "      <th></th>\n",
       "    </tr>\n",
       "  </thead>\n",
       "  <tbody>\n",
       "    <tr>\n",
       "      <th>Master</th>\n",
       "      <td>414.975000</td>\n",
       "      <td>0.575000</td>\n",
       "      <td>4.574167</td>\n",
       "      <td>2.300000</td>\n",
       "      <td>1.375000</td>\n",
       "      <td>34.703125</td>\n",
       "    </tr>\n",
       "    <tr>\n",
       "      <th>Miss</th>\n",
       "      <td>411.967568</td>\n",
       "      <td>0.702703</td>\n",
       "      <td>21.845638</td>\n",
       "      <td>0.702703</td>\n",
       "      <td>0.540541</td>\n",
       "      <td>43.800092</td>\n",
       "    </tr>\n",
       "    <tr>\n",
       "      <th>Mr</th>\n",
       "      <td>454.499033</td>\n",
       "      <td>0.156673</td>\n",
       "      <td>32.368090</td>\n",
       "      <td>0.288201</td>\n",
       "      <td>0.152805</td>\n",
       "      <td>24.441560</td>\n",
       "    </tr>\n",
       "    <tr>\n",
       "      <th>Mrs</th>\n",
       "      <td>452.500000</td>\n",
       "      <td>0.793651</td>\n",
       "      <td>35.788991</td>\n",
       "      <td>0.690476</td>\n",
       "      <td>0.825397</td>\n",
       "      <td>45.330290</td>\n",
       "    </tr>\n",
       "    <tr>\n",
       "      <th>etc</th>\n",
       "      <td>547.043478</td>\n",
       "      <td>0.347826</td>\n",
       "      <td>45.545455</td>\n",
       "      <td>0.347826</td>\n",
       "      <td>0.086957</td>\n",
       "      <td>37.169748</td>\n",
       "    </tr>\n",
       "  </tbody>\n",
       "</table>\n",
       "</div>"
      ],
      "text/plain": [
       "        PassengerId  Survived        Age     SibSp     Parch       Fare\n",
       "호칭                                                                     \n",
       "Master   414.975000  0.575000   4.574167  2.300000  1.375000  34.703125\n",
       "Miss     411.967568  0.702703  21.845638  0.702703  0.540541  43.800092\n",
       "Mr       454.499033  0.156673  32.368090  0.288201  0.152805  24.441560\n",
       "Mrs      452.500000  0.793651  35.788991  0.690476  0.825397  45.330290\n",
       "etc      547.043478  0.347826  45.545455  0.347826  0.086957  37.169748"
      ]
     },
     "execution_count": 10,
     "metadata": {},
     "output_type": "execute_result"
    }
   ],
   "source": [
    "train.groupby(\"호칭\").mean()"
   ]
  },
  {
   "cell_type": "markdown",
   "id": "331e464f",
   "metadata": {},
   "source": [
    "남자를 나타내는 호칭이 생존률이 제일적다. 어린아이인 Master, 숙녀,부인을 나타내는 Miss,Mrs의 생존률은 높다."
   ]
  },
  {
   "cell_type": "markdown",
   "id": "6772b4cb",
   "metadata": {},
   "source": [
    "호칭의 문자열 데이터를 수치형으로 바꿔주자"
   ]
  },
  {
   "cell_type": "code",
   "execution_count": 11,
   "id": "343c9edc",
   "metadata": {},
   "outputs": [],
   "source": [
    "for data in combine:\n",
    "    data.호칭.replace({\"Master\":0, \"Miss\":1, \"Mr\":2, \"Mrs\":3, \"etc\":4}, inplace=True)"
   ]
  },
  {
   "cell_type": "markdown",
   "id": "c60fda83",
   "metadata": {},
   "source": [
    "### Sex"
   ]
  },
  {
   "cell_type": "markdown",
   "id": "aab6a2b0",
   "metadata": {},
   "source": [
    "Sex열도 문자열이기 때문에 수치형으로 바꿔주자"
   ]
  },
  {
   "cell_type": "code",
   "execution_count": 12,
   "id": "77fd96d0",
   "metadata": {},
   "outputs": [],
   "source": [
    "for data in combine:\n",
    "    data.Sex.replace({\"female\":1,\"male\":0},inplace=True)"
   ]
  },
  {
   "cell_type": "markdown",
   "id": "1ae7d9ab",
   "metadata": {},
   "source": [
    "## SibSp, Parch"
   ]
  },
  {
   "cell_type": "markdown",
   "id": "9983ad17",
   "metadata": {},
   "source": [
    "SibSp: 형제, 배우자의 수\n",
    "\n",
    "Parch: 부모의 수\n",
    "\n",
    "두 컬럼이 나타내는 공통은 가족의 수를 나타내므로 두 컬럼을 합쳐보자"
   ]
  },
  {
   "cell_type": "code",
   "execution_count": 13,
   "id": "9c9cd6de",
   "metadata": {},
   "outputs": [],
   "source": [
    "for data in combine:\n",
    "    data[\"Family_size\"] = data[\"SibSp\"]+data[\"Parch\"]+1 # 1을 더하는 이유는 본인도 넣어주기 위함"
   ]
  },
  {
   "cell_type": "markdown",
   "id": "f7b6cb62",
   "metadata": {},
   "source": [
    "가족의 수에 따른 생존율을 보자"
   ]
  },
  {
   "cell_type": "code",
   "execution_count": 14,
   "id": "a33635b9",
   "metadata": {},
   "outputs": [
    {
     "data": {
      "text/html": [
       "<div>\n",
       "<style scoped>\n",
       "    .dataframe tbody tr th:only-of-type {\n",
       "        vertical-align: middle;\n",
       "    }\n",
       "\n",
       "    .dataframe tbody tr th {\n",
       "        vertical-align: top;\n",
       "    }\n",
       "\n",
       "    .dataframe thead th {\n",
       "        text-align: right;\n",
       "    }\n",
       "</style>\n",
       "<table border=\"1\" class=\"dataframe\">\n",
       "  <thead>\n",
       "    <tr style=\"text-align: right;\">\n",
       "      <th></th>\n",
       "      <th>PassengerId</th>\n",
       "      <th>Survived</th>\n",
       "      <th>Sex</th>\n",
       "      <th>Age</th>\n",
       "      <th>SibSp</th>\n",
       "      <th>Parch</th>\n",
       "      <th>Fare</th>\n",
       "      <th>호칭</th>\n",
       "    </tr>\n",
       "    <tr>\n",
       "      <th>Family_size</th>\n",
       "      <th></th>\n",
       "      <th></th>\n",
       "      <th></th>\n",
       "      <th></th>\n",
       "      <th></th>\n",
       "      <th></th>\n",
       "      <th></th>\n",
       "      <th></th>\n",
       "    </tr>\n",
       "  </thead>\n",
       "  <tbody>\n",
       "    <tr>\n",
       "      <th>1</th>\n",
       "      <td>458.000000</td>\n",
       "      <td>0.303538</td>\n",
       "      <td>0.234637</td>\n",
       "      <td>32.220297</td>\n",
       "      <td>0.000000</td>\n",
       "      <td>0.000000</td>\n",
       "      <td>21.242689</td>\n",
       "      <td>1.906890</td>\n",
       "    </tr>\n",
       "    <tr>\n",
       "      <th>2</th>\n",
       "      <td>412.838509</td>\n",
       "      <td>0.552795</td>\n",
       "      <td>0.540373</td>\n",
       "      <td>31.391511</td>\n",
       "      <td>0.763975</td>\n",
       "      <td>0.236025</td>\n",
       "      <td>49.894129</td>\n",
       "      <td>2.211180</td>\n",
       "    </tr>\n",
       "    <tr>\n",
       "      <th>3</th>\n",
       "      <td>448.352941</td>\n",
       "      <td>0.578431</td>\n",
       "      <td>0.480392</td>\n",
       "      <td>26.035806</td>\n",
       "      <td>0.872549</td>\n",
       "      <td>1.127451</td>\n",
       "      <td>39.692482</td>\n",
       "      <td>1.813725</td>\n",
       "    </tr>\n",
       "    <tr>\n",
       "      <th>4</th>\n",
       "      <td>514.344828</td>\n",
       "      <td>0.724138</td>\n",
       "      <td>0.655172</td>\n",
       "      <td>18.274815</td>\n",
       "      <td>1.344828</td>\n",
       "      <td>1.655172</td>\n",
       "      <td>54.864510</td>\n",
       "      <td>1.689655</td>\n",
       "    </tr>\n",
       "    <tr>\n",
       "      <th>5</th>\n",
       "      <td>367.866667</td>\n",
       "      <td>0.200000</td>\n",
       "      <td>0.800000</td>\n",
       "      <td>20.818182</td>\n",
       "      <td>2.133333</td>\n",
       "      <td>1.866667</td>\n",
       "      <td>58.094453</td>\n",
       "      <td>1.333333</td>\n",
       "    </tr>\n",
       "    <tr>\n",
       "      <th>6</th>\n",
       "      <td>400.136364</td>\n",
       "      <td>0.136364</td>\n",
       "      <td>0.363636</td>\n",
       "      <td>18.409091</td>\n",
       "      <td>2.818182</td>\n",
       "      <td>2.181818</td>\n",
       "      <td>73.722727</td>\n",
       "      <td>1.181818</td>\n",
       "    </tr>\n",
       "    <tr>\n",
       "      <th>7</th>\n",
       "      <td>355.750000</td>\n",
       "      <td>0.333333</td>\n",
       "      <td>0.666667</td>\n",
       "      <td>15.166667</td>\n",
       "      <td>3.250000</td>\n",
       "      <td>2.750000</td>\n",
       "      <td>29.366667</td>\n",
       "      <td>1.166667</td>\n",
       "    </tr>\n",
       "    <tr>\n",
       "      <th>8</th>\n",
       "      <td>393.833333</td>\n",
       "      <td>0.000000</td>\n",
       "      <td>0.333333</td>\n",
       "      <td>15.666667</td>\n",
       "      <td>4.333333</td>\n",
       "      <td>2.666667</td>\n",
       "      <td>46.900000</td>\n",
       "      <td>1.000000</td>\n",
       "    </tr>\n",
       "    <tr>\n",
       "      <th>11</th>\n",
       "      <td>481.714286</td>\n",
       "      <td>0.000000</td>\n",
       "      <td>0.428571</td>\n",
       "      <td>NaN</td>\n",
       "      <td>8.000000</td>\n",
       "      <td>2.000000</td>\n",
       "      <td>69.550000</td>\n",
       "      <td>1.285714</td>\n",
       "    </tr>\n",
       "  </tbody>\n",
       "</table>\n",
       "</div>"
      ],
      "text/plain": [
       "             PassengerId  Survived       Sex        Age     SibSp     Parch  \\\n",
       "Family_size                                                                   \n",
       "1             458.000000  0.303538  0.234637  32.220297  0.000000  0.000000   \n",
       "2             412.838509  0.552795  0.540373  31.391511  0.763975  0.236025   \n",
       "3             448.352941  0.578431  0.480392  26.035806  0.872549  1.127451   \n",
       "4             514.344828  0.724138  0.655172  18.274815  1.344828  1.655172   \n",
       "5             367.866667  0.200000  0.800000  20.818182  2.133333  1.866667   \n",
       "6             400.136364  0.136364  0.363636  18.409091  2.818182  2.181818   \n",
       "7             355.750000  0.333333  0.666667  15.166667  3.250000  2.750000   \n",
       "8             393.833333  0.000000  0.333333  15.666667  4.333333  2.666667   \n",
       "11            481.714286  0.000000  0.428571        NaN  8.000000  2.000000   \n",
       "\n",
       "                  Fare        호칭  \n",
       "Family_size                       \n",
       "1            21.242689  1.906890  \n",
       "2            49.894129  2.211180  \n",
       "3            39.692482  1.813725  \n",
       "4            54.864510  1.689655  \n",
       "5            58.094453  1.333333  \n",
       "6            73.722727  1.181818  \n",
       "7            29.366667  1.166667  \n",
       "8            46.900000  1.000000  \n",
       "11           69.550000  1.285714  "
      ]
     },
     "execution_count": 14,
     "metadata": {},
     "output_type": "execute_result"
    }
   ],
   "source": [
    "train.groupby(\"Family_size\").mean()"
   ]
  },
  {
   "cell_type": "markdown",
   "id": "653817c1",
   "metadata": {},
   "source": [
    "4인가족이하의 생존율이 가장 높고 그 다음은 혼자인 사람 그러고 5인이상인 대가족의 생존율은 낮은것을 확인"
   ]
  },
  {
   "cell_type": "markdown",
   "id": "8ed2cefd",
   "metadata": {},
   "source": [
    "그렇다면 가족의 수를 세가지의 구간으로 나눠서 수치데이터로 바꿔주자"
   ]
  },
  {
   "cell_type": "code",
   "execution_count": 15,
   "id": "66e49107",
   "metadata": {},
   "outputs": [],
   "source": [
    "for data in combine:\n",
    "        data[\"Family_size\"] = np.where(data.Family_size==1, 0,\n",
    "                np.where(data.Family_size<5,1,2))"
   ]
  },
  {
   "cell_type": "code",
   "execution_count": 16,
   "id": "1904c80d",
   "metadata": {},
   "outputs": [
    {
     "data": {
      "text/plain": [
       "0    537\n",
       "1    292\n",
       "2     62\n",
       "Name: Family_size, dtype: int64"
      ]
     },
     "execution_count": 16,
     "metadata": {},
     "output_type": "execute_result"
    }
   ],
   "source": [
    "train.Family_size.value_counts()"
   ]
  },
  {
   "cell_type": "markdown",
   "id": "888b9e24",
   "metadata": {},
   "source": [
    "## age"
   ]
  },
  {
   "cell_type": "code",
   "execution_count": 17,
   "id": "85f1145d",
   "metadata": {},
   "outputs": [],
   "source": [
    "# train.isna().sum()\n",
    "# age의 결측치 177개 확인"
   ]
  },
  {
   "cell_type": "code",
   "execution_count": 18,
   "id": "c9b0ef9a",
   "metadata": {},
   "outputs": [
    {
     "name": "stderr",
     "output_type": "stream",
     "text": [
      "C:\\Users\\NaEunSu\\anaconda3\\lib\\site-packages\\seaborn\\_decorators.py:36: FutureWarning: Pass the following variable as a keyword arg: x. From version 0.12, the only valid positional argument will be `data`, and passing other arguments without an explicit keyword will result in an error or misinterpretation.\n",
      "  warnings.warn(\n"
     ]
    },
    {
     "data": {
      "text/plain": [
       "<AxesSubplot:xlabel='Age'>"
      ]
     },
     "execution_count": 18,
     "metadata": {},
     "output_type": "execute_result"
    },
    {
     "data": {
      "image/png": "[encoded data removed]",
      "text/plain": [
       "<Figure size 432x288 with 1 Axes>"
      ]
     },
     "metadata": {
      "needs_background": "light"
     },
     "output_type": "display_data"
    }
   ],
   "source": [
    "sns.boxplot(train[\"Age\"])"
   ]
  },
  {
   "cell_type": "code",
   "execution_count": 19,
   "id": "7761cba7",
   "metadata": {},
   "outputs": [
    {
     "data": {
      "text/plain": [
       "count    714.000000\n",
       "mean      29.699118\n",
       "std       14.526497\n",
       "min        0.420000\n",
       "25%       20.125000\n",
       "50%       28.000000\n",
       "75%       38.000000\n",
       "max       80.000000\n",
       "Name: Age, dtype: float64"
      ]
     },
     "execution_count": 19,
     "metadata": {},
     "output_type": "execute_result"
    }
   ],
   "source": [
    "train.Age.describe()"
   ]
  },
  {
   "cell_type": "markdown",
   "id": "c9b34aef",
   "metadata": {},
   "source": [
    "대부분의 나이는 20~40사이에 있는것을 확인.\n",
    "\n",
    "우리는 위에서 확인한 호칭에서 나이를 유추할 수 있다. 호칭에 따른 나이의 평균을 살펴보자"
   ]
  },
  {
   "cell_type": "code",
   "execution_count": 20,
   "id": "05c23412",
   "metadata": {},
   "outputs": [
    {
     "data": {
      "text/html": [
       "<div>\n",
       "<style scoped>\n",
       "    .dataframe tbody tr th:only-of-type {\n",
       "        vertical-align: middle;\n",
       "    }\n",
       "\n",
       "    .dataframe tbody tr th {\n",
       "        vertical-align: top;\n",
       "    }\n",
       "\n",
       "    .dataframe thead th {\n",
       "        text-align: right;\n",
       "    }\n",
       "</style>\n",
       "<table border=\"1\" class=\"dataframe\">\n",
       "  <thead>\n",
       "    <tr style=\"text-align: right;\">\n",
       "      <th></th>\n",
       "      <th>Age</th>\n",
       "    </tr>\n",
       "    <tr>\n",
       "      <th>호칭</th>\n",
       "      <th></th>\n",
       "    </tr>\n",
       "  </thead>\n",
       "  <tbody>\n",
       "    <tr>\n",
       "      <th>0</th>\n",
       "      <td>4.574167</td>\n",
       "    </tr>\n",
       "    <tr>\n",
       "      <th>1</th>\n",
       "      <td>21.845638</td>\n",
       "    </tr>\n",
       "    <tr>\n",
       "      <th>2</th>\n",
       "      <td>32.368090</td>\n",
       "    </tr>\n",
       "    <tr>\n",
       "      <th>3</th>\n",
       "      <td>35.788991</td>\n",
       "    </tr>\n",
       "    <tr>\n",
       "      <th>4</th>\n",
       "      <td>45.545455</td>\n",
       "    </tr>\n",
       "  </tbody>\n",
       "</table>\n",
       "</div>"
      ],
      "text/plain": [
       "          Age\n",
       "호칭           \n",
       "0    4.574167\n",
       "1   21.845638\n",
       "2   32.368090\n",
       "3   35.788991\n",
       "4   45.545455"
      ]
     },
     "execution_count": 20,
     "metadata": {},
     "output_type": "execute_result"
    }
   ],
   "source": [
    "train.groupby(\"호칭\").mean()[[\"Age\"]]"
   ]
  },
  {
   "cell_type": "markdown",
   "id": "024a6f82",
   "metadata": {},
   "source": [
    "호칭과 pclass로 구분하여 나이의 평균도 보자"
   ]
  },
  {
   "cell_type": "code",
   "execution_count": 21,
   "id": "5de39449",
   "metadata": {},
   "outputs": [
    {
     "data": {
      "text/html": [
       "<div>\n",
       "<style scoped>\n",
       "    .dataframe tbody tr th:only-of-type {\n",
       "        vertical-align: middle;\n",
       "    }\n",
       "\n",
       "    .dataframe tbody tr th {\n",
       "        vertical-align: top;\n",
       "    }\n",
       "\n",
       "    .dataframe thead th {\n",
       "        text-align: right;\n",
       "    }\n",
       "</style>\n",
       "<table border=\"1\" class=\"dataframe\">\n",
       "  <thead>\n",
       "    <tr style=\"text-align: right;\">\n",
       "      <th></th>\n",
       "      <th></th>\n",
       "      <th>Age</th>\n",
       "    </tr>\n",
       "    <tr>\n",
       "      <th>호칭</th>\n",
       "      <th>Pclass</th>\n",
       "      <th></th>\n",
       "    </tr>\n",
       "  </thead>\n",
       "  <tbody>\n",
       "    <tr>\n",
       "      <th rowspan=\"3\" valign=\"top\">0</th>\n",
       "      <th>1</th>\n",
       "      <td>5.306667</td>\n",
       "    </tr>\n",
       "    <tr>\n",
       "      <th>2</th>\n",
       "      <td>2.258889</td>\n",
       "    </tr>\n",
       "    <tr>\n",
       "      <th>3</th>\n",
       "      <td>5.350833</td>\n",
       "    </tr>\n",
       "    <tr>\n",
       "      <th rowspan=\"3\" valign=\"top\">1</th>\n",
       "      <th>1</th>\n",
       "      <td>29.744681</td>\n",
       "    </tr>\n",
       "    <tr>\n",
       "      <th>2</th>\n",
       "      <td>22.560606</td>\n",
       "    </tr>\n",
       "    <tr>\n",
       "      <th>3</th>\n",
       "      <td>16.123188</td>\n",
       "    </tr>\n",
       "    <tr>\n",
       "      <th rowspan=\"3\" valign=\"top\">2</th>\n",
       "      <th>1</th>\n",
       "      <td>41.580460</td>\n",
       "    </tr>\n",
       "    <tr>\n",
       "      <th>2</th>\n",
       "      <td>32.768293</td>\n",
       "    </tr>\n",
       "    <tr>\n",
       "      <th>3</th>\n",
       "      <td>28.724891</td>\n",
       "    </tr>\n",
       "    <tr>\n",
       "      <th rowspan=\"3\" valign=\"top\">3</th>\n",
       "      <th>1</th>\n",
       "      <td>40.400000</td>\n",
       "    </tr>\n",
       "    <tr>\n",
       "      <th>2</th>\n",
       "      <td>33.682927</td>\n",
       "    </tr>\n",
       "    <tr>\n",
       "      <th>3</th>\n",
       "      <td>33.515152</td>\n",
       "    </tr>\n",
       "    <tr>\n",
       "      <th rowspan=\"3\" valign=\"top\">4</th>\n",
       "      <th>1</th>\n",
       "      <td>47.571429</td>\n",
       "    </tr>\n",
       "    <tr>\n",
       "      <th>2</th>\n",
       "      <td>42.000000</td>\n",
       "    </tr>\n",
       "    <tr>\n",
       "      <th>3</th>\n",
       "      <td>NaN</td>\n",
       "    </tr>\n",
       "  </tbody>\n",
       "</table>\n",
       "</div>"
      ],
      "text/plain": [
       "                 Age\n",
       "호칭 Pclass           \n",
       "0  1        5.306667\n",
       "   2        2.258889\n",
       "   3        5.350833\n",
       "1  1       29.744681\n",
       "   2       22.560606\n",
       "   3       16.123188\n",
       "2  1       41.580460\n",
       "   2       32.768293\n",
       "   3       28.724891\n",
       "3  1       40.400000\n",
       "   2       33.682927\n",
       "   3       33.515152\n",
       "4  1       47.571429\n",
       "   2       42.000000\n",
       "   3             NaN"
      ]
     },
     "execution_count": 21,
     "metadata": {},
     "output_type": "execute_result"
    }
   ],
   "source": [
    "train.groupby([\"호칭\",\"Pclass\"]).mean()[[\"Age\"]]"
   ]
  },
  {
   "cell_type": "code",
   "execution_count": 22,
   "id": "5a8374a5",
   "metadata": {},
   "outputs": [
    {
     "name": "stderr",
     "output_type": "stream",
     "text": [
      "C:\\Users\\NaEunSu\\anaconda3\\lib\\site-packages\\matplotlib\\backends\\backend_agg.py:238: RuntimeWarning: Glyph 54840 missing from current font.\n",
      "  font.set_text(s, 0.0, flags=flags)\n",
      "C:\\Users\\NaEunSu\\anaconda3\\lib\\site-packages\\matplotlib\\backends\\backend_agg.py:238: RuntimeWarning: Glyph 52845 missing from current font.\n",
      "  font.set_text(s, 0.0, flags=flags)\n"
     ]
    },
    {
     "data": {
      "text/plain": [
       "<seaborn.axisgrid.FacetGrid at 0x29240e7fcd0>"
      ]
     },
     "execution_count": 22,
     "metadata": {},
     "output_type": "execute_result"
    },
    {
     "name": "stderr",
     "output_type": "stream",
     "text": [
      "C:\\Users\\NaEunSu\\anaconda3\\lib\\site-packages\\matplotlib\\backends\\backend_agg.py:201: RuntimeWarning: Glyph 54840 missing from current font.\n",
      "  font.set_text(s, 0, flags=flags)\n",
      "C:\\Users\\NaEunSu\\anaconda3\\lib\\site-packages\\matplotlib\\backends\\backend_agg.py:201: RuntimeWarning: Glyph 52845 missing from current font.\n",
      "  font.set_text(s, 0, flags=flags)\n"
     ]
    },
    {
     "data": {
      "image/png": "[encoded data removed]",
      "text/plain": [
       "<Figure size 648x1080 with 15 Axes>"
      ]
     },
     "metadata": {
      "needs_background": "light"
     },
     "output_type": "display_data"
    }
   ],
   "source": [
    "grid = sns.FacetGrid(train, row=\"호칭\",col=\"Pclass\")\n",
    "grid.map(plt.hist, \"Age\", alpha=0.5, bins=10)"
   ]
  },
  {
   "cell_type": "markdown",
   "id": "2eb190ee",
   "metadata": {},
   "source": [
    "pclass가 높을수록 나이의 평균도 높은것을 확인.\n",
    "\n",
    "그런데 pclass3에서 분포가 20~40살에 몰려있으므로 최빈값을 넣어주도록 하자\n",
    "\n",
    "또한 호칭4의 경우 pclass가 3인 사람이 없으므로 호칭 4의경우만 평균치를 넣어주도록하자"
   ]
  },
  {
   "cell_type": "code",
   "execution_count": 23,
   "id": "a35438a1",
   "metadata": {},
   "outputs": [
    {
     "data": {
      "text/plain": [
       "array([[0., 0., 0.],\n",
       "       [0., 0., 0.],\n",
       "       [0., 0., 0.],\n",
       "       [0., 0., 0.],\n",
       "       [0., 0., 0.]])"
      ]
     },
     "execution_count": 23,
     "metadata": {},
     "output_type": "execute_result"
    }
   ],
   "source": [
    "guess_ages = np.zeros((5,3))\n",
    "guess_ages"
   ]
  },
  {
   "cell_type": "code",
   "execution_count": 24,
   "id": "fef7d8a8",
   "metadata": {},
   "outputs": [],
   "source": [
    "for data in combine:\n",
    "    for i in range(0,5):\n",
    "        for j in range(0,3):\n",
    "            if i < 4:\n",
    "                guess_df = data[(data[\"호칭\"]==i) & \\\n",
    "                               (data[\"Pclass\"]==j+1)][\"Age\"].dropna()\n",
    "        #             print(guess_df)\n",
    "                age_guess = guess_df.median()\n",
    "        #             print(age_guess)\n",
    "                guess_ages[i,j] = int(age_guess+0.5)\n",
    "            else:\n",
    "                guess_df = data[data[\"호칭\"]==i][\"Age\"].dropna()\n",
    "                age_guess = guess_df.mean()\n",
    "#                 print(age_guess)\n",
    "                guess_ages[i,j] = int(age_guess+0.5)\n",
    "            \n",
    "    for i in range(0,5):\n",
    "        for j in range(0,3):\n",
    "            data.loc[(data.Age.isna()) & (data[\"호칭\"]==i) & (data.Pclass==j+1),\\\n",
    "                     \"Age\"] = guess_ages[i,j]"
   ]
  },
  {
   "cell_type": "code",
   "execution_count": 25,
   "id": "82925cbb",
   "metadata": {},
   "outputs": [
    {
     "data": {
      "text/plain": [
       "array([[10.,  5.,  7.],\n",
       "       [32., 20., 22.],\n",
       "       [42., 28., 25.],\n",
       "       [48., 29., 28.],\n",
       "       [44., 44., 44.]])"
      ]
     },
     "execution_count": 25,
     "metadata": {},
     "output_type": "execute_result"
    }
   ],
   "source": [
    "guess_ages"
   ]
  },
  {
   "cell_type": "code",
   "execution_count": 26,
   "id": "edcf8010",
   "metadata": {},
   "outputs": [
    {
     "data": {
      "text/plain": [
       "(array([ 58.,  46., 212., 278., 146.,  71.,  45.,  24.,   9.,   2.]),\n",
       " array([ 0.42 ,  8.378, 16.336, 24.294, 32.252, 40.21 , 48.168, 56.126,\n",
       "        64.084, 72.042, 80.   ]),\n",
       " <BarContainer object of 10 artists>)"
      ]
     },
     "execution_count": 26,
     "metadata": {},
     "output_type": "execute_result"
    },
    {
     "data": {
      "image/png": "[encoded data removed]",
      "text/plain": [
       "<Figure size 432x288 with 1 Axes>"
      ]
     },
     "metadata": {
      "needs_background": "light"
     },
     "output_type": "display_data"
    }
   ],
   "source": [
    "plt.hist(train[\"Age\"])"
   ]
  },
  {
   "cell_type": "markdown",
   "id": "209a77d7",
   "metadata": {},
   "source": [
    "age 열을 구간으로 나눠주자"
   ]
  },
  {
   "cell_type": "code",
   "execution_count": 27,
   "id": "fe655c97",
   "metadata": {},
   "outputs": [
    {
     "data": {
      "text/html": [
       "<div>\n",
       "<style scoped>\n",
       "    .dataframe tbody tr th:only-of-type {\n",
       "        vertical-align: middle;\n",
       "    }\n",
       "\n",
       "    .dataframe tbody tr th {\n",
       "        vertical-align: top;\n",
       "    }\n",
       "\n",
       "    .dataframe thead th {\n",
       "        text-align: right;\n",
       "    }\n",
       "</style>\n",
       "<table border=\"1\" class=\"dataframe\">\n",
       "  <thead>\n",
       "    <tr style=\"text-align: right;\">\n",
       "      <th></th>\n",
       "      <th>Survived</th>\n",
       "    </tr>\n",
       "    <tr>\n",
       "      <th>Age_band</th>\n",
       "      <th></th>\n",
       "    </tr>\n",
       "  </thead>\n",
       "  <tbody>\n",
       "    <tr>\n",
       "      <th>(0.34, 16.336]</th>\n",
       "      <td>0.548077</td>\n",
       "    </tr>\n",
       "    <tr>\n",
       "      <th>(16.336, 32.252]</th>\n",
       "      <td>0.336735</td>\n",
       "    </tr>\n",
       "    <tr>\n",
       "      <th>(32.252, 48.168]</th>\n",
       "      <td>0.410138</td>\n",
       "    </tr>\n",
       "    <tr>\n",
       "      <th>(48.168, 64.084]</th>\n",
       "      <td>0.434783</td>\n",
       "    </tr>\n",
       "    <tr>\n",
       "      <th>(64.084, 80.0]</th>\n",
       "      <td>0.090909</td>\n",
       "    </tr>\n",
       "  </tbody>\n",
       "</table>\n",
       "</div>"
      ],
      "text/plain": [
       "                  Survived\n",
       "Age_band                  \n",
       "(0.34, 16.336]    0.548077\n",
       "(16.336, 32.252]  0.336735\n",
       "(32.252, 48.168]  0.410138\n",
       "(48.168, 64.084]  0.434783\n",
       "(64.084, 80.0]    0.090909"
      ]
     },
     "execution_count": 27,
     "metadata": {},
     "output_type": "execute_result"
    }
   ],
   "source": [
    "train[\"Age_band\"] = pd.cut(train[\"Age\"],5)\n",
    "train.groupby(\"Age_band\").mean()[[\"Survived\"]]"
   ]
  },
  {
   "cell_type": "code",
   "execution_count": 28,
   "id": "34986eb2",
   "metadata": {},
   "outputs": [],
   "source": [
    "for data in combine:\n",
    "    data[\"Age\"] = np.where(data[\"Age\"] <= 17, 0,\n",
    "                          np.where(data[\"Age\"]<=32,1,\n",
    "                              np.where(data[\"Age\"]<=48,2,\n",
    "                                      np.where(data[\"Age\"]<=64,3,4))))"
   ]
  },
  {
   "cell_type": "markdown",
   "id": "514bf636",
   "metadata": {},
   "source": [
    "## Fare"
   ]
  },
  {
   "cell_type": "code",
   "execution_count": 29,
   "id": "c8bbf6d1",
   "metadata": {},
   "outputs": [
    {
     "data": {
      "text/plain": [
       "(array([732., 106.,  31.,   2.,  11.,   6.,   0.,   0.,   0.,   3.]),\n",
       " array([  0.     ,  51.23292, 102.46584, 153.69876, 204.93168, 256.1646 ,\n",
       "        307.39752, 358.63044, 409.86336, 461.09628, 512.3292 ]),\n",
       " <BarContainer object of 10 artists>)"
      ]
     },
     "execution_count": 29,
     "metadata": {},
     "output_type": "execute_result"
    },
    {
     "data": {
      "image/png": "[encoded data removed]",
      "text/plain": [
       "<Figure size 432x288 with 1 Axes>"
      ]
     },
     "metadata": {
      "needs_background": "light"
     },
     "output_type": "display_data"
    }
   ],
   "source": [
    "plt.hist(train[\"Fare\"])"
   ]
  },
  {
   "cell_type": "code",
   "execution_count": 30,
   "id": "12d13904",
   "metadata": {},
   "outputs": [
    {
     "name": "stderr",
     "output_type": "stream",
     "text": [
      "C:\\Users\\NaEunSu\\anaconda3\\lib\\site-packages\\seaborn\\axisgrid.py:316: UserWarning: The `size` parameter has been renamed to `height`; please update your code.\n",
      "  warnings.warn(msg, UserWarning)\n"
     ]
    },
    {
     "data": {
      "text/plain": [
       "<seaborn.axisgrid.FacetGrid at 0x29241b62910>"
      ]
     },
     "execution_count": 30,
     "metadata": {},
     "output_type": "execute_result"
    },
    {
     "data": {
      "image/png": "[encoded data removed]",
      "text/plain": [
       "<Figure size 777.6x216 with 3 Axes>"
      ]
     },
     "metadata": {
      "needs_background": "light"
     },
     "output_type": "display_data"
    }
   ],
   "source": [
    "grid = sns.FacetGrid(train, col=\"Pclass\", size= 3, aspect=1.2)\n",
    "grid.map(plt.hist, \"Fare\", alpha=0.5, bins=5)"
   ]
  },
  {
   "cell_type": "code",
   "execution_count": 31,
   "id": "79a5fe43",
   "metadata": {},
   "outputs": [
    {
     "data": {
      "text/plain": [
       "Pclass\n",
       "1    84.154687\n",
       "2    20.662183\n",
       "3    13.675550\n",
       "Name: Fare, dtype: float64"
      ]
     },
     "execution_count": 31,
     "metadata": {},
     "output_type": "execute_result"
    }
   ],
   "source": [
    "train.groupby(\"Pclass\").mean()[\"Fare\"]"
   ]
  },
  {
   "cell_type": "markdown",
   "id": "0b855126",
   "metadata": {},
   "source": [
    "Fare열의 분포도 구간으로 나눠주자"
   ]
  },
  {
   "cell_type": "code",
   "execution_count": 32,
   "id": "fb293e48",
   "metadata": {},
   "outputs": [
    {
     "data": {
      "text/html": [
       "<div>\n",
       "<style scoped>\n",
       "    .dataframe tbody tr th:only-of-type {\n",
       "        vertical-align: middle;\n",
       "    }\n",
       "\n",
       "    .dataframe tbody tr th {\n",
       "        vertical-align: top;\n",
       "    }\n",
       "\n",
       "    .dataframe thead th {\n",
       "        text-align: right;\n",
       "    }\n",
       "</style>\n",
       "<table border=\"1\" class=\"dataframe\">\n",
       "  <thead>\n",
       "    <tr style=\"text-align: right;\">\n",
       "      <th></th>\n",
       "      <th>Survived</th>\n",
       "    </tr>\n",
       "    <tr>\n",
       "      <th>Fare_band</th>\n",
       "      <th></th>\n",
       "    </tr>\n",
       "  </thead>\n",
       "  <tbody>\n",
       "    <tr>\n",
       "      <th>(-0.001, 7.91]</th>\n",
       "      <td>0.197309</td>\n",
       "    </tr>\n",
       "    <tr>\n",
       "      <th>(7.91, 14.454]</th>\n",
       "      <td>0.303571</td>\n",
       "    </tr>\n",
       "    <tr>\n",
       "      <th>(14.454, 31.0]</th>\n",
       "      <td>0.454955</td>\n",
       "    </tr>\n",
       "    <tr>\n",
       "      <th>(31.0, 512.329]</th>\n",
       "      <td>0.581081</td>\n",
       "    </tr>\n",
       "  </tbody>\n",
       "</table>\n",
       "</div>"
      ],
      "text/plain": [
       "                 Survived\n",
       "Fare_band                \n",
       "(-0.001, 7.91]   0.197309\n",
       "(7.91, 14.454]   0.303571\n",
       "(14.454, 31.0]   0.454955\n",
       "(31.0, 512.329]  0.581081"
      ]
     },
     "execution_count": 32,
     "metadata": {},
     "output_type": "execute_result"
    }
   ],
   "source": [
    "train[\"Fare_band\"] = pd.qcut(train.Fare, 4)\n",
    "train.groupby(\"Fare_band\").mean()[[\"Survived\"]]"
   ]
  },
  {
   "cell_type": "markdown",
   "id": "37717e86",
   "metadata": {},
   "source": [
    "구간을 3,4,5 로 나눈결과 4가 적절해보임"
   ]
  },
  {
   "cell_type": "code",
   "execution_count": 33,
   "id": "0d8aa516",
   "metadata": {},
   "outputs": [],
   "source": [
    "for data in combine:\n",
    "    data.Fare = np.where(data.Fare<7.91, 0,\n",
    "                        np.where(data.Fare<14.454, 1,\n",
    "                                np.where(data.Fare<31,2,3)))"
   ]
  },
  {
   "cell_type": "markdown",
   "id": "b33be51e",
   "metadata": {},
   "source": [
    "## Embarked"
   ]
  },
  {
   "cell_type": "markdown",
   "id": "a3228849",
   "metadata": {},
   "source": [
    "train의 Embarked열의 결측치 2개는 최빈값으로 채워주자"
   ]
  },
  {
   "cell_type": "code",
   "execution_count": 34,
   "id": "78b31361",
   "metadata": {},
   "outputs": [],
   "source": [
    "train.Embarked.fillna(train.Embarked.mode()[0],inplace=True)"
   ]
  },
  {
   "cell_type": "markdown",
   "id": "d1ddeb10",
   "metadata": {},
   "source": [
    "Embarked열을 수치형으로 바꿔주자"
   ]
  },
  {
   "cell_type": "code",
   "execution_count": 35,
   "id": "024298bd",
   "metadata": {},
   "outputs": [],
   "source": [
    "for data in combine:\n",
    "    data.Embarked.replace({\"S\":0,\"C\":1,\"Q\":2}, inplace=True)"
   ]
  },
  {
   "cell_type": "markdown",
   "id": "bea25d4b",
   "metadata": {},
   "source": [
    "### 이제 필요없는 컬럼들을 제거하자"
   ]
  },
  {
   "cell_type": "code",
   "execution_count": 36,
   "id": "40fe552a",
   "metadata": {},
   "outputs": [
    {
     "data": {
      "text/html": [
       "<div>\n",
       "<style scoped>\n",
       "    .dataframe tbody tr th:only-of-type {\n",
       "        vertical-align: middle;\n",
       "    }\n",
       "\n",
       "    .dataframe tbody tr th {\n",
       "        vertical-align: top;\n",
       "    }\n",
       "\n",
       "    .dataframe thead th {\n",
       "        text-align: right;\n",
       "    }\n",
       "</style>\n",
       "<table border=\"1\" class=\"dataframe\">\n",
       "  <thead>\n",
       "    <tr style=\"text-align: right;\">\n",
       "      <th></th>\n",
       "      <th>PassengerId</th>\n",
       "      <th>Survived</th>\n",
       "      <th>Pclass</th>\n",
       "      <th>Name</th>\n",
       "      <th>Sex</th>\n",
       "      <th>Age</th>\n",
       "      <th>SibSp</th>\n",
       "      <th>Parch</th>\n",
       "      <th>Ticket</th>\n",
       "      <th>Fare</th>\n",
       "      <th>Cabin</th>\n",
       "      <th>Embarked</th>\n",
       "      <th>호칭</th>\n",
       "      <th>Family_size</th>\n",
       "      <th>Age_band</th>\n",
       "      <th>Fare_band</th>\n",
       "    </tr>\n",
       "  </thead>\n",
       "  <tbody>\n",
       "    <tr>\n",
       "      <th>0</th>\n",
       "      <td>1</td>\n",
       "      <td>0</td>\n",
       "      <td>3</td>\n",
       "      <td>Braund, Mr. Owen Harris</td>\n",
       "      <td>0</td>\n",
       "      <td>1</td>\n",
       "      <td>1</td>\n",
       "      <td>0</td>\n",
       "      <td>A/5 21171</td>\n",
       "      <td>0</td>\n",
       "      <td>NaN</td>\n",
       "      <td>0</td>\n",
       "      <td>2</td>\n",
       "      <td>1</td>\n",
       "      <td>(16.336, 32.252]</td>\n",
       "      <td>(-0.001, 7.91]</td>\n",
       "    </tr>\n",
       "    <tr>\n",
       "      <th>1</th>\n",
       "      <td>2</td>\n",
       "      <td>1</td>\n",
       "      <td>1</td>\n",
       "      <td>Cumings, Mrs. John Bradley (Florence Briggs Th...</td>\n",
       "      <td>1</td>\n",
       "      <td>2</td>\n",
       "      <td>1</td>\n",
       "      <td>0</td>\n",
       "      <td>PC 17599</td>\n",
       "      <td>3</td>\n",
       "      <td>C85</td>\n",
       "      <td>1</td>\n",
       "      <td>3</td>\n",
       "      <td>1</td>\n",
       "      <td>(32.252, 48.168]</td>\n",
       "      <td>(31.0, 512.329]</td>\n",
       "    </tr>\n",
       "    <tr>\n",
       "      <th>2</th>\n",
       "      <td>3</td>\n",
       "      <td>1</td>\n",
       "      <td>3</td>\n",
       "      <td>Heikkinen, Miss. Laina</td>\n",
       "      <td>1</td>\n",
       "      <td>1</td>\n",
       "      <td>0</td>\n",
       "      <td>0</td>\n",
       "      <td>STON/O2. 3101282</td>\n",
       "      <td>1</td>\n",
       "      <td>NaN</td>\n",
       "      <td>0</td>\n",
       "      <td>1</td>\n",
       "      <td>0</td>\n",
       "      <td>(16.336, 32.252]</td>\n",
       "      <td>(7.91, 14.454]</td>\n",
       "    </tr>\n",
       "    <tr>\n",
       "      <th>3</th>\n",
       "      <td>4</td>\n",
       "      <td>1</td>\n",
       "      <td>1</td>\n",
       "      <td>Futrelle, Mrs. Jacques Heath (Lily May Peel)</td>\n",
       "      <td>1</td>\n",
       "      <td>2</td>\n",
       "      <td>1</td>\n",
       "      <td>0</td>\n",
       "      <td>113803</td>\n",
       "      <td>3</td>\n",
       "      <td>C123</td>\n",
       "      <td>0</td>\n",
       "      <td>3</td>\n",
       "      <td>1</td>\n",
       "      <td>(32.252, 48.168]</td>\n",
       "      <td>(31.0, 512.329]</td>\n",
       "    </tr>\n",
       "    <tr>\n",
       "      <th>4</th>\n",
       "      <td>5</td>\n",
       "      <td>0</td>\n",
       "      <td>3</td>\n",
       "      <td>Allen, Mr. William Henry</td>\n",
       "      <td>0</td>\n",
       "      <td>2</td>\n",
       "      <td>0</td>\n",
       "      <td>0</td>\n",
       "      <td>373450</td>\n",
       "      <td>1</td>\n",
       "      <td>NaN</td>\n",
       "      <td>0</td>\n",
       "      <td>2</td>\n",
       "      <td>0</td>\n",
       "      <td>(32.252, 48.168]</td>\n",
       "      <td>(7.91, 14.454]</td>\n",
       "    </tr>\n",
       "  </tbody>\n",
       "</table>\n",
       "</div>"
      ],
      "text/plain": [
       "   PassengerId  Survived Pclass  \\\n",
       "0            1         0      3   \n",
       "1            2         1      1   \n",
       "2            3         1      3   \n",
       "3            4         1      1   \n",
       "4            5         0      3   \n",
       "\n",
       "                                                Name  Sex  Age  SibSp  Parch  \\\n",
       "0                            Braund, Mr. Owen Harris    0    1      1      0   \n",
       "1  Cumings, Mrs. John Bradley (Florence Briggs Th...    1    2      1      0   \n",
       "2                             Heikkinen, Miss. Laina    1    1      0      0   \n",
       "3       Futrelle, Mrs. Jacques Heath (Lily May Peel)    1    2      1      0   \n",
       "4                           Allen, Mr. William Henry    0    2      0      0   \n",
       "\n",
       "             Ticket  Fare Cabin  Embarked  호칭  Family_size          Age_band  \\\n",
       "0         A/5 21171     0   NaN         0   2            1  (16.336, 32.252]   \n",
       "1          PC 17599     3   C85         1   3            1  (32.252, 48.168]   \n",
       "2  STON/O2. 3101282     1   NaN         0   1            0  (16.336, 32.252]   \n",
       "3            113803     3  C123         0   3            1  (32.252, 48.168]   \n",
       "4            373450     1   NaN         0   2            0  (32.252, 48.168]   \n",
       "\n",
       "         Fare_band  \n",
       "0   (-0.001, 7.91]  \n",
       "1  (31.0, 512.329]  \n",
       "2   (7.91, 14.454]  \n",
       "3  (31.0, 512.329]  \n",
       "4   (7.91, 14.454]  "
      ]
     },
     "execution_count": 36,
     "metadata": {},
     "output_type": "execute_result"
    }
   ],
   "source": [
    "train.head()"
   ]
  },
  {
   "cell_type": "code",
   "execution_count": 37,
   "id": "9f6c179e",
   "metadata": {},
   "outputs": [],
   "source": [
    "train.drop([\"PassengerId\",\"Name\",\"Ticket\",\"Cabin\",\"Age_band\",\"Fare_band\"], axis=1, inplace=True)\n",
    "\n",
    "test.drop([\"PassengerId\",\"Name\",\"Ticket\",\"Cabin\"], axis=1, inplace=True)"
   ]
  },
  {
   "cell_type": "code",
   "execution_count": 38,
   "id": "8f6b9b26",
   "metadata": {},
   "outputs": [],
   "source": [
    "train.drop([\"SibSp\",\"Parch\"], axis=1, inplace=True)\n",
    "test.drop([\"SibSp\",\"Parch\"], axis=1, inplace=True)"
   ]
  },
  {
   "cell_type": "code",
   "execution_count": 39,
   "id": "8507b9f2",
   "metadata": {},
   "outputs": [],
   "source": [
    "train = pd.get_dummies(train, columns=[\"Embarked\",\"Family_size\",\"호칭\"])\n",
    "test = pd.get_dummies(test, columns=[\"Embarked\",\"Family_size\",\"호칭\"])"
   ]
  },
  {
   "cell_type": "code",
   "execution_count": 40,
   "id": "b38e1184",
   "metadata": {},
   "outputs": [
    {
     "data": {
      "text/html": [
       "<div>\n",
       "<style scoped>\n",
       "    .dataframe tbody tr th:only-of-type {\n",
       "        vertical-align: middle;\n",
       "    }\n",
       "\n",
       "    .dataframe tbody tr th {\n",
       "        vertical-align: top;\n",
       "    }\n",
       "\n",
       "    .dataframe thead th {\n",
       "        text-align: right;\n",
       "    }\n",
       "</style>\n",
       "<table border=\"1\" class=\"dataframe\">\n",
       "  <thead>\n",
       "    <tr style=\"text-align: right;\">\n",
       "      <th></th>\n",
       "      <th>Survived</th>\n",
       "      <th>Pclass</th>\n",
       "      <th>Sex</th>\n",
       "      <th>Age</th>\n",
       "      <th>Fare</th>\n",
       "      <th>Embarked_0</th>\n",
       "      <th>Embarked_1</th>\n",
       "      <th>Embarked_2</th>\n",
       "      <th>Family_size_0</th>\n",
       "      <th>Family_size_1</th>\n",
       "      <th>Family_size_2</th>\n",
       "      <th>호칭_0</th>\n",
       "      <th>호칭_1</th>\n",
       "      <th>호칭_2</th>\n",
       "      <th>호칭_3</th>\n",
       "      <th>호칭_4</th>\n",
       "    </tr>\n",
       "  </thead>\n",
       "  <tbody>\n",
       "    <tr>\n",
       "      <th>0</th>\n",
       "      <td>0</td>\n",
       "      <td>3</td>\n",
       "      <td>0</td>\n",
       "      <td>1</td>\n",
       "      <td>0</td>\n",
       "      <td>1</td>\n",
       "      <td>0</td>\n",
       "      <td>0</td>\n",
       "      <td>0</td>\n",
       "      <td>1</td>\n",
       "      <td>0</td>\n",
       "      <td>0</td>\n",
       "      <td>0</td>\n",
       "      <td>1</td>\n",
       "      <td>0</td>\n",
       "      <td>0</td>\n",
       "    </tr>\n",
       "    <tr>\n",
       "      <th>1</th>\n",
       "      <td>1</td>\n",
       "      <td>1</td>\n",
       "      <td>1</td>\n",
       "      <td>2</td>\n",
       "      <td>3</td>\n",
       "      <td>0</td>\n",
       "      <td>1</td>\n",
       "      <td>0</td>\n",
       "      <td>0</td>\n",
       "      <td>1</td>\n",
       "      <td>0</td>\n",
       "      <td>0</td>\n",
       "      <td>0</td>\n",
       "      <td>0</td>\n",
       "      <td>1</td>\n",
       "      <td>0</td>\n",
       "    </tr>\n",
       "    <tr>\n",
       "      <th>2</th>\n",
       "      <td>1</td>\n",
       "      <td>3</td>\n",
       "      <td>1</td>\n",
       "      <td>1</td>\n",
       "      <td>1</td>\n",
       "      <td>1</td>\n",
       "      <td>0</td>\n",
       "      <td>0</td>\n",
       "      <td>1</td>\n",
       "      <td>0</td>\n",
       "      <td>0</td>\n",
       "      <td>0</td>\n",
       "      <td>1</td>\n",
       "      <td>0</td>\n",
       "      <td>0</td>\n",
       "      <td>0</td>\n",
       "    </tr>\n",
       "    <tr>\n",
       "      <th>3</th>\n",
       "      <td>1</td>\n",
       "      <td>1</td>\n",
       "      <td>1</td>\n",
       "      <td>2</td>\n",
       "      <td>3</td>\n",
       "      <td>1</td>\n",
       "      <td>0</td>\n",
       "      <td>0</td>\n",
       "      <td>0</td>\n",
       "      <td>1</td>\n",
       "      <td>0</td>\n",
       "      <td>0</td>\n",
       "      <td>0</td>\n",
       "      <td>0</td>\n",
       "      <td>1</td>\n",
       "      <td>0</td>\n",
       "    </tr>\n",
       "    <tr>\n",
       "      <th>4</th>\n",
       "      <td>0</td>\n",
       "      <td>3</td>\n",
       "      <td>0</td>\n",
       "      <td>2</td>\n",
       "      <td>1</td>\n",
       "      <td>1</td>\n",
       "      <td>0</td>\n",
       "      <td>0</td>\n",
       "      <td>1</td>\n",
       "      <td>0</td>\n",
       "      <td>0</td>\n",
       "      <td>0</td>\n",
       "      <td>0</td>\n",
       "      <td>1</td>\n",
       "      <td>0</td>\n",
       "      <td>0</td>\n",
       "    </tr>\n",
       "    <tr>\n",
       "      <th>...</th>\n",
       "      <td>...</td>\n",
       "      <td>...</td>\n",
       "      <td>...</td>\n",
       "      <td>...</td>\n",
       "      <td>...</td>\n",
       "      <td>...</td>\n",
       "      <td>...</td>\n",
       "      <td>...</td>\n",
       "      <td>...</td>\n",
       "      <td>...</td>\n",
       "      <td>...</td>\n",
       "      <td>...</td>\n",
       "      <td>...</td>\n",
       "      <td>...</td>\n",
       "      <td>...</td>\n",
       "      <td>...</td>\n",
       "    </tr>\n",
       "    <tr>\n",
       "      <th>886</th>\n",
       "      <td>0</td>\n",
       "      <td>2</td>\n",
       "      <td>0</td>\n",
       "      <td>1</td>\n",
       "      <td>1</td>\n",
       "      <td>1</td>\n",
       "      <td>0</td>\n",
       "      <td>0</td>\n",
       "      <td>1</td>\n",
       "      <td>0</td>\n",
       "      <td>0</td>\n",
       "      <td>0</td>\n",
       "      <td>0</td>\n",
       "      <td>0</td>\n",
       "      <td>0</td>\n",
       "      <td>1</td>\n",
       "    </tr>\n",
       "    <tr>\n",
       "      <th>887</th>\n",
       "      <td>1</td>\n",
       "      <td>1</td>\n",
       "      <td>1</td>\n",
       "      <td>1</td>\n",
       "      <td>2</td>\n",
       "      <td>1</td>\n",
       "      <td>0</td>\n",
       "      <td>0</td>\n",
       "      <td>1</td>\n",
       "      <td>0</td>\n",
       "      <td>0</td>\n",
       "      <td>0</td>\n",
       "      <td>1</td>\n",
       "      <td>0</td>\n",
       "      <td>0</td>\n",
       "      <td>0</td>\n",
       "    </tr>\n",
       "    <tr>\n",
       "      <th>888</th>\n",
       "      <td>0</td>\n",
       "      <td>3</td>\n",
       "      <td>1</td>\n",
       "      <td>1</td>\n",
       "      <td>2</td>\n",
       "      <td>1</td>\n",
       "      <td>0</td>\n",
       "      <td>0</td>\n",
       "      <td>0</td>\n",
       "      <td>1</td>\n",
       "      <td>0</td>\n",
       "      <td>0</td>\n",
       "      <td>1</td>\n",
       "      <td>0</td>\n",
       "      <td>0</td>\n",
       "      <td>0</td>\n",
       "    </tr>\n",
       "    <tr>\n",
       "      <th>889</th>\n",
       "      <td>1</td>\n",
       "      <td>1</td>\n",
       "      <td>0</td>\n",
       "      <td>1</td>\n",
       "      <td>2</td>\n",
       "      <td>0</td>\n",
       "      <td>1</td>\n",
       "      <td>0</td>\n",
       "      <td>1</td>\n",
       "      <td>0</td>\n",
       "      <td>0</td>\n",
       "      <td>0</td>\n",
       "      <td>0</td>\n",
       "      <td>1</td>\n",
       "      <td>0</td>\n",
       "      <td>0</td>\n",
       "    </tr>\n",
       "    <tr>\n",
       "      <th>890</th>\n",
       "      <td>0</td>\n",
       "      <td>3</td>\n",
       "      <td>0</td>\n",
       "      <td>1</td>\n",
       "      <td>0</td>\n",
       "      <td>0</td>\n",
       "      <td>0</td>\n",
       "      <td>1</td>\n",
       "      <td>1</td>\n",
       "      <td>0</td>\n",
       "      <td>0</td>\n",
       "      <td>0</td>\n",
       "      <td>0</td>\n",
       "      <td>1</td>\n",
       "      <td>0</td>\n",
       "      <td>0</td>\n",
       "    </tr>\n",
       "  </tbody>\n",
       "</table>\n",
       "<p>891 rows × 16 columns</p>\n",
       "</div>"
      ],
      "text/plain": [
       "     Survived Pclass  Sex  Age  Fare  Embarked_0  Embarked_1  Embarked_2  \\\n",
       "0           0      3    0    1     0           1           0           0   \n",
       "1           1      1    1    2     3           0           1           0   \n",
       "2           1      3    1    1     1           1           0           0   \n",
       "3           1      1    1    2     3           1           0           0   \n",
       "4           0      3    0    2     1           1           0           0   \n",
       "..        ...    ...  ...  ...   ...         ...         ...         ...   \n",
       "886         0      2    0    1     1           1           0           0   \n",
       "887         1      1    1    1     2           1           0           0   \n",
       "888         0      3    1    1     2           1           0           0   \n",
       "889         1      1    0    1     2           0           1           0   \n",
       "890         0      3    0    1     0           0           0           1   \n",
       "\n",
       "     Family_size_0  Family_size_1  Family_size_2  호칭_0  호칭_1  호칭_2  호칭_3  호칭_4  \n",
       "0                0              1              0     0     0     1     0     0  \n",
       "1                0              1              0     0     0     0     1     0  \n",
       "2                1              0              0     0     1     0     0     0  \n",
       "3                0              1              0     0     0     0     1     0  \n",
       "4                1              0              0     0     0     1     0     0  \n",
       "..             ...            ...            ...   ...   ...   ...   ...   ...  \n",
       "886              1              0              0     0     0     0     0     1  \n",
       "887              1              0              0     0     1     0     0     0  \n",
       "888              0              1              0     0     1     0     0     0  \n",
       "889              1              0              0     0     0     1     0     0  \n",
       "890              1              0              0     0     0     1     0     0  \n",
       "\n",
       "[891 rows x 16 columns]"
      ]
     },
     "execution_count": 40,
     "metadata": {},
     "output_type": "execute_result"
    }
   ],
   "source": [
    "train"
   ]
  },
  {
   "cell_type": "code",
   "execution_count": 42,
   "id": "bd3e2350",
   "metadata": {},
   "outputs": [
    {
     "data": {
      "text/plain": [
       "((891, 16), (418, 15))"
      ]
     },
     "execution_count": 42,
     "metadata": {},
     "output_type": "execute_result"
    }
   ],
   "source": [
    "train.shape, test.shape"
   ]
  },
  {
   "cell_type": "code",
   "execution_count": 43,
   "id": "77607b9d",
   "metadata": {},
   "outputs": [
    {
     "data": {
      "text/html": [
       "<div>\n",
       "<style scoped>\n",
       "    .dataframe tbody tr th:only-of-type {\n",
       "        vertical-align: middle;\n",
       "    }\n",
       "\n",
       "    .dataframe tbody tr th {\n",
       "        vertical-align: top;\n",
       "    }\n",
       "\n",
       "    .dataframe thead th {\n",
       "        text-align: right;\n",
       "    }\n",
       "</style>\n",
       "<table border=\"1\" class=\"dataframe\">\n",
       "  <thead>\n",
       "    <tr style=\"text-align: right;\">\n",
       "      <th></th>\n",
       "      <th>Survived</th>\n",
       "      <th>Pclass</th>\n",
       "      <th>Sex</th>\n",
       "      <th>Age</th>\n",
       "      <th>Fare</th>\n",
       "      <th>Embarked_0</th>\n",
       "      <th>Embarked_1</th>\n",
       "      <th>Embarked_2</th>\n",
       "      <th>Family_size_0</th>\n",
       "      <th>Family_size_1</th>\n",
       "      <th>Family_size_2</th>\n",
       "      <th>호칭_0</th>\n",
       "      <th>호칭_1</th>\n",
       "      <th>호칭_2</th>\n",
       "      <th>호칭_3</th>\n",
       "      <th>호칭_4</th>\n",
       "    </tr>\n",
       "  </thead>\n",
       "  <tbody>\n",
       "    <tr>\n",
       "      <th>0</th>\n",
       "      <td>0</td>\n",
       "      <td>3</td>\n",
       "      <td>0</td>\n",
       "      <td>1</td>\n",
       "      <td>0</td>\n",
       "      <td>1</td>\n",
       "      <td>0</td>\n",
       "      <td>0</td>\n",
       "      <td>0</td>\n",
       "      <td>1</td>\n",
       "      <td>0</td>\n",
       "      <td>0</td>\n",
       "      <td>0</td>\n",
       "      <td>1</td>\n",
       "      <td>0</td>\n",
       "      <td>0</td>\n",
       "    </tr>\n",
       "    <tr>\n",
       "      <th>1</th>\n",
       "      <td>1</td>\n",
       "      <td>1</td>\n",
       "      <td>1</td>\n",
       "      <td>2</td>\n",
       "      <td>3</td>\n",
       "      <td>0</td>\n",
       "      <td>1</td>\n",
       "      <td>0</td>\n",
       "      <td>0</td>\n",
       "      <td>1</td>\n",
       "      <td>0</td>\n",
       "      <td>0</td>\n",
       "      <td>0</td>\n",
       "      <td>0</td>\n",
       "      <td>1</td>\n",
       "      <td>0</td>\n",
       "    </tr>\n",
       "    <tr>\n",
       "      <th>2</th>\n",
       "      <td>1</td>\n",
       "      <td>3</td>\n",
       "      <td>1</td>\n",
       "      <td>1</td>\n",
       "      <td>1</td>\n",
       "      <td>1</td>\n",
       "      <td>0</td>\n",
       "      <td>0</td>\n",
       "      <td>1</td>\n",
       "      <td>0</td>\n",
       "      <td>0</td>\n",
       "      <td>0</td>\n",
       "      <td>1</td>\n",
       "      <td>0</td>\n",
       "      <td>0</td>\n",
       "      <td>0</td>\n",
       "    </tr>\n",
       "    <tr>\n",
       "      <th>3</th>\n",
       "      <td>1</td>\n",
       "      <td>1</td>\n",
       "      <td>1</td>\n",
       "      <td>2</td>\n",
       "      <td>3</td>\n",
       "      <td>1</td>\n",
       "      <td>0</td>\n",
       "      <td>0</td>\n",
       "      <td>0</td>\n",
       "      <td>1</td>\n",
       "      <td>0</td>\n",
       "      <td>0</td>\n",
       "      <td>0</td>\n",
       "      <td>0</td>\n",
       "      <td>1</td>\n",
       "      <td>0</td>\n",
       "    </tr>\n",
       "    <tr>\n",
       "      <th>4</th>\n",
       "      <td>0</td>\n",
       "      <td>3</td>\n",
       "      <td>0</td>\n",
       "      <td>2</td>\n",
       "      <td>1</td>\n",
       "      <td>1</td>\n",
       "      <td>0</td>\n",
       "      <td>0</td>\n",
       "      <td>1</td>\n",
       "      <td>0</td>\n",
       "      <td>0</td>\n",
       "      <td>0</td>\n",
       "      <td>0</td>\n",
       "      <td>1</td>\n",
       "      <td>0</td>\n",
       "      <td>0</td>\n",
       "    </tr>\n",
       "  </tbody>\n",
       "</table>\n",
       "</div>"
      ],
      "text/plain": [
       "   Survived Pclass  Sex  Age  Fare  Embarked_0  Embarked_1  Embarked_2  \\\n",
       "0         0      3    0    1     0           1           0           0   \n",
       "1         1      1    1    2     3           0           1           0   \n",
       "2         1      3    1    1     1           1           0           0   \n",
       "3         1      1    1    2     3           1           0           0   \n",
       "4         0      3    0    2     1           1           0           0   \n",
       "\n",
       "   Family_size_0  Family_size_1  Family_size_2  호칭_0  호칭_1  호칭_2  호칭_3  호칭_4  \n",
       "0              0              1              0     0     0     1     0     0  \n",
       "1              0              1              0     0     0     0     1     0  \n",
       "2              1              0              0     0     1     0     0     0  \n",
       "3              0              1              0     0     0     0     1     0  \n",
       "4              1              0              0     0     0     1     0     0  "
      ]
     },
     "execution_count": 43,
     "metadata": {},
     "output_type": "execute_result"
    }
   ],
   "source": [
    "train.head()"
   ]
  },
  {
   "cell_type": "markdown",
   "id": "7c149cb4",
   "metadata": {},
   "source": [
    "## Modeling"
   ]
  },
  {
   "cell_type": "code",
   "execution_count": 44,
   "id": "36ca0974",
   "metadata": {},
   "outputs": [],
   "source": [
    "X = train.drop(\"Survived\",axis=1)\n",
    "y = train[\"Survived\"]"
   ]
  },
  {
   "cell_type": "code",
   "execution_count": 166,
   "id": "fc2f1af4",
   "metadata": {
    "scrolled": true
   },
   "outputs": [
    {
     "data": {
      "text/plain": [
       "((891, 15), (891,), (418, 15))"
      ]
     },
     "execution_count": 166,
     "metadata": {},
     "output_type": "execute_result"
    }
   ],
   "source": [
    "X.shape, y.shape, test.shape"
   ]
  },
  {
   "cell_type": "code",
   "execution_count": 339,
   "id": "939ad1b4",
   "metadata": {},
   "outputs": [],
   "source": [
    "X_train, X_test, y_train, y_test = train_test_split(X,y,test_size=0.2, random_state=1001)"
   ]
  },
  {
   "cell_type": "code",
   "execution_count": 340,
   "id": "d87492e5",
   "metadata": {},
   "outputs": [],
   "source": [
    "kfold = KFold(n_splits=10, shuffle=True, random_state=1001)"
   ]
  },
  {
   "cell_type": "markdown",
   "id": "8fe65137",
   "metadata": {},
   "source": [
    "### 교차검증"
   ]
  },
  {
   "cell_type": "code",
   "execution_count": 341,
   "id": "dd8a5ba9",
   "metadata": {},
   "outputs": [],
   "source": [
    "model_list = [KNeighborsClassifier(),DecisionTreeClassifier(),RandomForestClassifier(),AdaBoostClassifier()]"
   ]
  },
  {
   "cell_type": "code",
   "execution_count": 342,
   "id": "f7abb36a",
   "metadata": {},
   "outputs": [],
   "source": [
    "def cross_score(model, X_train, y_train):\n",
    "    scores = []\n",
    "    for i in range(10):\n",
    "        score = cross_val_score(model, X_train, y_train, cv=kfold, scoring=\"accuracy\")\n",
    "        scores.append(score.mean())\n",
    "    return scores"
   ]
  },
  {
   "cell_type": "code",
   "execution_count": 343,
   "id": "ece264e2",
   "metadata": {},
   "outputs": [
    {
     "name": "stdout",
     "output_type": "stream",
     "text": [
      "0.8159550561797753 KNeighborsClassifier()\n",
      "0.8058676654182273 DecisionTreeClassifier()\n",
      "0.8130274656679152 RandomForestClassifier()\n",
      "0.8193008739076154 AdaBoostClassifier()\n"
     ]
    }
   ],
   "source": [
    "for i in model_list:\n",
    "    print(np.mean(cross_score(i,X,y)), i)"
   ]
  },
  {
   "cell_type": "markdown",
   "id": "4a9d613f",
   "metadata": {},
   "source": [
    "Adaboost, RandomForest의 정확도가 제일 높아보인다."
   ]
  },
  {
   "cell_type": "markdown",
   "id": "dcf44c00",
   "metadata": {},
   "source": [
    "### 파리미터 튜닝"
   ]
  },
  {
   "cell_type": "markdown",
   "id": "a54f53fe",
   "metadata": {},
   "source": [
    "random forest"
   ]
  },
  {
   "cell_type": "code",
   "execution_count": 381,
   "id": "992a873c",
   "metadata": {},
   "outputs": [],
   "source": [
    "rf_model = RandomForestClassifier()\n",
    "\n",
    "rf_par_grid = {\"n_estimators\":[100,300],\n",
    "               \"\"\n",
    "               \"max_features\": [1, 3, 5],\n",
    "              \"min_samples_split\":[2,5,7],\n",
    "              \"min_samples_leaf\":[1,2,4]}"
   ]
  },
  {
   "cell_type": "code",
   "execution_count": 404,
   "id": "1bff1e4d",
   "metadata": {},
   "outputs": [
    {
     "name": "stdout",
     "output_type": "stream",
     "text": [
      "Fitting 10 folds for each of 54 candidates, totalling 540 fits\n"
     ]
    },
    {
     "data": {
      "text/plain": [
       "0.83167290886392"
      ]
     },
     "execution_count": 404,
     "metadata": {},
     "output_type": "execute_result"
    }
   ],
   "source": [
    "gsRFC = GridSearchCV(rf_model, param_grid=rf_par_grid, cv = 10, scoring=\"accuracy\",n_jobs= -1, verbose = 1)\n",
    "gsRFC.fit(X,y)\n",
    "\n",
    "RFC_best = gsRFC.best_estimator_\n",
    "gsRFC.best_score_"
   ]
  },
  {
   "cell_type": "code",
   "execution_count": 409,
   "id": "a7f0568b",
   "metadata": {},
   "outputs": [
    {
     "data": {
      "text/plain": [
       "RandomForestClassifier(max_features=5, min_samples_leaf=4, min_samples_split=5,\n",
       "                       n_estimators=300)"
      ]
     },
     "execution_count": 409,
     "metadata": {},
     "output_type": "execute_result"
    }
   ],
   "source": [
    "RFC_best"
   ]
  },
  {
   "cell_type": "code",
   "execution_count": 406,
   "id": "2ee21349",
   "metadata": {},
   "outputs": [
    {
     "data": {
      "text/plain": [
       "{'max_features': 5,\n",
       " 'min_samples_leaf': 4,\n",
       " 'min_samples_split': 5,\n",
       " 'n_estimators': 300}"
      ]
     },
     "execution_count": 406,
     "metadata": {},
     "output_type": "execute_result"
    }
   ],
   "source": [
    "gsRFC.best_params_"
   ]
  },
  {
   "cell_type": "code",
   "execution_count": 407,
   "id": "50bdfb33",
   "metadata": {},
   "outputs": [
    {
     "data": {
      "text/plain": [
       "0.8324022346368715"
      ]
     },
     "execution_count": 407,
     "metadata": {},
     "output_type": "execute_result"
    }
   ],
   "source": [
    "accuracy_score(gsRFC.predict(X_test),y_test)"
   ]
  },
  {
   "cell_type": "code",
   "execution_count": 410,
   "id": "a0a2e917",
   "metadata": {},
   "outputs": [],
   "source": [
    "rf_pred = RFC_best.predict(test)"
   ]
  },
  {
   "cell_type": "code",
   "execution_count": 411,
   "id": "74f0ad7e",
   "metadata": {},
   "outputs": [],
   "source": [
    "test2[\"Survived\"] = rf_pred\n",
    "sub = test2[[\"PassengerId\",\"Survived\"]]\n",
    "sub.to_csv(\"titanic_1004_rf.csv\",index=False)"
   ]
  },
  {
   "cell_type": "markdown",
   "id": "7296f8de",
   "metadata": {},
   "source": [
    "adaboost"
   ]
  },
  {
   "cell_type": "code",
   "execution_count": 356,
   "id": "eb85438c",
   "metadata": {},
   "outputs": [],
   "source": [
    "DTC = DecisionTreeClassifier()\n",
    "adaDTC = AdaBoostClassifier(DTC, random_state=1001)\n",
    "\n",
    "ada_param_grid = {\"base_estimator__criterion\" : [\"gini\", \"entropy\"],\n",
    "              \"base_estimator__splitter\" :   [\"best\", \"random\"],\n",
    "              \"algorithm\" : [\"SAMME\",\"SAMME.R\"],\n",
    "              \"n_estimators\" :[5,10],\n",
    "              \"learning_rate\":  [0.0001, 0.001, 0.01, 0.1, 0.2, 0.3,1.5]}"
   ]
  },
  {
   "cell_type": "code",
   "execution_count": 359,
   "id": "de67f8aa",
   "metadata": {},
   "outputs": [
    {
     "name": "stdout",
     "output_type": "stream",
     "text": [
      "Fitting 10 folds for each of 112 candidates, totalling 1120 fits\n"
     ]
    },
    {
     "data": {
      "text/plain": [
       "0.8215766823161189"
      ]
     },
     "execution_count": 359,
     "metadata": {},
     "output_type": "execute_result"
    }
   ],
   "source": [
    "gsadaDTC = GridSearchCV(adaDTC,param_grid = ada_param_grid, cv=10, scoring=\"accuracy\", n_jobs= 4, verbose = 1)\n",
    "\n",
    "gsadaDTC.fit(X_train,y_train)\n",
    "ADA_best = gsadaDTC.best_estimator_\n",
    "gsadaDTC.best_score_"
   ]
  },
  {
   "cell_type": "code",
   "execution_count": 360,
   "id": "ab872596",
   "metadata": {},
   "outputs": [
    {
     "data": {
      "text/plain": [
       "{'algorithm': 'SAMME',\n",
       " 'base_estimator__criterion': 'entropy',\n",
       " 'base_estimator__splitter': 'random',\n",
       " 'learning_rate': 1.5,\n",
       " 'n_estimators': 10}"
      ]
     },
     "execution_count": 360,
     "metadata": {},
     "output_type": "execute_result"
    }
   ],
   "source": [
    "gsadaDTC.best_params_"
   ]
  },
  {
   "cell_type": "code",
   "execution_count": 361,
   "id": "cc7cf813",
   "metadata": {},
   "outputs": [
    {
     "data": {
      "text/plain": [
       "0.770949720670391"
      ]
     },
     "execution_count": 361,
     "metadata": {},
     "output_type": "execute_result"
    }
   ],
   "source": [
    "accuracy_score(gsadaDTC.predict(X_test),y_test)"
   ]
  },
  {
   "cell_type": "code",
   "execution_count": 213,
   "id": "3440d165",
   "metadata": {},
   "outputs": [],
   "source": [
    "ada_pred = ADA_best.predict(test)"
   ]
  },
  {
   "cell_type": "markdown",
   "id": "cbd3f285",
   "metadata": {},
   "source": [
    "### knn"
   ]
  },
  {
   "cell_type": "code",
   "execution_count": 299,
   "id": "5b3c12f3",
   "metadata": {},
   "outputs": [
    {
     "data": {
      "text/plain": [
       "[[0.7968913857677903, 3],\n",
       " [0.8148689138576779, 5],\n",
       " [0.811498127340824, 7],\n",
       " [0.8227465667915107, 9],\n",
       " [0.8238701622971286, 11],\n",
       " [0.8182397003745319, 13],\n",
       " [0.826079900124844, 15],\n",
       " [0.826067415730337, 17],\n",
       " [0.8226966292134831, 19]]"
      ]
     },
     "execution_count": 299,
     "metadata": {},
     "output_type": "execute_result"
    }
   ],
   "source": [
    "scores= []\n",
    "for k in range(3,20,2):\n",
    "    score = cross_val_score(KNeighborsClassifier(n_neighbors=k), X,y, cv=10, scoring=\"accuracy\")\n",
    "    scores.append([score.mean(),k])\n",
    "scores"
   ]
  },
  {
   "cell_type": "code",
   "execution_count": 319,
   "id": "82ef7d96",
   "metadata": {},
   "outputs": [
    {
     "data": {
      "text/plain": [
       "0.8156424581005587"
      ]
     },
     "execution_count": 319,
     "metadata": {},
     "output_type": "execute_result"
    }
   ],
   "source": [
    "knn_model = KNeighborsClassifier(n_neighbors=5)\n",
    "knn_model.fit(X_train, y_train)\n",
    "accuracy_score(knn_model.predict(X_test),y_test)"
   ]
  },
  {
   "cell_type": "code",
   "execution_count": 386,
   "id": "6271803f",
   "metadata": {},
   "outputs": [],
   "source": [
    "pred = knn_model.predict(test)\n",
    "test2[\"Survived\"] = pred\n",
    "sub = test2[[\"PassengerId\",\"Survived\"]]\n",
    "sub.to_csv(\"titanic_1004_just.csv\",index=False)"
   ]
  },
  {
   "cell_type": "markdown",
   "id": "33b789bb",
   "metadata": {},
   "source": [
    "decisionTree"
   ]
  },
  {
   "cell_type": "code",
   "execution_count": 391,
   "id": "fddc466a",
   "metadata": {},
   "outputs": [],
   "source": [
    "dt_model = DecisionTreeClassifier()\n",
    "\n",
    "dt_par_grid = {\"max_depth\":[5,6,7,8],\n",
    "              \"min_samples_split\":[2,5,7],\n",
    "              \"min_samples_leaf\":[1,2,4]}"
   ]
  },
  {
   "cell_type": "code",
   "execution_count": 397,
   "id": "d860759d",
   "metadata": {},
   "outputs": [
    {
     "name": "stdout",
     "output_type": "stream",
     "text": [
      "Fitting 10 folds for each of 36 candidates, totalling 360 fits\n"
     ]
    },
    {
     "data": {
      "text/plain": [
       "0.8272034956304619"
      ]
     },
     "execution_count": 397,
     "metadata": {},
     "output_type": "execute_result"
    }
   ],
   "source": [
    "gsDT = GridSearchCV(dt_model,param_grid = dt_par_grid, cv=10, scoring=\"accuracy\", n_jobs= -1, verbose = 1)\n",
    "\n",
    "gsDT.fit(X,y)\n",
    "DT_best = gsDT.best_estimator_\n",
    "gsDT.best_score_"
   ]
  },
  {
   "cell_type": "code",
   "execution_count": 398,
   "id": "0e2ce87f",
   "metadata": {},
   "outputs": [
    {
     "data": {
      "text/plain": [
       "{'max_depth': 7, 'min_samples_leaf': 1, 'min_samples_split': 5}"
      ]
     },
     "execution_count": 398,
     "metadata": {},
     "output_type": "execute_result"
    }
   ],
   "source": [
    "gsDT.best_params_"
   ]
  },
  {
   "cell_type": "code",
   "execution_count": 402,
   "id": "da2316a0",
   "metadata": {},
   "outputs": [
    {
     "data": {
      "text/plain": [
       "0.8212290502793296"
      ]
     },
     "execution_count": 402,
     "metadata": {},
     "output_type": "execute_result"
    }
   ],
   "source": [
    "accuracy_score(gsDT.predict(X_test),y_test)"
   ]
  },
  {
   "cell_type": "code",
   "execution_count": 403,
   "id": "5cbb2209",
   "metadata": {},
   "outputs": [
    {
     "data": {
      "text/plain": [
       "0.770949720670391"
      ]
     },
     "execution_count": 403,
     "metadata": {},
     "output_type": "execute_result"
    }
   ],
   "source": [
    "accuracy_score(gsadaDTC.predict(X_test),y_test)"
   ]
  },
  {
   "cell_type": "code",
   "execution_count": 401,
   "id": "b431efe7",
   "metadata": {},
   "outputs": [],
   "source": [
    "pred = gsDT.predict(test)\n",
    "test2[\"Survived\"] = pred\n",
    "sub = test2[[\"PassengerId\",\"Survived\"]]\n",
    "sub.to_csv(\"titanic_1004_dt.csv\",index=False)"
   ]
  },
  {
   "cell_type": "markdown",
   "id": "6f59e769",
   "metadata": {},
   "source": [
    "vote"
   ]
  },
  {
   "cell_type": "code",
   "execution_count": 214,
   "id": "25c8d74b",
   "metadata": {},
   "outputs": [
    {
     "data": {
      "text/plain": [
       "VotingClassifier(estimators=[('rfc',\n",
       "                              RandomForestClassifier(max_features=1,\n",
       "                                                     min_samples_leaf=3,\n",
       "                                                     min_samples_split=7)),\n",
       "                             ('adac',\n",
       "                              AdaBoostClassifier(base_estimator=DecisionTreeClassifier(),\n",
       "                                                 learning_rate=0.01,\n",
       "                                                 n_estimators=2,\n",
       "                                                 random_state=7))],\n",
       "                 voting='soft')"
      ]
     },
     "execution_count": 214,
     "metadata": {},
     "output_type": "execute_result"
    }
   ],
   "source": [
    "votingC = VotingClassifier(estimators=[(\"rfc\",RFC_best),(\"adac\",ADA_best)], voting=\"soft\")\n",
    "votingC.fit(X,y)"
   ]
  },
  {
   "cell_type": "code",
   "execution_count": 216,
   "id": "dd6bd742",
   "metadata": {},
   "outputs": [],
   "source": [
    "voting_pred = votingC.predict(test)"
   ]
  },
  {
   "cell_type": "code",
   "execution_count": 217,
   "id": "aaea7a4a",
   "metadata": {},
   "outputs": [],
   "source": [
    "test2 = pd.read_csv(\"data/test.csv\")\n",
    "test2[\"Survived\"]=rf_pred\n",
    "\n",
    "sub = test2[[\"PassengerId\",\"Survived\"]]\n",
    "sub.to_csv(\"titanic_rf.csv\", index=False)"
   ]
  },
  {
   "cell_type": "markdown",
   "id": "ba031dda",
   "metadata": {},
   "source": [
    "dt(depth:8)"
   ]
  },
  {
   "cell_type": "code",
   "execution_count": 412,
   "id": "1f7eefe2",
   "metadata": {},
   "outputs": [],
   "source": [
    "model = DecisionTreeClassifier(max_depth=8)\n",
    "model.fit(X,y)\n",
    "pred = model.predict(test)"
   ]
  },
  {
   "cell_type": "code",
   "execution_count": 413,
   "id": "f9aa8106",
   "metadata": {},
   "outputs": [],
   "source": [
    "test2 = pd.read_csv(\"data/test.csv\")\n",
    "test2[\"Survived\"]=pred\n",
    "\n",
    "sub = test2[[\"PassengerId\",\"Survived\"]]\n",
    "sub.to_csv(\"titanic_1004_dt_2.csv\", index=False)"
   ]
  },
  {
   "cell_type": "code",
   "execution_count": 414,
   "id": "ab2c394d",
   "metadata": {},
   "outputs": [
    {
     "data": {
      "text/html": [
       "<div>\n",
       "<style scoped>\n",
       "    .dataframe tbody tr th:only-of-type {\n",
       "        vertical-align: middle;\n",
       "    }\n",
       "\n",
       "    .dataframe tbody tr th {\n",
       "        vertical-align: top;\n",
       "    }\n",
       "\n",
       "    .dataframe thead th {\n",
       "        text-align: right;\n",
       "    }\n",
       "</style>\n",
       "<table border=\"1\" class=\"dataframe\">\n",
       "  <thead>\n",
       "    <tr style=\"text-align: right;\">\n",
       "      <th></th>\n",
       "      <th>Pclass</th>\n",
       "      <th>Sex</th>\n",
       "      <th>Age</th>\n",
       "      <th>Fare</th>\n",
       "      <th>Embarked_0</th>\n",
       "      <th>Embarked_1</th>\n",
       "      <th>Embarked_2</th>\n",
       "      <th>Family_size_0</th>\n",
       "      <th>Family_size_1</th>\n",
       "      <th>Family_size_2</th>\n",
       "      <th>호칭_0</th>\n",
       "      <th>호칭_1</th>\n",
       "      <th>호칭_2</th>\n",
       "      <th>호칭_3</th>\n",
       "      <th>호칭_4</th>\n",
       "    </tr>\n",
       "  </thead>\n",
       "  <tbody>\n",
       "    <tr>\n",
       "      <th>0</th>\n",
       "      <td>3</td>\n",
       "      <td>0</td>\n",
       "      <td>1</td>\n",
       "      <td>0</td>\n",
       "      <td>1</td>\n",
       "      <td>0</td>\n",
       "      <td>0</td>\n",
       "      <td>0</td>\n",
       "      <td>1</td>\n",
       "      <td>0</td>\n",
       "      <td>0</td>\n",
       "      <td>0</td>\n",
       "      <td>1</td>\n",
       "      <td>0</td>\n",
       "      <td>0</td>\n",
       "    </tr>\n",
       "    <tr>\n",
       "      <th>1</th>\n",
       "      <td>1</td>\n",
       "      <td>1</td>\n",
       "      <td>2</td>\n",
       "      <td>3</td>\n",
       "      <td>0</td>\n",
       "      <td>1</td>\n",
       "      <td>0</td>\n",
       "      <td>0</td>\n",
       "      <td>1</td>\n",
       "      <td>0</td>\n",
       "      <td>0</td>\n",
       "      <td>0</td>\n",
       "      <td>0</td>\n",
       "      <td>1</td>\n",
       "      <td>0</td>\n",
       "    </tr>\n",
       "    <tr>\n",
       "      <th>2</th>\n",
       "      <td>3</td>\n",
       "      <td>1</td>\n",
       "      <td>1</td>\n",
       "      <td>1</td>\n",
       "      <td>1</td>\n",
       "      <td>0</td>\n",
       "      <td>0</td>\n",
       "      <td>1</td>\n",
       "      <td>0</td>\n",
       "      <td>0</td>\n",
       "      <td>0</td>\n",
       "      <td>1</td>\n",
       "      <td>0</td>\n",
       "      <td>0</td>\n",
       "      <td>0</td>\n",
       "    </tr>\n",
       "    <tr>\n",
       "      <th>3</th>\n",
       "      <td>1</td>\n",
       "      <td>1</td>\n",
       "      <td>2</td>\n",
       "      <td>3</td>\n",
       "      <td>1</td>\n",
       "      <td>0</td>\n",
       "      <td>0</td>\n",
       "      <td>0</td>\n",
       "      <td>1</td>\n",
       "      <td>0</td>\n",
       "      <td>0</td>\n",
       "      <td>0</td>\n",
       "      <td>0</td>\n",
       "      <td>1</td>\n",
       "      <td>0</td>\n",
       "    </tr>\n",
       "    <tr>\n",
       "      <th>4</th>\n",
       "      <td>3</td>\n",
       "      <td>0</td>\n",
       "      <td>2</td>\n",
       "      <td>1</td>\n",
       "      <td>1</td>\n",
       "      <td>0</td>\n",
       "      <td>0</td>\n",
       "      <td>1</td>\n",
       "      <td>0</td>\n",
       "      <td>0</td>\n",
       "      <td>0</td>\n",
       "      <td>0</td>\n",
       "      <td>1</td>\n",
       "      <td>0</td>\n",
       "      <td>0</td>\n",
       "    </tr>\n",
       "    <tr>\n",
       "      <th>...</th>\n",
       "      <td>...</td>\n",
       "      <td>...</td>\n",
       "      <td>...</td>\n",
       "      <td>...</td>\n",
       "      <td>...</td>\n",
       "      <td>...</td>\n",
       "      <td>...</td>\n",
       "      <td>...</td>\n",
       "      <td>...</td>\n",
       "      <td>...</td>\n",
       "      <td>...</td>\n",
       "      <td>...</td>\n",
       "      <td>...</td>\n",
       "      <td>...</td>\n",
       "      <td>...</td>\n",
       "    </tr>\n",
       "    <tr>\n",
       "      <th>886</th>\n",
       "      <td>2</td>\n",
       "      <td>0</td>\n",
       "      <td>1</td>\n",
       "      <td>1</td>\n",
       "      <td>1</td>\n",
       "      <td>0</td>\n",
       "      <td>0</td>\n",
       "      <td>1</td>\n",
       "      <td>0</td>\n",
       "      <td>0</td>\n",
       "      <td>0</td>\n",
       "      <td>0</td>\n",
       "      <td>0</td>\n",
       "      <td>0</td>\n",
       "      <td>1</td>\n",
       "    </tr>\n",
       "    <tr>\n",
       "      <th>887</th>\n",
       "      <td>1</td>\n",
       "      <td>1</td>\n",
       "      <td>1</td>\n",
       "      <td>2</td>\n",
       "      <td>1</td>\n",
       "      <td>0</td>\n",
       "      <td>0</td>\n",
       "      <td>1</td>\n",
       "      <td>0</td>\n",
       "      <td>0</td>\n",
       "      <td>0</td>\n",
       "      <td>1</td>\n",
       "      <td>0</td>\n",
       "      <td>0</td>\n",
       "      <td>0</td>\n",
       "    </tr>\n",
       "    <tr>\n",
       "      <th>888</th>\n",
       "      <td>3</td>\n",
       "      <td>1</td>\n",
       "      <td>1</td>\n",
       "      <td>2</td>\n",
       "      <td>1</td>\n",
       "      <td>0</td>\n",
       "      <td>0</td>\n",
       "      <td>0</td>\n",
       "      <td>1</td>\n",
       "      <td>0</td>\n",
       "      <td>0</td>\n",
       "      <td>1</td>\n",
       "      <td>0</td>\n",
       "      <td>0</td>\n",
       "      <td>0</td>\n",
       "    </tr>\n",
       "    <tr>\n",
       "      <th>889</th>\n",
       "      <td>1</td>\n",
       "      <td>0</td>\n",
       "      <td>1</td>\n",
       "      <td>2</td>\n",
       "      <td>0</td>\n",
       "      <td>1</td>\n",
       "      <td>0</td>\n",
       "      <td>1</td>\n",
       "      <td>0</td>\n",
       "      <td>0</td>\n",
       "      <td>0</td>\n",
       "      <td>0</td>\n",
       "      <td>1</td>\n",
       "      <td>0</td>\n",
       "      <td>0</td>\n",
       "    </tr>\n",
       "    <tr>\n",
       "      <th>890</th>\n",
       "      <td>3</td>\n",
       "      <td>0</td>\n",
       "      <td>1</td>\n",
       "      <td>0</td>\n",
       "      <td>0</td>\n",
       "      <td>0</td>\n",
       "      <td>1</td>\n",
       "      <td>1</td>\n",
       "      <td>0</td>\n",
       "      <td>0</td>\n",
       "      <td>0</td>\n",
       "      <td>0</td>\n",
       "      <td>1</td>\n",
       "      <td>0</td>\n",
       "      <td>0</td>\n",
       "    </tr>\n",
       "  </tbody>\n",
       "</table>\n",
       "<p>891 rows × 15 columns</p>\n",
       "</div>"
      ],
      "text/plain": [
       "    Pclass  Sex  Age  Fare  Embarked_0  Embarked_1  Embarked_2  Family_size_0  \\\n",
       "0        3    0    1     0           1           0           0              0   \n",
       "1        1    1    2     3           0           1           0              0   \n",
       "2        3    1    1     1           1           0           0              1   \n",
       "3        1    1    2     3           1           0           0              0   \n",
       "4        3    0    2     1           1           0           0              1   \n",
       "..     ...  ...  ...   ...         ...         ...         ...            ...   \n",
       "886      2    0    1     1           1           0           0              1   \n",
       "887      1    1    1     2           1           0           0              1   \n",
       "888      3    1    1     2           1           0           0              0   \n",
       "889      1    0    1     2           0           1           0              1   \n",
       "890      3    0    1     0           0           0           1              1   \n",
       "\n",
       "     Family_size_1  Family_size_2  호칭_0  호칭_1  호칭_2  호칭_3  호칭_4  \n",
       "0                1              0     0     0     1     0     0  \n",
       "1                1              0     0     0     0     1     0  \n",
       "2                0              0     0     1     0     0     0  \n",
       "3                1              0     0     0     0     1     0  \n",
       "4                0              0     0     0     1     0     0  \n",
       "..             ...            ...   ...   ...   ...   ...   ...  \n",
       "886              0              0     0     0     0     0     1  \n",
       "887              0              0     0     1     0     0     0  \n",
       "888              1              0     0     1     0     0     0  \n",
       "889              0              0     0     0     1     0     0  \n",
       "890              0              0     0     0     1     0     0  \n",
       "\n",
       "[891 rows x 15 columns]"
      ]
     },
     "execution_count": 414,
     "metadata": {},
     "output_type": "execute_result"
    }
   ],
   "source": [
    "model = RandomForestClassifier()\n",
    "model.fit(X_train,y_train)\n",
    "accuracy_score(model.predict(X_))"
   ]
  }
 ],
 "metadata": {
  "kernelspec": {
   "display_name": "Python 3",
   "language": "python",
   "name": "python3"
  },
  "language_info": {
   "codemirror_mode": {
    "name": "ipython",
    "version": 3
   },
   "file_extension": ".py",
   "mimetype": "text/x-python",
   "name": "python",
   "nbconvert_exporter": "python",
   "pygments_lexer": "ipython3",
   "version": "3.8.8"
  }
 },
 "nbformat": 4,
 "nbformat_minor": 5
}
