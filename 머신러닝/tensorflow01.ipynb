{
 "cells": [
  {
   "cell_type": "code",
   "execution_count": 127,
   "id": "2157b659",
   "metadata": {},
   "outputs": [],
   "source": [
    "# 다중 선형 회귀 : x1, x2, x3 ... => y hat\n",
    "# 단순 선형 회귀 : x1 => y hat"
   ]
  },
  {
   "cell_type": "code",
   "execution_count": 128,
   "id": "9c11d9b2",
   "metadata": {},
   "outputs": [],
   "source": [
    "import numpy as np\n",
    "import pandas as pd\n",
    "import matplotlib.pyplot as plt\n",
    "import seaborn as sns"
   ]
  },
  {
   "cell_type": "code",
   "execution_count": 129,
   "id": "a110b467",
   "metadata": {},
   "outputs": [],
   "source": [
    "x = [2,4,6,8] # 공부시간\n",
    "y = [81, 93, 91, 97] # 점수"
   ]
  },
  {
   "cell_type": "code",
   "execution_count": 130,
   "id": "a9d0b884",
   "metadata": {},
   "outputs": [],
   "source": [
    "mx = np.mean(x) # 5\n",
    "my = np.mean(y) # 90.5"
   ]
  },
  {
   "cell_type": "code",
   "execution_count": 124,
   "id": "969f46df",
   "metadata": {},
   "outputs": [
    {
     "ename": "SyntaxError",
     "evalue": "invalid syntax (<ipython-input-124-e97b1a4e911a>, line 2)",
     "output_type": "error",
     "traceback": [
      "\u001b[1;36m  File \u001b[1;32m\"<ipython-input-124-e97b1a4e911a>\"\u001b[1;36m, line \u001b[1;32m2\u001b[0m\n\u001b[1;33m    a는 직선의 기울기 = y값의 증가량 / x값의 증가량\u001b[0m\n\u001b[1;37m       ^\u001b[0m\n\u001b[1;31mSyntaxError\u001b[0m\u001b[1;31m:\u001b[0m invalid syntax\n"
     ]
    }
   ],
   "source": [
    "# y = ax + b\n",
    "a는 직선의 기울기 = y값의 증가량 / x값의 증가량"
   ]
  },
  {
   "cell_type": "code",
   "execution_count": 131,
   "id": "7c6dc101",
   "metadata": {},
   "outputs": [
    {
     "data": {
      "text/plain": [
       "20.0"
      ]
     },
     "execution_count": 131,
     "metadata": {},
     "output_type": "execute_result"
    }
   ],
   "source": [
    "# 기울기 공식의 분모\n",
    "divisor = sum([(mx-i)**2 for i in x]) # 분모\n",
    "divisor"
   ]
  },
  {
   "cell_type": "code",
   "execution_count": 132,
   "id": "e7ff6a47",
   "metadata": {},
   "outputs": [],
   "source": [
    "# 기울기 공식의 분자\n",
    "def top(x, mx,y,my):\n",
    "    res=0\n",
    "    for i in range(len(x)):\n",
    "        res+=(x[i]-mx)*(y[i]-my)\n",
    "    return res"
   ]
  },
  {
   "cell_type": "code",
   "execution_count": 133,
   "id": "ec91bd9b",
   "metadata": {},
   "outputs": [],
   "source": [
    "divide = top(x,mx,y,my)"
   ]
  },
  {
   "cell_type": "code",
   "execution_count": 134,
   "id": "6f7bea06",
   "metadata": {},
   "outputs": [],
   "source": [
    "a = divide/divisor # 기울기\n",
    "b = my -(mx*a)"
   ]
  },
  {
   "cell_type": "code",
   "execution_count": 135,
   "id": "471145af",
   "metadata": {},
   "outputs": [
    {
     "data": {
      "text/plain": [
       "(2.3, 79.0)"
      ]
     },
     "execution_count": 135,
     "metadata": {},
     "output_type": "execute_result"
    }
   ],
   "source": [
    "a,b"
   ]
  },
  {
   "cell_type": "code",
   "execution_count": 136,
   "id": "fee42a4b",
   "metadata": {},
   "outputs": [],
   "source": [
    "# x data, y data\n",
    "# [공부시간, 점수]\n",
    "\n",
    "data = [[2,81],[4,93],[6,91],[8,97]]\n",
    "x = [i[0] for i in data]\n",
    "y = [i[1] for i in data]"
   ]
  },
  {
   "cell_type": "code",
   "execution_count": 137,
   "id": "e687791a",
   "metadata": {},
   "outputs": [],
   "source": [
    "# 최초의 가설함수(랜덤하게) 정의 : y =3x+76"
   ]
  },
  {
   "cell_type": "code",
   "execution_count": 138,
   "id": "f3429057",
   "metadata": {},
   "outputs": [],
   "source": [
    "# 시각화(data는 점, 가설함수는 직선)"
   ]
  },
  {
   "cell_type": "code",
   "execution_count": 139,
   "id": "571f8f79",
   "metadata": {},
   "outputs": [],
   "source": [
    "import seaborn as sns"
   ]
  },
  {
   "cell_type": "code",
   "execution_count": 140,
   "id": "45d95e71",
   "metadata": {},
   "outputs": [],
   "source": [
    "y = [3*i+76 for i in x]"
   ]
  },
  {
   "cell_type": "code",
   "execution_count": 141,
   "id": "0d6953ef",
   "metadata": {},
   "outputs": [
    {
     "data": {
      "text/plain": [
       "<AxesSubplot:xlabel='0', ylabel='1'>"
      ]
     },
     "execution_count": 141,
     "metadata": {},
     "output_type": "execute_result"
    },
    {
     "data": {
      "image/png": "[encoded data removed]",
      "text/plain": [
       "<Figure size 432x288 with 1 Axes>"
      ]
     },
     "metadata": {
      "needs_background": "light"
     },
     "output_type": "display_data"
    }
   ],
   "source": [
    "import seaborn as sns\n",
    "data = [[2,81],[4,93],[6,91],[8,97]]\n",
    "x = [i[0] for i in data]\n",
    "y = [3*i+76 for i in x]\n",
    "sns.scatterplot(data=pd.DataFrame(data),x=0,y=1)\n",
    "sns.lineplot(x=x, y=y)"
   ]
  },
  {
   "cell_type": "code",
   "execution_count": 142,
   "id": "43d26a2f",
   "metadata": {},
   "outputs": [],
   "source": [
    "# y=ax+b 에서 a,b값을 대입하여 결과를 출력하는 함수\n",
    "\n",
    "def predict(x):\n",
    "    return 3*x+76 # 예측값\n",
    "def mse(y, yhat):\n",
    "    return ((y-yhat)**2).mean()"
   ]
  },
  {
   "cell_type": "code",
   "execution_count": 143,
   "id": "6608ee92",
   "metadata": {},
   "outputs": [],
   "source": [
    "# x값을 입력하여 prediction\n",
    "\n",
    "predict_result = []\n",
    "for i in range(len(x)):\n",
    "    predict_result.append(predict(x[i]))"
   ]
  },
  {
   "cell_type": "code",
   "execution_count": 144,
   "id": "8c325c21",
   "metadata": {},
   "outputs": [
    {
     "data": {
      "text/plain": [
       "0.0"
      ]
     },
     "execution_count": 144,
     "metadata": {},
     "output_type": "execute_result"
    }
   ],
   "source": [
    "mse(np.array(y),np.array(predict_result))"
   ]
  },
  {
   "cell_type": "code",
   "execution_count": 145,
   "id": "abe02078",
   "metadata": {},
   "outputs": [],
   "source": [
    "import tensorflow.compat.v1 as tf"
   ]
  },
  {
   "cell_type": "code",
   "execution_count": 146,
   "id": "1d4fd1ce",
   "metadata": {},
   "outputs": [],
   "source": [
    "tf.disable_v2_behavior()"
   ]
  },
  {
   "cell_type": "code",
   "execution_count": 147,
   "id": "16583b6b",
   "metadata": {},
   "outputs": [
    {
     "data": {
      "text/plain": [
       "<matplotlib.collections.PathCollection at 0x1dfc8d14c40>"
      ]
     },
     "execution_count": 147,
     "metadata": {},
     "output_type": "execute_result"
    },
    {
     "data": {
      "image/png": "[encoded data removed]",
      "text/plain": [
       "<Figure size 576x360 with 1 Axes>"
      ]
     },
     "metadata": {
      "needs_background": "light"
     },
     "output_type": "display_data"
    }
   ],
   "source": [
    "data = [[2, 81], [4, 93], [6, 91], [8, 97]]\n",
    "x = [i[0] for i in data]\n",
    "y = [i[1] for i in data]\n",
    "\n",
    "plt.figure(figsize=(8,5))\n",
    "plt.scatter(x, y)"
   ]
  },
  {
   "cell_type": "code",
   "execution_count": 148,
   "id": "dcc0639b",
   "metadata": {},
   "outputs": [
    {
     "name": "stderr",
     "output_type": "stream",
     "text": [
      "C:\\Users\\NaEunSu\\anaconda3\\lib\\site-packages\\seaborn\\_decorators.py:36: FutureWarning: Pass the following variables as keyword args: x, y. From version 0.12, the only valid positional argument will be `data`, and passing other arguments without an explicit keyword will result in an error or misinterpretation.\n",
      "  warnings.warn(\n"
     ]
    },
    {
     "data": {
      "text/plain": [
       "<AxesSubplot:xlabel='0', ylabel='1'>"
      ]
     },
     "execution_count": 148,
     "metadata": {},
     "output_type": "execute_result"
    },
    {
     "data": {
      "image/png": "[encoded data removed]",
      "text/plain": [
       "<Figure size 432x288 with 1 Axes>"
      ]
     },
     "metadata": {
      "needs_background": "light"
     },
     "output_type": "display_data"
    }
   ],
   "source": [
    "k = [2.3*x+79 for x in x]\n",
    "sns.scatterplot(data=pd.DataFrame(data),x=0,y=1)\n",
    "sns.lineplot(x,k)"
   ]
  },
  {
   "cell_type": "code",
   "execution_count": 149,
   "id": "19b7805b",
   "metadata": {},
   "outputs": [],
   "source": [
    "xdata = np.array(x)\n",
    "ydata = np.array(y)"
   ]
  },
  {
   "cell_type": "code",
   "execution_count": 150,
   "id": "1cd660d4",
   "metadata": {},
   "outputs": [],
   "source": [
    "a=0 # 기울기\n",
    "b=0 # y절편\n",
    "\n",
    "# 가설함수 : y=ax+b\n",
    "\n",
    "# 학습률\n",
    "lr = 0.03\n",
    "# a = a - lr*(cost 함수)a미분\n",
    "\n",
    "# 전체 데이터(4건) 1번 반복 학습: 1 epoch(에폭)\n",
    "# 전체 데이터(4건) 200번 반복 학습: 200 epoch(에폭)\n",
    "epochs = 2001"
   ]
  },
  {
   "cell_type": "code",
   "execution_count": 151,
   "id": "12e6a6a0",
   "metadata": {},
   "outputs": [
    {
     "name": "stdout",
     "output_type": "stream",
     "text": [
      "기울기= 27.8400, 절편=5.4300, 오차의합 = 362.0000\n",
      "기울기= 7.0739, 절편=50.5117, 오차의합 = 18.6577\n",
      "기울기= 4.0960, 절편=68.2822, 오차의합 = 7.0193\n",
      "기울기= 2.9757, 절편=74.9678, 오차의합 = 2.6408\n",
      "기울기= 2.5542, 절편=77.4830, 오차의합 = 0.9935\n",
      "기울기= 2.3956, 절편=78.4293, 오차의합 = 0.3738\n",
      "기울기= 2.3360, 절편=78.7853, 오차의합 = 0.1406\n",
      "기울기= 2.3135, 절편=78.9192, 오차의합 = 0.0529\n",
      "기울기= 2.3051, 절편=78.9696, 오차의합 = 0.0199\n",
      "기울기= 2.3019, 절편=78.9886, 오차의합 = 0.0075\n",
      "기울기= 2.3007, 절편=78.9957, 오차의합 = 0.0028\n",
      "기울기= 2.3003, 절편=78.9984, 오차의합 = 0.0011\n",
      "기울기= 2.3001, 절편=78.9994, 오차의합 = 0.0004\n",
      "기울기= 2.3000, 절편=78.9998, 오차의합 = 0.0002\n",
      "기울기= 2.3000, 절편=78.9999, 오차의합 = 0.0001\n",
      "기울기= 2.3000, 절편=79.0000, 오차의합 = 0.0000\n",
      "기울기= 2.3000, 절편=79.0000, 오차의합 = 0.0000\n",
      "기울기= 2.3000, 절편=79.0000, 오차의합 = 0.0000\n",
      "기울기= 2.3000, 절편=79.0000, 오차의합 = 0.0000\n",
      "기울기= 2.3000, 절편=79.0000, 오차의합 = 0.0000\n",
      "기울기= 2.3000, 절편=79.0000, 오차의합 = 0.0000\n"
     ]
    }
   ],
   "source": [
    "# 경사하강법\n",
    "for i in range(epochs):\n",
    "    yhat = a*xdata+b # 예측값\n",
    "    error = ydata-yhat # 오차: 실제값 - 예측값\n",
    "    adiff = -(2/len(xdata))*sum(xdata*error)# 오차함수를 a로 미분\n",
    "    bdiff = -(2/len(xdata))*sum(error)# 오차함수를 b로 미분\n",
    "    a  = a - lr*adiff # 오차함수를 a로 미분한 값에 학습률을 곱해서 a를 업데이트\n",
    "    b = b - lr*bdiff # 오차함수를 b로 미분한 값에 학습률을 곱해서 b를 업데이트\n",
    "    if i%100 ==0:\n",
    "        print(\"기울기= %.4f, 절편=%.4f, 오차의합 = %.4f\" %(a,b,sum(error)))"
   ]
  },
  {
   "cell_type": "code",
   "execution_count": 152,
   "id": "50b18c9d",
   "metadata": {},
   "outputs": [
    {
     "data": {
      "text/plain": [
       "[<matplotlib.lines.Line2D at 0x1dfc8dc5f40>]"
      ]
     },
     "execution_count": 152,
     "metadata": {},
     "output_type": "execute_result"
    },
    {
     "data": {
      "image/png": "[encoded data removed]",
      "text/plain": [
       "<Figure size 432x288 with 1 Axes>"
      ]
     },
     "metadata": {
      "needs_background": "light"
     },
     "output_type": "display_data"
    }
   ],
   "source": [
    "ypred = a*xdata+b # 우리 모델의 예측값\n",
    "plt.scatter(x,y)\n",
    "plt.plot([min(xdata),max(xdata)],[min(ypred),max(ypred)])"
   ]
  },
  {
   "cell_type": "code",
   "execution_count": 153,
   "id": "676a0b73",
   "metadata": {},
   "outputs": [],
   "source": [
    "# tensorflow 라이브러리를 이용한 모델링"
   ]
  },
  {
   "cell_type": "code",
   "execution_count": 154,
   "id": "54322116",
   "metadata": {},
   "outputs": [],
   "source": [
    "data = [[2, 81], [4, 93], [6, 91], [8, 97]]\n",
    "X = [i[0] for i in data]\n",
    "Y = [i[1] for i in data]"
   ]
  },
  {
   "cell_type": "code",
   "execution_count": 155,
   "id": "32579478",
   "metadata": {},
   "outputs": [],
   "source": [
    "W = tf.placeholder(tf.float32)\n",
    "hypothesis = X*W # 가설함수 b는 무시\n",
    "cost = tf.reduce_mean(tf.square(hypothesis-Y))"
   ]
  },
  {
   "cell_type": "code",
   "execution_count": 156,
   "id": "49c8e4a2",
   "metadata": {},
   "outputs": [],
   "source": [
    "# Launch the graph in a session.\n",
    "sess = tf.Session()"
   ]
  },
  {
   "cell_type": "code",
   "execution_count": 157,
   "id": "6b5328d3",
   "metadata": {},
   "outputs": [],
   "source": [
    "# Initializes global variables in the graph.\n",
    "sess.run(tf.global_variables_initializer())"
   ]
  },
  {
   "cell_type": "code",
   "execution_count": 158,
   "id": "74800f18",
   "metadata": {},
   "outputs": [],
   "source": [
    "W_val = []\n",
    "cost_val = []\n",
    "for i in range(-30, 50):\n",
    "    feed_W = i * 0.1\n",
    "    curr_cost, curr_W = sess.run([cost, W], feed_dict={W: feed_W})\n",
    "    W_val.append(curr_W)\n",
    "    cost_val.append(curr_cost)"
   ]
  },
  {
   "cell_type": "code",
   "execution_count": 159,
   "id": "22fca46d",
   "metadata": {},
   "outputs": [
    {
     "data": {
      "image/png": "[encoded data removed]",
      "text/plain": [
       "<Figure size 432x288 with 1 Axes>"
      ]
     },
     "metadata": {
      "needs_background": "light"
     },
     "output_type": "display_data"
    }
   ],
   "source": [
    "plt.plot(W_val, cost_val)\n",
    "plt.show()"
   ]
  },
  {
   "cell_type": "code",
   "execution_count": 160,
   "id": "b8a07593",
   "metadata": {},
   "outputs": [],
   "source": [
    "hello = tf.constant(\"Hello TensorFlow!\")"
   ]
  },
  {
   "cell_type": "code",
   "execution_count": 161,
   "id": "933a33ae",
   "metadata": {},
   "outputs": [],
   "source": [
    "sess = tf.Session()"
   ]
  },
  {
   "cell_type": "code",
   "execution_count": 162,
   "id": "e6a3926a",
   "metadata": {},
   "outputs": [
    {
     "name": "stdout",
     "output_type": "stream",
     "text": [
      "b'Hello TensorFlow!'\n"
     ]
    }
   ],
   "source": [
    "print(sess.run(hello))"
   ]
  },
  {
   "cell_type": "code",
   "execution_count": 163,
   "id": "124a4465",
   "metadata": {},
   "outputs": [
    {
     "data": {
      "text/plain": [
       "[[[1.0, 2.0, 3.0]], [[7.0, 8.0, 9.0]]]"
      ]
     },
     "execution_count": 163,
     "metadata": {},
     "output_type": "execute_result"
    }
   ],
   "source": [
    "3 # 0차원 텐서(스칼라)\n",
    "[1. ,2., 3.] # 1차원 텐서\n",
    "[[1., 2., 3.], [4., 5., 6.]] # 2차원 텐서\n",
    "[[[1., 2., 3.]], [[7., 8., 9.]]] # 3차원 텐서"
   ]
  },
  {
   "cell_type": "code",
   "execution_count": 164,
   "id": "ab1eab7e",
   "metadata": {},
   "outputs": [],
   "source": [
    "node1 = tf.constant(3.0, tf.float32)\n",
    "node2 = tf.constant(4.0)"
   ]
  },
  {
   "cell_type": "code",
   "execution_count": 165,
   "id": "19f99057",
   "metadata": {},
   "outputs": [
    {
     "name": "stdout",
     "output_type": "stream",
     "text": [
      "7.0\n"
     ]
    }
   ],
   "source": [
    "print(sess.run(node1)+sess.run(node2))"
   ]
  },
  {
   "cell_type": "code",
   "execution_count": 166,
   "id": "f4d35696",
   "metadata": {},
   "outputs": [
    {
     "name": "stdout",
     "output_type": "stream",
     "text": [
      "7.0\n"
     ]
    }
   ],
   "source": [
    "node3 = tf.add(node1, node2)\n",
    "print(sess.run(node3))"
   ]
  },
  {
   "cell_type": "code",
   "execution_count": 167,
   "id": "0060abf2",
   "metadata": {},
   "outputs": [
    {
     "name": "stdout",
     "output_type": "stream",
     "text": [
      "sess.run(node1, node2):  [3.0, 4.0]\n"
     ]
    }
   ],
   "source": [
    "print(\"sess.run(node1, node2): \", sess.run([node1, node2]))"
   ]
  },
  {
   "cell_type": "code",
   "execution_count": 168,
   "id": "60b6ecd3",
   "metadata": {},
   "outputs": [],
   "source": [
    "a = tf.placeholder(tf.float32) # 비어있는 변수\n",
    "b = tf.placeholder(tf.float32)\n",
    "adder_node = a + b\n",
    "add_tri = adder_node*3"
   ]
  },
  {
   "cell_type": "code",
   "execution_count": 169,
   "id": "7bb26156",
   "metadata": {},
   "outputs": [
    {
     "name": "stdout",
     "output_type": "stream",
     "text": [
      "8.0\n",
      "[ 8. 10.]\n"
     ]
    }
   ],
   "source": [
    "print(sess.run(adder_node, feed_dict={a:3,b:5}))\n",
    "# 리스트형태도 가능\n",
    "print(sess.run(adder_node, feed_dict={a:[3,4],b:[5,6]}))"
   ]
  },
  {
   "cell_type": "code",
   "execution_count": 170,
   "id": "215a6196",
   "metadata": {},
   "outputs": [
    {
     "name": "stdout",
     "output_type": "stream",
     "text": [
      "24.0\n",
      "[24. 30.]\n"
     ]
    }
   ],
   "source": [
    "print(sess.run(add_tri, feed_dict={a:3,b:5}))\n",
    "print(sess.run(add_tri, feed_dict={a:[3,4],b:[5,6]}))"
   ]
  },
  {
   "cell_type": "code",
   "execution_count": 212,
   "id": "db33fa81",
   "metadata": {},
   "outputs": [],
   "source": [
    "# 선형회귀모델 (텐서플로우)\n",
    "x_train = [1, 2, 3]\n",
    "y_train = [1, 2, 3]"
   ]
  },
  {
   "cell_type": "markdown",
   "id": "740f4a31",
   "metadata": {},
   "source": [
    "텐서플로우에서는 변수 지정을 방법이 다르다."
   ]
  },
  {
   "cell_type": "code",
   "execution_count": 213,
   "id": "7c721f35",
   "metadata": {},
   "outputs": [],
   "source": [
    "W = tf.Variable(tf.random_normal([1]), name='weight')\n",
    "b = tf.Variable(tf.random_normal([1]), name='bias')"
   ]
  },
  {
   "cell_type": "code",
   "execution_count": 214,
   "id": "938be4ea",
   "metadata": {},
   "outputs": [
    {
     "data": {
      "text/plain": [
       "array([1.8181622], dtype=float32)"
      ]
     },
     "execution_count": 214,
     "metadata": {},
     "output_type": "execute_result"
    }
   ],
   "source": [
    "sess.run(tf.random_normal([1])) # random seed를 주는 것"
   ]
  },
  {
   "cell_type": "code",
   "execution_count": 215,
   "id": "01786fb9",
   "metadata": {},
   "outputs": [],
   "source": [
    "# 모델 정의\n",
    "hypothesis = x_train * W + b"
   ]
  },
  {
   "cell_type": "code",
   "execution_count": 216,
   "id": "9d89ca91",
   "metadata": {},
   "outputs": [
    {
     "data": {
      "text/plain": [
       "array([ 1.3186116 ,  0.32832932, -0.661953  ], dtype=float32)"
      ]
     },
     "execution_count": 216,
     "metadata": {},
     "output_type": "execute_result"
    }
   ],
   "source": [
    "sess.run(tf.global_variables_initializer())\n",
    "sess.run(hypothesis) # 우리의 모델이 예측한 값"
   ]
  },
  {
   "cell_type": "code",
   "execution_count": 217,
   "id": "ca192b19",
   "metadata": {},
   "outputs": [],
   "source": [
    "cost = tf.reduce_mean(tf.square(hypothesis - y_train))"
   ]
  },
  {
   "cell_type": "code",
   "execution_count": 218,
   "id": "b2a80231",
   "metadata": {},
   "outputs": [],
   "source": [
    "optimizer = tf.train.GradientDescentOptimizer(learning_rate=0.01)\n",
    "train = optimizer.minimize(cost)"
   ]
  },
  {
   "cell_type": "code",
   "execution_count": 208,
   "id": "f9d91666",
   "metadata": {},
   "outputs": [],
   "source": [
    "# train만 실행하면 optimizer와 cost가 함께 자동으로 실행\n",
    "# optimizer가 실행되면 learning_rate=0.01로 세팅\n",
    "# cost가 실행되면 hypothesis와 y_train가 실행\n",
    "# y_train은 이미 값이 저장되어 있음\n",
    "# hypothesis가 실행되면서 x_train*W+b가 실행\n",
    "# x_train은 이미 값이 저장되어 있음\n",
    "# W와 b가 실행됨 -> 변수들이므로, 트레이닝 과정에서 계속 업데이트가 됨"
   ]
  },
  {
   "cell_type": "code",
   "execution_count": 223,
   "id": "dfdc4115",
   "metadata": {},
   "outputs": [
    {
     "name": "stdout",
     "output_type": "stream",
     "text": [
      "0 6.66612e-05 [0.9905173] [0.02155639]\n",
      "200 2.5453897e-05 [0.99414027] [0.01332048]\n",
      "400 9.719676e-06 [0.9963791] [0.00823121]\n",
      "600 3.711485e-06 [0.99776244] [0.00508643]\n",
      "800 1.417202e-06 [0.9986173] [0.00314316]\n",
      "1000 5.412987e-07 [0.9991455] [0.0019425]\n",
      "1200 2.0676924e-07 [0.9994718] [0.00120062]\n",
      "1400 7.90703e-08 [0.9996733] [0.00074232]\n",
      "1600 3.0261297e-08 [0.9997978] [0.00045923]\n",
      "1800 1.1596744e-08 [0.9998747] [0.00028433]\n",
      "2000 4.451159e-09 [0.99992234] [0.00017612]\n"
     ]
    }
   ],
   "source": [
    " for step in range(2001):\n",
    "    sess.run(train)\n",
    "    if step % 200 == 0:\n",
    "            print(step, sess.run(cost), sess.run(W), sess.run(b))"
   ]
  },
  {
   "cell_type": "code",
   "execution_count": 229,
   "id": "dcad7d35",
   "metadata": {},
   "outputs": [],
   "source": [
    "# 예측은 어떻게 되나?\n",
    "# ex) x가 5.5일 경우\n",
    "# placeholder 정의 후 \n",
    "# sess.run(hypothesis, feed_dict={x_train:[5.5]})"
   ]
  },
  {
   "cell_type": "code",
   "execution_count": 230,
   "id": "999b5381",
   "metadata": {},
   "outputs": [],
   "source": [
    "W = tf.Variable(tf.random_normal([1]), name='weight')\n",
    "b = tf.Variable(tf.random_normal([1]), name='bias')\n",
    "\n",
    "X = tf.placeholder(tf.float32, shape=[None])\n",
    "Y = tf.placeholder(tf.float32, shape=[None])\n",
    "# feeding 되는 데이터가 float 타입이다.\n",
    "# shape=[None]: feeding되는 데이터의 크기가 정해져 있지 않다"
   ]
  },
  {
   "cell_type": "code",
   "execution_count": 235,
   "id": "9816d2c4-f4b3-4cf6-beca-6e94191cd00c",
   "metadata": {},
   "outputs": [],
   "source": [
    "hypothesis = X * W + b"
   ]
  },
  {
   "cell_type": "code",
   "execution_count": 239,
   "id": "c93fc5ac-6925-4fee-a650-aea3950e66f1",
   "metadata": {},
   "outputs": [
    {
     "name": "stdout",
     "output_type": "stream",
     "text": [
      "0 1.6128263 [1.4043908] [0.2710384]\n",
      "200 0.00033525875 [0.97878516] [0.04822633]\n",
      "400 0.0001280174 [0.9868905] [0.02980098]\n",
      "600 4.888223e-05 [0.99189913] [0.01841513]\n",
      "800 1.8666242e-05 [0.9949941] [0.01137944]\n",
      "1000 7.127943e-06 [0.99690664] [0.00703191]\n",
      "1200 2.7217338e-06 [0.9980884] [0.00434538]\n",
      "1400 1.0393093e-06 [0.9988187] [0.00268528]\n",
      "1600 3.9702752e-07 [0.99927] [0.00165952]\n",
      "1800 1.5165661e-07 [0.9995486] [0.0010258]\n",
      "2000 5.7990732e-08 [0.9997209] [0.00063431]\n"
     ]
    }
   ],
   "source": [
    "cost = tf.reduce_mean(tf.square(hypothesis - Y))\n",
    "optimizer = tf.train.GradientDescentOptimizer(learning_rate=0.01)\n",
    "train = optimizer.minimize(cost)\n",
    "\n",
    "sess.run(tf.global_variables_initializer())\n",
    "\n",
    "for step in range(2001):\n",
    "    cost_val, W_val, b_val, _ = \\\n",
    "        sess.run([cost, W, b, train],\n",
    "                 feed_dict={X: [1, 2, 3], Y: [1, 2, 3]})\n",
    "    if step % 200 == 0:\n",
    "        print(step, cost_val, W_val, b_val)"
   ]
  },
  {
   "cell_type": "code",
   "execution_count": 240,
   "id": "15d8a9a0-0f29-497f-b3f8-1171af250040",
   "metadata": {},
   "outputs": [
    {
     "data": {
      "text/plain": [
       "array([5.499099], dtype=float32)"
      ]
     },
     "execution_count": 240,
     "metadata": {},
     "output_type": "execute_result"
    }
   ],
   "source": [
    "# X가 5.5일 경우 예측\n",
    "sess.run(hypothesis, feed_dict={X:[5.5]})"
   ]
  },
  {
   "cell_type": "code",
   "execution_count": 241,
   "id": "825abb4c-a099-4b49-83b8-e0a3d21f95f9",
   "metadata": {},
   "outputs": [
    {
     "name": "stdout",
     "output_type": "stream",
     "text": [
      "0 1.210447 [1.0657442] [0.02263837]\n",
      "200 0.04895559 [1.1431621] [0.5831389]\n",
      "400 0.012632055 [1.0727217] [0.8374514]\n",
      "600 0.0032594658 [1.0369403] [0.9666337]\n",
      "800 0.0008410354 [1.0187644] [1.0322543]\n",
      "1000 0.00021702172 [1.0095319] [1.0655867]\n",
      "1200 5.5999786e-05 [1.0048419] [1.082519]\n",
      "1400 1.445215e-05 [1.0024598] [1.0911195]\n",
      "1600 3.7288578e-06 [1.0012494] [1.095489]\n",
      "1800 9.62289e-07 [1.0006348] [1.0977083]\n",
      "2000 2.486281e-07 [1.0003227] [1.0988351]\n"
     ]
    }
   ],
   "source": [
    "for step in range(2001):\n",
    "    cost_val, W_val, b_val, _ = \\\n",
    "        sess.run([cost, W, b, train],\n",
    "                 feed_dict={X: [1, 2, 3, 4, 5],\n",
    "                            Y: [2.1, 3.1, 4.1, 5.1, 6.1]})\n",
    "    if step % 200 == 0:\n",
    "        print(step, cost_val, W_val, b_val)"
   ]
  },
  {
   "cell_type": "code",
   "execution_count": 244,
   "id": "f7ad6dcc-7e76-4f1c-a024-0018df30b108",
   "metadata": {},
   "outputs": [
    {
     "data": {
      "text/plain": [
       "2.0991578"
      ]
     },
     "execution_count": 244,
     "metadata": {},
     "output_type": "execute_result"
    }
   ],
   "source": [
    "# x가 1일때 => 1.0003227*1+ 1.0988351"
   ]
  },
  {
   "cell_type": "code",
   "execution_count": null,
   "id": "dd3641b8-9125-405c-ba1c-e80d76603307",
   "metadata": {},
   "outputs": [],
   "source": []
  },
  {
   "cell_type": "code",
   "execution_count": 245,
   "id": "9af77e3c-00ec-4393-9299-901d4ea82f17",
   "metadata": {},
   "outputs": [],
   "source": [
    "# cost함수 그래프 출력하기\n",
    "\n",
    "X = [1, 2, 3]\n",
    "Y = [1, 2, 3]\n",
    "W = tf.placeholder(tf.float32)"
   ]
  },
  {
   "cell_type": "code",
   "execution_count": 246,
   "id": "0309e3d9-3858-4725-9cc8-8b173ce19f8c",
   "metadata": {},
   "outputs": [],
   "source": [
    "hypothesis = X * W\n",
    "cost = tf.reduce_mean(tf.square(hypothesis - Y))"
   ]
  },
  {
   "cell_type": "code",
   "execution_count": 247,
   "id": "ab2b4cc3-9a8e-491f-96a6-272134ba3721",
   "metadata": {},
   "outputs": [],
   "source": [
    "sess.run(tf.global_variables_initializer())"
   ]
  },
  {
   "cell_type": "code",
   "execution_count": 248,
   "id": "0ffc002e-2f1a-45af-b893-d33baf0511ba",
   "metadata": {},
   "outputs": [],
   "source": [
    "W_history = []\n",
    "cost_history = []\n",
    "\n",
    "for i in range(-30, 50):\n",
    "    curr_W = i * 0.1\n",
    "    curr_cost = sess.run(cost, feed_dict={W: curr_W})\n",
    "    W_history.append(curr_W)\n",
    "    cost_history.append(curr_cost)"
   ]
  },
  {
   "cell_type": "code",
   "execution_count": 250,
   "id": "0820db7b-e275-477b-b5ce-a421528c0cc9",
   "metadata": {},
   "outputs": [
    {
     "data": {
      "text/plain": [
       "[<matplotlib.lines.Line2D at 0x1dfc8ce93a0>]"
      ]
     },
     "execution_count": 250,
     "metadata": {},
     "output_type": "execute_result"
    },
    {
     "data": {
      "image/png": "[encoded data removed]",
      "text/plain": [
       "<Figure size 432x288 with 1 Axes>"
      ]
     },
     "metadata": {
      "needs_background": "light"
     },
     "output_type": "display_data"
    }
   ],
   "source": [
    "plt.plot(W_history, cost_history)"
   ]
  },
  {
   "cell_type": "code",
   "execution_count": null,
   "id": "974a89f3-5929-4a1d-bc35-c40778cd6688",
   "metadata": {},
   "outputs": [],
   "source": []
  }
 ],
 "metadata": {
  "kernelspec": {
   "display_name": "Python 3",
   "language": "python",
   "name": "python3"
  },
  "language_info": {
   "codemirror_mode": {
    "name": "ipython",
    "version": 3
   },
   "file_extension": ".py",
   "mimetype": "text/x-python",
   "name": "python",
   "nbconvert_exporter": "python",
   "pygments_lexer": "ipython3",
   "version": "3.8.8"
  }
 },
 "nbformat": 4,
 "nbformat_minor": 5
}
