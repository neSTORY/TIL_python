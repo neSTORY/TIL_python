{
 "cells": [
  {
   "cell_type": "code",
   "execution_count": 8,
   "id": "6498b9ad",
   "metadata": {},
   "outputs": [],
   "source": [
    "import pandas as pd\n",
    "import numpy as np\n",
    "import pickle\n",
    "import re\n",
    "\n",
    "from sklearn.metrics import classification_report\n",
    "from sklearn.model_selection import train_test_split\n",
    "from sklearn.preprocessing import MinMaxScaler"
   ]
  },
  {
   "cell_type": "code",
   "execution_count": null,
   "id": "6bb2d9f7",
   "metadata": {},
   "outputs": [],
   "source": [
    "# mytest의 [3P, TRB, BLK] 컬럼 값으로\n",
    "# mytrain의 [3P,TRB, BLK] 컬럼 값으로 구성된 공간에서\n",
    "# 가장 가까운 거리에 있는 선수 5명의 Pos을 추출한 다음,\n",
    "# 다수결로 mytest 데이터의 Pos를 예상해보자.\n",
    "# 그리고 예측된 mytest 데이터의 Pos와 실제 mytest 데이터의 Pos를 비교하여\n",
    "# 정확도, 정밀도, 재현율, F1Score를 조사해보자\n",
    "\n",
    "# 혹시 시간이 남으면, 선수 수를 변경하여 높은 정확도를 갖는 k값이 얼마인지 조사해보자."
   ]
  },
  {
   "cell_type": "code",
   "execution_count": 2,
   "id": "fc2be933",
   "metadata": {},
   "outputs": [
    {
     "data": {
      "text/html": [
       "<div>\n",
       "<style scoped>\n",
       "    .dataframe tbody tr th:only-of-type {\n",
       "        vertical-align: middle;\n",
       "    }\n",
       "\n",
       "    .dataframe tbody tr th {\n",
       "        vertical-align: top;\n",
       "    }\n",
       "\n",
       "    .dataframe thead th {\n",
       "        text-align: right;\n",
       "    }\n",
       "</style>\n",
       "<table border=\"1\" class=\"dataframe\">\n",
       "  <thead>\n",
       "    <tr style=\"text-align: right;\">\n",
       "      <th></th>\n",
       "      <th>Player</th>\n",
       "      <th>Pos</th>\n",
       "      <th>3P</th>\n",
       "      <th>2P</th>\n",
       "      <th>TRB</th>\n",
       "      <th>AST</th>\n",
       "      <th>STL</th>\n",
       "      <th>BLK</th>\n",
       "    </tr>\n",
       "  </thead>\n",
       "  <tbody>\n",
       "    <tr>\n",
       "      <th>0</th>\n",
       "      <td>Alex Abrines</td>\n",
       "      <td>SG</td>\n",
       "      <td>1.4</td>\n",
       "      <td>0.6</td>\n",
       "      <td>1.3</td>\n",
       "      <td>0.6</td>\n",
       "      <td>0.5</td>\n",
       "      <td>0.1</td>\n",
       "    </tr>\n",
       "    <tr>\n",
       "      <th>1</th>\n",
       "      <td>Steven Adams</td>\n",
       "      <td>C</td>\n",
       "      <td>0.0</td>\n",
       "      <td>4.7</td>\n",
       "      <td>7.7</td>\n",
       "      <td>1.1</td>\n",
       "      <td>1.1</td>\n",
       "      <td>1.0</td>\n",
       "    </tr>\n",
       "    <tr>\n",
       "      <th>2</th>\n",
       "      <td>Alexis Ajinca</td>\n",
       "      <td>C</td>\n",
       "      <td>0.0</td>\n",
       "      <td>2.3</td>\n",
       "      <td>4.5</td>\n",
       "      <td>0.3</td>\n",
       "      <td>0.5</td>\n",
       "      <td>0.6</td>\n",
       "    </tr>\n",
       "    <tr>\n",
       "      <th>3</th>\n",
       "      <td>Chris Andersen</td>\n",
       "      <td>C</td>\n",
       "      <td>0.0</td>\n",
       "      <td>0.8</td>\n",
       "      <td>2.6</td>\n",
       "      <td>0.4</td>\n",
       "      <td>0.4</td>\n",
       "      <td>0.6</td>\n",
       "    </tr>\n",
       "    <tr>\n",
       "      <th>4</th>\n",
       "      <td>Will Barton</td>\n",
       "      <td>SG</td>\n",
       "      <td>1.5</td>\n",
       "      <td>3.5</td>\n",
       "      <td>4.3</td>\n",
       "      <td>3.4</td>\n",
       "      <td>0.8</td>\n",
       "      <td>0.5</td>\n",
       "    </tr>\n",
       "    <tr>\n",
       "      <th>...</th>\n",
       "      <td>...</td>\n",
       "      <td>...</td>\n",
       "      <td>...</td>\n",
       "      <td>...</td>\n",
       "      <td>...</td>\n",
       "      <td>...</td>\n",
       "      <td>...</td>\n",
       "      <td>...</td>\n",
       "    </tr>\n",
       "    <tr>\n",
       "      <th>95</th>\n",
       "      <td>Nikola Vucevic</td>\n",
       "      <td>C</td>\n",
       "      <td>0.3</td>\n",
       "      <td>6.1</td>\n",
       "      <td>10.4</td>\n",
       "      <td>2.8</td>\n",
       "      <td>1.0</td>\n",
       "      <td>1.0</td>\n",
       "    </tr>\n",
       "    <tr>\n",
       "      <th>96</th>\n",
       "      <td>Dwyane Wade</td>\n",
       "      <td>SG</td>\n",
       "      <td>0.8</td>\n",
       "      <td>6.2</td>\n",
       "      <td>4.5</td>\n",
       "      <td>3.8</td>\n",
       "      <td>1.4</td>\n",
       "      <td>0.7</td>\n",
       "    </tr>\n",
       "    <tr>\n",
       "      <th>97</th>\n",
       "      <td>Dion Waiters</td>\n",
       "      <td>SG</td>\n",
       "      <td>1.8</td>\n",
       "      <td>4.3</td>\n",
       "      <td>3.3</td>\n",
       "      <td>4.3</td>\n",
       "      <td>0.9</td>\n",
       "      <td>0.4</td>\n",
       "    </tr>\n",
       "    <tr>\n",
       "      <th>98</th>\n",
       "      <td>Hassan Whiteside</td>\n",
       "      <td>C</td>\n",
       "      <td>0.0</td>\n",
       "      <td>7.0</td>\n",
       "      <td>14.1</td>\n",
       "      <td>0.7</td>\n",
       "      <td>0.7</td>\n",
       "      <td>2.1</td>\n",
       "    </tr>\n",
       "    <tr>\n",
       "      <th>99</th>\n",
       "      <td>Lou Williams</td>\n",
       "      <td>SG</td>\n",
       "      <td>2.0</td>\n",
       "      <td>3.3</td>\n",
       "      <td>2.5</td>\n",
       "      <td>3.0</td>\n",
       "      <td>1.0</td>\n",
       "      <td>0.2</td>\n",
       "    </tr>\n",
       "  </tbody>\n",
       "</table>\n",
       "<p>100 rows × 8 columns</p>\n",
       "</div>"
      ],
      "text/plain": [
       "              Player Pos   3P   2P   TRB  AST  STL  BLK\n",
       "0       Alex Abrines  SG  1.4  0.6   1.3  0.6  0.5  0.1\n",
       "1       Steven Adams   C  0.0  4.7   7.7  1.1  1.1  1.0\n",
       "2      Alexis Ajinca   C  0.0  2.3   4.5  0.3  0.5  0.6\n",
       "3     Chris Andersen   C  0.0  0.8   2.6  0.4  0.4  0.6\n",
       "4        Will Barton  SG  1.5  3.5   4.3  3.4  0.8  0.5\n",
       "..               ...  ..  ...  ...   ...  ...  ...  ...\n",
       "95    Nikola Vucevic   C  0.3  6.1  10.4  2.8  1.0  1.0\n",
       "96       Dwyane Wade  SG  0.8  6.2   4.5  3.8  1.4  0.7\n",
       "97      Dion Waiters  SG  1.8  4.3   3.3  4.3  0.9  0.4\n",
       "98  Hassan Whiteside   C  0.0  7.0  14.1  0.7  0.7  2.1\n",
       "99      Lou Williams  SG  2.0  3.3   2.5  3.0  1.0  0.2\n",
       "\n",
       "[100 rows x 8 columns]"
      ]
     },
     "execution_count": 2,
     "metadata": {},
     "output_type": "execute_result"
    }
   ],
   "source": [
    "df = pd.read_csv(\"basketball_stat.csv\")\n",
    "df"
   ]
  },
  {
   "cell_type": "code",
   "execution_count": 3,
   "id": "f8d3be27",
   "metadata": {},
   "outputs": [],
   "source": [
    "mytrain, mytest = train_test_split(df, test_size=0.2)"
   ]
  },
  {
   "cell_type": "code",
   "execution_count": 4,
   "id": "9dc40588",
   "metadata": {},
   "outputs": [],
   "source": [
    "train_label = mytrain[\"Pos\"]\n",
    "test_label = mytest[\"Pos\"]\n",
    "\n",
    "train = mytrain[[\"3P\",\"TRB\",\"BLK\"]]\n",
    "test = mytest[[\"3P\",\"TRB\",\"BLK\"]]"
   ]
  },
  {
   "cell_type": "code",
   "execution_count": 9,
   "id": "2fb8ed8e",
   "metadata": {},
   "outputs": [],
   "source": [
    "train_n = MinMaxScaler().fit_transform(train)\n",
    "test_n = MinMaxScaler().fit_transform(test)"
   ]
  },
  {
   "cell_type": "code",
   "execution_count": 15,
   "id": "8a353616",
   "metadata": {},
   "outputs": [
    {
     "name": "stdout",
     "output_type": "stream",
     "text": [
      "              precision    recall  f1-score   support\n",
      "\n",
      "           C       0.83      0.50      0.62        10\n",
      "          SG       0.64      0.90      0.75        10\n",
      "\n",
      "    accuracy                           0.70        20\n",
      "   macro avg       0.74      0.70      0.69        20\n",
      "weighted avg       0.74      0.70      0.69        20\n",
      "\n"
     ]
    }
   ],
   "source": [
    "# k = 5 일때 정확도\n",
    "k=5\n",
    "neighbor = []\n",
    "predic_label=[]\n",
    "for i in range(len(test_n)):\n",
    "    for j in range(len(train_n)):\n",
    "        neighbor.append((np.sqrt(sum((test_n[i]-train_n[j])**2)),i,j))\n",
    "    neighbor = sorted(neighbor)[:k]\n",
    "    \n",
    "    cnt = 0\n",
    "    for n in neighbor:\n",
    "        if train_label.iloc[n[2]] == \"SG\":\n",
    "            cnt+=1\n",
    "    if cnt>k/2:\n",
    "        predic_label.append(\"SG\")\n",
    "    else:\n",
    "        predic_label.append(\"C\")\n",
    "# print(predic_label)\n",
    "table = classification_report(test_label, predic_label)\n",
    "print(table)"
   ]
  },
  {
   "cell_type": "code",
   "execution_count": 16,
   "id": "d27034bf",
   "metadata": {},
   "outputs": [
    {
     "name": "stderr",
     "output_type": "stream",
     "text": [
      "C:\\Users\\NaEunSu\\anaconda3\\lib\\site-packages\\sklearn\\metrics\\_classification.py:1245: UndefinedMetricWarning: Precision and F-score are ill-defined and being set to 0.0 in labels with no predicted samples. Use `zero_division` parameter to control this behavior.\n",
      "  _warn_prf(average, modifier, msg_start, len(result))\n",
      "C:\\Users\\NaEunSu\\anaconda3\\lib\\site-packages\\sklearn\\metrics\\_classification.py:1245: UndefinedMetricWarning: Precision and F-score are ill-defined and being set to 0.0 in labels with no predicted samples. Use `zero_division` parameter to control this behavior.\n",
      "  _warn_prf(average, modifier, msg_start, len(result))\n",
      "C:\\Users\\NaEunSu\\anaconda3\\lib\\site-packages\\sklearn\\metrics\\_classification.py:1245: UndefinedMetricWarning: Precision and F-score are ill-defined and being set to 0.0 in labels with no predicted samples. Use `zero_division` parameter to control this behavior.\n",
      "  _warn_prf(average, modifier, msg_start, len(result))\n"
     ]
    }
   ],
   "source": [
    "# k = 1~ 15 까지 \n",
    "\n",
    "k_list = []\n",
    "for k in range(15):\n",
    "    neighbor = []\n",
    "    predic_label=[]\n",
    "    for i in range(len(test_n)):\n",
    "        for j in range(len(train_n)):\n",
    "            neighbor.append((np.sqrt(sum((test_n[i]-train_n[j])**2)),i,j))\n",
    "        neighbor = sorted(neighbor)[:k]\n",
    "\n",
    "        cnt = 0\n",
    "        for n in neighbor:\n",
    "            if train_label.iloc[n[2]] == \"SG\":\n",
    "                cnt+=1\n",
    "        if cnt>=k/2:\n",
    "            predic_label.append(\"SG\")\n",
    "        else:\n",
    "            predic_label.append(\"C\")\n",
    "    table = classification_report(test_label, predic_label)\n",
    "    res = re.search(\"(accuracy[\\s]+)([.\\d]+)\",table)\n",
    "    k_list.append([float(res.group(2)),k])"
   ]
  },
  {
   "cell_type": "code",
   "execution_count": 17,
   "id": "b8755296",
   "metadata": {},
   "outputs": [
    {
     "data": {
      "text/plain": [
       "[[0.8, 3],\n",
       " [0.7, 14],\n",
       " [0.7, 13],\n",
       " [0.7, 12],\n",
       " [0.7, 11],\n",
       " [0.7, 10],\n",
       " [0.7, 9],\n",
       " [0.7, 8],\n",
       " [0.7, 7],\n",
       " [0.7, 6],\n",
       " [0.7, 5],\n",
       " [0.7, 4],\n",
       " [0.7, 2],\n",
       " [0.7, 1],\n",
       " [0.5, 0]]"
      ]
     },
     "execution_count": 17,
     "metadata": {},
     "output_type": "execute_result"
    }
   ],
   "source": [
    "k_list = sorted(k_list, reverse=True)\n",
    "k_list"
   ]
  },
  {
   "cell_type": "markdown",
   "id": "e47f2f86",
   "metadata": {},
   "source": [
    "## k = 3일때 정확도가 제일 높게 나왔다.\n",
    "## 랜덤으로 샘플을 추출하기 때문에 반복할때마다 적당한 k값은 바뀔것이다."
   ]
  },
  {
   "cell_type": "code",
   "execution_count": null,
   "id": "4a76f432",
   "metadata": {},
   "outputs": [],
   "source": []
  },
  {
   "cell_type": "code",
   "execution_count": null,
   "id": "c38c51a9",
   "metadata": {},
   "outputs": [],
   "source": []
  }
 ],
 "metadata": {
  "kernelspec": {
   "display_name": "Python 3",
   "language": "python",
   "name": "python3"
  },
  "language_info": {
   "codemirror_mode": {
    "name": "ipython",
    "version": 3
   },
   "file_extension": ".py",
   "mimetype": "text/x-python",
   "name": "python",
   "nbconvert_exporter": "python",
   "pygments_lexer": "ipython3",
   "version": "3.8.8"
  }
 },
 "nbformat": 4,
 "nbformat_minor": 5
}
