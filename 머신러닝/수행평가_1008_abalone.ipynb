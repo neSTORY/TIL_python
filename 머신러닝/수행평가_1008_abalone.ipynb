{
 "cells": [
  {
   "cell_type": "markdown",
   "id": "356b042a",
   "metadata": {},
   "source": [
    "# 수행평가"
   ]
  },
  {
   "cell_type": "markdown",
   "id": "1aab09fd",
   "metadata": {},
   "source": [
    "## 1. 베이즈 이론 및 베이즈 분류기에 대해 설명하시오."
   ]
  },
  {
   "cell_type": "markdown",
   "id": "f899fd7e",
   "metadata": {},
   "source": [
    "베이즈 이론 : 서로 반대의 결과를 갖는 두 원인이 사건을 발생시킬 때 두 원인중 하나의 확률을 구하는 방법.\n",
    "사전확률을 통해 사후확률(조건부확률)을 구할 수 있는 것.<br>\n",
    "<br>\n",
    "베이즈 분류기 : 조건부 확률을 활용한 분류모델로 분류될 객체는 n개의 독립변수로 표현되며 베이즈 분류기는 이 독립변수를 이용하여 k개의 가능한 결과를 할당한다."
   ]
  },
  {
   "cell_type": "markdown",
   "id": "af61f5f5",
   "metadata": {},
   "source": [
    "## 2. 이메일에 \"나이트\"라는 단어가 검출되었을 때의 스팸 확률을 수식으로 작성하시오(베이즈 이론 수식에서 사후확률을 기술하시오)"
   ]
  },
  {
   "cell_type": "markdown",
   "id": "994b3c04",
   "metadata": {},
   "source": [
    "P(스팸|나이트) = P(스팸&나이트)/P(나이트)\n",
    "\n",
    "사후확률 => P(나이트|스팸)*P(스팸)/P(나이트)"
   ]
  },
  {
   "cell_type": "markdown",
   "id": "b7f378bd",
   "metadata": {},
   "source": [
    "## 3. 나이브 베이지안 분류기가 응용되는 예를 드시오."
   ]
  },
  {
   "cell_type": "markdown",
   "id": "f43ae313",
   "metadata": {},
   "source": [
    "성별 분류기, 문서분류(스팸 분류)"
   ]
  },
  {
   "cell_type": "markdown",
   "id": "982928b4",
   "metadata": {},
   "source": [
    "## 4.4. abalone 데이터셋을 이용하여 다음 알고리즘을 바탕으로 성별(M/F)를 분류할 수 있는 모델을 만들고, 예측해보시오.\n",
    "- 데이터 주소 : https://archive.ics.uci.edu/ml/machine-learning-databases/abalone/\n",
    "- abalone.data 다운로드\n",
    "- 데이터 설명 : abalone.names\n",
    "- training/test 데이터를 7:3의 비율로 분할(random_state 값은 모두 1008로 설정)\n",
    "- 모델 생성후 test 데이터로 정확도 측정 및 출력\n",
    "- 사용 알고리즘 종류 : SVM, 랜덤포레스트, 의사결정트리, knn\n",
    "- 모든 알고리즘의 parameter 튜닝을 해주시기 바랍니다.\n",
    "- 전처리 및 분석, 시각화 작업도 반드시 해주세요"
   ]
  },
  {
   "cell_type": "code",
   "execution_count": 1,
   "id": "e3c62c74",
   "metadata": {},
   "outputs": [],
   "source": [
    "import pandas as pd\n",
    "import numpy as np\n",
    "\n",
    "# 시각화\n",
    "import matplotlib.pyplot as plt\n",
    "import seaborn as sns\n",
    "\n",
    "# preprocessing\n",
    "from sklearn.preprocessing import MinMaxScaler\n",
    "\n",
    "# validation\n",
    "from sklearn.model_selection import train_test_split\n",
    "from sklearn.model_selection import cross_val_score\n",
    "from sklearn.metrics import accuracy_score\n",
    "\n",
    "# model\n",
    "from sklearn.ensemble import RandomForestClassifier\n",
    "from sklearn.svm import SVC\n",
    "from sklearn.tree import DecisionTreeClassifier\n",
    "from sklearn.neighbors import KNeighborsClassifier\n",
    "\n",
    "# tuning\n",
    "from sklearn.model_selection import GridSearchCV"
   ]
  },
  {
   "cell_type": "code",
   "execution_count": 2,
   "id": "5096f0d6",
   "metadata": {},
   "outputs": [
    {
     "data": {
      "text/html": [
       "<div>\n",
       "<style scoped>\n",
       "    .dataframe tbody tr th:only-of-type {\n",
       "        vertical-align: middle;\n",
       "    }\n",
       "\n",
       "    .dataframe tbody tr th {\n",
       "        vertical-align: top;\n",
       "    }\n",
       "\n",
       "    .dataframe thead th {\n",
       "        text-align: right;\n",
       "    }\n",
       "</style>\n",
       "<table border=\"1\" class=\"dataframe\">\n",
       "  <thead>\n",
       "    <tr style=\"text-align: right;\">\n",
       "      <th></th>\n",
       "      <th>Sex</th>\n",
       "      <th>Length</th>\n",
       "      <th>Diameter_continuous</th>\n",
       "      <th>Height</th>\n",
       "      <th>Whole_weight</th>\n",
       "      <th>Shucked_weight</th>\n",
       "      <th>Viscera_weight</th>\n",
       "      <th>Shell weight</th>\n",
       "      <th>Rings</th>\n",
       "    </tr>\n",
       "  </thead>\n",
       "  <tbody>\n",
       "    <tr>\n",
       "      <th>0</th>\n",
       "      <td>M</td>\n",
       "      <td>0.455</td>\n",
       "      <td>0.365</td>\n",
       "      <td>0.095</td>\n",
       "      <td>0.5140</td>\n",
       "      <td>0.2245</td>\n",
       "      <td>0.1010</td>\n",
       "      <td>0.1500</td>\n",
       "      <td>15</td>\n",
       "    </tr>\n",
       "    <tr>\n",
       "      <th>1</th>\n",
       "      <td>M</td>\n",
       "      <td>0.350</td>\n",
       "      <td>0.265</td>\n",
       "      <td>0.090</td>\n",
       "      <td>0.2255</td>\n",
       "      <td>0.0995</td>\n",
       "      <td>0.0485</td>\n",
       "      <td>0.0700</td>\n",
       "      <td>7</td>\n",
       "    </tr>\n",
       "    <tr>\n",
       "      <th>2</th>\n",
       "      <td>F</td>\n",
       "      <td>0.530</td>\n",
       "      <td>0.420</td>\n",
       "      <td>0.135</td>\n",
       "      <td>0.6770</td>\n",
       "      <td>0.2565</td>\n",
       "      <td>0.1415</td>\n",
       "      <td>0.2100</td>\n",
       "      <td>9</td>\n",
       "    </tr>\n",
       "    <tr>\n",
       "      <th>3</th>\n",
       "      <td>M</td>\n",
       "      <td>0.440</td>\n",
       "      <td>0.365</td>\n",
       "      <td>0.125</td>\n",
       "      <td>0.5160</td>\n",
       "      <td>0.2155</td>\n",
       "      <td>0.1140</td>\n",
       "      <td>0.1550</td>\n",
       "      <td>10</td>\n",
       "    </tr>\n",
       "    <tr>\n",
       "      <th>4</th>\n",
       "      <td>I</td>\n",
       "      <td>0.330</td>\n",
       "      <td>0.255</td>\n",
       "      <td>0.080</td>\n",
       "      <td>0.2050</td>\n",
       "      <td>0.0895</td>\n",
       "      <td>0.0395</td>\n",
       "      <td>0.0550</td>\n",
       "      <td>7</td>\n",
       "    </tr>\n",
       "    <tr>\n",
       "      <th>...</th>\n",
       "      <td>...</td>\n",
       "      <td>...</td>\n",
       "      <td>...</td>\n",
       "      <td>...</td>\n",
       "      <td>...</td>\n",
       "      <td>...</td>\n",
       "      <td>...</td>\n",
       "      <td>...</td>\n",
       "      <td>...</td>\n",
       "    </tr>\n",
       "    <tr>\n",
       "      <th>4172</th>\n",
       "      <td>F</td>\n",
       "      <td>0.565</td>\n",
       "      <td>0.450</td>\n",
       "      <td>0.165</td>\n",
       "      <td>0.8870</td>\n",
       "      <td>0.3700</td>\n",
       "      <td>0.2390</td>\n",
       "      <td>0.2490</td>\n",
       "      <td>11</td>\n",
       "    </tr>\n",
       "    <tr>\n",
       "      <th>4173</th>\n",
       "      <td>M</td>\n",
       "      <td>0.590</td>\n",
       "      <td>0.440</td>\n",
       "      <td>0.135</td>\n",
       "      <td>0.9660</td>\n",
       "      <td>0.4390</td>\n",
       "      <td>0.2145</td>\n",
       "      <td>0.2605</td>\n",
       "      <td>10</td>\n",
       "    </tr>\n",
       "    <tr>\n",
       "      <th>4174</th>\n",
       "      <td>M</td>\n",
       "      <td>0.600</td>\n",
       "      <td>0.475</td>\n",
       "      <td>0.205</td>\n",
       "      <td>1.1760</td>\n",
       "      <td>0.5255</td>\n",
       "      <td>0.2875</td>\n",
       "      <td>0.3080</td>\n",
       "      <td>9</td>\n",
       "    </tr>\n",
       "    <tr>\n",
       "      <th>4175</th>\n",
       "      <td>F</td>\n",
       "      <td>0.625</td>\n",
       "      <td>0.485</td>\n",
       "      <td>0.150</td>\n",
       "      <td>1.0945</td>\n",
       "      <td>0.5310</td>\n",
       "      <td>0.2610</td>\n",
       "      <td>0.2960</td>\n",
       "      <td>10</td>\n",
       "    </tr>\n",
       "    <tr>\n",
       "      <th>4176</th>\n",
       "      <td>M</td>\n",
       "      <td>0.710</td>\n",
       "      <td>0.555</td>\n",
       "      <td>0.195</td>\n",
       "      <td>1.9485</td>\n",
       "      <td>0.9455</td>\n",
       "      <td>0.3765</td>\n",
       "      <td>0.4950</td>\n",
       "      <td>12</td>\n",
       "    </tr>\n",
       "  </tbody>\n",
       "</table>\n",
       "<p>4177 rows × 9 columns</p>\n",
       "</div>"
      ],
      "text/plain": [
       "     Sex  Length  Diameter_continuous  Height  Whole_weight  Shucked_weight  \\\n",
       "0      M   0.455                0.365   0.095        0.5140          0.2245   \n",
       "1      M   0.350                0.265   0.090        0.2255          0.0995   \n",
       "2      F   0.530                0.420   0.135        0.6770          0.2565   \n",
       "3      M   0.440                0.365   0.125        0.5160          0.2155   \n",
       "4      I   0.330                0.255   0.080        0.2050          0.0895   \n",
       "...   ..     ...                  ...     ...           ...             ...   \n",
       "4172   F   0.565                0.450   0.165        0.8870          0.3700   \n",
       "4173   M   0.590                0.440   0.135        0.9660          0.4390   \n",
       "4174   M   0.600                0.475   0.205        1.1760          0.5255   \n",
       "4175   F   0.625                0.485   0.150        1.0945          0.5310   \n",
       "4176   M   0.710                0.555   0.195        1.9485          0.9455   \n",
       "\n",
       "      Viscera_weight  Shell weight  Rings  \n",
       "0             0.1010        0.1500     15  \n",
       "1             0.0485        0.0700      7  \n",
       "2             0.1415        0.2100      9  \n",
       "3             0.1140        0.1550     10  \n",
       "4             0.0395        0.0550      7  \n",
       "...              ...           ...    ...  \n",
       "4172          0.2390        0.2490     11  \n",
       "4173          0.2145        0.2605     10  \n",
       "4174          0.2875        0.3080      9  \n",
       "4175          0.2610        0.2960     10  \n",
       "4176          0.3765        0.4950     12  \n",
       "\n",
       "[4177 rows x 9 columns]"
      ]
     },
     "execution_count": 2,
     "metadata": {},
     "output_type": "execute_result"
    }
   ],
   "source": [
    "df = pd.read_csv(\"data/abalone.data\", header=None,\n",
    "                 names=[\"Sex\",\"Length\",\"Diameter_continuous\",\"Height\",\"Whole_weight\",\n",
    "                        \"Shucked_weight\",\"Viscera_weight\",\"Shell weight\",\"Rings\"])\n",
    "df"
   ]
  },
  {
   "cell_type": "markdown",
   "id": "e0cc31b1",
   "metadata": {},
   "source": [
    "### 컬럼설명<br>\n",
    "Sex: male, female, infant<br>\n",
    "Length: 가장 긴길이<br>\n",
    "Diameter_continuous: 수직길이<br>\n",
    "Height: 전복의 길이<br>\n",
    "shucked_weight: 순수전복의 무게(껍질제외)<br>\n",
    "Viscera_weight: 내장무게<br>\n",
    "Rings: 전복 나이 (-1.5살)<br>"
   ]
  },
  {
   "cell_type": "markdown",
   "id": "446a5d75",
   "metadata": {},
   "source": [
    "## 전처리 및 분석"
   ]
  },
  {
   "cell_type": "code",
   "execution_count": 3,
   "id": "574397e7",
   "metadata": {},
   "outputs": [
    {
     "data": {
      "text/html": [
       "<div>\n",
       "<style scoped>\n",
       "    .dataframe tbody tr th:only-of-type {\n",
       "        vertical-align: middle;\n",
       "    }\n",
       "\n",
       "    .dataframe tbody tr th {\n",
       "        vertical-align: top;\n",
       "    }\n",
       "\n",
       "    .dataframe thead th {\n",
       "        text-align: right;\n",
       "    }\n",
       "</style>\n",
       "<table border=\"1\" class=\"dataframe\">\n",
       "  <thead>\n",
       "    <tr style=\"text-align: right;\">\n",
       "      <th></th>\n",
       "      <th>Length</th>\n",
       "      <th>Diameter_continuous</th>\n",
       "      <th>Height</th>\n",
       "      <th>Whole_weight</th>\n",
       "      <th>Shucked_weight</th>\n",
       "      <th>Viscera_weight</th>\n",
       "      <th>Shell weight</th>\n",
       "      <th>Rings</th>\n",
       "    </tr>\n",
       "  </thead>\n",
       "  <tbody>\n",
       "    <tr>\n",
       "      <th>count</th>\n",
       "      <td>4177.000000</td>\n",
       "      <td>4177.000000</td>\n",
       "      <td>4177.000000</td>\n",
       "      <td>4177.000000</td>\n",
       "      <td>4177.000000</td>\n",
       "      <td>4177.000000</td>\n",
       "      <td>4177.000000</td>\n",
       "      <td>4177.000000</td>\n",
       "    </tr>\n",
       "    <tr>\n",
       "      <th>mean</th>\n",
       "      <td>0.523992</td>\n",
       "      <td>0.407881</td>\n",
       "      <td>0.139516</td>\n",
       "      <td>0.828742</td>\n",
       "      <td>0.359367</td>\n",
       "      <td>0.180594</td>\n",
       "      <td>0.238831</td>\n",
       "      <td>9.933684</td>\n",
       "    </tr>\n",
       "    <tr>\n",
       "      <th>std</th>\n",
       "      <td>0.120093</td>\n",
       "      <td>0.099240</td>\n",
       "      <td>0.041827</td>\n",
       "      <td>0.490389</td>\n",
       "      <td>0.221963</td>\n",
       "      <td>0.109614</td>\n",
       "      <td>0.139203</td>\n",
       "      <td>3.224169</td>\n",
       "    </tr>\n",
       "    <tr>\n",
       "      <th>min</th>\n",
       "      <td>0.075000</td>\n",
       "      <td>0.055000</td>\n",
       "      <td>0.000000</td>\n",
       "      <td>0.002000</td>\n",
       "      <td>0.001000</td>\n",
       "      <td>0.000500</td>\n",
       "      <td>0.001500</td>\n",
       "      <td>1.000000</td>\n",
       "    </tr>\n",
       "    <tr>\n",
       "      <th>25%</th>\n",
       "      <td>0.450000</td>\n",
       "      <td>0.350000</td>\n",
       "      <td>0.115000</td>\n",
       "      <td>0.441500</td>\n",
       "      <td>0.186000</td>\n",
       "      <td>0.093500</td>\n",
       "      <td>0.130000</td>\n",
       "      <td>8.000000</td>\n",
       "    </tr>\n",
       "    <tr>\n",
       "      <th>50%</th>\n",
       "      <td>0.545000</td>\n",
       "      <td>0.425000</td>\n",
       "      <td>0.140000</td>\n",
       "      <td>0.799500</td>\n",
       "      <td>0.336000</td>\n",
       "      <td>0.171000</td>\n",
       "      <td>0.234000</td>\n",
       "      <td>9.000000</td>\n",
       "    </tr>\n",
       "    <tr>\n",
       "      <th>75%</th>\n",
       "      <td>0.615000</td>\n",
       "      <td>0.480000</td>\n",
       "      <td>0.165000</td>\n",
       "      <td>1.153000</td>\n",
       "      <td>0.502000</td>\n",
       "      <td>0.253000</td>\n",
       "      <td>0.329000</td>\n",
       "      <td>11.000000</td>\n",
       "    </tr>\n",
       "    <tr>\n",
       "      <th>max</th>\n",
       "      <td>0.815000</td>\n",
       "      <td>0.650000</td>\n",
       "      <td>1.130000</td>\n",
       "      <td>2.825500</td>\n",
       "      <td>1.488000</td>\n",
       "      <td>0.760000</td>\n",
       "      <td>1.005000</td>\n",
       "      <td>29.000000</td>\n",
       "    </tr>\n",
       "  </tbody>\n",
       "</table>\n",
       "</div>"
      ],
      "text/plain": [
       "            Length  Diameter_continuous       Height  Whole_weight  \\\n",
       "count  4177.000000          4177.000000  4177.000000   4177.000000   \n",
       "mean      0.523992             0.407881     0.139516      0.828742   \n",
       "std       0.120093             0.099240     0.041827      0.490389   \n",
       "min       0.075000             0.055000     0.000000      0.002000   \n",
       "25%       0.450000             0.350000     0.115000      0.441500   \n",
       "50%       0.545000             0.425000     0.140000      0.799500   \n",
       "75%       0.615000             0.480000     0.165000      1.153000   \n",
       "max       0.815000             0.650000     1.130000      2.825500   \n",
       "\n",
       "       Shucked_weight  Viscera_weight  Shell weight        Rings  \n",
       "count     4177.000000     4177.000000   4177.000000  4177.000000  \n",
       "mean         0.359367        0.180594      0.238831     9.933684  \n",
       "std          0.221963        0.109614      0.139203     3.224169  \n",
       "min          0.001000        0.000500      0.001500     1.000000  \n",
       "25%          0.186000        0.093500      0.130000     8.000000  \n",
       "50%          0.336000        0.171000      0.234000     9.000000  \n",
       "75%          0.502000        0.253000      0.329000    11.000000  \n",
       "max          1.488000        0.760000      1.005000    29.000000  "
      ]
     },
     "execution_count": 3,
     "metadata": {},
     "output_type": "execute_result"
    }
   ],
   "source": [
    "df.describe()"
   ]
  },
  {
   "cell_type": "markdown",
   "id": "7bf4f4f4",
   "metadata": {},
   "source": [
    "height 값이 0 인 데이터가 있음\n",
    "\n",
    "결측치로 제거하자"
   ]
  },
  {
   "cell_type": "code",
   "execution_count": 4,
   "id": "2e42906d",
   "metadata": {},
   "outputs": [],
   "source": [
    "df.drop(df[df.Height==0].index, axis=0, inplace =True)"
   ]
  },
  {
   "cell_type": "code",
   "execution_count": 5,
   "id": "8decc587",
   "metadata": {
    "scrolled": true
   },
   "outputs": [
    {
     "data": {
      "text/plain": [
       "M    1528\n",
       "I    1340\n",
       "F    1307\n",
       "Name: Sex, dtype: int64"
      ]
     },
     "execution_count": 5,
     "metadata": {},
     "output_type": "execute_result"
    }
   ],
   "source": [
    "df.Sex.value_counts()"
   ]
  },
  {
   "cell_type": "markdown",
   "id": "bc104c8e",
   "metadata": {},
   "source": [
    "성별을 컬럼을 0,1,2로 바꿔주자"
   ]
  },
  {
   "cell_type": "code",
   "execution_count": 6,
   "id": "bd1427c8",
   "metadata": {},
   "outputs": [],
   "source": [
    "df.Sex = df.Sex.map({'M':0, 'F':1, 'I':2})"
   ]
  },
  {
   "cell_type": "markdown",
   "id": "0291c7ba",
   "metadata": {},
   "source": [
    "전복의 성별 나이 히스토그램"
   ]
  },
  {
   "cell_type": "code",
   "execution_count": 7,
   "id": "e64ba52c",
   "metadata": {},
   "outputs": [
    {
     "data": {
      "text/plain": [
       "<seaborn.axisgrid.FacetGrid at 0x2360efa48b0>"
      ]
     },
     "execution_count": 7,
     "metadata": {},
     "output_type": "execute_result"
    },
    {
     "data": {
      "image/png": "[encoded data removed]",
      "text/plain": [
       "<Figure size 648x216 with 3 Axes>"
      ]
     },
     "metadata": {
      "needs_background": "light"
     },
     "output_type": "display_data"
    }
   ],
   "source": [
    "grid = sns.FacetGrid(df, col = \"Sex\")\n",
    "grid.map(plt.hist, \"Rings\", alpha=0.5 )"
   ]
  },
  {
   "cell_type": "code",
   "execution_count": 8,
   "id": "44d2787c",
   "metadata": {},
   "outputs": [
    {
     "data": {
      "text/plain": [
       "<AxesSubplot:>"
      ]
     },
     "execution_count": 8,
     "metadata": {},
     "output_type": "execute_result"
    },
    {
     "data": {
      "image/png": "[encoded data removed]",
      "text/plain": [
       "<Figure size 432x288 with 1 Axes>"
      ]
     },
     "metadata": {
      "needs_background": "light"
     },
     "output_type": "display_data"
    }
   ],
   "source": [
    "df[\"Rings\"].value_counts().plot(kind=\"bar\")"
   ]
  },
  {
   "cell_type": "markdown",
   "id": "7176c745",
   "metadata": {},
   "source": [
    "전복의 성별 길이, 무게"
   ]
  },
  {
   "cell_type": "code",
   "execution_count": 9,
   "id": "0993e76e",
   "metadata": {},
   "outputs": [
    {
     "data": {
      "text/html": [
       "<div>\n",
       "<style scoped>\n",
       "    .dataframe tbody tr th:only-of-type {\n",
       "        vertical-align: middle;\n",
       "    }\n",
       "\n",
       "    .dataframe tbody tr th {\n",
       "        vertical-align: top;\n",
       "    }\n",
       "\n",
       "    .dataframe thead th {\n",
       "        text-align: right;\n",
       "    }\n",
       "</style>\n",
       "<table border=\"1\" class=\"dataframe\">\n",
       "  <thead>\n",
       "    <tr style=\"text-align: right;\">\n",
       "      <th></th>\n",
       "      <th>Sex</th>\n",
       "      <th>Length</th>\n",
       "      <th>Diameter_continuous</th>\n",
       "      <th>Height</th>\n",
       "      <th>Whole_weight</th>\n",
       "      <th>Shucked_weight</th>\n",
       "      <th>Viscera_weight</th>\n",
       "      <th>Shell weight</th>\n",
       "      <th>Rings</th>\n",
       "    </tr>\n",
       "  </thead>\n",
       "  <tbody>\n",
       "    <tr>\n",
       "      <th>0</th>\n",
       "      <td>0</td>\n",
       "      <td>0.561391</td>\n",
       "      <td>0.439287</td>\n",
       "      <td>0.151381</td>\n",
       "      <td>0.991459</td>\n",
       "      <td>0.432946</td>\n",
       "      <td>0.215545</td>\n",
       "      <td>0.281969</td>\n",
       "      <td>10.705497</td>\n",
       "    </tr>\n",
       "    <tr>\n",
       "      <th>1</th>\n",
       "      <td>1</td>\n",
       "      <td>0.579093</td>\n",
       "      <td>0.454732</td>\n",
       "      <td>0.158011</td>\n",
       "      <td>1.046532</td>\n",
       "      <td>0.446188</td>\n",
       "      <td>0.230689</td>\n",
       "      <td>0.302010</td>\n",
       "      <td>11.129304</td>\n",
       "    </tr>\n",
       "    <tr>\n",
       "      <th>2</th>\n",
       "      <td>2</td>\n",
       "      <td>0.427828</td>\n",
       "      <td>0.326556</td>\n",
       "      <td>0.108157</td>\n",
       "      <td>0.431587</td>\n",
       "      <td>0.191123</td>\n",
       "      <td>0.092062</td>\n",
       "      <td>0.128026</td>\n",
       "      <td>7.891791</td>\n",
       "    </tr>\n",
       "  </tbody>\n",
       "</table>\n",
       "</div>"
      ],
      "text/plain": [
       "   Sex    Length  Diameter_continuous    Height  Whole_weight  Shucked_weight  \\\n",
       "0    0  0.561391             0.439287  0.151381      0.991459        0.432946   \n",
       "1    1  0.579093             0.454732  0.158011      1.046532        0.446188   \n",
       "2    2  0.427828             0.326556  0.108157      0.431587        0.191123   \n",
       "\n",
       "   Viscera_weight  Shell weight      Rings  \n",
       "0        0.215545      0.281969  10.705497  \n",
       "1        0.230689      0.302010  11.129304  \n",
       "2        0.092062      0.128026   7.891791  "
      ]
     },
     "execution_count": 9,
     "metadata": {},
     "output_type": "execute_result"
    }
   ],
   "source": [
    "mean_by_sex = df.groupby(\"Sex\").mean().reset_index()\n",
    "mean_by_sex"
   ]
  },
  {
   "cell_type": "markdown",
   "id": "d80eb90f",
   "metadata": {},
   "source": [
    "male,female의 가장 큰 차이는 내장의 무게, 껍데기의 무게로 보인다"
   ]
  },
  {
   "cell_type": "code",
   "execution_count": 10,
   "id": "de940d1e",
   "metadata": {},
   "outputs": [
    {
     "data": {
      "text/plain": [
       "<AxesSubplot:xlabel='Sex', ylabel='Rings'>"
      ]
     },
     "execution_count": 10,
     "metadata": {},
     "output_type": "execute_result"
    },
    {
     "data": {
      "image/png": "[encoded data removed]",
      "text/plain": [
       "<Figure size 432x288 with 1 Axes>"
      ]
     },
     "metadata": {
      "needs_background": "light"
     },
     "output_type": "display_data"
    }
   ],
   "source": [
    "# plt.figure(figsize=(15,10))\n",
    "sns.barplot(data=mean_by_sex, x=\"Sex\", y=\"Rings\")"
   ]
  },
  {
   "cell_type": "markdown",
   "id": "b5a9923f",
   "metadata": {},
   "source": [
    "전체적인 데이터의 분포를  살펴보자"
   ]
  },
  {
   "cell_type": "code",
   "execution_count": 11,
   "id": "13d3d05c",
   "metadata": {
    "scrolled": true
   },
   "outputs": [
    {
     "data": {
      "text/plain": [
       "<AxesSubplot:>"
      ]
     },
     "execution_count": 11,
     "metadata": {},
     "output_type": "execute_result"
    },
    {
     "data": {
      "image/png": "[encoded data removed]",
      "text/plain": [
       "<Figure size 1152x432 with 1 Axes>"
      ]
     },
     "metadata": {
      "needs_background": "light"
     },
     "output_type": "display_data"
    }
   ],
   "source": [
    "plt.figure(figsize=(16,6))\n",
    "sns.boxplot(data=df.drop(\"Rings\",axis=1))"
   ]
  },
  {
   "cell_type": "code",
   "execution_count": 12,
   "id": "c26591f8",
   "metadata": {},
   "outputs": [
    {
     "data": {
      "text/html": [
       "<div>\n",
       "<style scoped>\n",
       "    .dataframe tbody tr th:only-of-type {\n",
       "        vertical-align: middle;\n",
       "    }\n",
       "\n",
       "    .dataframe tbody tr th {\n",
       "        vertical-align: top;\n",
       "    }\n",
       "\n",
       "    .dataframe thead th {\n",
       "        text-align: right;\n",
       "    }\n",
       "</style>\n",
       "<table border=\"1\" class=\"dataframe\">\n",
       "  <thead>\n",
       "    <tr style=\"text-align: right;\">\n",
       "      <th></th>\n",
       "      <th>count</th>\n",
       "      <th>mean</th>\n",
       "      <th>std</th>\n",
       "      <th>min</th>\n",
       "      <th>25%</th>\n",
       "      <th>50%</th>\n",
       "      <th>75%</th>\n",
       "      <th>max</th>\n",
       "    </tr>\n",
       "  </thead>\n",
       "  <tbody>\n",
       "    <tr>\n",
       "      <th>Sex</th>\n",
       "      <td>4175.0</td>\n",
       "      <td>0.954970</td>\n",
       "      <td>0.827697</td>\n",
       "      <td>0.0000</td>\n",
       "      <td>0.00000</td>\n",
       "      <td>1.000</td>\n",
       "      <td>2.00000</td>\n",
       "      <td>2.0000</td>\n",
       "    </tr>\n",
       "    <tr>\n",
       "      <th>Length</th>\n",
       "      <td>4175.0</td>\n",
       "      <td>0.524065</td>\n",
       "      <td>0.120069</td>\n",
       "      <td>0.0750</td>\n",
       "      <td>0.45000</td>\n",
       "      <td>0.545</td>\n",
       "      <td>0.61500</td>\n",
       "      <td>0.8150</td>\n",
       "    </tr>\n",
       "    <tr>\n",
       "      <th>Diameter_continuous</th>\n",
       "      <td>4175.0</td>\n",
       "      <td>0.407940</td>\n",
       "      <td>0.099220</td>\n",
       "      <td>0.0550</td>\n",
       "      <td>0.35000</td>\n",
       "      <td>0.425</td>\n",
       "      <td>0.48000</td>\n",
       "      <td>0.6500</td>\n",
       "    </tr>\n",
       "    <tr>\n",
       "      <th>Height</th>\n",
       "      <td>4175.0</td>\n",
       "      <td>0.139583</td>\n",
       "      <td>0.041725</td>\n",
       "      <td>0.0100</td>\n",
       "      <td>0.11500</td>\n",
       "      <td>0.140</td>\n",
       "      <td>0.16500</td>\n",
       "      <td>1.1300</td>\n",
       "    </tr>\n",
       "    <tr>\n",
       "      <th>Whole_weight</th>\n",
       "      <td>4175.0</td>\n",
       "      <td>0.829005</td>\n",
       "      <td>0.490349</td>\n",
       "      <td>0.0020</td>\n",
       "      <td>0.44225</td>\n",
       "      <td>0.800</td>\n",
       "      <td>1.15350</td>\n",
       "      <td>2.8255</td>\n",
       "    </tr>\n",
       "    <tr>\n",
       "      <th>Shucked_weight</th>\n",
       "      <td>4175.0</td>\n",
       "      <td>0.359476</td>\n",
       "      <td>0.221954</td>\n",
       "      <td>0.0010</td>\n",
       "      <td>0.18625</td>\n",
       "      <td>0.336</td>\n",
       "      <td>0.50200</td>\n",
       "      <td>1.4880</td>\n",
       "    </tr>\n",
       "    <tr>\n",
       "      <th>Viscera_weight</th>\n",
       "      <td>4175.0</td>\n",
       "      <td>0.180653</td>\n",
       "      <td>0.109605</td>\n",
       "      <td>0.0005</td>\n",
       "      <td>0.09350</td>\n",
       "      <td>0.171</td>\n",
       "      <td>0.25300</td>\n",
       "      <td>0.7600</td>\n",
       "    </tr>\n",
       "    <tr>\n",
       "      <th>Shell weight</th>\n",
       "      <td>4175.0</td>\n",
       "      <td>0.238834</td>\n",
       "      <td>0.139212</td>\n",
       "      <td>0.0015</td>\n",
       "      <td>0.13000</td>\n",
       "      <td>0.234</td>\n",
       "      <td>0.32875</td>\n",
       "      <td>1.0050</td>\n",
       "    </tr>\n",
       "    <tr>\n",
       "      <th>Rings</th>\n",
       "      <td>4175.0</td>\n",
       "      <td>9.935090</td>\n",
       "      <td>3.224227</td>\n",
       "      <td>1.0000</td>\n",
       "      <td>8.00000</td>\n",
       "      <td>9.000</td>\n",
       "      <td>11.00000</td>\n",
       "      <td>29.0000</td>\n",
       "    </tr>\n",
       "  </tbody>\n",
       "</table>\n",
       "</div>"
      ],
      "text/plain": [
       "                      count      mean       std     min      25%    50%  \\\n",
       "Sex                  4175.0  0.954970  0.827697  0.0000  0.00000  1.000   \n",
       "Length               4175.0  0.524065  0.120069  0.0750  0.45000  0.545   \n",
       "Diameter_continuous  4175.0  0.407940  0.099220  0.0550  0.35000  0.425   \n",
       "Height               4175.0  0.139583  0.041725  0.0100  0.11500  0.140   \n",
       "Whole_weight         4175.0  0.829005  0.490349  0.0020  0.44225  0.800   \n",
       "Shucked_weight       4175.0  0.359476  0.221954  0.0010  0.18625  0.336   \n",
       "Viscera_weight       4175.0  0.180653  0.109605  0.0005  0.09350  0.171   \n",
       "Shell weight         4175.0  0.238834  0.139212  0.0015  0.13000  0.234   \n",
       "Rings                4175.0  9.935090  3.224227  1.0000  8.00000  9.000   \n",
       "\n",
       "                          75%      max  \n",
       "Sex                   2.00000   2.0000  \n",
       "Length                0.61500   0.8150  \n",
       "Diameter_continuous   0.48000   0.6500  \n",
       "Height                0.16500   1.1300  \n",
       "Whole_weight          1.15350   2.8255  \n",
       "Shucked_weight        0.50200   1.4880  \n",
       "Viscera_weight        0.25300   0.7600  \n",
       "Shell weight          0.32875   1.0050  \n",
       "Rings                11.00000  29.0000  "
      ]
     },
     "execution_count": 12,
     "metadata": {},
     "output_type": "execute_result"
    }
   ],
   "source": [
    "df.describe().T"
   ]
  },
  {
   "cell_type": "markdown",
   "id": "698d3d0f",
   "metadata": {},
   "source": [
    "### 이상치제거\n",
    "\n",
    "유독 튀는 height의 이상치를 제거하자\n"
   ]
  },
  {
   "cell_type": "code",
   "execution_count": 13,
   "id": "9d2bb4e0",
   "metadata": {},
   "outputs": [],
   "source": [
    "# np.percentile(df[\"Rings\"].values, 25)"
   ]
  },
  {
   "cell_type": "code",
   "execution_count": 14,
   "id": "3f51e703",
   "metadata": {},
   "outputs": [],
   "source": [
    "def get_outlier(df=None, column=None, weight=1.5):\n",
    "\n",
    "    quantile_25 = np.percentile(df[column].values, 25)\n",
    "    quantile_75 = np.percentile(df[column].values, 75)\n",
    "\n",
    "    IQR = quantile_75 - quantile_25\n",
    "    IQR_weight = IQR*weight\n",
    "\n",
    "    lowest = quantile_25 - IQR_weight\n",
    "    highest = quantile_75 + IQR_weight\n",
    "\n",
    "    outlier_idx = df[column][ (df[column] < lowest) | (df[column] > highest) ].index\n",
    "    return outlier_idx"
   ]
  },
  {
   "cell_type": "code",
   "execution_count": 15,
   "id": "be1a8a43",
   "metadata": {},
   "outputs": [],
   "source": [
    "# df.columns\n",
    "# col = ['Height', 'Whole_weight',\n",
    "#        'Shucked_weight', 'Viscera_weight', 'Shell weight', 'Rings']"
   ]
  },
  {
   "cell_type": "code",
   "execution_count": 16,
   "id": "2b2fd228",
   "metadata": {},
   "outputs": [],
   "source": [
    "outlier_idx = get_outlier(df, column=\"Height\", weight=1.5)\n",
    "df.drop(outlier_idx, axis=0, inplace=True)"
   ]
  },
  {
   "cell_type": "code",
   "execution_count": 17,
   "id": "615f898c",
   "metadata": {},
   "outputs": [
    {
     "data": {
      "text/html": [
       "<div>\n",
       "<style scoped>\n",
       "    .dataframe tbody tr th:only-of-type {\n",
       "        vertical-align: middle;\n",
       "    }\n",
       "\n",
       "    .dataframe tbody tr th {\n",
       "        vertical-align: top;\n",
       "    }\n",
       "\n",
       "    .dataframe thead th {\n",
       "        text-align: right;\n",
       "    }\n",
       "</style>\n",
       "<table border=\"1\" class=\"dataframe\">\n",
       "  <thead>\n",
       "    <tr style=\"text-align: right;\">\n",
       "      <th></th>\n",
       "      <th>Sex</th>\n",
       "      <th>Length</th>\n",
       "      <th>Diameter_continuous</th>\n",
       "      <th>Height</th>\n",
       "      <th>Whole_weight</th>\n",
       "      <th>Shucked_weight</th>\n",
       "      <th>Viscera_weight</th>\n",
       "      <th>Shell weight</th>\n",
       "      <th>Rings</th>\n",
       "    </tr>\n",
       "  </thead>\n",
       "  <tbody>\n",
       "    <tr>\n",
       "      <th>0</th>\n",
       "      <td>0</td>\n",
       "      <td>0.455</td>\n",
       "      <td>0.365</td>\n",
       "      <td>0.095</td>\n",
       "      <td>0.5140</td>\n",
       "      <td>0.2245</td>\n",
       "      <td>0.1010</td>\n",
       "      <td>0.1500</td>\n",
       "      <td>15</td>\n",
       "    </tr>\n",
       "    <tr>\n",
       "      <th>1</th>\n",
       "      <td>0</td>\n",
       "      <td>0.350</td>\n",
       "      <td>0.265</td>\n",
       "      <td>0.090</td>\n",
       "      <td>0.2255</td>\n",
       "      <td>0.0995</td>\n",
       "      <td>0.0485</td>\n",
       "      <td>0.0700</td>\n",
       "      <td>7</td>\n",
       "    </tr>\n",
       "    <tr>\n",
       "      <th>2</th>\n",
       "      <td>1</td>\n",
       "      <td>0.530</td>\n",
       "      <td>0.420</td>\n",
       "      <td>0.135</td>\n",
       "      <td>0.6770</td>\n",
       "      <td>0.2565</td>\n",
       "      <td>0.1415</td>\n",
       "      <td>0.2100</td>\n",
       "      <td>9</td>\n",
       "    </tr>\n",
       "    <tr>\n",
       "      <th>3</th>\n",
       "      <td>0</td>\n",
       "      <td>0.440</td>\n",
       "      <td>0.365</td>\n",
       "      <td>0.125</td>\n",
       "      <td>0.5160</td>\n",
       "      <td>0.2155</td>\n",
       "      <td>0.1140</td>\n",
       "      <td>0.1550</td>\n",
       "      <td>10</td>\n",
       "    </tr>\n",
       "    <tr>\n",
       "      <th>4</th>\n",
       "      <td>2</td>\n",
       "      <td>0.330</td>\n",
       "      <td>0.255</td>\n",
       "      <td>0.080</td>\n",
       "      <td>0.2050</td>\n",
       "      <td>0.0895</td>\n",
       "      <td>0.0395</td>\n",
       "      <td>0.0550</td>\n",
       "      <td>7</td>\n",
       "    </tr>\n",
       "    <tr>\n",
       "      <th>...</th>\n",
       "      <td>...</td>\n",
       "      <td>...</td>\n",
       "      <td>...</td>\n",
       "      <td>...</td>\n",
       "      <td>...</td>\n",
       "      <td>...</td>\n",
       "      <td>...</td>\n",
       "      <td>...</td>\n",
       "      <td>...</td>\n",
       "    </tr>\n",
       "    <tr>\n",
       "      <th>4172</th>\n",
       "      <td>1</td>\n",
       "      <td>0.565</td>\n",
       "      <td>0.450</td>\n",
       "      <td>0.165</td>\n",
       "      <td>0.8870</td>\n",
       "      <td>0.3700</td>\n",
       "      <td>0.2390</td>\n",
       "      <td>0.2490</td>\n",
       "      <td>11</td>\n",
       "    </tr>\n",
       "    <tr>\n",
       "      <th>4173</th>\n",
       "      <td>0</td>\n",
       "      <td>0.590</td>\n",
       "      <td>0.440</td>\n",
       "      <td>0.135</td>\n",
       "      <td>0.9660</td>\n",
       "      <td>0.4390</td>\n",
       "      <td>0.2145</td>\n",
       "      <td>0.2605</td>\n",
       "      <td>10</td>\n",
       "    </tr>\n",
       "    <tr>\n",
       "      <th>4174</th>\n",
       "      <td>0</td>\n",
       "      <td>0.600</td>\n",
       "      <td>0.475</td>\n",
       "      <td>0.205</td>\n",
       "      <td>1.1760</td>\n",
       "      <td>0.5255</td>\n",
       "      <td>0.2875</td>\n",
       "      <td>0.3080</td>\n",
       "      <td>9</td>\n",
       "    </tr>\n",
       "    <tr>\n",
       "      <th>4175</th>\n",
       "      <td>1</td>\n",
       "      <td>0.625</td>\n",
       "      <td>0.485</td>\n",
       "      <td>0.150</td>\n",
       "      <td>1.0945</td>\n",
       "      <td>0.5310</td>\n",
       "      <td>0.2610</td>\n",
       "      <td>0.2960</td>\n",
       "      <td>10</td>\n",
       "    </tr>\n",
       "    <tr>\n",
       "      <th>4176</th>\n",
       "      <td>0</td>\n",
       "      <td>0.710</td>\n",
       "      <td>0.555</td>\n",
       "      <td>0.195</td>\n",
       "      <td>1.9485</td>\n",
       "      <td>0.9455</td>\n",
       "      <td>0.3765</td>\n",
       "      <td>0.4950</td>\n",
       "      <td>12</td>\n",
       "    </tr>\n",
       "  </tbody>\n",
       "</table>\n",
       "<p>4148 rows × 9 columns</p>\n",
       "</div>"
      ],
      "text/plain": [
       "      Sex  Length  Diameter_continuous  Height  Whole_weight  Shucked_weight  \\\n",
       "0       0   0.455                0.365   0.095        0.5140          0.2245   \n",
       "1       0   0.350                0.265   0.090        0.2255          0.0995   \n",
       "2       1   0.530                0.420   0.135        0.6770          0.2565   \n",
       "3       0   0.440                0.365   0.125        0.5160          0.2155   \n",
       "4       2   0.330                0.255   0.080        0.2050          0.0895   \n",
       "...   ...     ...                  ...     ...           ...             ...   \n",
       "4172    1   0.565                0.450   0.165        0.8870          0.3700   \n",
       "4173    0   0.590                0.440   0.135        0.9660          0.4390   \n",
       "4174    0   0.600                0.475   0.205        1.1760          0.5255   \n",
       "4175    1   0.625                0.485   0.150        1.0945          0.5310   \n",
       "4176    0   0.710                0.555   0.195        1.9485          0.9455   \n",
       "\n",
       "      Viscera_weight  Shell weight  Rings  \n",
       "0             0.1010        0.1500     15  \n",
       "1             0.0485        0.0700      7  \n",
       "2             0.1415        0.2100      9  \n",
       "3             0.1140        0.1550     10  \n",
       "4             0.0395        0.0550      7  \n",
       "...              ...           ...    ...  \n",
       "4172          0.2390        0.2490     11  \n",
       "4173          0.2145        0.2605     10  \n",
       "4174          0.2875        0.3080      9  \n",
       "4175          0.2610        0.2960     10  \n",
       "4176          0.3765        0.4950     12  \n",
       "\n",
       "[4148 rows x 9 columns]"
      ]
     },
     "execution_count": 17,
     "metadata": {},
     "output_type": "execute_result"
    }
   ],
   "source": [
    "df"
   ]
  },
  {
   "cell_type": "markdown",
   "id": "70db32a0",
   "metadata": {},
   "source": [
    "성별에 따른 boxplot"
   ]
  },
  {
   "cell_type": "code",
   "execution_count": 18,
   "id": "5f0a241f",
   "metadata": {
    "code_folding": []
   },
   "outputs": [
    {
     "name": "stdout",
     "output_type": "stream",
     "text": [
      "0 Length\n",
      "1 Diameter_continuous\n",
      "2 Height\n",
      "3 Whole_weight\n",
      "4 Shucked_weight\n",
      "5 Viscera_weight\n",
      "6 Shell weight\n",
      "7 Rings\n"
     ]
    },
    {
     "data": {
      "image/png": "[encoded data removed]",
      "text/plain": [
       "<Figure size 1152x864 with 8 Axes>"
      ]
     },
     "metadata": {
      "needs_background": "light"
     },
     "output_type": "display_data"
    }
   ],
   "source": [
    "fig=plt.figure(figsize=(16,12))\n",
    "\n",
    "for i, column_name in enumerate(df.columns[1:]):\n",
    "    print(i,column_name)\n",
    "    fig.add_subplot(4,2,i+1)\n",
    "    sns.boxplot(data = df, x=\"Sex\",y=column_name, color=\"royalblue\")"
   ]
  },
  {
   "cell_type": "markdown",
   "id": "7e6e48a3",
   "metadata": {},
   "source": [
    "Rings는 나이인데 female, male은 나이대가 같고 infant만 달라서 3구간으로 나누는게 나을것같다"
   ]
  },
  {
   "cell_type": "code",
   "execution_count": 29,
   "id": "fc964a2e",
   "metadata": {},
   "outputs": [
    {
     "data": {
      "text/html": [
       "<div>\n",
       "<style scoped>\n",
       "    .dataframe tbody tr th:only-of-type {\n",
       "        vertical-align: middle;\n",
       "    }\n",
       "\n",
       "    .dataframe tbody tr th {\n",
       "        vertical-align: top;\n",
       "    }\n",
       "\n",
       "    .dataframe thead th {\n",
       "        text-align: right;\n",
       "    }\n",
       "</style>\n",
       "<table border=\"1\" class=\"dataframe\">\n",
       "  <thead>\n",
       "    <tr style=\"text-align: right;\">\n",
       "      <th></th>\n",
       "      <th>Rings</th>\n",
       "    </tr>\n",
       "  </thead>\n",
       "  <tbody>\n",
       "    <tr>\n",
       "      <th>count</th>\n",
       "      <td>1525.000000</td>\n",
       "    </tr>\n",
       "    <tr>\n",
       "      <th>mean</th>\n",
       "      <td>10.708852</td>\n",
       "    </tr>\n",
       "    <tr>\n",
       "      <th>std</th>\n",
       "      <td>3.025562</td>\n",
       "    </tr>\n",
       "    <tr>\n",
       "      <th>min</th>\n",
       "      <td>3.000000</td>\n",
       "    </tr>\n",
       "    <tr>\n",
       "      <th>25%</th>\n",
       "      <td>9.000000</td>\n",
       "    </tr>\n",
       "    <tr>\n",
       "      <th>50%</th>\n",
       "      <td>10.000000</td>\n",
       "    </tr>\n",
       "    <tr>\n",
       "      <th>75%</th>\n",
       "      <td>12.000000</td>\n",
       "    </tr>\n",
       "    <tr>\n",
       "      <th>max</th>\n",
       "      <td>27.000000</td>\n",
       "    </tr>\n",
       "  </tbody>\n",
       "</table>\n",
       "</div>"
      ],
      "text/plain": [
       "             Rings\n",
       "count  1525.000000\n",
       "mean     10.708852\n",
       "std       3.025562\n",
       "min       3.000000\n",
       "25%       9.000000\n",
       "50%      10.000000\n",
       "75%      12.000000\n",
       "max      27.000000"
      ]
     },
     "execution_count": 29,
     "metadata": {},
     "output_type": "execute_result"
    }
   ],
   "source": [
    "df[df.Sex==0].describe()[[\"Rings\"]]"
   ]
  },
  {
   "cell_type": "code",
   "execution_count": 30,
   "id": "4340e619",
   "metadata": {},
   "outputs": [
    {
     "data": {
      "text/html": [
       "<div>\n",
       "<style scoped>\n",
       "    .dataframe tbody tr th:only-of-type {\n",
       "        vertical-align: middle;\n",
       "    }\n",
       "\n",
       "    .dataframe tbody tr th {\n",
       "        vertical-align: top;\n",
       "    }\n",
       "\n",
       "    .dataframe thead th {\n",
       "        text-align: right;\n",
       "    }\n",
       "</style>\n",
       "<table border=\"1\" class=\"dataframe\">\n",
       "  <thead>\n",
       "    <tr style=\"text-align: right;\">\n",
       "      <th></th>\n",
       "      <th>Rings</th>\n",
       "    </tr>\n",
       "  </thead>\n",
       "  <tbody>\n",
       "    <tr>\n",
       "      <th>count</th>\n",
       "      <td>1303.000000</td>\n",
       "    </tr>\n",
       "    <tr>\n",
       "      <th>mean</th>\n",
       "      <td>11.128933</td>\n",
       "    </tr>\n",
       "    <tr>\n",
       "      <th>std</th>\n",
       "      <td>3.105213</td>\n",
       "    </tr>\n",
       "    <tr>\n",
       "      <th>min</th>\n",
       "      <td>5.000000</td>\n",
       "    </tr>\n",
       "    <tr>\n",
       "      <th>25%</th>\n",
       "      <td>9.000000</td>\n",
       "    </tr>\n",
       "    <tr>\n",
       "      <th>50%</th>\n",
       "      <td>10.000000</td>\n",
       "    </tr>\n",
       "    <tr>\n",
       "      <th>75%</th>\n",
       "      <td>12.000000</td>\n",
       "    </tr>\n",
       "    <tr>\n",
       "      <th>max</th>\n",
       "      <td>29.000000</td>\n",
       "    </tr>\n",
       "  </tbody>\n",
       "</table>\n",
       "</div>"
      ],
      "text/plain": [
       "             Rings\n",
       "count  1303.000000\n",
       "mean     11.128933\n",
       "std       3.105213\n",
       "min       5.000000\n",
       "25%       9.000000\n",
       "50%      10.000000\n",
       "75%      12.000000\n",
       "max      29.000000"
      ]
     },
     "execution_count": 30,
     "metadata": {},
     "output_type": "execute_result"
    }
   ],
   "source": [
    "df[df.Sex==1].describe()[[\"Rings\"]]"
   ]
  },
  {
   "cell_type": "code",
   "execution_count": 31,
   "id": "f3f02d7f",
   "metadata": {},
   "outputs": [
    {
     "data": {
      "text/html": [
       "<div>\n",
       "<style scoped>\n",
       "    .dataframe tbody tr th:only-of-type {\n",
       "        vertical-align: middle;\n",
       "    }\n",
       "\n",
       "    .dataframe tbody tr th {\n",
       "        vertical-align: top;\n",
       "    }\n",
       "\n",
       "    .dataframe thead th {\n",
       "        text-align: right;\n",
       "    }\n",
       "</style>\n",
       "<table border=\"1\" class=\"dataframe\">\n",
       "  <thead>\n",
       "    <tr style=\"text-align: right;\">\n",
       "      <th></th>\n",
       "      <th>Rings</th>\n",
       "    </tr>\n",
       "  </thead>\n",
       "  <tbody>\n",
       "    <tr>\n",
       "      <th>count</th>\n",
       "      <td>1320.000000</td>\n",
       "    </tr>\n",
       "    <tr>\n",
       "      <th>mean</th>\n",
       "      <td>7.955303</td>\n",
       "    </tr>\n",
       "    <tr>\n",
       "      <th>std</th>\n",
       "      <td>2.474183</td>\n",
       "    </tr>\n",
       "    <tr>\n",
       "      <th>min</th>\n",
       "      <td>3.000000</td>\n",
       "    </tr>\n",
       "    <tr>\n",
       "      <th>25%</th>\n",
       "      <td>6.000000</td>\n",
       "    </tr>\n",
       "    <tr>\n",
       "      <th>50%</th>\n",
       "      <td>8.000000</td>\n",
       "    </tr>\n",
       "    <tr>\n",
       "      <th>75%</th>\n",
       "      <td>9.000000</td>\n",
       "    </tr>\n",
       "    <tr>\n",
       "      <th>max</th>\n",
       "      <td>21.000000</td>\n",
       "    </tr>\n",
       "  </tbody>\n",
       "</table>\n",
       "</div>"
      ],
      "text/plain": [
       "             Rings\n",
       "count  1320.000000\n",
       "mean      7.955303\n",
       "std       2.474183\n",
       "min       3.000000\n",
       "25%       6.000000\n",
       "50%       8.000000\n",
       "75%       9.000000\n",
       "max      21.000000"
      ]
     },
     "execution_count": 31,
     "metadata": {},
     "output_type": "execute_result"
    }
   ],
   "source": [
    "df[df.Sex==2].describe()[[\"Rings\"]]"
   ]
  },
  {
   "cell_type": "code",
   "execution_count": 20,
   "id": "37b98ce6",
   "metadata": {},
   "outputs": [
    {
     "data": {
      "text/plain": [
       "0         (11.0, 29.0]\n",
       "1       (2.999, 8.333]\n",
       "2        (8.333, 11.0]\n",
       "3        (8.333, 11.0]\n",
       "4       (2.999, 8.333]\n",
       "             ...      \n",
       "4172     (8.333, 11.0]\n",
       "4173     (8.333, 11.0]\n",
       "4174     (8.333, 11.0]\n",
       "4175     (8.333, 11.0]\n",
       "4176      (11.0, 29.0]\n",
       "Name: Rings, Length: 4148, dtype: category\n",
       "Categories (3, interval[float64]): [(2.999, 8.333] < (8.333, 11.0] < (11.0, 29.0]]"
      ]
     },
     "execution_count": 20,
     "metadata": {},
     "output_type": "execute_result"
    }
   ],
   "source": [
    "pd.qcut(df.Rings,3)"
   ]
  },
  {
   "cell_type": "code",
   "execution_count": 33,
   "id": "875dc07e",
   "metadata": {},
   "outputs": [],
   "source": [
    "df[\"Rings_band\"] = np.where(df.Rings<9 , 0,\n",
    "                           np.where(df.Rings<12,1,2))"
   ]
  },
  {
   "cell_type": "code",
   "execution_count": 34,
   "id": "96eb7ab3",
   "metadata": {},
   "outputs": [],
   "source": [
    "df.drop(\"Rings\", axis= 1, inplace=True)"
   ]
  },
  {
   "cell_type": "markdown",
   "id": "6f216b9a",
   "metadata": {},
   "source": [
    "### 어린 infant를 제외하고 암컷이 수컷보다 전체적인 면에서 조금씩 큰것을 확인할 수 있다"
   ]
  },
  {
   "cell_type": "code",
   "execution_count": 35,
   "id": "7187e7cb",
   "metadata": {},
   "outputs": [],
   "source": [
    "mask = np.triu(np.ones_like(df.corr(),dtype=bool))"
   ]
  },
  {
   "cell_type": "code",
   "execution_count": 36,
   "id": "3cd8a201",
   "metadata": {},
   "outputs": [
    {
     "data": {
      "text/plain": [
       "<AxesSubplot:>"
      ]
     },
     "execution_count": 36,
     "metadata": {},
     "output_type": "execute_result"
    },
    {
     "data": {
      "image/png": "[encoded data removed]",
      "text/plain": [
       "<Figure size 1152x864 with 2 Axes>"
      ]
     },
     "metadata": {
      "needs_background": "light"
     },
     "output_type": "display_data"
    }
   ],
   "source": [
    "plt.figure(figsize=(16,12))\n",
    "sns.heatmap(df.corr(), annot=True,\n",
    "            mask=mask,linewidths=.5, cmap=\"coolwarm\")"
   ]
  },
  {
   "cell_type": "markdown",
   "id": "7596378e",
   "metadata": {},
   "source": [
    "영유아인지 아닌지 컬럼도 만들자"
   ]
  },
  {
   "cell_type": "code",
   "execution_count": 37,
   "id": "5d9dff83",
   "metadata": {},
   "outputs": [],
   "source": [
    "df[\"is_infant\"] = np.where(df.Sex==2,1,0)"
   ]
  },
  {
   "cell_type": "code",
   "execution_count": 38,
   "id": "8ff80c11",
   "metadata": {},
   "outputs": [
    {
     "data": {
      "text/html": [
       "<div>\n",
       "<style scoped>\n",
       "    .dataframe tbody tr th:only-of-type {\n",
       "        vertical-align: middle;\n",
       "    }\n",
       "\n",
       "    .dataframe tbody tr th {\n",
       "        vertical-align: top;\n",
       "    }\n",
       "\n",
       "    .dataframe thead th {\n",
       "        text-align: right;\n",
       "    }\n",
       "</style>\n",
       "<table border=\"1\" class=\"dataframe\">\n",
       "  <thead>\n",
       "    <tr style=\"text-align: right;\">\n",
       "      <th></th>\n",
       "      <th>Sex</th>\n",
       "      <th>Length</th>\n",
       "      <th>Diameter_continuous</th>\n",
       "      <th>Height</th>\n",
       "      <th>Whole_weight</th>\n",
       "      <th>Shucked_weight</th>\n",
       "      <th>Viscera_weight</th>\n",
       "      <th>Shell weight</th>\n",
       "      <th>Rings_band</th>\n",
       "      <th>is_infant</th>\n",
       "    </tr>\n",
       "  </thead>\n",
       "  <tbody>\n",
       "    <tr>\n",
       "      <th>0</th>\n",
       "      <td>0</td>\n",
       "      <td>0.455</td>\n",
       "      <td>0.365</td>\n",
       "      <td>0.095</td>\n",
       "      <td>0.5140</td>\n",
       "      <td>0.2245</td>\n",
       "      <td>0.1010</td>\n",
       "      <td>0.150</td>\n",
       "      <td>2</td>\n",
       "      <td>0</td>\n",
       "    </tr>\n",
       "    <tr>\n",
       "      <th>1</th>\n",
       "      <td>0</td>\n",
       "      <td>0.350</td>\n",
       "      <td>0.265</td>\n",
       "      <td>0.090</td>\n",
       "      <td>0.2255</td>\n",
       "      <td>0.0995</td>\n",
       "      <td>0.0485</td>\n",
       "      <td>0.070</td>\n",
       "      <td>0</td>\n",
       "      <td>0</td>\n",
       "    </tr>\n",
       "    <tr>\n",
       "      <th>2</th>\n",
       "      <td>1</td>\n",
       "      <td>0.530</td>\n",
       "      <td>0.420</td>\n",
       "      <td>0.135</td>\n",
       "      <td>0.6770</td>\n",
       "      <td>0.2565</td>\n",
       "      <td>0.1415</td>\n",
       "      <td>0.210</td>\n",
       "      <td>1</td>\n",
       "      <td>0</td>\n",
       "    </tr>\n",
       "    <tr>\n",
       "      <th>3</th>\n",
       "      <td>0</td>\n",
       "      <td>0.440</td>\n",
       "      <td>0.365</td>\n",
       "      <td>0.125</td>\n",
       "      <td>0.5160</td>\n",
       "      <td>0.2155</td>\n",
       "      <td>0.1140</td>\n",
       "      <td>0.155</td>\n",
       "      <td>1</td>\n",
       "      <td>0</td>\n",
       "    </tr>\n",
       "    <tr>\n",
       "      <th>4</th>\n",
       "      <td>2</td>\n",
       "      <td>0.330</td>\n",
       "      <td>0.255</td>\n",
       "      <td>0.080</td>\n",
       "      <td>0.2050</td>\n",
       "      <td>0.0895</td>\n",
       "      <td>0.0395</td>\n",
       "      <td>0.055</td>\n",
       "      <td>0</td>\n",
       "      <td>1</td>\n",
       "    </tr>\n",
       "  </tbody>\n",
       "</table>\n",
       "</div>"
      ],
      "text/plain": [
       "   Sex  Length  Diameter_continuous  Height  Whole_weight  Shucked_weight  \\\n",
       "0    0   0.455                0.365   0.095        0.5140          0.2245   \n",
       "1    0   0.350                0.265   0.090        0.2255          0.0995   \n",
       "2    1   0.530                0.420   0.135        0.6770          0.2565   \n",
       "3    0   0.440                0.365   0.125        0.5160          0.2155   \n",
       "4    2   0.330                0.255   0.080        0.2050          0.0895   \n",
       "\n",
       "   Viscera_weight  Shell weight  Rings_band  is_infant  \n",
       "0          0.1010         0.150           2          0  \n",
       "1          0.0485         0.070           0          0  \n",
       "2          0.1415         0.210           1          0  \n",
       "3          0.1140         0.155           1          0  \n",
       "4          0.0395         0.055           0          1  "
      ]
     },
     "execution_count": 38,
     "metadata": {},
     "output_type": "execute_result"
    }
   ],
   "source": [
    "df.head()"
   ]
  },
  {
   "cell_type": "markdown",
   "id": "839f0502",
   "metadata": {},
   "source": [
    "## 데이터 정규화"
   ]
  },
  {
   "cell_type": "code",
   "execution_count": 39,
   "id": "9f3a0a57",
   "metadata": {},
   "outputs": [],
   "source": [
    "df = pd.get_dummies(df,columns=[\"Rings_band\",\"is_infant\"])"
   ]
  },
  {
   "cell_type": "code",
   "execution_count": 40,
   "id": "4837101c",
   "metadata": {},
   "outputs": [
    {
     "data": {
      "text/html": [
       "<div>\n",
       "<style scoped>\n",
       "    .dataframe tbody tr th:only-of-type {\n",
       "        vertical-align: middle;\n",
       "    }\n",
       "\n",
       "    .dataframe tbody tr th {\n",
       "        vertical-align: top;\n",
       "    }\n",
       "\n",
       "    .dataframe thead th {\n",
       "        text-align: right;\n",
       "    }\n",
       "</style>\n",
       "<table border=\"1\" class=\"dataframe\">\n",
       "  <thead>\n",
       "    <tr style=\"text-align: right;\">\n",
       "      <th></th>\n",
       "      <th>Sex</th>\n",
       "      <th>Length</th>\n",
       "      <th>Diameter_continuous</th>\n",
       "      <th>Height</th>\n",
       "      <th>Whole_weight</th>\n",
       "      <th>Shucked_weight</th>\n",
       "      <th>Viscera_weight</th>\n",
       "      <th>Shell weight</th>\n",
       "      <th>Rings_band_0</th>\n",
       "      <th>Rings_band_1</th>\n",
       "      <th>Rings_band_2</th>\n",
       "      <th>is_infant_0</th>\n",
       "      <th>is_infant_1</th>\n",
       "    </tr>\n",
       "  </thead>\n",
       "  <tbody>\n",
       "    <tr>\n",
       "      <th>0</th>\n",
       "      <td>0</td>\n",
       "      <td>0.455</td>\n",
       "      <td>0.365</td>\n",
       "      <td>0.095</td>\n",
       "      <td>0.5140</td>\n",
       "      <td>0.2245</td>\n",
       "      <td>0.1010</td>\n",
       "      <td>0.1500</td>\n",
       "      <td>0</td>\n",
       "      <td>0</td>\n",
       "      <td>1</td>\n",
       "      <td>1</td>\n",
       "      <td>0</td>\n",
       "    </tr>\n",
       "    <tr>\n",
       "      <th>1</th>\n",
       "      <td>0</td>\n",
       "      <td>0.350</td>\n",
       "      <td>0.265</td>\n",
       "      <td>0.090</td>\n",
       "      <td>0.2255</td>\n",
       "      <td>0.0995</td>\n",
       "      <td>0.0485</td>\n",
       "      <td>0.0700</td>\n",
       "      <td>1</td>\n",
       "      <td>0</td>\n",
       "      <td>0</td>\n",
       "      <td>1</td>\n",
       "      <td>0</td>\n",
       "    </tr>\n",
       "    <tr>\n",
       "      <th>2</th>\n",
       "      <td>1</td>\n",
       "      <td>0.530</td>\n",
       "      <td>0.420</td>\n",
       "      <td>0.135</td>\n",
       "      <td>0.6770</td>\n",
       "      <td>0.2565</td>\n",
       "      <td>0.1415</td>\n",
       "      <td>0.2100</td>\n",
       "      <td>0</td>\n",
       "      <td>1</td>\n",
       "      <td>0</td>\n",
       "      <td>1</td>\n",
       "      <td>0</td>\n",
       "    </tr>\n",
       "    <tr>\n",
       "      <th>3</th>\n",
       "      <td>0</td>\n",
       "      <td>0.440</td>\n",
       "      <td>0.365</td>\n",
       "      <td>0.125</td>\n",
       "      <td>0.5160</td>\n",
       "      <td>0.2155</td>\n",
       "      <td>0.1140</td>\n",
       "      <td>0.1550</td>\n",
       "      <td>0</td>\n",
       "      <td>1</td>\n",
       "      <td>0</td>\n",
       "      <td>1</td>\n",
       "      <td>0</td>\n",
       "    </tr>\n",
       "    <tr>\n",
       "      <th>4</th>\n",
       "      <td>2</td>\n",
       "      <td>0.330</td>\n",
       "      <td>0.255</td>\n",
       "      <td>0.080</td>\n",
       "      <td>0.2050</td>\n",
       "      <td>0.0895</td>\n",
       "      <td>0.0395</td>\n",
       "      <td>0.0550</td>\n",
       "      <td>1</td>\n",
       "      <td>0</td>\n",
       "      <td>0</td>\n",
       "      <td>0</td>\n",
       "      <td>1</td>\n",
       "    </tr>\n",
       "    <tr>\n",
       "      <th>...</th>\n",
       "      <td>...</td>\n",
       "      <td>...</td>\n",
       "      <td>...</td>\n",
       "      <td>...</td>\n",
       "      <td>...</td>\n",
       "      <td>...</td>\n",
       "      <td>...</td>\n",
       "      <td>...</td>\n",
       "      <td>...</td>\n",
       "      <td>...</td>\n",
       "      <td>...</td>\n",
       "      <td>...</td>\n",
       "      <td>...</td>\n",
       "    </tr>\n",
       "    <tr>\n",
       "      <th>4172</th>\n",
       "      <td>1</td>\n",
       "      <td>0.565</td>\n",
       "      <td>0.450</td>\n",
       "      <td>0.165</td>\n",
       "      <td>0.8870</td>\n",
       "      <td>0.3700</td>\n",
       "      <td>0.2390</td>\n",
       "      <td>0.2490</td>\n",
       "      <td>0</td>\n",
       "      <td>1</td>\n",
       "      <td>0</td>\n",
       "      <td>1</td>\n",
       "      <td>0</td>\n",
       "    </tr>\n",
       "    <tr>\n",
       "      <th>4173</th>\n",
       "      <td>0</td>\n",
       "      <td>0.590</td>\n",
       "      <td>0.440</td>\n",
       "      <td>0.135</td>\n",
       "      <td>0.9660</td>\n",
       "      <td>0.4390</td>\n",
       "      <td>0.2145</td>\n",
       "      <td>0.2605</td>\n",
       "      <td>0</td>\n",
       "      <td>1</td>\n",
       "      <td>0</td>\n",
       "      <td>1</td>\n",
       "      <td>0</td>\n",
       "    </tr>\n",
       "    <tr>\n",
       "      <th>4174</th>\n",
       "      <td>0</td>\n",
       "      <td>0.600</td>\n",
       "      <td>0.475</td>\n",
       "      <td>0.205</td>\n",
       "      <td>1.1760</td>\n",
       "      <td>0.5255</td>\n",
       "      <td>0.2875</td>\n",
       "      <td>0.3080</td>\n",
       "      <td>0</td>\n",
       "      <td>1</td>\n",
       "      <td>0</td>\n",
       "      <td>1</td>\n",
       "      <td>0</td>\n",
       "    </tr>\n",
       "    <tr>\n",
       "      <th>4175</th>\n",
       "      <td>1</td>\n",
       "      <td>0.625</td>\n",
       "      <td>0.485</td>\n",
       "      <td>0.150</td>\n",
       "      <td>1.0945</td>\n",
       "      <td>0.5310</td>\n",
       "      <td>0.2610</td>\n",
       "      <td>0.2960</td>\n",
       "      <td>0</td>\n",
       "      <td>1</td>\n",
       "      <td>0</td>\n",
       "      <td>1</td>\n",
       "      <td>0</td>\n",
       "    </tr>\n",
       "    <tr>\n",
       "      <th>4176</th>\n",
       "      <td>0</td>\n",
       "      <td>0.710</td>\n",
       "      <td>0.555</td>\n",
       "      <td>0.195</td>\n",
       "      <td>1.9485</td>\n",
       "      <td>0.9455</td>\n",
       "      <td>0.3765</td>\n",
       "      <td>0.4950</td>\n",
       "      <td>0</td>\n",
       "      <td>0</td>\n",
       "      <td>1</td>\n",
       "      <td>1</td>\n",
       "      <td>0</td>\n",
       "    </tr>\n",
       "  </tbody>\n",
       "</table>\n",
       "<p>4148 rows × 13 columns</p>\n",
       "</div>"
      ],
      "text/plain": [
       "      Sex  Length  Diameter_continuous  Height  Whole_weight  Shucked_weight  \\\n",
       "0       0   0.455                0.365   0.095        0.5140          0.2245   \n",
       "1       0   0.350                0.265   0.090        0.2255          0.0995   \n",
       "2       1   0.530                0.420   0.135        0.6770          0.2565   \n",
       "3       0   0.440                0.365   0.125        0.5160          0.2155   \n",
       "4       2   0.330                0.255   0.080        0.2050          0.0895   \n",
       "...   ...     ...                  ...     ...           ...             ...   \n",
       "4172    1   0.565                0.450   0.165        0.8870          0.3700   \n",
       "4173    0   0.590                0.440   0.135        0.9660          0.4390   \n",
       "4174    0   0.600                0.475   0.205        1.1760          0.5255   \n",
       "4175    1   0.625                0.485   0.150        1.0945          0.5310   \n",
       "4176    0   0.710                0.555   0.195        1.9485          0.9455   \n",
       "\n",
       "      Viscera_weight  Shell weight  Rings_band_0  Rings_band_1  Rings_band_2  \\\n",
       "0             0.1010        0.1500             0             0             1   \n",
       "1             0.0485        0.0700             1             0             0   \n",
       "2             0.1415        0.2100             0             1             0   \n",
       "3             0.1140        0.1550             0             1             0   \n",
       "4             0.0395        0.0550             1             0             0   \n",
       "...              ...           ...           ...           ...           ...   \n",
       "4172          0.2390        0.2490             0             1             0   \n",
       "4173          0.2145        0.2605             0             1             0   \n",
       "4174          0.2875        0.3080             0             1             0   \n",
       "4175          0.2610        0.2960             0             1             0   \n",
       "4176          0.3765        0.4950             0             0             1   \n",
       "\n",
       "      is_infant_0  is_infant_1  \n",
       "0               1            0  \n",
       "1               1            0  \n",
       "2               1            0  \n",
       "3               1            0  \n",
       "4               0            1  \n",
       "...           ...          ...  \n",
       "4172            1            0  \n",
       "4173            1            0  \n",
       "4174            1            0  \n",
       "4175            1            0  \n",
       "4176            1            0  \n",
       "\n",
       "[4148 rows x 13 columns]"
      ]
     },
     "execution_count": 40,
     "metadata": {},
     "output_type": "execute_result"
    }
   ],
   "source": [
    "df"
   ]
  },
  {
   "cell_type": "code",
   "execution_count": 435,
   "id": "3f51eaf6",
   "metadata": {},
   "outputs": [],
   "source": [
    "# X = df[df.Sex!=2].drop([\"Sex\",\"is_infant_0\",\"is_infant_1\"],axis=1)\n",
    "# y = df[df.Sex!=2][\"Sex\"]"
   ]
  },
  {
   "cell_type": "code",
   "execution_count": 41,
   "id": "d472a9f4",
   "metadata": {},
   "outputs": [],
   "source": [
    "X = df.drop(\"Sex\", axis =1)\n",
    "y = df[\"Sex\"]"
   ]
  },
  {
   "cell_type": "code",
   "execution_count": 42,
   "id": "1960e069",
   "metadata": {},
   "outputs": [
    {
     "data": {
      "text/html": [
       "<div>\n",
       "<style scoped>\n",
       "    .dataframe tbody tr th:only-of-type {\n",
       "        vertical-align: middle;\n",
       "    }\n",
       "\n",
       "    .dataframe tbody tr th {\n",
       "        vertical-align: top;\n",
       "    }\n",
       "\n",
       "    .dataframe thead th {\n",
       "        text-align: right;\n",
       "    }\n",
       "</style>\n",
       "<table border=\"1\" class=\"dataframe\">\n",
       "  <thead>\n",
       "    <tr style=\"text-align: right;\">\n",
       "      <th></th>\n",
       "      <th>Length</th>\n",
       "      <th>Diameter_continuous</th>\n",
       "      <th>Height</th>\n",
       "      <th>Whole_weight</th>\n",
       "      <th>Shucked_weight</th>\n",
       "      <th>Viscera_weight</th>\n",
       "      <th>Shell weight</th>\n",
       "      <th>Rings_band_0</th>\n",
       "      <th>Rings_band_1</th>\n",
       "      <th>Rings_band_2</th>\n",
       "      <th>is_infant_0</th>\n",
       "      <th>is_infant_1</th>\n",
       "    </tr>\n",
       "  </thead>\n",
       "  <tbody>\n",
       "    <tr>\n",
       "      <th>0</th>\n",
       "      <td>0.455</td>\n",
       "      <td>0.365</td>\n",
       "      <td>0.095</td>\n",
       "      <td>0.5140</td>\n",
       "      <td>0.2245</td>\n",
       "      <td>0.1010</td>\n",
       "      <td>0.1500</td>\n",
       "      <td>0</td>\n",
       "      <td>0</td>\n",
       "      <td>1</td>\n",
       "      <td>1</td>\n",
       "      <td>0</td>\n",
       "    </tr>\n",
       "    <tr>\n",
       "      <th>1</th>\n",
       "      <td>0.350</td>\n",
       "      <td>0.265</td>\n",
       "      <td>0.090</td>\n",
       "      <td>0.2255</td>\n",
       "      <td>0.0995</td>\n",
       "      <td>0.0485</td>\n",
       "      <td>0.0700</td>\n",
       "      <td>1</td>\n",
       "      <td>0</td>\n",
       "      <td>0</td>\n",
       "      <td>1</td>\n",
       "      <td>0</td>\n",
       "    </tr>\n",
       "    <tr>\n",
       "      <th>2</th>\n",
       "      <td>0.530</td>\n",
       "      <td>0.420</td>\n",
       "      <td>0.135</td>\n",
       "      <td>0.6770</td>\n",
       "      <td>0.2565</td>\n",
       "      <td>0.1415</td>\n",
       "      <td>0.2100</td>\n",
       "      <td>0</td>\n",
       "      <td>1</td>\n",
       "      <td>0</td>\n",
       "      <td>1</td>\n",
       "      <td>0</td>\n",
       "    </tr>\n",
       "    <tr>\n",
       "      <th>3</th>\n",
       "      <td>0.440</td>\n",
       "      <td>0.365</td>\n",
       "      <td>0.125</td>\n",
       "      <td>0.5160</td>\n",
       "      <td>0.2155</td>\n",
       "      <td>0.1140</td>\n",
       "      <td>0.1550</td>\n",
       "      <td>0</td>\n",
       "      <td>1</td>\n",
       "      <td>0</td>\n",
       "      <td>1</td>\n",
       "      <td>0</td>\n",
       "    </tr>\n",
       "    <tr>\n",
       "      <th>4</th>\n",
       "      <td>0.330</td>\n",
       "      <td>0.255</td>\n",
       "      <td>0.080</td>\n",
       "      <td>0.2050</td>\n",
       "      <td>0.0895</td>\n",
       "      <td>0.0395</td>\n",
       "      <td>0.0550</td>\n",
       "      <td>1</td>\n",
       "      <td>0</td>\n",
       "      <td>0</td>\n",
       "      <td>0</td>\n",
       "      <td>1</td>\n",
       "    </tr>\n",
       "    <tr>\n",
       "      <th>...</th>\n",
       "      <td>...</td>\n",
       "      <td>...</td>\n",
       "      <td>...</td>\n",
       "      <td>...</td>\n",
       "      <td>...</td>\n",
       "      <td>...</td>\n",
       "      <td>...</td>\n",
       "      <td>...</td>\n",
       "      <td>...</td>\n",
       "      <td>...</td>\n",
       "      <td>...</td>\n",
       "      <td>...</td>\n",
       "    </tr>\n",
       "    <tr>\n",
       "      <th>4172</th>\n",
       "      <td>0.565</td>\n",
       "      <td>0.450</td>\n",
       "      <td>0.165</td>\n",
       "      <td>0.8870</td>\n",
       "      <td>0.3700</td>\n",
       "      <td>0.2390</td>\n",
       "      <td>0.2490</td>\n",
       "      <td>0</td>\n",
       "      <td>1</td>\n",
       "      <td>0</td>\n",
       "      <td>1</td>\n",
       "      <td>0</td>\n",
       "    </tr>\n",
       "    <tr>\n",
       "      <th>4173</th>\n",
       "      <td>0.590</td>\n",
       "      <td>0.440</td>\n",
       "      <td>0.135</td>\n",
       "      <td>0.9660</td>\n",
       "      <td>0.4390</td>\n",
       "      <td>0.2145</td>\n",
       "      <td>0.2605</td>\n",
       "      <td>0</td>\n",
       "      <td>1</td>\n",
       "      <td>0</td>\n",
       "      <td>1</td>\n",
       "      <td>0</td>\n",
       "    </tr>\n",
       "    <tr>\n",
       "      <th>4174</th>\n",
       "      <td>0.600</td>\n",
       "      <td>0.475</td>\n",
       "      <td>0.205</td>\n",
       "      <td>1.1760</td>\n",
       "      <td>0.5255</td>\n",
       "      <td>0.2875</td>\n",
       "      <td>0.3080</td>\n",
       "      <td>0</td>\n",
       "      <td>1</td>\n",
       "      <td>0</td>\n",
       "      <td>1</td>\n",
       "      <td>0</td>\n",
       "    </tr>\n",
       "    <tr>\n",
       "      <th>4175</th>\n",
       "      <td>0.625</td>\n",
       "      <td>0.485</td>\n",
       "      <td>0.150</td>\n",
       "      <td>1.0945</td>\n",
       "      <td>0.5310</td>\n",
       "      <td>0.2610</td>\n",
       "      <td>0.2960</td>\n",
       "      <td>0</td>\n",
       "      <td>1</td>\n",
       "      <td>0</td>\n",
       "      <td>1</td>\n",
       "      <td>0</td>\n",
       "    </tr>\n",
       "    <tr>\n",
       "      <th>4176</th>\n",
       "      <td>0.710</td>\n",
       "      <td>0.555</td>\n",
       "      <td>0.195</td>\n",
       "      <td>1.9485</td>\n",
       "      <td>0.9455</td>\n",
       "      <td>0.3765</td>\n",
       "      <td>0.4950</td>\n",
       "      <td>0</td>\n",
       "      <td>0</td>\n",
       "      <td>1</td>\n",
       "      <td>1</td>\n",
       "      <td>0</td>\n",
       "    </tr>\n",
       "  </tbody>\n",
       "</table>\n",
       "<p>4148 rows × 12 columns</p>\n",
       "</div>"
      ],
      "text/plain": [
       "      Length  Diameter_continuous  Height  Whole_weight  Shucked_weight  \\\n",
       "0      0.455                0.365   0.095        0.5140          0.2245   \n",
       "1      0.350                0.265   0.090        0.2255          0.0995   \n",
       "2      0.530                0.420   0.135        0.6770          0.2565   \n",
       "3      0.440                0.365   0.125        0.5160          0.2155   \n",
       "4      0.330                0.255   0.080        0.2050          0.0895   \n",
       "...      ...                  ...     ...           ...             ...   \n",
       "4172   0.565                0.450   0.165        0.8870          0.3700   \n",
       "4173   0.590                0.440   0.135        0.9660          0.4390   \n",
       "4174   0.600                0.475   0.205        1.1760          0.5255   \n",
       "4175   0.625                0.485   0.150        1.0945          0.5310   \n",
       "4176   0.710                0.555   0.195        1.9485          0.9455   \n",
       "\n",
       "      Viscera_weight  Shell weight  Rings_band_0  Rings_band_1  Rings_band_2  \\\n",
       "0             0.1010        0.1500             0             0             1   \n",
       "1             0.0485        0.0700             1             0             0   \n",
       "2             0.1415        0.2100             0             1             0   \n",
       "3             0.1140        0.1550             0             1             0   \n",
       "4             0.0395        0.0550             1             0             0   \n",
       "...              ...           ...           ...           ...           ...   \n",
       "4172          0.2390        0.2490             0             1             0   \n",
       "4173          0.2145        0.2605             0             1             0   \n",
       "4174          0.2875        0.3080             0             1             0   \n",
       "4175          0.2610        0.2960             0             1             0   \n",
       "4176          0.3765        0.4950             0             0             1   \n",
       "\n",
       "      is_infant_0  is_infant_1  \n",
       "0               1            0  \n",
       "1               1            0  \n",
       "2               1            0  \n",
       "3               1            0  \n",
       "4               0            1  \n",
       "...           ...          ...  \n",
       "4172            1            0  \n",
       "4173            1            0  \n",
       "4174            1            0  \n",
       "4175            1            0  \n",
       "4176            1            0  \n",
       "\n",
       "[4148 rows x 12 columns]"
      ]
     },
     "execution_count": 42,
     "metadata": {},
     "output_type": "execute_result"
    }
   ],
   "source": [
    "X"
   ]
  },
  {
   "cell_type": "code",
   "execution_count": 43,
   "id": "d128d1e6",
   "metadata": {},
   "outputs": [],
   "source": [
    "X_z = pd.DataFrame(MinMaxScaler().fit_transform(X),columns=df.columns[1:])"
   ]
  },
  {
   "cell_type": "markdown",
   "id": "11c4d75c",
   "metadata": {},
   "source": [
    "train, test 데이터 분리"
   ]
  },
  {
   "cell_type": "code",
   "execution_count": 44,
   "id": "bd8932f9",
   "metadata": {},
   "outputs": [],
   "source": [
    "X_train, X_test, y_train, y_test = train_test_split(X_z,y,test_size=0.3, random_state=1008)"
   ]
  },
  {
   "cell_type": "markdown",
   "id": "d39a16ba",
   "metadata": {},
   "source": [
    "## KNN"
   ]
  },
  {
   "cell_type": "code",
   "execution_count": 45,
   "id": "34a22a80",
   "metadata": {},
   "outputs": [
    {
     "data": {
      "text/plain": [
       "[[0.6796018858040859, 11],\n",
       " [0.679117047901752, 13],\n",
       " [0.6750165880914963, 15],\n",
       " [0.67285140562249, 17],\n",
       " [0.675504336185321, 19],\n",
       " [0.669961003434026, 21],\n",
       " [0.6677917466969328, 23],\n",
       " [0.6742977707933181, 25],\n",
       " [0.675024154589372, 27],\n",
       " [0.6767114836156218, 29],\n",
       " [0.6755031721087247, 31],\n",
       " [0.6803241953320529, 33],\n",
       " [0.6759856818578661, 35],\n",
       " [0.6781543565566615, 37],\n",
       " [0.6786362842675048, 39],\n",
       " [0.6824963622606367, 41],\n",
       " [0.6820132704731973, 43],\n",
       " [0.6769483732029568, 45],\n",
       " [0.6844240731040102, 47],\n",
       " [0.6841860194400791, 49]]"
      ]
     },
     "execution_count": 45,
     "metadata": {},
     "output_type": "execute_result"
    }
   ],
   "source": [
    "scores= []\n",
    "for k in range(11,50,2):\n",
    "    score = cross_val_score(KNeighborsClassifier(n_neighbors=k), X_z,y, cv=10, scoring=\"accuracy\")\n",
    "    scores.append([score.mean(),k])\n",
    "scores"
   ]
  },
  {
   "cell_type": "code",
   "execution_count": 46,
   "id": "7138af80",
   "metadata": {},
   "outputs": [
    {
     "data": {
      "text/plain": [
       "<AxesSubplot:xlabel='1', ylabel='0'>"
      ]
     },
     "execution_count": 46,
     "metadata": {},
     "output_type": "execute_result"
    },
    {
     "data": {
      "image/png": "[encoded data removed]",
      "text/plain": [
       "<Figure size 432x288 with 1 Axes>"
      ]
     },
     "metadata": {
      "needs_background": "light"
     },
     "output_type": "display_data"
    }
   ],
   "source": [
    "sns.scatterplot(data = pd.DataFrame(scores),x=1,y=0)"
   ]
  },
  {
   "cell_type": "markdown",
   "id": "54238fe8",
   "metadata": {},
   "source": [
    "k=47 일때 가장 높게나왔다."
   ]
  },
  {
   "cell_type": "code",
   "execution_count": 48,
   "id": "6f5aa1f8",
   "metadata": {},
   "outputs": [
    {
     "name": "stdout",
     "output_type": "stream",
     "text": [
      "정확도 : 0.68%\n"
     ]
    }
   ],
   "source": [
    "knn_model = KNeighborsClassifier(n_neighbors=47)\n",
    "knn_model.fit(X_train, y_train)\n",
    "pred = knn_model.predict(X_test)\n",
    "\n",
    "print(\"정확도 : {:.2f}%\".format(accuracy_score(pred, y_test)))"
   ]
  },
  {
   "cell_type": "markdown",
   "id": "f23b1625",
   "metadata": {},
   "source": [
    "## Decision Tree"
   ]
  },
  {
   "cell_type": "code",
   "execution_count": 61,
   "id": "9c8d969c",
   "metadata": {},
   "outputs": [],
   "source": [
    "dt_model = DecisionTreeClassifier()\n",
    "\n",
    "dt_param_grid = {\"max_depth\": [5,6,7],\n",
    "              \"min_samples_split\":[4,5,6],\n",
    "              \"min_samples_leaf\":[2,3,4,5]}"
   ]
  },
  {
   "cell_type": "code",
   "execution_count": 62,
   "id": "c3682791",
   "metadata": {},
   "outputs": [
    {
     "name": "stdout",
     "output_type": "stream",
     "text": [
      "Fitting 10 folds for each of 36 candidates, totalling 360 fits\n"
     ]
    },
    {
     "data": {
      "text/plain": [
       "0.689733426459461"
      ]
     },
     "execution_count": 62,
     "metadata": {},
     "output_type": "execute_result"
    }
   ],
   "source": [
    "gsDT = GridSearchCV(dt_model, param_grid=dt_param_grid, cv = 10, scoring=\"accuracy\",n_jobs= -1, verbose = 1)\n",
    "gsDT.fit(X_z,y)\n",
    "\n",
    "DT_best = gsDT.best_estimator_\n",
    "gsDT.best_score_"
   ]
  },
  {
   "cell_type": "code",
   "execution_count": 63,
   "id": "5b949693",
   "metadata": {},
   "outputs": [
    {
     "data": {
      "text/plain": [
       "DecisionTreeClassifier(max_depth=6, min_samples_leaf=4, min_samples_split=4)"
      ]
     },
     "execution_count": 63,
     "metadata": {},
     "output_type": "execute_result"
    }
   ],
   "source": [
    "DT_best"
   ]
  },
  {
   "cell_type": "code",
   "execution_count": 64,
   "id": "9479369d",
   "metadata": {},
   "outputs": [
    {
     "name": "stdout",
     "output_type": "stream",
     "text": [
      "정확도 : 0.69%\n"
     ]
    }
   ],
   "source": [
    "DT_best.fit(X_train,y_train)\n",
    "pred = DT_best.predict(X_test)\n",
    "print(\"정확도 : {:.2f}%\".format(accuracy_score(pred, y_test)))"
   ]
  },
  {
   "cell_type": "code",
   "execution_count": null,
   "id": "3841c18c",
   "metadata": {},
   "outputs": [],
   "source": []
  },
  {
   "cell_type": "markdown",
   "id": "796db7ee",
   "metadata": {},
   "source": [
    "## RandomForest"
   ]
  },
  {
   "cell_type": "code",
   "execution_count": 86,
   "id": "cd0bd7e6",
   "metadata": {},
   "outputs": [],
   "source": [
    "rf_model = RandomForestClassifier()\n",
    "\n",
    "rf_par_grid = {\"n_estimators\":[300,500],\n",
    "               \"max_features\": [5,7],\n",
    "              \"min_samples_split\":[6,7],\n",
    "              \"min_samples_leaf\":[6,7]}"
   ]
  },
  {
   "cell_type": "code",
   "execution_count": 87,
   "id": "6fd79d7e",
   "metadata": {
    "scrolled": true
   },
   "outputs": [
    {
     "name": "stdout",
     "output_type": "stream",
     "text": [
      "Fitting 10 folds for each of 16 candidates, totalling 160 fits\n"
     ]
    },
    {
     "data": {
      "text/plain": [
       "0.6911861940515684"
      ]
     },
     "execution_count": 87,
     "metadata": {},
     "output_type": "execute_result"
    }
   ],
   "source": [
    "gsRFC = GridSearchCV(rf_model, param_grid=rf_par_grid, cv = 10, scoring=\"accuracy\",n_jobs= -1, verbose = 1)\n",
    "gsRFC.fit(X,y)\n",
    "\n",
    "RFC_best = gsRFC.best_estimator_\n",
    "gsRFC.best_score_"
   ]
  },
  {
   "cell_type": "code",
   "execution_count": 89,
   "id": "d0d7e732",
   "metadata": {},
   "outputs": [
    {
     "data": {
      "text/plain": [
       "RandomForestClassifier(max_features=7, min_samples_leaf=7, min_samples_split=7,\n",
       "                       n_estimators=500)"
      ]
     },
     "execution_count": 89,
     "metadata": {},
     "output_type": "execute_result"
    }
   ],
   "source": [
    "RFC_best"
   ]
  },
  {
   "cell_type": "code",
   "execution_count": 90,
   "id": "bf7233ea",
   "metadata": {},
   "outputs": [
    {
     "name": "stdout",
     "output_type": "stream",
     "text": [
      "정확도 : 0.70%\n"
     ]
    }
   ],
   "source": [
    "RFC_best.fit(X_train,y_train)\n",
    "pred = RFC_best.predict(X_test)\n",
    "print(\"정확도 : {:.2f}%\".format(accuracy_score(pred, y_test)))"
   ]
  },
  {
   "cell_type": "markdown",
   "id": "1f3588d2",
   "metadata": {},
   "source": [
    "## SVM"
   ]
  },
  {
   "cell_type": "code",
   "execution_count": 115,
   "id": "5599e8a6",
   "metadata": {},
   "outputs": [],
   "source": [
    "def svc_param_selection(x, y, nfolds):\n",
    "    svm_parameters = [{\"kernel\":[\"rbf\"],\n",
    "                       \"gamma\":[0.12,0.13],\n",
    "                       \"C\":[190,200]}]\n",
    "    clf = GridSearchCV(SVC(), svm_parameters, cv=nfolds)\n",
    "    clf.fit(x, y)\n",
    "    print(clf.best_params_)\n",
    "    return clf"
   ]
  },
  {
   "cell_type": "code",
   "execution_count": 116,
   "id": "3268832a",
   "metadata": {
    "scrolled": true
   },
   "outputs": [
    {
     "name": "stdout",
     "output_type": "stream",
     "text": [
      "{'C': 200, 'gamma': 0.12, 'kernel': 'rbf'}\n"
     ]
    }
   ],
   "source": [
    "clf = svc_param_selection(X_train, y_train, 10)"
   ]
  },
  {
   "cell_type": "code",
   "execution_count": 117,
   "id": "aaa5bcc6",
   "metadata": {},
   "outputs": [
    {
     "name": "stdout",
     "output_type": "stream",
     "text": [
      "정확도 : 72.05%\n"
     ]
    }
   ],
   "source": [
    "clf.best_estimator_.fit(X_train,y_train)\n",
    "pred = clf.best_estimator_.predict(X_test)\n",
    "print(\"정확도 : {:.2f}%\".format(accuracy_score(pred, y_test)*100))"
   ]
  }
 ],
 "metadata": {
  "kernelspec": {
   "display_name": "Python 3",
   "language": "python",
   "name": "python3"
  },
  "language_info": {
   "codemirror_mode": {
    "name": "ipython",
    "version": 3
   },
   "file_extension": ".py",
   "mimetype": "text/x-python",
   "name": "python",
   "nbconvert_exporter": "python",
   "pygments_lexer": "ipython3",
   "version": "3.8.8"
  }
 },
 "nbformat": 4,
 "nbformat_minor": 5
}
