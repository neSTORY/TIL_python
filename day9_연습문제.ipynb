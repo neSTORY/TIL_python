{
 "cells": [
  {
   "cell_type": "code",
   "execution_count": 59,
   "id": "a9f3f61a",
   "metadata": {},
   "outputs": [
    {
     "data": {
      "text/plain": [
       "79.0"
      ]
     },
     "execution_count": 59,
     "metadata": {},
     "output_type": "execute_result"
    }
   ],
   "source": [
    "# 1.\n",
    "\n",
    "score = [70,60,55,75,95,90,80,80,85,100]\n",
    "\n",
    "with open(\"result.txt\", \"w\")as f:\n",
    "    for i in score:\n",
    "        f.write(str(i)+\"\\n\")\n",
    "\n",
    "with open(\"result.txt\",\"r\")as f:\n",
    "    readScore = None\n",
    "    readScores = []\n",
    "    while readScore !=\"\":\n",
    "        readScore = f.readline()\n",
    "        readScores.append(readScore.strip(\"\\n\"))\n",
    "\n",
    "readScores.pop()\n",
    "\n",
    "sum = 0\n",
    "for i in readScores:\n",
    "    sum += int(i)\n",
    "\n",
    "avg = sum/len(readScores)\n",
    "avg"
   ]
  },
  {
   "cell_type": "code",
   "execution_count": 97,
   "id": "28c3e24f",
   "metadata": {},
   "outputs": [
    {
     "data": {
      "text/plain": [
       "['python@mail.example.com',\n",
       " 'python+kr@example.com',\n",
       " 'python-lang@example.co.kr',\n",
       " 'python_10@example.info',\n",
       " 'python.lang@e-xample.com',\n",
       " '@example.com',\n",
       " 'python@example',\n",
       " 'python@example-com']"
      ]
     },
     "execution_count": 97,
     "metadata": {},
     "output_type": "execute_result"
    }
   ],
   "source": [
    "# 2.\n",
    "\n",
    "import re\n",
    "\n",
    "emails = ['python@mail.example.com', 'python+kr@example.com',\n",
    "          'python-lang@example.co.kr', 'python_10@example.info',         \n",
    "          'python.lang@e-xample.com',                                    \n",
    "          '@example.com', 'python@example', 'python@example-com']\n",
    "emails"
   ]
  },
  {
   "cell_type": "code",
   "execution_count": 103,
   "id": "ea9cbca6",
   "metadata": {},
   "outputs": [
    {
     "name": "stdout",
     "output_type": "stream",
     "text": [
      "python@mail.example.com 올바른 형식\n",
      "python+kr@example.com 올바른 형식\n",
      "python-lang@example.co.kr 올바른 형식\n",
      "python_10@example.info 올바른 형식\n",
      "python.lang@e-xample.com 올바른 형식\n",
      "@example.com 잘못된 형식\n",
      "python@example 잘못된 형식\n",
      "python@example-com 잘못된 형식\n"
     ]
    }
   ],
   "source": [
    "for i in emails:\n",
    "    s = re.match(\"[0-9a-zA-Z+-_.]+@[0-9a-zA-Z+-_]+[.]\", i)\n",
    "    if s:\n",
    "        print(i,\"올바른 형식\")\n",
    "    else:\n",
    "        print(i,\"잘못된 형식\")"
   ]
  },
  {
   "cell_type": "code",
   "execution_count": 109,
   "id": "99c576c2",
   "metadata": {},
   "outputs": [
    {
     "data": {
      "text/plain": [
       "<re.Match object; span=(0, 25), match='python-lang@example.co.kr'>"
      ]
     },
     "execution_count": 109,
     "metadata": {},
     "output_type": "execute_result"
    }
   ],
   "source": [
    "re.match(\"[0-9a-zA-Z+-_.]+@[0-9a-zA-Z+-_.]+[.]+[a-z]+\", 'python-lang@example.co.kr')"
   ]
  },
  {
   "cell_type": "code",
   "execution_count": 63,
   "id": "26e81722",
   "metadata": {},
   "outputs": [],
   "source": [
    "# 3.\n",
    "\n",
    "news= '''\n",
    "뜨거운 열기가 계속 쌓여만 가는 느낌인데요.\n",
    "\n",
    "현재 서울 기온은 34.5도까지 치솟으며 하루 만에 올여름 최고 기온을 경신했습니다.\n",
    "\n",
    "특히 비공식 기온이지만 서울 강북구 수유동은 무려 37.2도까지 치솟으며 사람 체온을 웃돌고 있습니다.\n",
    "\n",
    "반면, 대기 불안정으로 동쪽 지방은 호우특보 속에 요란한 소나기가 쏟아지고 있는데요.\n",
    "\n",
    "시설물 관리와 안전사고에 주의하셔야겠습니다.\n",
    "\n",
    "전국 대부분 지역에 폭염특보가 계속되는 가운데, 현재 전국에서 가장 더운 곳은 경기도 안성으로, 양성면의 기온이 37.7도까지 치솟았는데요.\n",
    "\n",
    "서울도 체감 35도 안팎의 찜통더위가 계속되고 있습니다.\n",
    "\n",
    "찌는 듯한 더위 속에 대기 불안정이 심해지면서 동쪽 내륙을 중심으로는 강한 소나기 구름이 발달하고 있는데요.\n",
    "\n",
    "강원 남부 내륙과 전북 동부에 호우특보가 내려진 가운데, 내일 새벽까지 돌풍과 벼락을 동반한 시간당 50mm 이상의 장대비가 쏟아지며, 100mm 이상의 강우량을 기록하는 곳도 있겠습니다.\n",
    "\n",
    "피해 없도록 주변 점검 철저히 해주시기 바랍니다.\n",
    "\n",
    "내일과 모레도 무더위 속에 기습적인 소나기가 지나겠고요, 일요일 전국에 비가 내린 뒤 다음 주에는 더 심한 더위가 찾아오겠습니다.\n",
    "\n",
    "연일 계속되는 무더위에 온열 질환에 걸릴 가능성도 커지고 있습니다.\n",
    "\n",
    "볕이 강한 오후 2~5시 사이 장시간의 야외 활동은 자제하시는 게 좋겠습니다.\n",
    "\n",
    "YTN 신미림입니다.\n",
    "'''"
   ]
  },
  {
   "cell_type": "code",
   "execution_count": 64,
   "id": "6db28502",
   "metadata": {},
   "outputs": [
    {
     "name": "stdout",
     "output_type": "stream",
     "text": [
      "temp : ['34.5도', '37.2도', '37.7도', '35도']\n",
      "rainfall : ['50mm', '100mm']\n"
     ]
    }
   ],
   "source": [
    "temp = re.findall(\"[0-9.]+도\",news)\n",
    "rainfall = re.findall(\"\\d+mm\",news)\n",
    "\n",
    "print(\"temp : \"+ str(temp))\n",
    "print(\"rainfall : \"+ str(rainfall))"
   ]
  }
 ],
 "metadata": {
  "kernelspec": {
   "display_name": "Python 3",
   "language": "python",
   "name": "python3"
  },
  "language_info": {
   "codemirror_mode": {
    "name": "ipython",
    "version": 3
   },
   "file_extension": ".py",
   "mimetype": "text/x-python",
   "name": "python",
   "nbconvert_exporter": "python",
   "pygments_lexer": "ipython3",
   "version": "3.8.8"
  }
 },
 "nbformat": 4,
 "nbformat_minor": 5
}
